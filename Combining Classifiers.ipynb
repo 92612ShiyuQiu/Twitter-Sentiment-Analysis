{
 "cells": [
  {
   "cell_type": "code",
   "execution_count": 1,
   "metadata": {},
   "outputs": [],
   "source": [
    "import pandas as pd\n",
    "import numpy as np\n",
    "import matplotlib.pyplot as plt\n",
    "from sklearn.metrics import roc_auc_score\n",
    "from sklearn.model_selection import cross_val_score\n",
    "from sklearn.model_selection import train_test_split\n",
    "from sklearn.metrics import classification_report\n",
    "from sklearn.neural_network import MLPClassifier\n",
    "from sklearn.ensemble import GradientBoostingClassifier\n",
    "from sklearn.linear_model import LogisticRegression\n",
    "from sklearn.pipeline import Pipeline\n",
    "from sklearn.preprocessing import StandardScaler\n",
    "from sklearn.ensemble import VotingClassifier\n",
    "import time"
   ]
  },
  {
   "cell_type": "code",
   "execution_count": 2,
   "metadata": {},
   "outputs": [],
   "source": [
    "X = np.genfromtxt('data/X.csv', delimiter=',')\n",
    "Y = np.genfromtxt('data/Y.csv', delimiter=',')\n",
    "\n",
    "X_comp, X_test, Y_comp, Y_test = train_test_split(X, Y, test_size=0.2, random_state=0)\n",
    "Xtr, Xva, Ytr, Yva = train_test_split(X_comp, Y_comp, test_size=0.2)"
   ]
  },
  {
   "cell_type": "code",
   "execution_count": 4,
   "metadata": {},
   "outputs": [],
   "source": [
    "# grid search results (hyper-values): \n",
    "\n",
    "lr = LogisticRegression(C=2, penalty='l1')\n",
    "\n",
    "mlp = MLPClassifier(max_iter=1000, hidden_layer_sizes=(100,), activation='identity', \n",
    "                            solver='sgd', alpha=0.01, learning_rate='adaptive')\n",
    "\n",
    "gb = GradientBoostingClassifier(max_depth=3,loss=\"deviance\",learning_rate=0.1,\n",
    "                                 n_estimators=1500,min_samples_split=20,min_samples_leaf=9,\n",
    "                                 max_features=\"sqrt\", subsample=0.5)\n"
   ]
  },
  {
   "cell_type": "code",
   "execution_count": 5,
   "metadata": {},
   "outputs": [
    {
     "name": "stdout",
     "output_type": "stream",
     "text": [
      "training started\n"
     ]
    },
    {
     "name": "stderr",
     "output_type": "stream",
     "text": [
      "/opt/anaconda3/lib/python3.7/site-packages/sklearn/linear_model/logistic.py:432: FutureWarning: Default solver will be changed to 'lbfgs' in 0.22. Specify a solver to silence this warning.\n",
      "  FutureWarning)\n"
     ]
    },
    {
     "name": "stdout",
     "output_type": "stream",
     "text": [
      "training finished\n",
      "validation roc: 0.7553522171989928\n",
      "training error: 0.2995640148141203\n",
      "validation error: 0.31064441527595477\n"
     ]
    }
   ],
   "source": [
    "combined = VotingClassifier(estimators=[('lr', lr), ('nn', mlp), ('gb', gb)],\n",
    "                         voting='soft', flatten_transform=True) # weights=?\n",
    "\n",
    "print(\"training started\")\n",
    "combined.fit(Xtr,Ytr)\n",
    "print(\"training finished\")\n",
    "\n",
    "combined_roc = roc_auc_score(Yva, combined.predict_proba(Xva)[:,1])\n",
    "print(\"validation roc:\", combined_roc)\n",
    "\n",
    "print(\"training error:\", 1 - combined.score(Xtr, Ytr))\n",
    "print(\"validation error:\", 1 - combined.score(Xva, Yva))"
   ]
  },
  {
   "cell_type": "code",
   "execution_count": 7,
   "metadata": {},
   "outputs": [],
   "source": [
    "Y_test = np.vstack((np.arange(X_test.shape[0]), combined.predict_proba(X_test)[:,1])).T\n",
    "np.savetxt('Y_test.txt',Y_test,'%d,%.2f',header='Id,Predicted',comments='',delimiter=',')"
   ]
  },
  {
   "cell_type": "code",
   "execution_count": 8,
   "metadata": {},
   "outputs": [],
   "source": [
    "df_X_test = pd.DataFrame(X_test)\n",
    "df_X_test.to_csv('X_test.csv',index=False)"
   ]
  },
  {
   "cell_type": "code",
   "execution_count": null,
   "metadata": {},
   "outputs": [],
   "source": [
    "df_X_test = pd.DataFrame(Y_test)\n",
    "df_X_test.to_csv('X_test.csv',index=False)"
   ]
  }
 ],
 "metadata": {
  "kernelspec": {
   "display_name": "Python 3",
   "language": "python",
   "name": "python3"
  },
  "language_info": {
   "codemirror_mode": {
    "name": "ipython",
    "version": 3
   },
   "file_extension": ".py",
   "mimetype": "text/x-python",
   "name": "python",
   "nbconvert_exporter": "python",
   "pygments_lexer": "ipython3",
   "version": "3.7.4"
  }
 },
 "nbformat": 4,
 "nbformat_minor": 2
}
