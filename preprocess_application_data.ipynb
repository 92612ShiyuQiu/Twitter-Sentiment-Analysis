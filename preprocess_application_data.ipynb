{
 "cells": [
  {
   "cell_type": "code",
   "execution_count": 2,
   "metadata": {},
   "outputs": [],
   "source": [
    "import pandas as pd\n",
    "import re"
   ]
  },
  {
   "cell_type": "code",
   "execution_count": 3,
   "metadata": {},
   "outputs": [
    {
     "data": {
      "text/html": [
       "<div>\n",
       "<style scoped>\n",
       "    .dataframe tbody tr th:only-of-type {\n",
       "        vertical-align: middle;\n",
       "    }\n",
       "\n",
       "    .dataframe tbody tr th {\n",
       "        vertical-align: top;\n",
       "    }\n",
       "\n",
       "    .dataframe thead th {\n",
       "        text-align: right;\n",
       "    }\n",
       "</style>\n",
       "<table border=\"1\" class=\"dataframe\">\n",
       "  <thead>\n",
       "    <tr style=\"text-align: right;\">\n",
       "      <th></th>\n",
       "      <th>0</th>\n",
       "    </tr>\n",
       "  </thead>\n",
       "  <tbody>\n",
       "    <tr>\n",
       "      <td>0</td>\n",
       "      <td>aa</td>\n",
       "    </tr>\n",
       "    <tr>\n",
       "      <td>1</td>\n",
       "      <td>aaah</td>\n",
       "    </tr>\n",
       "    <tr>\n",
       "      <td>2</td>\n",
       "      <td>aah</td>\n",
       "    </tr>\n",
       "    <tr>\n",
       "      <td>3</td>\n",
       "      <td>aaron</td>\n",
       "    </tr>\n",
       "    <tr>\n",
       "      <td>4</td>\n",
       "      <td>ab</td>\n",
       "    </tr>\n",
       "    <tr>\n",
       "      <td>...</td>\n",
       "      <td>...</td>\n",
       "    </tr>\n",
       "    <tr>\n",
       "      <td>4995</td>\n",
       "      <td>zoe</td>\n",
       "    </tr>\n",
       "    <tr>\n",
       "      <td>4996</td>\n",
       "      <td>zombie</td>\n",
       "    </tr>\n",
       "    <tr>\n",
       "      <td>4997</td>\n",
       "      <td>zombies</td>\n",
       "    </tr>\n",
       "    <tr>\n",
       "      <td>4998</td>\n",
       "      <td>zone</td>\n",
       "    </tr>\n",
       "    <tr>\n",
       "      <td>4999</td>\n",
       "      <td>zoo</td>\n",
       "    </tr>\n",
       "  </tbody>\n",
       "</table>\n",
       "<p>5000 rows × 1 columns</p>\n",
       "</div>"
      ],
      "text/plain": [
       "            0\n",
       "0          aa\n",
       "1        aaah\n",
       "2         aah\n",
       "3       aaron\n",
       "4          ab\n",
       "...       ...\n",
       "4995      zoe\n",
       "4996   zombie\n",
       "4997  zombies\n",
       "4998     zone\n",
       "4999      zoo\n",
       "\n",
       "[5000 rows x 1 columns]"
      ]
     },
     "execution_count": 3,
     "metadata": {},
     "output_type": "execute_result"
    }
   ],
   "source": [
    "features = pd.read_csv(r\"new_data/features.csv\", engine='python')\n",
    "features"
   ]
  },
  {
   "cell_type": "code",
   "execution_count": 4,
   "metadata": {},
   "outputs": [
    {
     "data": {
      "text/plain": [
       "['aa',\n",
       " 'aaah',\n",
       " 'aah',\n",
       " 'aaron',\n",
       " 'ab',\n",
       " 'abandon',\n",
       " 'abby',\n",
       " 'abc',\n",
       " 'ability',\n",
       " 'abit']"
      ]
     },
     "execution_count": 4,
     "metadata": {},
     "output_type": "execute_result"
    }
   ],
   "source": [
    "X_features = features[features.columns[0]]\n",
    "features_list = X_features.values.tolist()\n",
    "features_list[:10]"
   ]
  },
  {
   "cell_type": "code",
   "execution_count": 5,
   "metadata": {},
   "outputs": [],
   "source": [
    "import string\n",
    "\n",
    "def remove_punctuation(tweet):\n",
    "    translator = str.maketrans('', '', string.punctuation)\n",
    "    return tweet.translate(translator)"
   ]
  },
  {
   "cell_type": "code",
   "execution_count": 6,
   "metadata": {},
   "outputs": [
    {
     "name": "stderr",
     "output_type": "stream",
     "text": [
      "[nltk_data] Downloading package stopwords to /Users/Shiqi/nltk_data...\n",
      "[nltk_data]   Package stopwords is already up-to-date!\n"
     ]
    }
   ],
   "source": [
    "import nltk\n",
    "nltk.download('stopwords')\n",
    "\n",
    "from nltk.corpus import stopwords\n",
    "from nltk.tokenize import word_tokenize\n",
    "\n",
    "stop_words = set(stopwords.words(\"english\"))\n",
    "\n",
    "def remove_stopwords(post):\n",
    "    tokens = word_tokenize(post)\n",
    "    tokens_nostop = [w for w in tokens if w not in stop_words]\n",
    "    return tokens_nostop"
   ]
  },
  {
   "cell_type": "code",
   "execution_count": 7,
   "metadata": {},
   "outputs": [],
   "source": [
    "def preprocess(path):\n",
    "    preprocessed = []\n",
    "    \n",
    "    tweets = pd.read_csv(path, engine=\"python\")\n",
    "    tweets = tweets.drop(tweets.columns[0], axis=1)\n",
    "    X_tweets = tweets[tweets.columns[0]]\n",
    "    tweets_list = X_tweets.values.tolist()\n",
    "    \n",
    "    tweets_lower = [t.lower() for t in tweets_list]\n",
    "    for tweet in tweets_lower:\n",
    "        tweets_nonum = re.sub(r'\\d+', '', tweet)\n",
    "        tweets_nopunc = remove_punctuation(tweets_nonum)\n",
    "        tweets_nospace = \" \".join(tweets_nopunc.split())\n",
    "        preprocessed.append(tweets_nospace)\n",
    "        \n",
    "    for i in preprocessed[:3]:\n",
    "        print(i, '\\n')\n",
    "        \n",
    "    tokens_list = [remove_stopwords(p) for p in preprocessed]\n",
    "    print(tokens_list[:3])\n",
    "    return tokens_list"
   ]
  },
  {
   "cell_type": "code",
   "execution_count": 8,
   "metadata": {},
   "outputs": [],
   "source": [
    "def get_matrix(features_list, tokens_list):\n",
    "    matrix = []\n",
    "    for tokens in tokens_list:\n",
    "        l = []\n",
    "        for f in features_list:\n",
    "            l.append(tokens.count(f))\n",
    "        matrix.append(l)\n",
    "    return matrix"
   ]
  },
  {
   "cell_type": "markdown",
   "metadata": {},
   "source": [
    "## Trump"
   ]
  },
  {
   "cell_type": "code",
   "execution_count": 44,
   "metadata": {},
   "outputs": [
    {
     "name": "stdout",
     "output_type": "stream",
     "text": [
      "if you tell me a being of pure white light speaks to donald j trump ill wonder if they were elohim \n",
      "\n",
      "thedemocrats in dont vote for trump he will start new wars thedemocrats in dont vote for… httpstcoqcjcbxxwfd \n",
      "\n",
      "awesometweet im sure trump will find a way to compliment himself \n",
      "\n",
      "[['tell', 'pure', 'white', 'light', 'speaks', 'donald', 'j', 'trump', 'ill', 'wonder', 'elohim'], ['thedemocrats', 'dont', 'vote', 'trump', 'start', 'new', 'wars', 'thedemocrats', 'dont', 'vote', 'for…', 'httpstcoqcjcbxxwfd'], ['awesometweet', 'im', 'sure', 'trump', 'find', 'way', 'compliment']]\n"
     ]
    }
   ],
   "source": [
    "trump_tokens_list = preprocess(\"dataset/Trump.csv\")"
   ]
  },
  {
   "cell_type": "code",
   "execution_count": 46,
   "metadata": {},
   "outputs": [],
   "source": [
    "trump_matrix = get_matrix(features_list, trump_tokens_list)"
   ]
  },
  {
   "cell_type": "code",
   "execution_count": 47,
   "metadata": {},
   "outputs": [],
   "source": [
    "trump_matrix_df = pd.DataFrame(trump_matrix)"
   ]
  },
  {
   "cell_type": "code",
   "execution_count": 49,
   "metadata": {},
   "outputs": [],
   "source": [
    "trump_matrix_df.to_csv('X_trump.csv', index=False)"
   ]
  },
  {
   "cell_type": "markdown",
   "metadata": {},
   "source": [
    "## Coronavirus"
   ]
  },
  {
   "cell_type": "code",
   "execution_count": 51,
   "metadata": {},
   "outputs": [
    {
     "name": "stdout",
     "output_type": "stream",
     "text": [
      "realjameswoods last hours our potus ✅ huge trump rally in charleston plus ✅ conveens emergency… httpstcoevdvylzpg \n",
      "\n",
      "secazar we the people are not paying to get treated for the coronavirus i’m reading reports americans are recei… httpstcopovpmxg \n",
      "\n",
      "as of confirmed cases in areas outside prc are picking up speed ncov coronavirus covid… httpstcogbgcoqpsw \n",
      "\n",
      "[['realjameswoods', 'last', 'hours', 'potus', '✅', 'huge', 'trump', 'rally', 'charleston', 'plus', '✅', 'conveens', 'emergency…', 'httpstcoevdvylzpg'], ['secazar', 'people', 'paying', 'get', 'treated', 'coronavirus', '’', 'reading', 'reports', 'americans', 'recei…', 'httpstcopovpmxg'], ['confirmed', 'cases', 'areas', 'outside', 'prc', 'picking', 'speed', 'ncov', 'coronavirus', 'covid…', 'httpstcogbgcoqpsw']]\n"
     ]
    }
   ],
   "source": [
    "corona_tokens_list = preprocess(\"dataset/coronavirus.csv\")\n",
    "corona_matrix = get_matrix(features_list, corona_tokens_list)\n",
    "corona_matrix_df = pd.DataFrame(corona_matrix)\n",
    "corona_matrix_df.to_csv('X_coronavirus.csv', index=False)"
   ]
  },
  {
   "cell_type": "markdown",
   "metadata": {},
   "source": [
    "## MeToo"
   ]
  },
  {
   "cell_type": "code",
   "execution_count": 9,
   "metadata": {},
   "outputs": [
    {
     "name": "stdout",
     "output_type": "stream",
     "text": [
      "aerynthrace the latest metoomovement httpstcouxnypvhdbl httpstcoyaplxvim \n",
      "\n",
      "miriamsved involved in a wonderful discussion about the metoomovement with latrioli yesterday when asked if t… httpstcospqahwjns \n",
      "\n",
      "fawazar that show talks about media and the metoomovement in a very interesting way wellreceived \n",
      "\n",
      "[['aerynthrace', 'latest', 'metoomovement', 'httpstcouxnypvhdbl', 'httpstcoyaplxvim'], ['miriamsved', 'involved', 'wonderful', 'discussion', 'metoomovement', 'latrioli', 'yesterday', 'asked', 't…', 'httpstcospqahwjns'], ['fawazar', 'show', 'talks', 'media', 'metoomovement', 'interesting', 'way', 'wellreceived']]\n"
     ]
    }
   ],
   "source": [
    "metoo_tokens_list = preprocess(\"dataset/Metoomovement.csv\")\n",
    "metoo_matrix = get_matrix(features_list, metoo_tokens_list)\n",
    "metoo_matrix_df = pd.DataFrame(metoo_matrix)\n",
    "metoo_matrix_df.to_csv('X_metoo.csv', index=False)"
   ]
  },
  {
   "cell_type": "code",
   "execution_count": null,
   "metadata": {},
   "outputs": [],
   "source": []
  }
 ],
 "metadata": {
  "kernelspec": {
   "display_name": "Python 3",
   "language": "python",
   "name": "python3"
  },
  "language_info": {
   "codemirror_mode": {
    "name": "ipython",
    "version": 3
   },
   "file_extension": ".py",
   "mimetype": "text/x-python",
   "name": "python",
   "nbconvert_exporter": "python",
   "pygments_lexer": "ipython3",
   "version": "3.7.4"
  }
 },
 "nbformat": 4,
 "nbformat_minor": 2
}
