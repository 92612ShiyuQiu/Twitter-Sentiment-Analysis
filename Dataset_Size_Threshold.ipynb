{
 "cells": [
  {
   "cell_type": "code",
   "execution_count": 4,
   "metadata": {},
   "outputs": [],
   "source": [
    "import matplotlib.pyplot as plt\n",
    "import pandas as pd\n",
    "import numpy as np\n",
    "from sklearn.metrics import roc_auc_score\n",
    "from sklearn.model_selection import cross_val_score\n",
    "from sklearn.model_selection import train_test_split\n",
    "from sklearn.utils import shuffle\n",
    "\n",
    "from sklearn.metrics import classification_report\n",
    "from sklearn.neural_network import MLPClassifier\n",
    "from sklearn.ensemble import GradientBoostingClassifier\n",
    "from sklearn.linear_model import LogisticRegression\n",
    "from sklearn.pipeline import Pipeline\n",
    "from sklearn.preprocessing import StandardScaler\n",
    "from sklearn.ensemble import VotingClassifier\n",
    "import time\n",
    "\n",
    "X = np.genfromtxt('data/X.csv', delimiter = ',')\n",
    "Y = np.genfromtxt('data/Y.csv', delimiter = ',')\n",
    "\n",
    "X = X[1:]\n",
    "Y = Y[1:]"
   ]
  },
  {
   "cell_type": "code",
   "execution_count": 5,
   "metadata": {},
   "outputs": [
    {
     "data": {
      "text/plain": [
       "array([[0., 0., 0., ..., 0., 0., 0.],\n",
       "       [0., 0., 0., ..., 0., 0., 0.],\n",
       "       [0., 0., 0., ..., 0., 0., 0.],\n",
       "       ...,\n",
       "       [0., 0., 0., ..., 0., 0., 0.],\n",
       "       [0., 0., 0., ..., 0., 0., 0.],\n",
       "       [0., 0., 0., ..., 0., 0., 0.]])"
      ]
     },
     "execution_count": 5,
     "metadata": {},
     "output_type": "execute_result"
    }
   ],
   "source": [
    "X[:,:-1]"
   ]
  },
  {
   "cell_type": "code",
   "execution_count": 6,
   "metadata": {},
   "outputs": [
    {
     "data": {
      "text/plain": [
       "(99989,)"
      ]
     },
     "execution_count": 6,
     "metadata": {},
     "output_type": "execute_result"
    }
   ],
   "source": [
    "Y.shape"
   ]
  },
  {
   "cell_type": "code",
   "execution_count": 7,
   "metadata": {},
   "outputs": [],
   "source": [
    "X_comp, X_test, Y_comp, Y_test = train_test_split(X, Y, test_size=0.2, random_state=0)\n",
    "Xtr, Xva, Ytr, Yva = train_test_split(X_comp, Y_comp, test_size=0.2)\n",
    "Xtr, Xva = Xtr[:,:-1], Xva[:,:-1]\n",
    "\n",
    "Xtr, Ytr = shuffle(Xtr, Ytr)"
   ]
  },
  {
   "cell_type": "code",
   "execution_count": 8,
   "metadata": {},
   "outputs": [
    {
     "data": {
      "text/plain": [
       "(63992, 219)"
      ]
     },
     "execution_count": 8,
     "metadata": {},
     "output_type": "execute_result"
    }
   ],
   "source": [
    "Xtr.shape"
   ]
  },
  {
   "cell_type": "code",
   "execution_count": 9,
   "metadata": {},
   "outputs": [
    {
     "data": {
      "text/plain": [
       "(15999, 219)"
      ]
     },
     "execution_count": 9,
     "metadata": {},
     "output_type": "execute_result"
    }
   ],
   "source": [
    "Xva.shape"
   ]
  },
  {
   "cell_type": "code",
   "execution_count": 10,
   "metadata": {},
   "outputs": [],
   "source": [
    "lr = LogisticRegression(C=2, penalty='l1')\n",
    "\n",
    "mlp = MLPClassifier(max_iter=1000, hidden_layer_sizes=(100,), activation='identity', \n",
    "                            solver='sgd', alpha=0.01, learning_rate='adaptive')\n",
    "\n",
    "gb = GradientBoostingClassifier(max_depth=3,loss=\"deviance\",learning_rate=0.1,\n",
    "                                 n_estimators=1500,min_samples_split=20,min_samples_leaf=9,\n",
    "                                 max_features=\"sqrt\", subsample=0.5)"
   ]
  },
  {
   "cell_type": "code",
   "execution_count": null,
   "metadata": {},
   "outputs": [],
   "source": [
    "ensembled_model = VotingClassifier(estimators=[('lr', lr), ('nn', mlp), ('gb', gb)],\n",
    "                         voting='soft', flatten_transform=True)\n",
    "sizes = [50, 500, 5000, 10000, 15000, 20000, 25000, 30000, 35000, 40000, 45000, 50000]\n",
    "roc_scores = []\n",
    "training_errors = []\n",
    "validation_errors = []\n",
    "training_scores = []\n",
    "validation_scores = []\n",
    "\n",
    "for size in sizes:\n",
    "    print(\"training with size of\", size)\n",
    "    ensembled_model.fit(Xtr[:size], Ytr[:size])\n",
    "    \n",
    "    roc = roc_auc_score(Yva, ensembled_model.predict_proba(Xva)[:,1])\n",
    "    training_score = ensembled_model.score(Xtr, Ytr)\n",
    "    validation_score = ensembled_model.score(Xva, Yva)\n",
    "    training_error = 1-training_score\n",
    "    validation_error = 1-validation_score\n",
    "    print(\"roc score:\", roc, \"training_score:\", training_score, \"validation_score:\", validation_score, \"training_error:\", training_error, \"validation_error:\", validation_error)\n",
    "    \n",
    "    roc_scores.append(roc)\n",
    "    training_scores.append(training_score)\n",
    "    validation_scores.append(validation_score)\n",
    "    training_errors.append(training_error)\n",
    "    validation_errors.append(validation_error)"
   ]
  },
  {
   "cell_type": "code",
   "execution_count": 13,
   "metadata": {},
   "outputs": [
    {
     "data": {
      "text/plain": [
       "[0.6014817134609278,\n",
       " 0.6785371009717186,\n",
       " 0.7405522935515687,\n",
       " 0.7469784442241709,\n",
       " 0.7494635137679425,\n",
       " 0.7512510560883673,\n",
       " 0.7531143628208192,\n",
       " 0.753898387351557,\n",
       " 0.7553638159821785,\n",
       " 0.75536043916281,\n",
       " 0.7557097259436815,\n",
       " 0.7558187195265832]"
      ]
     },
     "execution_count": 13,
     "metadata": {},
     "output_type": "execute_result"
    }
   ],
   "source": [
    "roc_scores"
   ]
  },
  {
   "cell_type": "code",
   "execution_count": 14,
   "metadata": {},
   "outputs": [
    {
     "data": {
      "text/plain": [
       "[0.4227247155894487,\n",
       " 0.3647330916364545,\n",
       " 0.31593011626453305,\n",
       " 0.31017939742467804,\n",
       " 0.3073665458182273,\n",
       " 0.30603825478184776,\n",
       " 0.30416302037754717,\n",
       " 0.30339729966245776,\n",
       " 0.3019908738592324,\n",
       " 0.30253781722715345,\n",
       " 0.3023502937867233,\n",
       " 0.3026315789473685]"
      ]
     },
     "execution_count": 14,
     "metadata": {},
     "output_type": "execute_result"
    }
   ],
   "source": [
    "training_errors"
   ]
  },
  {
   "cell_type": "code",
   "execution_count": 15,
   "metadata": {},
   "outputs": [
    {
     "data": {
      "text/plain": [
       "[0.42977686105381585,\n",
       " 0.3693355834739671,\n",
       " 0.3234577161072567,\n",
       " 0.3208325520345021,\n",
       " 0.31733233327082944,\n",
       " 0.31539471216951065,\n",
       " 0.31670729420588783,\n",
       " 0.31483217701106314,\n",
       " 0.31370710669416835,\n",
       " 0.31308206762922686,\n",
       " 0.31383211450715665,\n",
       " 0.31501968873054564]"
      ]
     },
     "execution_count": 15,
     "metadata": {},
     "output_type": "execute_result"
    }
   ],
   "source": [
    "validation_errors"
   ]
  },
  {
   "cell_type": "code",
   "execution_count": 16,
   "metadata": {},
   "outputs": [
    {
     "data": {
      "text/plain": [
       "[0.5772752844105513,\n",
       " 0.6352669083635455,\n",
       " 0.684069883735467,\n",
       " 0.689820602575322,\n",
       " 0.6926334541817727,\n",
       " 0.6939617452181522,\n",
       " 0.6958369796224528,\n",
       " 0.6966027003375422,\n",
       " 0.6980091261407676,\n",
       " 0.6974621827728466,\n",
       " 0.6976497062132767,\n",
       " 0.6973684210526315]"
      ]
     },
     "execution_count": 16,
     "metadata": {},
     "output_type": "execute_result"
    }
   ],
   "source": [
    "training_scores"
   ]
  },
  {
   "cell_type": "code",
   "execution_count": 17,
   "metadata": {},
   "outputs": [
    {
     "data": {
      "text/plain": [
       "[0.5702231389461841,\n",
       " 0.6306644165260329,\n",
       " 0.6765422838927433,\n",
       " 0.6791674479654979,\n",
       " 0.6826676667291706,\n",
       " 0.6846052878304894,\n",
       " 0.6832927057941122,\n",
       " 0.6851678229889369,\n",
       " 0.6862928933058317,\n",
       " 0.6869179323707731,\n",
       " 0.6861678854928434,\n",
       " 0.6849803112694544]"
      ]
     },
     "execution_count": 17,
     "metadata": {},
     "output_type": "execute_result"
    }
   ],
   "source": [
    "validation_scores"
   ]
  },
  {
   "cell_type": "code",
   "execution_count": 18,
   "metadata": {},
   "outputs": [
    {
     "data": {
      "image/png": "[encoded data removed]",
      "text/plain": [
       "<Figure size 1080x576 with 1 Axes>"
      ]
     },
     "metadata": {
      "needs_background": "light"
     },
     "output_type": "display_data"
    }
   ],
   "source": [
    "plt.rcParams['figure.figsize'] = (15.0, 8.0)\n",
    "plt.semilogy(sizes, roc_scores, label='roc_score', linewidth=2, c='r')\n",
    "plt.semilogy(sizes, training_scores, label='training_score', linewidth=2, c='g')\n",
    "plt.semilogy(sizes, validation_scores, label='validation_score', linewidth=2, c='b')\n",
    "plt.xticks(sizes)\n",
    "plt.legend()\n",
    "plt.show()"
   ]
  },
  {
   "cell_type": "code",
   "execution_count": 19,
   "metadata": {},
   "outputs": [
    {
     "data": {
      "image/png": "[encoded data removed]",
      "text/plain": [
       "<Figure size 1080x576 with 1 Axes>"
      ]
     },
     "metadata": {
      "needs_background": "light"
     },
     "output_type": "display_data"
    }
   ],
   "source": [
    "plt.rcParams['figure.figsize'] = (15.0, 8.0)\n",
    "plt.semilogy(sizes, training_errors, label='training_error', linewidth=2, c='r')\n",
    "plt.semilogy(sizes, validation_scores, label='validation_score', linewidth=2, c='g')\n",
    "plt.xticks(sizes)\n",
    "plt.legend()\n",
    "plt.show()"
   ]
  },
  {
   "cell_type": "code",
   "execution_count": 12,
   "metadata": {},
   "outputs": [
    {
     "name": "stdout",
     "output_type": "stream",
     "text": [
      "training with size of 4500\n"
     ]
    },
    {
     "name": "stderr",
     "output_type": "stream",
     "text": [
      "C:\\Users\\ShiYu Qiu\\Anaconda3\\lib\\site-packages\\sklearn\\linear_model\\logistic.py:432: FutureWarning: Default solver will be changed to 'lbfgs' in 0.22. Specify a solver to silence this warning.\n",
      "  FutureWarning)\n"
     ]
    },
    {
     "name": "stdout",
     "output_type": "stream",
     "text": [
      "roc score: 0.7436598224681483 training_score: 0.682163395424428 validation_score: 0.6811675729733109 training_error: 0.31783660457557195 validation_error: 0.3188324270266891\n",
      "training with size of 5000\n"
     ]
    },
    {
     "name": "stderr",
     "output_type": "stream",
     "text": [
      "C:\\Users\\ShiYu Qiu\\Anaconda3\\lib\\site-packages\\sklearn\\linear_model\\logistic.py:432: FutureWarning: Default solver will be changed to 'lbfgs' in 0.22. Specify a solver to silence this warning.\n",
      "  FutureWarning)\n"
     ]
    },
    {
     "name": "stdout",
     "output_type": "stream",
     "text": [
      "roc score: 0.745533176921815 training_score: 0.6856638329791224 validation_score: 0.6822301393837115 training_error: 0.31433616702087763 validation_error: 0.31776986061628854\n",
      "training with size of 5500\n"
     ]
    },
    {
     "name": "stderr",
     "output_type": "stream",
     "text": [
      "C:\\Users\\ShiYu Qiu\\Anaconda3\\lib\\site-packages\\sklearn\\linear_model\\logistic.py:432: FutureWarning: Default solver will be changed to 'lbfgs' in 0.22. Specify a solver to silence this warning.\n",
      "  FutureWarning)\n"
     ]
    },
    {
     "name": "stdout",
     "output_type": "stream",
     "text": [
      "roc score: 0.7452660190401557 training_score: 0.6851637704713089 validation_score: 0.6814175885992875 training_error: 0.31483622952869106 validation_error: 0.31858241140071253\n",
      "training with size of 6000\n"
     ]
    },
    {
     "name": "stderr",
     "output_type": "stream",
     "text": [
      "C:\\Users\\ShiYu Qiu\\Anaconda3\\lib\\site-packages\\sklearn\\linear_model\\logistic.py:432: FutureWarning: Default solver will be changed to 'lbfgs' in 0.22. Specify a solver to silence this warning.\n",
      "  FutureWarning)\n"
     ]
    },
    {
     "name": "stdout",
     "output_type": "stream",
     "text": [
      "roc score: 0.7445160082888549 training_score: 0.6853981747718465 validation_score: 0.68160510031877 training_error: 0.3146018252281535 validation_error: 0.31839489968123\n",
      "training with size of 6500\n"
     ]
    },
    {
     "name": "stderr",
     "output_type": "stream",
     "text": [
      "C:\\Users\\ShiYu Qiu\\Anaconda3\\lib\\site-packages\\sklearn\\linear_model\\logistic.py:432: FutureWarning: Default solver will be changed to 'lbfgs' in 0.22. Specify a solver to silence this warning.\n",
      "  FutureWarning)\n"
     ]
    },
    {
     "name": "stdout",
     "output_type": "stream",
     "text": [
      "roc score: 0.7454705008194882 training_score: 0.6851481435179397 validation_score: 0.6819176198512407 training_error: 0.31485185648206027 validation_error: 0.31808238014875934\n",
      "training with size of 7000\n"
     ]
    },
    {
     "name": "stderr",
     "output_type": "stream",
     "text": [
      "C:\\Users\\ShiYu Qiu\\Anaconda3\\lib\\site-packages\\sklearn\\linear_model\\logistic.py:432: FutureWarning: Default solver will be changed to 'lbfgs' in 0.22. Specify a solver to silence this warning.\n",
      "  FutureWarning)\n"
     ]
    },
    {
     "name": "stdout",
     "output_type": "stream",
     "text": [
      "roc score: 0.7462127387784293 training_score: 0.6853356669583698 validation_score: 0.6809800612538284 training_error: 0.3146643330416302 validation_error: 0.3190199387461716\n",
      "training with size of 8000\n"
     ]
    },
    {
     "name": "stderr",
     "output_type": "stream",
     "text": [
      "C:\\Users\\ShiYu Qiu\\Anaconda3\\lib\\site-packages\\sklearn\\linear_model\\logistic.py:432: FutureWarning: Default solver will be changed to 'lbfgs' in 0.22. Specify a solver to silence this warning.\n",
      "  FutureWarning)\n"
     ]
    },
    {
     "name": "stdout",
     "output_type": "stream",
     "text": [
      "roc score: 0.7473008819252316 training_score: 0.6873359169896237 validation_score: 0.6811675729733109 training_error: 0.3126640830103763 validation_error: 0.3188324270266891\n",
      "training with size of 9000\n"
     ]
    },
    {
     "name": "stderr",
     "output_type": "stream",
     "text": [
      "C:\\Users\\ShiYu Qiu\\Anaconda3\\lib\\site-packages\\sklearn\\linear_model\\logistic.py:432: FutureWarning: Default solver will be changed to 'lbfgs' in 0.22. Specify a solver to silence this warning.\n",
      "  FutureWarning)\n"
     ]
    },
    {
     "name": "stdout",
     "output_type": "stream",
     "text": [
      "roc score: 0.7493717895420902 training_score: 0.689742467808476 validation_score: 0.6853553347084193 training_error: 0.31025753219152397 validation_error: 0.31464466529158075\n",
      "training with size of 10000\n"
     ]
    },
    {
     "name": "stderr",
     "output_type": "stream",
     "text": [
      "C:\\Users\\ShiYu Qiu\\Anaconda3\\lib\\site-packages\\sklearn\\linear_model\\logistic.py:432: FutureWarning: Default solver will be changed to 'lbfgs' in 0.22. Specify a solver to silence this warning.\n",
      "  FutureWarning)\n"
     ]
    },
    {
     "name": "stdout",
     "output_type": "stream",
     "text": [
      "roc score: 0.7516304546924252 training_score: 0.6900550068758595 validation_score: 0.6865429089318082 training_error: 0.3099449931241405 validation_error: 0.31345709106819175\n",
      "training with size of 11000\n"
     ]
    },
    {
     "name": "stderr",
     "output_type": "stream",
     "text": [
      "C:\\Users\\ShiYu Qiu\\Anaconda3\\lib\\site-packages\\sklearn\\linear_model\\logistic.py:432: FutureWarning: Default solver will be changed to 'lbfgs' in 0.22. Specify a solver to silence this warning.\n",
      "  FutureWarning)\n"
     ]
    },
    {
     "name": "stdout",
     "output_type": "stream",
     "text": [
      "roc score: 0.7526026430679593 training_score: 0.6906175771971497 validation_score: 0.6862928933058317 training_error: 0.30938242280285033 validation_error: 0.31370710669416835\n",
      "training with size of 12000\n"
     ]
    },
    {
     "name": "stderr",
     "output_type": "stream",
     "text": [
      "C:\\Users\\ShiYu Qiu\\Anaconda3\\lib\\site-packages\\sklearn\\linear_model\\logistic.py:432: FutureWarning: Default solver will be changed to 'lbfgs' in 0.22. Specify a solver to silence this warning.\n",
      "  FutureWarning)\n"
     ]
    },
    {
     "name": "stdout",
     "output_type": "stream",
     "text": [
      "roc score: 0.7522958248318417 training_score: 0.6910238779847481 validation_score: 0.6876054753422088 training_error: 0.30897612201525193 validation_error: 0.31239452465779116\n",
      "training with size of 13000\n"
     ]
    },
    {
     "name": "stderr",
     "output_type": "stream",
     "text": [
      "C:\\Users\\ShiYu Qiu\\Anaconda3\\lib\\site-packages\\sklearn\\linear_model\\logistic.py:432: FutureWarning: Default solver will be changed to 'lbfgs' in 0.22. Specify a solver to silence this warning.\n",
      "  FutureWarning)\n"
     ]
    },
    {
     "name": "stdout",
     "output_type": "stream",
     "text": [
      "roc score: 0.7535588558067378 training_score: 0.6912270283785473 validation_score: 0.6880430026876679 training_error: 0.3087729716214527 validation_error: 0.31195699731233206\n",
      "training with size of 14000\n"
     ]
    },
    {
     "name": "stderr",
     "output_type": "stream",
     "text": [
      "C:\\Users\\ShiYu Qiu\\Anaconda3\\lib\\site-packages\\sklearn\\linear_model\\logistic.py:432: FutureWarning: Default solver will be changed to 'lbfgs' in 0.22. Specify a solver to silence this warning.\n",
      "  FutureWarning)\n"
     ]
    },
    {
     "name": "stdout",
     "output_type": "stream",
     "text": [
      "roc score: 0.7536991642655428 training_score: 0.6926178272284036 validation_score: 0.6882305144071504 training_error: 0.3073821727715964 validation_error: 0.31176948559284956\n",
      "training with size of 15000\n"
     ]
    },
    {
     "name": "stderr",
     "output_type": "stream",
     "text": [
      "C:\\Users\\ShiYu Qiu\\Anaconda3\\lib\\site-packages\\sklearn\\linear_model\\logistic.py:432: FutureWarning: Default solver will be changed to 'lbfgs' in 0.22. Specify a solver to silence this warning.\n",
      "  FutureWarning)\n"
     ]
    },
    {
     "name": "stdout",
     "output_type": "stream",
     "text": [
      "roc score: 0.7549529252298786 training_score: 0.6926334541817727 validation_score: 0.69048065504094 training_error: 0.3073665458182273 validation_error: 0.30951934495905997\n"
     ]
    }
   ],
   "source": [
    "ensembled_model = VotingClassifier(estimators=[('lr', lr), ('nn', mlp), ('gb', gb)],\n",
    "                         voting='soft', flatten_transform=True)\n",
    "\n",
    "thinner_sizes = [4500, 5000, 5500, 6000, 6500, 7000, 8000, 9000, 10000, 11000, 12000, 13000, 14000, 15000]\n",
    "\n",
    "thinner_roc_scores = []\n",
    "thinner_training_errors = []\n",
    "thinner_validation_errors = []\n",
    "thinner_training_scores = []\n",
    "thinner_validation_scores = []\n",
    "\n",
    "for size in thinner_sizes:\n",
    "    print(\"training with size of\", size)\n",
    "    ensembled_model.fit(Xtr[:size], Ytr[:size])\n",
    "    \n",
    "    roc = roc_auc_score(Yva, ensembled_model.predict_proba(Xva)[:,1])\n",
    "    training_score = ensembled_model.score(Xtr, Ytr)\n",
    "    validation_score = ensembled_model.score(Xva, Yva)\n",
    "    training_error = 1-training_score\n",
    "    validation_error = 1-validation_score\n",
    "    print(\"roc score:\", roc, \"training_score:\", training_score, \"validation_score:\", validation_score, \"training_error:\", training_error, \"validation_error:\", validation_error)\n",
    "    \n",
    "    thinner_roc_scores.append(roc)\n",
    "    thinner_training_scores.append(training_score)\n",
    "    thinner_validation_scores.append(validation_score)\n",
    "    thinner_training_errors.append(training_error)\n",
    "    thinner_validation_errors.append(validation_error)"
   ]
  },
  {
   "cell_type": "code",
   "execution_count": 13,
   "metadata": {},
   "outputs": [
    {
     "data": {
      "text/plain": [
       "[0.7436598224681483,\n",
       " 0.745533176921815,\n",
       " 0.7452660190401557,\n",
       " 0.7445160082888549,\n",
       " 0.7454705008194882,\n",
       " 0.7462127387784293,\n",
       " 0.7473008819252316,\n",
       " 0.7493717895420902,\n",
       " 0.7516304546924252,\n",
       " 0.7526026430679593,\n",
       " 0.7522958248318417,\n",
       " 0.7535588558067378,\n",
       " 0.7536991642655428,\n",
       " 0.7549529252298786]"
      ]
     },
     "execution_count": 13,
     "metadata": {},
     "output_type": "execute_result"
    }
   ],
   "source": [
    "thinner_roc_scores"
   ]
  },
  {
   "cell_type": "code",
   "execution_count": 14,
   "metadata": {},
   "outputs": [
    {
     "data": {
      "text/plain": [
       "[0.31783660457557195,\n",
       " 0.31433616702087763,\n",
       " 0.31483622952869106,\n",
       " 0.3146018252281535,\n",
       " 0.31485185648206027,\n",
       " 0.3146643330416302,\n",
       " 0.3126640830103763,\n",
       " 0.31025753219152397,\n",
       " 0.3099449931241405,\n",
       " 0.30938242280285033,\n",
       " 0.30897612201525193,\n",
       " 0.3087729716214527,\n",
       " 0.3073821727715964,\n",
       " 0.3073665458182273]"
      ]
     },
     "execution_count": 14,
     "metadata": {},
     "output_type": "execute_result"
    }
   ],
   "source": [
    "thinner_training_errors"
   ]
  },
  {
   "cell_type": "code",
   "execution_count": 15,
   "metadata": {},
   "outputs": [
    {
     "data": {
      "text/plain": [
       "[0.3188324270266891,\n",
       " 0.31776986061628854,\n",
       " 0.31858241140071253,\n",
       " 0.31839489968123,\n",
       " 0.31808238014875934,\n",
       " 0.3190199387461716,\n",
       " 0.3188324270266891,\n",
       " 0.31464466529158075,\n",
       " 0.31345709106819175,\n",
       " 0.31370710669416835,\n",
       " 0.31239452465779116,\n",
       " 0.31195699731233206,\n",
       " 0.31176948559284956,\n",
       " 0.30951934495905997]"
      ]
     },
     "execution_count": 15,
     "metadata": {},
     "output_type": "execute_result"
    }
   ],
   "source": [
    "thinner_validation_errors"
   ]
  },
  {
   "cell_type": "code",
   "execution_count": 16,
   "metadata": {},
   "outputs": [
    {
     "data": {
      "text/plain": [
       "[0.682163395424428,\n",
       " 0.6856638329791224,\n",
       " 0.6851637704713089,\n",
       " 0.6853981747718465,\n",
       " 0.6851481435179397,\n",
       " 0.6853356669583698,\n",
       " 0.6873359169896237,\n",
       " 0.689742467808476,\n",
       " 0.6900550068758595,\n",
       " 0.6906175771971497,\n",
       " 0.6910238779847481,\n",
       " 0.6912270283785473,\n",
       " 0.6926178272284036,\n",
       " 0.6926334541817727]"
      ]
     },
     "execution_count": 16,
     "metadata": {},
     "output_type": "execute_result"
    }
   ],
   "source": [
    "thinner_training_scores"
   ]
  },
  {
   "cell_type": "code",
   "execution_count": 17,
   "metadata": {},
   "outputs": [
    {
     "data": {
      "text/plain": [
       "[0.6811675729733109,\n",
       " 0.6822301393837115,\n",
       " 0.6814175885992875,\n",
       " 0.68160510031877,\n",
       " 0.6819176198512407,\n",
       " 0.6809800612538284,\n",
       " 0.6811675729733109,\n",
       " 0.6853553347084193,\n",
       " 0.6865429089318082,\n",
       " 0.6862928933058317,\n",
       " 0.6876054753422088,\n",
       " 0.6880430026876679,\n",
       " 0.6882305144071504,\n",
       " 0.69048065504094]"
      ]
     },
     "execution_count": 17,
     "metadata": {},
     "output_type": "execute_result"
    }
   ],
   "source": [
    "thinner_validation_scores"
   ]
  },
  {
   "cell_type": "code",
   "execution_count": 18,
   "metadata": {},
   "outputs": [
    {
     "data": {
      "image/png": "[encoded data removed]",
      "text/plain": [
       "<Figure size 1080x576 with 1 Axes>"
      ]
     },
     "metadata": {
      "needs_background": "light"
     },
     "output_type": "display_data"
    }
   ],
   "source": [
    "plt.rcParams['figure.figsize'] = (15.0, 8.0)\n",
    "plt.semilogy(thinner_sizes, thinner_roc_scores, label='roc_score', linewidth=2, c='r')\n",
    "plt.semilogy(thinner_sizes, thinner_training_scores, label='training_score', linewidth=2, c='g')\n",
    "plt.semilogy(thinner_sizes, thinner_validation_scores, label='validation_score', linewidth=2, c='b')\n",
    "plt.xticks(thinner_sizes)\n",
    "plt.legend()\n",
    "plt.show()"
   ]
  },
  {
   "cell_type": "code",
   "execution_count": 19,
   "metadata": {},
   "outputs": [
    {
     "data": {
      "image/png": "[encoded data removed]",
      "text/plain": [
       "<Figure size 1080x576 with 1 Axes>"
      ]
     },
     "metadata": {
      "needs_background": "light"
     },
     "output_type": "display_data"
    }
   ],
   "source": [
    "plt.rcParams['figure.figsize'] = (15.0, 8.0)\n",
    "plt.semilogy(thinner_sizes, thinner_training_errors, label='training_error', linewidth=2, c='r')\n",
    "plt.semilogy(thinner_sizes, thinner_validation_scores, label='validation_score', linewidth=2, c='g')\n",
    "plt.xticks(thinner_sizes)\n",
    "plt.legend()\n",
    "plt.show()"
   ]
  },
  {
   "cell_type": "code",
   "execution_count": 20,
   "metadata": {},
   "outputs": [
    {
     "name": "stdout",
     "output_type": "stream",
     "text": [
      "training with size of 15000\n"
     ]
    },
    {
     "name": "stderr",
     "output_type": "stream",
     "text": [
      "C:\\Users\\ShiYu Qiu\\Anaconda3\\lib\\site-packages\\sklearn\\linear_model\\logistic.py:432: FutureWarning: Default solver will be changed to 'lbfgs' in 0.22. Specify a solver to silence this warning.\n",
      "  FutureWarning)\n"
     ]
    },
    {
     "name": "stdout",
     "output_type": "stream",
     "text": [
      "roc score: 0.7552263268299909 training_score: 0.6931960245030628 validation_score: 0.6902931433214576 training_error: 0.30680397549693716 validation_error: 0.30970685667854236\n",
      "training with size of 15500\n"
     ]
    },
    {
     "name": "stderr",
     "output_type": "stream",
     "text": [
      "C:\\Users\\ShiYu Qiu\\Anaconda3\\lib\\site-packages\\sklearn\\linear_model\\logistic.py:432: FutureWarning: Default solver will be changed to 'lbfgs' in 0.22. Specify a solver to silence this warning.\n",
      "  FutureWarning)\n"
     ]
    },
    {
     "name": "stdout",
     "output_type": "stream",
     "text": [
      "roc score: 0.7559667649415208 training_score: 0.693024128016002 validation_score: 0.6907306706669167 training_error: 0.306975871983998 validation_error: 0.30926932933308326\n",
      "training with size of 16000\n"
     ]
    },
    {
     "name": "stderr",
     "output_type": "stream",
     "text": [
      "C:\\Users\\ShiYu Qiu\\Anaconda3\\lib\\site-packages\\sklearn\\linear_model\\logistic.py:432: FutureWarning: Default solver will be changed to 'lbfgs' in 0.22. Specify a solver to silence this warning.\n",
      "  FutureWarning)\n"
     ]
    },
    {
     "name": "stdout",
     "output_type": "stream",
     "text": [
      "roc score: 0.7557088292868621 training_score: 0.692836604575572 validation_score: 0.6909806862928933 training_error: 0.30716339542442805 validation_error: 0.30901931370710667\n",
      "training with size of 16500\n"
     ]
    },
    {
     "name": "stderr",
     "output_type": "stream",
     "text": [
      "C:\\Users\\ShiYu Qiu\\Anaconda3\\lib\\site-packages\\sklearn\\linear_model\\logistic.py:432: FutureWarning: Default solver will be changed to 'lbfgs' in 0.22. Specify a solver to silence this warning.\n",
      "  FutureWarning)\n"
     ]
    },
    {
     "name": "stdout",
     "output_type": "stream",
     "text": [
      "roc score: 0.7557884526249898 training_score: 0.6928834854356795 validation_score: 0.6920432527032939 training_error: 0.30711651456432054 validation_error: 0.3079567472967061\n",
      "training with size of 17000\n"
     ]
    },
    {
     "name": "stderr",
     "output_type": "stream",
     "text": [
      "C:\\Users\\ShiYu Qiu\\Anaconda3\\lib\\site-packages\\sklearn\\linear_model\\logistic.py:432: FutureWarning: Default solver will be changed to 'lbfgs' in 0.22. Specify a solver to silence this warning.\n",
      "  FutureWarning)\n"
     ]
    },
    {
     "name": "stdout",
     "output_type": "stream",
     "text": [
      "roc score: 0.755534323727245 training_score: 0.6932897862232779 validation_score: 0.689668104256516 training_error: 0.30671021377672214 validation_error: 0.31033189574348397\n"
     ]
    }
   ],
   "source": [
    "ensembled_model = VotingClassifier(estimators=[('lr', lr), ('nn', mlp), ('gb', gb)],\n",
    "                         voting='soft', flatten_transform=True)\n",
    "\n",
    "second_sizes = [15000, 15500, 16000, 16500, 17000]\n",
    "\n",
    "second_roc_scores = []\n",
    "second_training_errors = []\n",
    "second_validation_errors = []\n",
    "second_training_scores = []\n",
    "second_validation_scores = []\n",
    "\n",
    "for size in second_sizes:\n",
    "    print(\"training with size of\", size)\n",
    "    ensembled_model.fit(Xtr[:size], Ytr[:size])\n",
    "    \n",
    "    roc = roc_auc_score(Yva, ensembled_model.predict_proba(Xva)[:,1])\n",
    "    training_score = ensembled_model.score(Xtr, Ytr)\n",
    "    validation_score = ensembled_model.score(Xva, Yva)\n",
    "    training_error = 1-training_score\n",
    "    validation_error = 1-validation_score\n",
    "    print(\"roc score:\", roc, \"training_score:\", training_score, \"validation_score:\", validation_score, \"training_error:\", training_error, \"validation_error:\", validation_error)\n",
    "    \n",
    "    second_roc_scores.append(roc)\n",
    "    second_training_scores.append(training_score)\n",
    "    second_validation_scores.append(validation_score)\n",
    "    second_training_errors.append(training_error)\n",
    "    second_validation_errors.append(validation_error)"
   ]
  },
  {
   "cell_type": "code",
   "execution_count": 21,
   "metadata": {},
   "outputs": [
    {
     "data": {
      "text/plain": [
       "[0.7552263268299909,\n",
       " 0.7559667649415208,\n",
       " 0.7557088292868621,\n",
       " 0.7557884526249898,\n",
       " 0.755534323727245]"
      ]
     },
     "execution_count": 21,
     "metadata": {},
     "output_type": "execute_result"
    }
   ],
   "source": [
    "second_roc_scores "
   ]
  },
  {
   "cell_type": "code",
   "execution_count": 22,
   "metadata": {},
   "outputs": [
    {
     "data": {
      "text/plain": [
       "[0.30680397549693716,\n",
       " 0.306975871983998,\n",
       " 0.30716339542442805,\n",
       " 0.30711651456432054,\n",
       " 0.30671021377672214]"
      ]
     },
     "execution_count": 22,
     "metadata": {},
     "output_type": "execute_result"
    }
   ],
   "source": [
    "second_training_errors "
   ]
  },
  {
   "cell_type": "code",
   "execution_count": 23,
   "metadata": {},
   "outputs": [
    {
     "data": {
      "text/plain": [
       "[0.30970685667854236,\n",
       " 0.30926932933308326,\n",
       " 0.30901931370710667,\n",
       " 0.3079567472967061,\n",
       " 0.31033189574348397]"
      ]
     },
     "execution_count": 23,
     "metadata": {},
     "output_type": "execute_result"
    }
   ],
   "source": [
    "second_validation_errors"
   ]
  },
  {
   "cell_type": "code",
   "execution_count": 24,
   "metadata": {},
   "outputs": [
    {
     "data": {
      "text/plain": [
       "[0.6931960245030628,\n",
       " 0.693024128016002,\n",
       " 0.692836604575572,\n",
       " 0.6928834854356795,\n",
       " 0.6932897862232779]"
      ]
     },
     "execution_count": 24,
     "metadata": {},
     "output_type": "execute_result"
    }
   ],
   "source": [
    "second_training_scores"
   ]
  },
  {
   "cell_type": "code",
   "execution_count": 25,
   "metadata": {},
   "outputs": [
    {
     "data": {
      "text/plain": [
       "[0.6902931433214576,\n",
       " 0.6907306706669167,\n",
       " 0.6909806862928933,\n",
       " 0.6920432527032939,\n",
       " 0.689668104256516]"
      ]
     },
     "execution_count": 25,
     "metadata": {},
     "output_type": "execute_result"
    }
   ],
   "source": [
    "second_validation_scores"
   ]
  },
  {
   "cell_type": "code",
   "execution_count": 26,
   "metadata": {},
   "outputs": [
    {
     "data": {
      "image/png": "[encoded data removed]",
      "text/plain": [
       "<Figure size 1080x576 with 1 Axes>"
      ]
     },
     "metadata": {
      "needs_background": "light"
     },
     "output_type": "display_data"
    }
   ],
   "source": [
    "plt.rcParams['figure.figsize'] = (15.0, 8.0)\n",
    "plt.semilogy(second_sizes, second_roc_scores, label='roc_score', linewidth=2, c='r')\n",
    "plt.semilogy(second_sizes, second_training_scores, label='training_score', linewidth=2, c='g')\n",
    "plt.semilogy(second_sizes, second_validation_scores, label='validation_score', linewidth=2, c='b')\n",
    "plt.xticks(second_sizes)\n",
    "plt.legend()\n",
    "plt.show()"
   ]
  },
  {
   "cell_type": "code",
   "execution_count": 27,
   "metadata": {},
   "outputs": [
    {
     "data": {
      "image/png": "[encoded data removed]",
      "text/plain": [
       "<Figure size 1080x576 with 1 Axes>"
      ]
     },
     "metadata": {
      "needs_background": "light"
     },
     "output_type": "display_data"
    }
   ],
   "source": [
    "plt.rcParams['figure.figsize'] = (15.0, 8.0)\n",
    "plt.semilogy(second_sizes, second_training_errors, label='training_error', linewidth=2, c='r')\n",
    "plt.semilogy(second_sizes, second_validation_scores, label='validation_score', linewidth=2, c='g')\n",
    "plt.xticks(second_sizes)\n",
    "plt.legend()\n",
    "plt.show()"
   ]
  }
 ],
 "metadata": {
  "kernelspec": {
   "display_name": "Python 3",
   "language": "python",
   "name": "python3"
  },
  "language_info": {
   "codemirror_mode": {
    "name": "ipython",
    "version": 3
   },
   "file_extension": ".py",
   "mimetype": "text/x-python",
   "name": "python",
   "nbconvert_exporter": "python",
   "pygments_lexer": "ipython3",
   "version": "3.7.4"
  }
 },
 "nbformat": 4,
 "nbformat_minor": 2
}
