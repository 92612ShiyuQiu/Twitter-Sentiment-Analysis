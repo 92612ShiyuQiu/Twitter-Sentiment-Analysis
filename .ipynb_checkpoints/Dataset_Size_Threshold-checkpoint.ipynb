{
 "cells": [
  {
   "cell_type": "code",
   "execution_count": 9,
   "metadata": {},
   "outputs": [],
   "source": [
    "import matplotlib.pyplot as plt\n",
    "import pandas as pd\n",
    "import numpy as np\n",
    "from sklearn.metrics import roc_auc_score\n",
    "from sklearn.model_selection import cross_val_score\n",
    "from sklearn.model_selection import train_test_split\n",
    "from sklearn.utils import shuffle\n",
    "\n",
    "from sklearn.metrics import classification_report\n",
    "from sklearn.neural_network import MLPClassifier\n",
    "from sklearn.ensemble import GradientBoostingClassifier\n",
    "from sklearn.linear_model import LogisticRegression\n",
    "from sklearn.pipeline import Pipeline\n",
    "from sklearn.preprocessing import StandardScaler\n",
    "from sklearn.ensemble import VotingClassifier\n",
    "import time\n",
    "\n",
    "X = np.genfromtxt('data/X.csv', delimiter = ',')\n",
    "Y = np.genfromtxt('data/Y.csv', delimiter = ',')\n",
    "\n",
    "X = X[1:]\n",
    "Y = Y[1:]"
   ]
  },
  {
   "cell_type": "code",
   "execution_count": 4,
   "metadata": {},
   "outputs": [
    {
     "data": {
      "text/plain": [
       "array([[0., 0., 0., ..., 0., 0., 0.],\n",
       "       [0., 0., 0., ..., 0., 0., 0.],\n",
       "       [0., 0., 0., ..., 0., 0., 0.],\n",
       "       ...,\n",
       "       [0., 0., 0., ..., 0., 0., 0.],\n",
       "       [0., 0., 0., ..., 0., 0., 0.],\n",
       "       [0., 0., 0., ..., 0., 0., 0.]])"
      ]
     },
     "execution_count": 4,
     "metadata": {},
     "output_type": "execute_result"
    }
   ],
   "source": [
    "X[:,:-1]"
   ]
  },
  {
   "cell_type": "code",
   "execution_count": 5,
   "metadata": {},
   "outputs": [
    {
     "data": {
      "text/plain": [
       "(99989,)"
      ]
     },
     "execution_count": 5,
     "metadata": {},
     "output_type": "execute_result"
    }
   ],
   "source": [
    "Y.shape"
   ]
  },
  {
   "cell_type": "code",
   "execution_count": 6,
   "metadata": {},
   "outputs": [],
   "source": [
    "X_comp, X_test, Y_comp, Y_test = train_test_split(X, Y, test_size=0.2, random_state=0)\n",
    "Xtr, Xva, Ytr, Yva = train_test_split(X_comp, Y_comp, test_size=0.2)\n",
    "Xtr, Xva = Xtr[:,:-1], Xva[:,:-1]\n",
    "\n",
    "Xtr, Ytr = shuffle(Xtr, Ytr)"
   ]
  },
  {
   "cell_type": "code",
   "execution_count": 7,
   "metadata": {},
   "outputs": [
    {
     "data": {
      "text/plain": [
       "(63992, 219)"
      ]
     },
     "execution_count": 7,
     "metadata": {},
     "output_type": "execute_result"
    }
   ],
   "source": [
    "Xtr.shape"
   ]
  },
  {
   "cell_type": "code",
   "execution_count": 8,
   "metadata": {},
   "outputs": [
    {
     "data": {
      "text/plain": [
       "(15999, 219)"
      ]
     },
     "execution_count": 8,
     "metadata": {},
     "output_type": "execute_result"
    }
   ],
   "source": [
    "Xva.shape"
   ]
  },
  {
   "cell_type": "code",
   "execution_count": 10,
   "metadata": {},
   "outputs": [],
   "source": [
    "lr = LogisticRegression(C=2, penalty='l1')\n",
    "\n",
    "mlp = MLPClassifier(max_iter=1000, hidden_layer_sizes=(100,), activation='identity', \n",
    "                            solver='sgd', alpha=0.01, learning_rate='adaptive')\n",
    "\n",
    "gb = GradientBoostingClassifier(max_depth=3,loss=\"deviance\",learning_rate=0.1,\n",
    "                                 n_estimators=1500,min_samples_split=20,min_samples_leaf=9,\n",
    "                                 max_features=\"sqrt\", subsample=0.5)"
   ]
  },
  {
   "cell_type": "code",
   "execution_count": 11,
   "metadata": {},
   "outputs": [
    {
     "name": "stdout",
     "output_type": "stream",
     "text": [
      "training with size of 50\n"
     ]
    },
    {
     "name": "stderr",
     "output_type": "stream",
     "text": [
      "C:\\Users\\ShiYu Qiu\\Anaconda3\\lib\\site-packages\\sklearn\\linear_model\\logistic.py:432: FutureWarning: Default solver will be changed to 'lbfgs' in 0.22. Specify a solver to silence this warning.\n",
      "  FutureWarning)\n",
      "C:\\Users\\ShiYu Qiu\\Anaconda3\\lib\\site-packages\\sklearn\\neural_network\\multilayer_perceptron.py:566: ConvergenceWarning: Stochastic Optimizer: Maximum iterations (1000) reached and the optimization hasn't converged yet.\n",
      "  % self.max_iter, ConvergenceWarning)\n"
     ]
    },
    {
     "name": "stdout",
     "output_type": "stream",
     "text": [
      "roc score: 0.6014817134609278 training_score: 0.5772752844105513 validation_score: 0.5702231389461841 training_error: 0.4227247155894487 validation_error: 0.42977686105381585\n",
      "training with size of 500\n"
     ]
    },
    {
     "name": "stderr",
     "output_type": "stream",
     "text": [
      "C:\\Users\\ShiYu Qiu\\Anaconda3\\lib\\site-packages\\sklearn\\linear_model\\logistic.py:432: FutureWarning: Default solver will be changed to 'lbfgs' in 0.22. Specify a solver to silence this warning.\n",
      "  FutureWarning)\n",
      "C:\\Users\\ShiYu Qiu\\Anaconda3\\lib\\site-packages\\sklearn\\neural_network\\multilayer_perceptron.py:566: ConvergenceWarning: Stochastic Optimizer: Maximum iterations (1000) reached and the optimization hasn't converged yet.\n",
      "  % self.max_iter, ConvergenceWarning)\n"
     ]
    },
    {
     "name": "stdout",
     "output_type": "stream",
     "text": [
      "roc score: 0.6785371009717186 training_score: 0.6352669083635455 validation_score: 0.6306644165260329 training_error: 0.3647330916364545 validation_error: 0.3693355834739671\n",
      "training with size of 5000\n"
     ]
    },
    {
     "name": "stderr",
     "output_type": "stream",
     "text": [
      "C:\\Users\\ShiYu Qiu\\Anaconda3\\lib\\site-packages\\sklearn\\linear_model\\logistic.py:432: FutureWarning: Default solver will be changed to 'lbfgs' in 0.22. Specify a solver to silence this warning.\n",
      "  FutureWarning)\n"
     ]
    },
    {
     "name": "stdout",
     "output_type": "stream",
     "text": [
      "roc score: 0.7405522935515687 training_score: 0.684069883735467 validation_score: 0.6765422838927433 training_error: 0.31593011626453305 validation_error: 0.3234577161072567\n",
      "training with size of 10000\n"
     ]
    },
    {
     "name": "stderr",
     "output_type": "stream",
     "text": [
      "C:\\Users\\ShiYu Qiu\\Anaconda3\\lib\\site-packages\\sklearn\\linear_model\\logistic.py:432: FutureWarning: Default solver will be changed to 'lbfgs' in 0.22. Specify a solver to silence this warning.\n",
      "  FutureWarning)\n"
     ]
    },
    {
     "name": "stdout",
     "output_type": "stream",
     "text": [
      "roc score: 0.7469784442241709 training_score: 0.689820602575322 validation_score: 0.6791674479654979 training_error: 0.31017939742467804 validation_error: 0.3208325520345021\n",
      "training with size of 15000\n"
     ]
    },
    {
     "name": "stderr",
     "output_type": "stream",
     "text": [
      "C:\\Users\\ShiYu Qiu\\Anaconda3\\lib\\site-packages\\sklearn\\linear_model\\logistic.py:432: FutureWarning: Default solver will be changed to 'lbfgs' in 0.22. Specify a solver to silence this warning.\n",
      "  FutureWarning)\n"
     ]
    },
    {
     "name": "stdout",
     "output_type": "stream",
     "text": [
      "roc score: 0.7494635137679425 training_score: 0.6926334541817727 validation_score: 0.6826676667291706 training_error: 0.3073665458182273 validation_error: 0.31733233327082944\n",
      "training with size of 20000\n"
     ]
    },
    {
     "name": "stderr",
     "output_type": "stream",
     "text": [
      "C:\\Users\\ShiYu Qiu\\Anaconda3\\lib\\site-packages\\sklearn\\linear_model\\logistic.py:432: FutureWarning: Default solver will be changed to 'lbfgs' in 0.22. Specify a solver to silence this warning.\n",
      "  FutureWarning)\n"
     ]
    },
    {
     "name": "stdout",
     "output_type": "stream",
     "text": [
      "roc score: 0.7512510560883673 training_score: 0.6939617452181522 validation_score: 0.6846052878304894 training_error: 0.30603825478184776 validation_error: 0.31539471216951065\n",
      "training with size of 25000\n"
     ]
    },
    {
     "name": "stderr",
     "output_type": "stream",
     "text": [
      "C:\\Users\\ShiYu Qiu\\Anaconda3\\lib\\site-packages\\sklearn\\linear_model\\logistic.py:432: FutureWarning: Default solver will be changed to 'lbfgs' in 0.22. Specify a solver to silence this warning.\n",
      "  FutureWarning)\n"
     ]
    },
    {
     "name": "stdout",
     "output_type": "stream",
     "text": [
      "roc score: 0.7531143628208192 training_score: 0.6958369796224528 validation_score: 0.6832927057941122 training_error: 0.30416302037754717 validation_error: 0.31670729420588783\n",
      "training with size of 30000\n"
     ]
    },
    {
     "name": "stderr",
     "output_type": "stream",
     "text": [
      "C:\\Users\\ShiYu Qiu\\Anaconda3\\lib\\site-packages\\sklearn\\linear_model\\logistic.py:432: FutureWarning: Default solver will be changed to 'lbfgs' in 0.22. Specify a solver to silence this warning.\n",
      "  FutureWarning)\n"
     ]
    },
    {
     "name": "stdout",
     "output_type": "stream",
     "text": [
      "roc score: 0.753898387351557 training_score: 0.6966027003375422 validation_score: 0.6851678229889369 training_error: 0.30339729966245776 validation_error: 0.31483217701106314\n",
      "training with size of 35000\n"
     ]
    },
    {
     "name": "stderr",
     "output_type": "stream",
     "text": [
      "C:\\Users\\ShiYu Qiu\\Anaconda3\\lib\\site-packages\\sklearn\\linear_model\\logistic.py:432: FutureWarning: Default solver will be changed to 'lbfgs' in 0.22. Specify a solver to silence this warning.\n",
      "  FutureWarning)\n"
     ]
    },
    {
     "name": "stdout",
     "output_type": "stream",
     "text": [
      "roc score: 0.7553638159821785 training_score: 0.6980091261407676 validation_score: 0.6862928933058317 training_error: 0.3019908738592324 validation_error: 0.31370710669416835\n",
      "training with size of 40000\n"
     ]
    },
    {
     "name": "stderr",
     "output_type": "stream",
     "text": [
      "C:\\Users\\ShiYu Qiu\\Anaconda3\\lib\\site-packages\\sklearn\\linear_model\\logistic.py:432: FutureWarning: Default solver will be changed to 'lbfgs' in 0.22. Specify a solver to silence this warning.\n",
      "  FutureWarning)\n"
     ]
    },
    {
     "name": "stdout",
     "output_type": "stream",
     "text": [
      "roc score: 0.75536043916281 training_score: 0.6974621827728466 validation_score: 0.6869179323707731 training_error: 0.30253781722715345 validation_error: 0.31308206762922686\n",
      "training with size of 45000\n"
     ]
    },
    {
     "name": "stderr",
     "output_type": "stream",
     "text": [
      "C:\\Users\\ShiYu Qiu\\Anaconda3\\lib\\site-packages\\sklearn\\linear_model\\logistic.py:432: FutureWarning: Default solver will be changed to 'lbfgs' in 0.22. Specify a solver to silence this warning.\n",
      "  FutureWarning)\n"
     ]
    },
    {
     "name": "stdout",
     "output_type": "stream",
     "text": [
      "roc score: 0.7557097259436815 training_score: 0.6976497062132767 validation_score: 0.6861678854928434 training_error: 0.3023502937867233 validation_error: 0.31383211450715665\n",
      "training with size of 50000\n"
     ]
    },
    {
     "name": "stderr",
     "output_type": "stream",
     "text": [
      "C:\\Users\\ShiYu Qiu\\Anaconda3\\lib\\site-packages\\sklearn\\linear_model\\logistic.py:432: FutureWarning: Default solver will be changed to 'lbfgs' in 0.22. Specify a solver to silence this warning.\n",
      "  FutureWarning)\n"
     ]
    },
    {
     "name": "stdout",
     "output_type": "stream",
     "text": [
      "roc score: 0.7558187195265832 training_score: 0.6973684210526315 validation_score: 0.6849803112694544 training_error: 0.3026315789473685 validation_error: 0.31501968873054564\n"
     ]
    }
   ],
   "source": [
    "ensembled_model = VotingClassifier(estimators=[('lr', lr), ('nn', mlp), ('gb', gb)],\n",
    "                         voting='soft', flatten_transform=True)\n",
    "sizes = [50, 500, 5000, 10000, 15000, 20000, 25000, 30000, 35000, 40000, 45000, 50000]\n",
    "roc_scores = []\n",
    "training_errors = []\n",
    "validation_errors = []\n",
    "training_scores = []\n",
    "validation_scores = []\n",
    "\n",
    "for size in sizes:\n",
    "    print(\"training with size of\", size)\n",
    "    ensembled_model.fit(Xtr[:size], Ytr[:size])\n",
    "    \n",
    "    roc = roc_auc_score(Yva, ensembled_model.predict_proba(Xva)[:,1])\n",
    "    training_score = ensembled_model.score(Xtr, Ytr)\n",
    "    validation_score = ensembled_model.score(Xva, Yva)\n",
    "    training_error = 1-training_score\n",
    "    validation_error = 1-validation_score\n",
    "    print(\"roc score:\", roc, \"training_score:\", training_score, \"validation_score:\", validation_score, \"training_error:\", training_error, \"validation_error:\", validation_error)\n",
    "    \n",
    "    roc_scores.append(roc)\n",
    "    training_scores.append(training_score)\n",
    "    validation_scores.append(validation_score)\n",
    "    training_errors.append(training_error)\n",
    "    validation_errors.append(validation_error)"
   ]
  },
  {
   "cell_type": "code",
   "execution_count": 13,
   "metadata": {},
   "outputs": [
    {
     "data": {
      "text/plain": [
       "[0.6014817134609278,\n",
       " 0.6785371009717186,\n",
       " 0.7405522935515687,\n",
       " 0.7469784442241709,\n",
       " 0.7494635137679425,\n",
       " 0.7512510560883673,\n",
       " 0.7531143628208192,\n",
       " 0.753898387351557,\n",
       " 0.7553638159821785,\n",
       " 0.75536043916281,\n",
       " 0.7557097259436815,\n",
       " 0.7558187195265832]"
      ]
     },
     "execution_count": 13,
     "metadata": {},
     "output_type": "execute_result"
    }
   ],
   "source": [
    "roc_scores"
   ]
  },
  {
   "cell_type": "code",
   "execution_count": 14,
   "metadata": {},
   "outputs": [
    {
     "data": {
      "text/plain": [
       "[0.4227247155894487,\n",
       " 0.3647330916364545,\n",
       " 0.31593011626453305,\n",
       " 0.31017939742467804,\n",
       " 0.3073665458182273,\n",
       " 0.30603825478184776,\n",
       " 0.30416302037754717,\n",
       " 0.30339729966245776,\n",
       " 0.3019908738592324,\n",
       " 0.30253781722715345,\n",
       " 0.3023502937867233,\n",
       " 0.3026315789473685]"
      ]
     },
     "execution_count": 14,
     "metadata": {},
     "output_type": "execute_result"
    }
   ],
   "source": [
    "training_errors"
   ]
  },
  {
   "cell_type": "code",
   "execution_count": 15,
   "metadata": {},
   "outputs": [
    {
     "data": {
      "text/plain": [
       "[0.42977686105381585,\n",
       " 0.3693355834739671,\n",
       " 0.3234577161072567,\n",
       " 0.3208325520345021,\n",
       " 0.31733233327082944,\n",
       " 0.31539471216951065,\n",
       " 0.31670729420588783,\n",
       " 0.31483217701106314,\n",
       " 0.31370710669416835,\n",
       " 0.31308206762922686,\n",
       " 0.31383211450715665,\n",
       " 0.31501968873054564]"
      ]
     },
     "execution_count": 15,
     "metadata": {},
     "output_type": "execute_result"
    }
   ],
   "source": [
    "validation_errors"
   ]
  },
  {
   "cell_type": "code",
   "execution_count": 16,
   "metadata": {},
   "outputs": [
    {
     "data": {
      "text/plain": [
       "[0.5772752844105513,\n",
       " 0.6352669083635455,\n",
       " 0.684069883735467,\n",
       " 0.689820602575322,\n",
       " 0.6926334541817727,\n",
       " 0.6939617452181522,\n",
       " 0.6958369796224528,\n",
       " 0.6966027003375422,\n",
       " 0.6980091261407676,\n",
       " 0.6974621827728466,\n",
       " 0.6976497062132767,\n",
       " 0.6973684210526315]"
      ]
     },
     "execution_count": 16,
     "metadata": {},
     "output_type": "execute_result"
    }
   ],
   "source": [
    "training_scores"
   ]
  },
  {
   "cell_type": "code",
   "execution_count": 17,
   "metadata": {},
   "outputs": [
    {
     "data": {
      "text/plain": [
       "[0.5702231389461841,\n",
       " 0.6306644165260329,\n",
       " 0.6765422838927433,\n",
       " 0.6791674479654979,\n",
       " 0.6826676667291706,\n",
       " 0.6846052878304894,\n",
       " 0.6832927057941122,\n",
       " 0.6851678229889369,\n",
       " 0.6862928933058317,\n",
       " 0.6869179323707731,\n",
       " 0.6861678854928434,\n",
       " 0.6849803112694544]"
      ]
     },
     "execution_count": 17,
     "metadata": {},
     "output_type": "execute_result"
    }
   ],
   "source": [
    "validation_scores"
   ]
  },
  {
   "cell_type": "code",
   "execution_count": 18,
   "metadata": {},
   "outputs": [
    {
     "data": {
      "image/png": "[encoded data removed]",
      "text/plain": [
       "<Figure size 1080x576 with 1 Axes>"
      ]
     },
     "metadata": {
      "needs_background": "light"
     },
     "output_type": "display_data"
    }
   ],
   "source": [
    "plt.rcParams['figure.figsize'] = (15.0, 8.0)\n",
    "plt.semilogy(sizes, roc_scores, label='roc_score', linewidth=2, c='r')\n",
    "plt.semilogy(sizes, training_scores, label='training_score', linewidth=2, c='g')\n",
    "plt.semilogy(sizes, validation_scores, label='validation_score', linewidth=2, c='b')\n",
    "plt.xticks(sizes)\n",
    "plt.legend()\n",
    "plt.show()"
   ]
  },
  {
   "cell_type": "code",
   "execution_count": 19,
   "metadata": {},
   "outputs": [
    {
     "data": {
      "image/png": "[encoded data removed]",
      "text/plain": [
       "<Figure size 1080x576 with 1 Axes>"
      ]
     },
     "metadata": {
      "needs_background": "light"
     },
     "output_type": "display_data"
    }
   ],
   "source": [
    "plt.rcParams['figure.figsize'] = (15.0, 8.0)\n",
    "plt.semilogy(sizes, training_errors, label='training_error', linewidth=2, c='r')\n",
    "plt.semilogy(sizes, validation_scores, label='validation_score', linewidth=2, c='g')\n",
    "plt.xticks(sizes)\n",
    "plt.legend()\n",
    "plt.show()"
   ]
  }
 ],
 "metadata": {
  "kernelspec": {
   "display_name": "Python 3",
   "language": "python",
   "name": "python3"
  },
  "language_info": {
   "codemirror_mode": {
    "name": "ipython",
    "version": 3
   },
   "file_extension": ".py",
   "mimetype": "text/x-python",
   "name": "python",
   "nbconvert_exporter": "python",
   "pygments_lexer": "ipython3",
   "version": "3.7.4"
  }
 },
 "nbformat": 4,
 "nbformat_minor": 2
}
