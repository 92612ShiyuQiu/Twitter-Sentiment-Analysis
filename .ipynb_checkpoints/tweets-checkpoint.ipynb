{
 "cells": [
  {
   "cell_type": "code",
   "execution_count": 0,
   "metadata": {
    "colab": {},
    "colab_type": "code",
    "id": "ckHUOjxUcDda"
   },
   "outputs": [],
   "source": [
    "import tweepy as tw\n",
    "import os\n",
    "import pandas as pd\n",
    "\n",
    "#To access the Twitter API, you will need 4 things from the your Twitter App page. \n",
    "#These keys are located in your Twitter app settings in the Keys and Access Tokens tab.\n",
    "consumer_key= 'wnFgrbwPDAwJA1vCS8EZVfiP7'\n",
    "consumer_secret= 'cHUSVJZQtkhU6w05pBPROGZ1yAahHakL8pSJEr5jIhkDJvXElo'\n",
    "access_token= '1203090107957309440-jrv0gUebcBjNvqlml26PdLYG5Kibgk'\n",
    "access_token_secret= 'iD74htxVkMRnxN8I8dFwmsuGsukbOSaslfL1UqK8HHgtB'"
   ]
  },
  {
   "cell_type": "code",
   "execution_count": 0,
   "metadata": {
    "colab": {},
    "colab_type": "code",
    "id": "AdalLuQcfFVN"
   },
   "outputs": [],
   "source": [
    "auth = tw.OAuthHandler(consumer_key, consumer_secret)\n",
    "auth.set_access_token(access_token, access_token_secret)\n",
    "api = tw.API(auth, wait_on_rate_limit=True)"
   ]
  },
  {
   "cell_type": "code",
   "execution_count": 0,
   "metadata": {
    "colab": {},
    "colab_type": "code",
    "id": "JbYFydcvzPJt"
   },
   "outputs": [],
   "source": [
    "#Now you are ready to search Twitter for recent tweets! Start by finding recent tweets that use the #XXX hashtag. \n",
    "#You will use the .Cursor method to get an object containing tweets containing the hashtag #XXX.\n",
    "\n",
    "#To create this query, you will define the:\n",
    "\n",
    "#Search term - in this case #XXX\n",
    "#the start date of your search\n",
    "\n",
    "search_word1 = \"#Trump\" + \" -filter:retweets\"\n",
    "date_since = \"2019-01-01\""
   ]
  },
  {
   "cell_type": "code",
   "execution_count": 0,
   "metadata": {
    "colab": {},
    "colab_type": "code",
    "id": "ObW2KR6hz3GI"
   },
   "outputs": [],
   "source": [
    "# Collect tweets\n",
    "#.Cursor() returns an object that you can iterate or loop over \n",
    "#to access the data collected. Each item in the iterator has various \n",
    "#attributes that you can access to get information about each tweet including:\n",
    "\n",
    "#the text of the tweet\n",
    "#who sent the tweet\n",
    "#the date the tweet was sent and more. \n",
    "tweetsObj1 = tw.Cursor(api.search,\n",
    "                   q = search_word1,\n",
    "                   lang = \"en\",\n",
    "                   since = date_since).items(1000)"
   ]
  },
  {
   "cell_type": "code",
   "execution_count": 40,
   "metadata": {
    "colab": {
     "base_uri": "https://localhost:8080/",
     "height": 72
    },
    "colab_type": "code",
    "id": "dLLZaDVe0QhN",
    "outputId": "6a18f083-b2e2-41ee-e43b-3ba1b9ee32ea"
   },
   "outputs": [
    {
     "name": "stdout",
     "output_type": "stream",
     "text": [
      "['WATCH: #Trump Epically Trolls @SpeakerPelosi at #USMCA Signing Ceremony\\n\\nhttps://t.co/N2mRL4SUI5', \"That worked as well as any of #trump's policies. https://t.co/EfPq6vZOi6\", \"#Trump's Foreign Policy is Cynical and Self-interested. His 'peace plan' is No Exception | Michael H Fuchs… https://t.co/XsVPyir0LY\", 'American politics be like: #Trump #ShamTrial #SenateImpeachmentTrial\\nhttps://t.co/tR9oHfT4iL', 'Yes we must make sure all racist and bigots are not re-elected in 2020 and beyond . Register to vote , then let’s p… https://t.co/hx9NBh7OgU', \"#EnemyWithin AND people don't care #Trump #KAG  #WomenForTrump https://t.co/CWjK41vSQK\", 'SAA Repel a Nusra Front Terrorist Attack Southwest of Aleppo:\\n\\nhttps://t.co/reXMCMrrbY \\n#Syria #News #Aleppo #Idlib… https://t.co/7Bt24d0CKl', 'HEY @BernieSanders  HOWS IT FEEL TO BE FUCKED OVER AGAIN BY @DNC  @HillaryClinton THEY WILL DO TO YOU WHAT THEY DID… https://t.co/pcXBnZViRa', '@DebbieStrauser @therealmirman Nah, we have #Bernie and #BernieBros on record having elected #Trump in… https://t.co/KjaE98QETY', 'Your (@SpeakerPelosi) uncontrollable hatred toward your President is palpable. Get some much needed counseling befo… https://t.co/DZBL8Wi0Wy', 'SAA Repel a Nusra Front Terrorist Attack Southwest of Aleppo:\\n\\nhttps://t.co/sBUUROc1nZ \\n#Syria #News #Aleppo #Idlib… https://t.co/jGwIAJJmxe', 'Thread by @SethAbramson: If America knew #Trump traded the continuation of his licensing deal at Trump Towers Istan… https://t.co/XrWNfW1cdv', '#Biden Slams #Trump Over #CoronaVirus Health Crisis; #ATU Endorses Biden: https://t.co/Erqq0L6ALI @ATUComm @DNC… https://t.co/vl0BF3MGQ8', 'Watching this &amp; hearing the #lies &amp; deception from #Democracy’s foes, hypocrites (#Trumpocrites), &amp; those who eleva… https://t.co/fY3EuzYbzm', 'When you stand up and denounce #trump and is anti-Latino policies I will respect you as a fellow evangelical. Until… https://t.co/Z9FoAP8IBK', 'Hollywood has been more heavily censored since 2001, films bashing US army &amp; CIA can’t go public:… https://t.co/sKz2VwbvfF', 'Here how you beat #Trump in 2020\\n\\nMake a ticket of #BernieSanders and #HillaryClinton or vise versa\\n\\nThis way  You… https://t.co/sGsEYKPpms', '@RollingStone Did legendary #AndyGill  die of #Coronavirus? Reportedly, he died in a London hospital after “a short… https://t.co/G8NB368V6u', \"I'd suggest a game of a shot of tequila or whiskey w/every LIE out of #tRump or @seanhannity during the… https://t.co/5FPnDnzZXL\", '@YehudisForNY @RyanAFournier @IlhanMN @RashidaTlaib @AOC If you hate socialism so much, start at the top.\\n\\nTell Don… https://t.co/T1NnFVpkaI']\n",
      "1000\n"
     ]
    }
   ],
   "source": [
    "# Collect a list of tweets\n",
    "tweets1 = [tweet.text for tweet in tweetsObj1]\n",
    "print(tweets1[:20])\n",
    "print(len(tweets1))"
   ]
  },
  {
   "cell_type": "code",
   "execution_count": 0,
   "metadata": {
    "colab": {},
    "colab_type": "code",
    "id": "A3k4Rgce1_hN"
   },
   "outputs": [],
   "source": [
    "#create a pandas dataframe that contains that data.\n",
    "tweet_pandas1 = pd.DataFrame(data = tweets1, columns=['text'])"
   ]
  },
  {
   "cell_type": "code",
   "execution_count": 0,
   "metadata": {
    "colab": {},
    "colab_type": "code",
    "id": "jRrI7ZJB2VnQ"
   },
   "outputs": [],
   "source": [
    "#convert pandas dataframe into a CSV file.\n",
    "tweet_pandas1.to_csv(r'Trump.csv')"
   ]
  },
  {
   "cell_type": "code",
   "execution_count": 43,
   "metadata": {
    "colab": {
     "base_uri": "https://localhost:8080/",
     "height": 72
    },
    "colab_type": "code",
    "id": "1fOoFnk8QPN3",
    "outputId": "6bcd787c-8937-4dc0-ff2f-9426538ddd1f"
   },
   "outputs": [
    {
     "name": "stdout",
     "output_type": "stream",
     "text": [
      "['Israel has played a key role in US aggression towards Iran\\n#Iran #Soleimani #Israel\\nhttps://t.co/zQtpd35wmr', '‘As the dust settles on the #US assassination of #Soleimani, Putin is poised to secure influence in the region‘ https://t.co/NCDWHkPLOR', 'Fantastic !\\nAnd this is exactly how you should think if you love living in freedom!\\nIf not?\\nWhy are you here?\\nFreed… https://t.co/K7JC8ZbjiI', 'General #Soleimani cover page News week.... https://t.co/fdLQ89ORkI', '@ejmalrai Any confirmed news about #MichaelDAndrea  #Cia #Afghanistan ? #Soleimani #Iran', '[audio] My half-hour #BrexitNight chat with @JasonBermas - mainly about #Coronavirus - killing of Michael D’Andrea… https://t.co/DTgACjJV3y', 'Paintings of #Martyrs(painted by an Iranian artist) adorn the walls leading to the Shrine of the Mother of the Resi… https://t.co/XLKbzimsPr', 'Well thanks to Trump for killing the #1 guy in the world to beat #Daesh.\\n\\n(Whereas as a killer of Iranian protester… https://t.co/VzcZhmVO0y', 'The CIA’s Prince Of Darkness Is Dead\\n\\nBy Steve Brown\\n\\n#Iran #Tahran #Iraq #Baghdad #USA #Trump #washington #US_Army… https://t.co/9UIvehkmF0', '#Iran should specify its threats against US terrorist hosting countries in the #Gulf, in #Saudi occupied #Arabia, t… https://t.co/PVhZMalWNP', \"Dear Mr. President @POTUS It is the time to take @niinisto's marshal off from the battlefield like #Soleimani. My v… https://t.co/3vleFcTwsl\", 'GOD, engage the oppressors with other oppressors, and bring us out from among them safe!\\nFirst one was #Bolton, nex… https://t.co/cgftU4oysI', '#SOLEIMANI is not just an individual, he is a school of thought.\\n#HardRevenge\\n#Iran https://t.co/r6aGCKN4g8', '@ggreenwald It is a delusion. The US just assassinated #Soleimani on a foreign land as he was delivering a message… https://t.co/EDNFlfevvP', '@BernieSanders POSSES MORE of a  #threat to the USA than  #Soleimani #Baghdad Bin Laden COMBINED!!  #Sanders could… https://t.co/dlJI1DSF6x', 'How #Soleimani’s slaying could affect #Iran-#Saudi ties https://t.co/P8fTk4AbqY \\n@jafariysaeid', \"During her visit to #Iran's Embassy in Baghdad, UN Ambassador to #Iraq was seated next to pictures of Qassem… https://t.co/ETXIARu4rz\", \"@Lrihendry @Rita_Katz @realDonaldTrump Absolutely.👍\\nAs an #Iranian I'm saying.\\n\\U0001f970😍we love president #Trump.😍\\U0001f970\\nHe has… https://t.co/pfvoyV5qzG\", 'https://t.co/ATevE7Zu60\\n#Iran: Torching Pictures of Khamenei, #Soleimani in Tehran, Other Cities https://t.co/8oKZSuEJFv…\\n#FreeIran2020', '‘As the dust settles on the US assassination of #Soleimani, #Putin is poised to secure influence in the region‘ https://t.co/NCDWHkPLOR']\n",
      "1000\n"
     ]
    }
   ],
   "source": [
    "#Tweets collection of the second search word\n",
    "search_word2 = \"#Soleimani\" + \" -filter:retweets\" # #soleimanikilling\n",
    "tweetsObj2 = tw.Cursor(api.search,\n",
    "                   q = search_word2,\n",
    "                   lang = \"en\",\n",
    "                   since = date_since).items(1000)\n",
    "tweets2 = [tweet.text for tweet in tweetsObj2]\n",
    "print(tweets2[:20])\n",
    "print(len(tweets2))\n",
    "tweet_pandas2 = pd.DataFrame(data = tweets2, columns=['text'])\n",
    "tweet_pandas2.to_csv(r'Soleimani.csv')"
   ]
  },
  {
   "cell_type": "code",
   "execution_count": 44,
   "metadata": {
    "colab": {
     "base_uri": "https://localhost:8080/",
     "height": 72
    },
    "colab_type": "code",
    "id": "2SZL0GleRPJD",
    "outputId": "26a071fd-370d-4572-f1c8-6190f75722ad"
   },
   "outputs": [
    {
     "name": "stdout",
     "output_type": "stream",
     "text": [
      "['@WillyStanford3 @LynzforCongress I live in the actual district of .@RepHartzler you #cockwomble, and I live in the… https://t.co/kOIk7GJWNb', \"In a completely unexpected turn of events, farm bankruptcies are up more than ever. Who would've thunk it?\\n#Farmers… https://t.co/HZCbFZWIY8\", 'Trade War Has Damaged U.S. Chip Industry https://t.co/W3VtRFRfoZ #TradeWar #DamagedU.s.Chip', 'Next #TradeWar ?\\n#US #Belarus #oil https://t.co/zCnxNYBmUv', '@aslnmsti In the #economicwar, after the first phase, #coronavirus entered the circuit. Thus, phase 2 started. Next… https://t.co/kzy9mo9Kpp', 'ChiComs create/release Corona Virus. Pity for Chinese People. Kudos for ENDING #CCP! Oh... and we WIN the #TradeWar.', \"#Britain has officially left the #EU. Here's a look at the potential fallout. #UK #England #Brexit #EuropeanUnion… https://t.co/G7HyqvRNnH\", 'Singapore’s Leader Says Economic Rebound Depends on Global Calm 🇸🇬 #asean #tradewar #wef20 #wef2020… https://t.co/A6PWPv5wI8', '60% of Tennessee soybean crops were going to Chinese markets. \\n\\n*WERE* — as in before Trump’s #tradewar —being the… https://t.co/j3epVw62ef', 'And one trouble follows another! \\nViruses:\\n#SwineInfluenza ➡️ #BlackDeath ➡️ #WuhanCoronvirus ➡️ #H5N1 \\nPolitical:… https://t.co/aRJBxYiqq1', 'Interested in learning more about the U.S.-#China #TradeWar? Read our new Backgrounder https://t.co/oGc0Kcy81r https://t.co/wCjQq5g5Nq', '@GOPChairwoman @realDonaldTrump The most recent GDP number also proved that the tax cuts championed by Trump and th… https://t.co/dMKHSZvoyR', 'US #Oil Exports Could Explode After Once In A Lifetime Power Shift In #China \\n\\nhttps://t.co/zhEB2pOfrH\\n\\n#energy… https://t.co/fMVn2NyqLQ', 'Disappointing !! India has lost steel to compete, accept supremecy of #China young India is tamed without fight… https://t.co/0ytrJSt20c', 'Disappointing !! India has lost steel to compete, accept supremecy of #China young India is tamed without fight… https://t.co/OimLwQLLqz', '#coronarovirus impact on the #economy will camouflage the prolonged negative effects of last year’s #tradewar created by #Trump', 'So in the early days of #globalization (circa 1800s), #China &amp; #India we’re responsible for over 60% of global… https://t.co/NATZNlIYAk', '#TradeWar What can you expect in mid 2020s? You can expect a crisis like the one happened in early 1930s, but lasts… https://t.co/uu5tC8menn', 'End All Tariffs, Trade Restrictions, Trade Wars, Sanctions, and Embargoes @JacobForLiberty #TradeWar #FreeTrade… https://t.co/eErd1oPDZj', 'Imagine a fictitious world where you have:\\n\\n- Plague #coronavirus \\n- Poverty #wealthgap\\n- Protectionism #tradewar… https://t.co/GkTx7v5vGt']\n",
      "616\n"
     ]
    }
   ],
   "source": [
    "#Tweets collection of the third search word\n",
    "search_word3 = \"#tradewar\" + \" -filter:retweets\" # #soleimanikilling\n",
    "tweetsObj3 = tw.Cursor(api.search,\n",
    "                   q = search_word3,\n",
    "                   lang = \"en\",\n",
    "                   since = date_since).items(1000)\n",
    "tweets3 = [tweet.text for tweet in tweetsObj3]\n",
    "print(tweets3[:20])\n",
    "print(len(tweets3))\n",
    "tweet_pandas3 = pd.DataFrame(data = tweets3, columns=['text'])\n",
    "tweet_pandas3.to_csv(r'tradewar.csv')"
   ]
  }
 ],
 "metadata": {
  "colab": {
   "collapsed_sections": [],
   "name": "dataset.ipynb",
   "provenance": []
  },
  "kernelspec": {
   "display_name": "Python 3",
   "language": "python",
   "name": "python3"
  },
  "language_info": {
   "codemirror_mode": {
    "name": "ipython",
    "version": 3
   },
   "file_extension": ".py",
   "mimetype": "text/x-python",
   "name": "python",
   "nbconvert_exporter": "python",
   "pygments_lexer": "ipython3",
   "version": "3.7.4"
  }
 },
 "nbformat": 4,
 "nbformat_minor": 1
}
