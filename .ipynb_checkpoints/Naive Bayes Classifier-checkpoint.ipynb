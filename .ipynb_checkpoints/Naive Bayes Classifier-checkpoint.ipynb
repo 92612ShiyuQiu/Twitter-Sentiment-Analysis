{
 "cells": [
  {
   "cell_type": "code",
   "execution_count": 13,
   "metadata": {},
   "outputs": [],
   "source": [
    "import numpy as np\n",
    "import matplotlib.pyplot as plt\n",
    "from sklearn.metrics import mean_squared_error as mse\n",
    "from sklearn.model_selection import train_test_split\n",
    "from sklearn.naive_bayes import GaussianNB\n",
    "from sklearn.metrics import roc_auc_score\n",
    "from sklearn.model_selection import cross_val_score"
   ]
  },
  {
   "cell_type": "code",
   "execution_count": 2,
   "metadata": {},
   "outputs": [],
   "source": [
    "X = np.genfromtxt('data/X.csv', delimiter=',')\n",
    "Y = np.genfromtxt('data/Y.csv', delimiter=',')"
   ]
  },
  {
   "cell_type": "code",
   "execution_count": 3,
   "metadata": {},
   "outputs": [],
   "source": [
    "X_comp, X_test, Y_comp, Y_test = train_test_split(X, Y, test_size=0.2, random_state=0)"
   ]
  },
  {
   "cell_type": "code",
   "execution_count": 4,
   "metadata": {},
   "outputs": [],
   "source": [
    "Xtr, Xva, Ytr, Yva = train_test_split(X_comp, Y_comp, test_size=0.2)"
   ]
  },
  {
   "cell_type": "code",
   "execution_count": 6,
   "metadata": {},
   "outputs": [
    {
     "name": "stdout",
     "output_type": "stream",
     "text": [
      "Naive Bayes classifier training started\n",
      "Naive Bayes classifier training finished\n"
     ]
    }
   ],
   "source": [
    "clf = GaussianNB()\n",
    "print(\"Naive Bayes classifier training started\")\n",
    "clf.fit(Xtr, Ytr)\n",
    "print(\"Naive Bayes classifier training finished\")"
   ]
  },
  {
   "cell_type": "code",
   "execution_count": 11,
   "metadata": {},
   "outputs": [
    {
     "name": "stdout",
     "output_type": "stream",
     "text": [
      "Validation ROC 0.5214158295772497\n"
     ]
    }
   ],
   "source": [
    "Yhat = clf.predict(Xva)\n",
    "clf_roc = roc_auc_score(Yva, Yhat)\n",
    "print(\"Validation ROC\", clf_roc)"
   ]
  },
  {
   "cell_type": "code",
   "execution_count": 15,
   "metadata": {},
   "outputs": [
    {
     "name": "stdout",
     "output_type": "stream",
     "text": [
      "cross validation score:  [0.58109375 0.57765625 0.5834375  0.57953125 0.5825     0.58290358\n",
      " 0.67338647 0.57977809 0.57799312 0.58377618]\n",
      "cv_Scores mean:0.5902056188553353\n"
     ]
    }
   ],
   "source": [
    "cv_scores = cross_val_score(clf, Xtr, Ytr, cv=10)\n",
    "print(\"cross validation score: \", cv_scores)\n",
    "print(\"cv_Scores mean:{}\".format(np.mean(cv_scores)))"
   ]
  }
 ],
 "metadata": {
  "kernelspec": {
   "display_name": "Python 3",
   "language": "python",
   "name": "python3"
  },
  "language_info": {
   "codemirror_mode": {
    "name": "ipython",
    "version": 3
   },
   "file_extension": ".py",
   "mimetype": "text/x-python",
   "name": "python",
   "nbconvert_exporter": "python",
   "pygments_lexer": "ipython3",
   "version": "3.7.4"
  }
 },
 "nbformat": 4,
 "nbformat_minor": 2
}
