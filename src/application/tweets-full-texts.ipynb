{
 "cells": [
  {
   "cell_type": "code",
   "execution_count": 47,
   "metadata": {},
   "outputs": [],
   "source": [
    "import tweepy as tw\n",
    "import os\n",
    "import pandas as pd\n",
    "import json\n",
    "\n",
    "#To access the Twitter API, you will need 4 things from the your Twitter App page. \n",
    "#These keys are located in your Twitter app settings in the Keys and Access Tokens tab.\n",
    "consumer_key= 'wnFgrbwPDAwJA1vCS8EZVfiP7'\n",
    "consumer_secret= 'cHUSVJZQtkhU6w05pBPROGZ1yAahHakL8pSJEr5jIhkDJvXElo'\n",
    "access_token= '1203090107957309440-jrv0gUebcBjNvqlml26PdLYG5Kibgk'\n",
    "access_token_secret= 'iD74htxVkMRnxN8I8dFwmsuGsukbOSaslfL1UqK8HHgtB'"
   ]
  },
  {
   "cell_type": "code",
   "execution_count": 48,
   "metadata": {},
   "outputs": [],
   "source": [
    "auth = tw.OAuthHandler(consumer_key, consumer_secret)\n",
    "auth.set_access_token(access_token, access_token_secret)\n",
    "api = tw.API(auth, wait_on_rate_limit=True)"
   ]
  },
  {
   "cell_type": "code",
   "execution_count": 49,
   "metadata": {},
   "outputs": [
    {
     "name": "stdout",
     "output_type": "stream",
     "text": [
      "['FIRST 1-on-1 Democratic Debate on NOW.\\n\\nWatch:\\nhttps://t.co/Ia3dpBk43R\\nhttps://t.co/fmKIXgU44g\\nhttps://t.co/iicO2BVela\\n\\n#notmeus #covid_19 #covıd19 #coronavirus #coronavirusoutbreak⚠️ #medicareforall #unbought #bernie2020 #berniebeatstrump https://t.co/vZ8WVCkf56', 'Stay safe, everyone. This, too, shall pass.\\n.\\n.\\n.\\n.\\n.\\n.\\n.\\n.\\n.\\n.\\n#staycalm #quarantine #quarantineandchill #socialdistancing #covid_19 #coronavirus #washyourhands https://t.co/zjbvT5PfwM', '@ProudResister @renbri13542 @JohnCooper4Nash @GovBillLee - with Steve Smith refusing to comply, this what we need to see here. He is putting tourists at risk, tourists who will return home to THEIR communities. #coronavirus #coronavirusnashville #NashvilleTN #nashville', 'CNN DEBATE RIGHT NOW: Joe Biden said he would put the military out on the streets now, during this national emergency. @CNN #coronavirus #DemocraticDebate https://t.co/pnuaRWXPVg', 'There are now more confirmed #coronavirus cases outside China than within the country. https://t.co/EqIht329gi']\n"
     ]
    }
   ],
   "source": [
    "search_word4 = \"#coronavirus\" + \" -filter:retweets\" # #soleimanikilling\n",
    "tweetsObj4 = tw.Cursor(api.search,\n",
    "                       tweet_mode='extended',\n",
    "                   q = search_word4,\n",
    "                   lang = \"en\",\n",
    "                   since = \"2020-01-01\").items(1000)\n",
    "tweets4 = []\n",
    "tweets4.extend(tweetsObj4)\n",
    "tweets4_json_strs = [json.dumps(tweet._json) for tweet in tweets4]\n",
    "tweets4_full_text = [json.loads(json_str)[\"full_text\"] for json_str in tweets4_json_strs]\n",
    "print(tweets4_full_text[:5])"
   ]
  },
  {
   "cell_type": "code",
   "execution_count": 50,
   "metadata": {},
   "outputs": [],
   "source": [
    "tweet_pandas4 = pd.DataFrame(data = tweets4_full_text, columns=['text'])\n",
    "tweet_pandas4.to_csv(r'../application_dataset/coronavirus1.csv')"
   ]
  }
 ],
 "metadata": {
  "kernelspec": {
   "display_name": "Python 3",
   "language": "python",
   "name": "python3"
  }
 },
 "nbformat": 4,
 "nbformat_minor": 2
}
