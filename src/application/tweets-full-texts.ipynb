{
 "cells": [
  {
   "cell_type": "code",
   "execution_count": 2,
   "metadata": {},
   "outputs": [],
   "source": [
    "import tweepy as tw\n",
    "import os\n",
    "import pandas as pd\n",
    "import json\n",
    "\n",
    "#To access the Twitter API, you will need 4 things from the your Twitter App page. \n",
    "#These keys are located in your Twitter app settings in the Keys and Access Tokens tab.\n",
    "consumer_key= 'wnFgrbwPDAwJA1vCS8EZVfiP7'\n",
    "consumer_secret= 'cHUSVJZQtkhU6w05pBPROGZ1yAahHakL8pSJEr5jIhkDJvXElo'\n",
    "access_token= '1203090107957309440-jrv0gUebcBjNvqlml26PdLYG5Kibgk'\n",
    "access_token_secret= 'iD74htxVkMRnxN8I8dFwmsuGsukbOSaslfL1UqK8HHgtB'"
   ]
  },
  {
   "cell_type": "code",
   "execution_count": 3,
   "metadata": {},
   "outputs": [],
   "source": [
    "auth = tw.OAuthHandler(consumer_key, consumer_secret)\n",
    "auth.set_access_token(access_token, access_token_secret)\n",
    "api = tw.API(auth, wait_on_rate_limit=True)"
   ]
  },
  {
   "cell_type": "code",
   "execution_count": 49,
   "metadata": {},
   "outputs": [
    {
     "name": "stdout",
     "output_type": "stream",
     "text": [
      "['FIRST 1-on-1 Democratic Debate on NOW.\\n\\nWatch:\\nhttps://t.co/Ia3dpBk43R\\nhttps://t.co/fmKIXgU44g\\nhttps://t.co/iicO2BVela\\n\\n#notmeus #covid_19 #covıd19 #coronavirus #coronavirusoutbreak⚠️ #medicareforall #unbought #bernie2020 #berniebeatstrump https://t.co/vZ8WVCkf56', 'Stay safe, everyone. This, too, shall pass.\\n.\\n.\\n.\\n.\\n.\\n.\\n.\\n.\\n.\\n.\\n#staycalm #quarantine #quarantineandchill #socialdistancing #covid_19 #coronavirus #washyourhands https://t.co/zjbvT5PfwM', '@ProudResister @renbri13542 @JohnCooper4Nash @GovBillLee - with Steve Smith refusing to comply, this what we need to see here. He is putting tourists at risk, tourists who will return home to THEIR communities. #coronavirus #coronavirusnashville #NashvilleTN #nashville', 'CNN DEBATE RIGHT NOW: Joe Biden said he would put the military out on the streets now, during this national emergency. @CNN #coronavirus #DemocraticDebate https://t.co/pnuaRWXPVg', 'There are now more confirmed #coronavirus cases outside China than within the country. https://t.co/EqIht329gi']\n"
     ]
    }
   ],
   "source": [
    "search_word4 = \"#coronavirus\" + \" -filter:retweets\" # #soleimanikilling\n",
    "tweetsObj4 = tw.Cursor(api.search,\n",
    "                       tweet_mode='extended',\n",
    "                   q = search_word4,\n",
    "                   lang = \"en\",\n",
    "                   since = \"2020-01-01\").items(1000)\n",
    "tweets4 = []\n",
    "tweets4.extend(tweetsObj4)\n",
    "tweets4_json_strs = [json.dumps(tweet._json) for tweet in tweets4]\n",
    "tweets4_full_text = [json.loads(json_str)[\"full_text\"] for json_str in tweets4_json_strs]\n",
    "print(tweets4_full_text[:5])"
   ]
  },
  {
   "cell_type": "code",
   "execution_count": 50,
   "metadata": {},
   "outputs": [],
   "source": [
    "tweet_pandas4 = pd.DataFrame(data = tweets4_full_text, columns=['text'])\n",
    "tweet_pandas4.to_csv(r'../application_dataset/coronavirus1.csv')"
   ]
  },
  {
   "cell_type": "code",
   "execution_count": 6,
   "metadata": {},
   "outputs": [
    {
     "name": "stdout",
     "output_type": "stream",
     "text": [
      "['Government is us. \\n\\nWhen you run to dismantle it, you run to dismantle all of us. \\n\\nIs anyone really surprised this is happening to our country? \\n\\n#NoTestsAvailable #itwillmagicallydisappear #DemocratHoax #cutfunding #denial #pandemic #Trump', 'The #existentialThreat is a system that hatches fascist politicians like #Trump, leaves 10s of millions of ppl w inadequate #healthcare, burns the planet 4 profit w #ClimateChange, &amp; sees almost every1 working day-2-day w nothing to show. #biden is that threat. #bernie is cure.', 'True Story.\" 😂😂😂 \\n[[Follow 4 more]] \\nTAGS: \\n#FUNNY #COMEDY #VOICEOVER #POSTONEOFYOURV #MADLIPZ #ACTING #LIPSYNC #DUBS #VOICEACTING #TRUMP #PARODY #CARRER #DUB #PRESIDENT https://t.co/h87pxiUPE8', 'Right to try can reduce the timeline #trump #fda #coronavirus $xlv https://t.co/Z0Mwg6uxX9', '@realDonaldTrump @DonaldJTrumpJr @WhiteHouse @BernieSanders @JoeBiden There you have it folks. The #potus seeking to profit from a vaccine for the #coronavirus \\n#COVIDー19 #coronapocolypse #trump #DumpTrump2020 https://t.co/23zbrVLn4Z']\n"
     ]
    }
   ],
   "source": [
    "search_word5 = \"#Trump\" + \" -filter:retweets\" # #soleimanikilling\n",
    "tweetsObj5 = tw.Cursor(api.search,\n",
    "                       tweet_mode='extended',\n",
    "                   q = search_word5,\n",
    "                   lang = \"en\",\n",
    "                   since = \"2019-01-01\").items(1000)\n",
    "tweets5 = []\n",
    "tweets5.extend(tweetsObj5)\n",
    "tweets5_json_strs = [json.dumps(tweet._json) for tweet in tweets5]\n",
    "tweets5_full_text = [json.loads(json_str)[\"full_text\"] for json_str in tweets5_json_strs]\n",
    "print(tweets5_full_text[:5])\n",
    "tweet_pandas5 = pd.DataFrame(data = tweets5_full_text, columns=['text'])\n",
    "tweet_pandas5.to_csv(r'../application_dataset/trump1.csv')"
   ]
  },
  {
   "cell_type": "code",
   "execution_count": 8,
   "metadata": {},
   "outputs": [
    {
     "name": "stdout",
     "output_type": "stream",
     "text": [
      "['What is worse - ruining @PlacidoDomingo for personal reasons or writing #lies for those who are doing it? Unscrupulous mercenaries!\\n @elpaissemanal @el_pais @elpais_cultura #PlácidoDomingo #opera #tenor #metoo #metoomovement  #feminismo https://t.co/jJRN8udZIk', 'Will these #lies ever stop?! Shameful and shameless!\\n\\n#PlacidoDomingo #PlácidoDomingo #opera #tenor #metoo #metoomovement  #feminismo #mentiras @elpaisuy @elpais_america @elpais_espana @elpais_cultura https://t.co/L0bMyz3KhP https://t.co/6PQbA6gyi6', 'Please vote 4 my book cover for cover of the month. Help others with child loss, grief, #abuse. #rape https://t.co/yfHkxsHNKj #DomesticAbuse #ChildhoodCancer Thank you kindly. #ASMSG #IARTG #metoomovement #DomesticAbuse #Romance #CR4U #ADHD #specialneeds #CoPromosRT', 'And honestly. There needs to be a clearer cut definition for snitch and rape. Cause the situations I’m hearing about people being labeled as a snitch isn’t technically snitching. Along with rape. It’s women that have cried rape and it wasn’t actually rape. #MetooMovement', 'corona virus is spreading faster than the #MeTooMovement']\n"
     ]
    }
   ],
   "source": [
    "search_word6 = \"#Metoomovement\" + \" -filter:retweets\" # #soleimanikilling\n",
    "tweetsObj6 = tw.Cursor(api.search,\n",
    "                       tweet_mode='extended',\n",
    "                   q = search_word6,\n",
    "                   lang = \"en\",\n",
    "                   since = \"2019-01-01\").items(1000)\n",
    "tweets6 = []\n",
    "tweets6.extend(tweetsObj6)\n",
    "tweets6_json_strs = [json.dumps(tweet._json) for tweet in tweets6]\n",
    "tweets6_full_text = [json.loads(json_str)[\"full_text\"] for json_str in tweets6_json_strs]\n",
    "print(tweets6_full_text[:5])\n",
    "tweet_pandas6 = pd.DataFrame(data = tweets6_full_text, columns=['text'])\n",
    "tweet_pandas6.to_csv(r'../application_dataset/Metoomovement1.csv')"
   ]
  }
 ],
 "metadata": {
  "kernelspec": {
   "display_name": "Python 3",
   "language": "python",
   "name": "python3"
  },
  "language_info": {
   "codemirror_mode": {
    "name": "ipython",
    "version": 3
   },
   "file_extension": ".py",
   "mimetype": "text/x-python",
   "name": "python",
   "nbconvert_exporter": "python",
   "pygments_lexer": "ipython3",
   "version": "3.7.4"
  }
 },
 "nbformat": 4,
 "nbformat_minor": 2
}
