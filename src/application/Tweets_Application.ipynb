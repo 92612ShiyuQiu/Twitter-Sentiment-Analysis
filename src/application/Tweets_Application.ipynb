{
 "cells": [
  {
   "cell_type": "code",
   "execution_count": null,
   "metadata": {},
   "outputs": [],
   "source": []
  },
  {
   "cell_type": "code",
   "execution_count": 2,
   "metadata": {},
   "outputs": [],
   "source": [
    "import pandas as pd\n",
    "import numpy as np\n",
    "import matplotlib.pyplot as plt\n",
    "from sklearn.model_selection import train_test_split\n",
    "from sklearn.metrics import classification_report\n",
    "from sklearn.neural_network import MLPClassifier\n",
    "from sklearn.ensemble import GradientBoostingClassifier\n",
    "from sklearn.linear_model import LogisticRegression\n",
    "from sklearn.pipeline import Pipeline\n",
    "from sklearn.preprocessing import StandardScaler\n",
    "from sklearn.ensemble import VotingClassifier"
   ]
  },
  {
   "cell_type": "code",
   "execution_count": 3,
   "metadata": {},
   "outputs": [],
   "source": [
    "import joblib\n",
    "combined = joblib.load('../new_data/best_combined.sav')"
   ]
  },
  {
   "cell_type": "markdown",
   "metadata": {},
   "source": [
    "## Trump"
   ]
  },
  {
   "cell_type": "code",
   "execution_count": 6,
   "metadata": {},
   "outputs": [
    {
     "data": {
      "text/plain": [
       "['Government is us. \\n\\nWhen you run to dismantle it, you run to dismantle all of us. \\n\\nIs anyone really surprised this is happening to our country? \\n\\n#NoTestsAvailable #itwillmagicallydisappear #DemocratHoax #cutfunding #denial #pandemic #Trump',\n",
       " 'The #existentialThreat is a system that hatches fascist politicians like #Trump, leaves 10s of millions of ppl w inadequate #healthcare, burns the planet 4 profit w #ClimateChange, &amp; sees almost every1 working day-2-day w nothing to show. #biden is that threat. #bernie is cure.',\n",
       " 'True Story.\" 😂😂😂 \\n[[Follow 4 more]] \\nTAGS: \\n#FUNNY #COMEDY #VOICEOVER #POSTONEOFYOURV #MADLIPZ #ACTING #LIPSYNC #DUBS #VOICEACTING #TRUMP #PARODY #CARRER #DUB #PRESIDENT https://t.co/h87pxiUPE8',\n",
       " 'Right to try can reduce the timeline #trump #fda #coronavirus $xlv https://t.co/Z0Mwg6uxX9',\n",
       " '@realDonaldTrump @DonaldJTrumpJr @WhiteHouse @BernieSanders @JoeBiden There you have it folks. The #potus seeking to profit from a vaccine for the #coronavirus \\n#COVIDー19 #coronapocolypse #trump #DumpTrump2020 https://t.co/23zbrVLn4Z']"
      ]
     },
     "execution_count": 6,
     "metadata": {},
     "output_type": "execute_result"
    }
   ],
   "source": [
    "trump_posts = pd.read_csv('../application_dataset/trump1.csv')\n",
    "trump_posts2 = trump_posts.drop(trump_posts.columns[0], axis=1)\n",
    "trump_posts_list = trump_posts[trump_posts2.columns[0]].values.tolist()\n",
    "trump_posts_list[:5]"
   ]
  },
  {
   "cell_type": "code",
   "execution_count": 11,
   "metadata": {},
   "outputs": [
    {
     "data": {
      "text/plain": [
       "array([[ 0.16489711,  0.15533015,  0.11092234, ..., -0.15210468,\n",
       "         0.05749126,  0.06981257],\n",
       "       [ 0.07456058,  0.10522122,  0.15535699, ..., -0.12861408,\n",
       "         0.06724104, -0.03129557],\n",
       "       [-0.07109759,  0.18972147,  0.08808867, ..., -0.0904436 ,\n",
       "        -0.06222776, -0.00197694],\n",
       "       ...,\n",
       "       [-0.01313951,  0.17847665,  0.04369592, ...,  0.03429232,\n",
       "         0.04318616,  0.0238566 ],\n",
       "       [ 0.02311338,  0.08130767,  0.22410049, ..., -0.07082635,\n",
       "         0.0681502 , -0.01249944],\n",
       "       [ 0.04915699,  0.07476464,  0.2698985 , ..., -0.07652553,\n",
       "        -0.09977458, -0.05255711]])"
      ]
     },
     "execution_count": 11,
     "metadata": {},
     "output_type": "execute_result"
    }
   ],
   "source": [
    "X_trump = np.genfromtxt('../new_data/trump_word2vec.csv', delimiter=',')[1:]\n",
    "X_trump"
   ]
  },
  {
   "cell_type": "code",
   "execution_count": 13,
   "metadata": {},
   "outputs": [
    {
     "data": {
      "text/plain": [
       "array([[0.79254253, 0.20745747],\n",
       "       [0.60298945, 0.39701055],\n",
       "       [0.09207115, 0.90792885],\n",
       "       ...,\n",
       "       [0.13195464, 0.86804536],\n",
       "       [0.87561226, 0.12438774],\n",
       "       [0.45863655, 0.54136345]])"
      ]
     },
     "execution_count": 13,
     "metadata": {},
     "output_type": "execute_result"
    }
   ],
   "source": [
    "Y_trump = combined.predict_proba(X_trump)\n",
    "Y_trump"
   ]
  },
  {
   "cell_type": "code",
   "execution_count": 14,
   "metadata": {},
   "outputs": [
    {
     "name": "stdout",
     "output_type": "stream",
     "text": [
      "38.2 % holds a positive attitude towards trump\n",
      "29.299999999999997 % holds a negative attitude towards trump\n",
      "32.5 % holds a neutral attitude towards trump\n",
      "\n",
      "\n",
      "\n",
      "\n",
      "Positive:\n",
      "True Story.\" 😂😂😂 \n",
      "[[Follow 4 more]] \n",
      "TAGS: \n",
      "#FUNNY #COMEDY #VOICEOVER #POSTONEOFYOURV #MADLIPZ #ACTING #LIPSYNC #DUBS #VOICEACTING #TRUMP #PARODY #CARRER #DUB #PRESIDENT https://t.co/h87pxiUPE8\n",
      "#Trump-kins:\n",
      "\n",
      "Proud of Racism,\n",
      "Proud of Greed &amp; Corruption,\n",
      "Proud of Immorality,\n",
      "\n",
      "Now, many are proud that #TrumpPlague w/ harm/kill others\n",
      "\n",
      "SMH🤦🏼‍♂️ = i really do not understand https://t.co/7ZnLY51zcx\n",
      "What a dirtbag #Trump #COVID19   https://t.co/PtqWEuntAE\n",
      "@f_mols All #Trump has is “tremendous” and “incredible” He is totally “incredible”\n",
      "⬇️⬇️⬇️⬇️👏👏👏👏👏😆😆😆😆🗣️🗣️🗣️🗣️🎯🎯🎯🎯🎯\n",
      "\n",
      "#TRUTH W A CAPITAL T &amp; it's not for #Trump!! #TrumpPlague #TrumpIsTheWORSTPresidentEVER #ShutItDown #COVID19 #CoronaVirusUpdates #StayHome #SocialDistancingNow #WhereAreTheTestKits #TrumpVirus #TrumpVirusCoverup #DemocraticDebate 😷🚨 https://t.co/rvJx9vbKDD\n",
      "New Yorker editorial: “#Trump presides over a social-media &amp; talk-radio ecosystem that inspires intense devotion among his following, even as it spreads misinformation. One way to survive the pandemic may be to tune him out.” #2020election #coronavirus \n",
      "\n",
      "https://t.co/C4EPSqi9Od\n",
      "Right?\n",
      "Great job Mr #Trump https://t.co/o9qkRFLnej\n",
      "#trump sees how important #NursePractitioners are! #np #fnp #nurse #COVID2019 https://t.co/9IY0xmtKCI\n",
      "God Bless America on the 1st #NationalDayOfPrayer \n",
      "May we all become United for divided we have seen only brings turmoil &amp; disrespect. God Bless Our #45 President &amp; Our 1st Lady for all they do each &amp; every day for us all. You inspire &amp; guide daily by example Thank You :)🙏#Trump https://t.co/doRcwbqRXL\n",
      "@h_schreiber #Trump : you see, this is \"#AmericaFirst .\"🇺🇸\n",
      "\n",
      "Make #American  great again.🇺🇸\n",
      "The winner of #DemDebate is no one, definitely not #Trump  https://t.co/MavlSktPBk #DemDebates #DemDebate2020 #TrumpPlague #loveInAnUberCar\n",
      "@briantylercohen #Trump : you see, this is \"#AmericaFirst .\"🇺🇸\n",
      "\n",
      "Make #American  great again.🇺🇸\n",
      "@kylegriffin1 #Trump : you see, this is \"#AmericaFirst .\"🇺🇸\n",
      "\n",
      "Make #American  great again.🇺🇸\n",
      "@KBAndersen #Trump : you see, this is \"#AmericaFirst .\"🇺🇸\n",
      "\n",
      "Make #American  great again.🇺🇸\n",
      "Perfect way to sum up the #DemDebate is one hashtagged word: #Trump! #KAG\n",
      "Was before #trump https://t.co/Z7vNfC5lgO\n",
      "@8NewsNow PRESIDENT #TRUMP!\n",
      "\n",
      "..glad to have him. 🇺🇸 https://t.co/H9KQVbY9Gg\n",
      "@WajahatAli I know you may not be convinced but #Biden can beat #Trump. And, I hope you will encourage your many followers to support him. #VoteBlueNoMatterWho\n",
      "get koo to 4m k thanks #StayTheFHome #Trump #BleibtZuhause #CureVac #Tatort #festacexplosion #SocialDistancing #AnneWill #koronowiruswpolsce #coronaviruskenya https://t.co/EDyH5SHRcB\n",
      "#DemDebate Best Ad For #Trump! #Demexit #Blexit #Walkaway https://t.co/g6kwrTd5Ni\n",
      "@cbrnetaskforce @FedUpWithGovmt @ConnerJanith @TaraForTrump @FrozenFlash99 @MichaelPaulhei2 @ec_kag @PennyleIFB @uniquelywritten @EMastrro @MaysPatriot @patti_mint @floweredog @tagruber @QmagaMike It’s always a great way to meet New and AWESOME patriots if you follow &amp; retweet conductor\n",
      "🔲◼️@cbrnetaskforce ◾️🔲\n",
      "🔺🔺🔺🔺🔺🔺🔺🔺🔺🔺🔺\n",
      "So thankful to be included with this fine group of #MAGA \n",
      "Please remember everyone to get out and get the votes for #Trump https://t.co/nwGuLCJshJ\n",
      "#Bozo. Thanks for sharing. #coronapocolypse #COVID19 #covid45 #trump @AprilDRyan @MaggieJordanACN @laloalcaraz @co_rapunzel4 https://t.co/WZ8MmnKWUj\n",
      "@dbongino 😆😆😆😆😆 AND #TRUMP JUST WON!!!!!!🎉🎉🎉🎉🎉🇺🇸🇺🇸🇺🇸🇺🇸\n",
      "\n",
      "\n",
      "\n",
      "\n",
      "Negative:\n",
      "Not willful blindness, just a bad case of #trump derangement syndrome… https://t.co/mRvuXMGRAV\n",
      "Reality.   Sad, pathetic, reality in the #Trump era. https://t.co/KhYX0cLkW9\n",
      "@MaximilianJans2 Worse than #Hitler this #Trump😐\n",
      "What's the over/under that #Trump cancels Tuesday's primaries due to #coronapocolypse to help #BernieSanders ?\n",
      "\n",
      "#coronapocolypse #StayTheFHome #COVIDー19 #HighRiskCovid19 #SocialDistancingNow #DemocraticDebate\n",
      "@CoryBooker @SpeakerPelosi  \n",
      "  @SenKamalaHarris @SenSchumer Your bill 4 paid sick leave should cover anyone out of work for COVID-19. You all excluded large corps with over 500 employees. #trump gave them tax breaks already. Re-vise your bill to cover all. #help4all #sickleave\n",
      "Really more tests, #Trump? When? #WhereAreTheTestKits in #Alabama? We are out!They are closing testing sites. The hospitals are out? Where are you @GovernorKayIvey? It’s up to you to step up! We will b overwhelmed! Our broken healthcare cannot handle your incompetence #alpolitics\n",
      "@QuintanaIM @gwhittey @BadHombreMarcoB @davidfrum @gwhittey The top priority in this election is removing #Trump and repair the damage he has done, and prevent further damage he will do if he is re-elected. Other issues are secondary.\n",
      "#Trump Sucks Fatballs in #Russia :D\n",
      "IS #TRUMP INFECTED #TrumpPlague  #TRUMPVIRUS #COVID-19 ☠️👀😱😳🇺🇸☠️👀 https://t.co/6nlZs0Tp29\n",
      "@mysillyplanet \n",
      "\n",
      "...What the Virus is HIDING From YOU......\n",
      "\n",
      "https://t.co/L6HFrs9YNH\n",
      "\n",
      "#Trump #mondaythoughts #TrumpBuddies\n",
      "The propaganda panic the media did to the people of this country is unconscionable !!😡😡\n",
      "\n",
      "Stores are empty \n",
      "They weaponized a virus to destroy economy #TRUMP https://t.co/tk0WUeCdXL\n",
      "@LadyBolt71 @DilleyShow @CHIZMAGA @realDonaldTrump #Trump was golfing again today while Americans were being infected with the #coronavirus! SAD https://t.co/ypxhHWtwae\n",
      "#Trump is a disaster and what of those who want his job.... https://t.co/ZmB2nz9KMj\n",
      "@Acosta Sad options for the Dems...\n",
      "Either way it lose, lose, against  #Trump\n"
     ]
    }
   ],
   "source": [
    "#trump\n",
    "positive = 0\n",
    "negative = 0\n",
    "neutral = 0\n",
    "\n",
    "positive_list, negative_list = [], []\n",
    "\n",
    "for i,p in enumerate(Y_trump):\n",
    "\n",
    "    if p[1] > 0.6: \n",
    "        positive += 1\n",
    "        if p[1] > 0.9:\n",
    "            positive_list.append(trump_posts_list[i])\n",
    "\n",
    "    elif p[1] < 0.4:\n",
    "        negative += 1\n",
    "        if p[1] < 0.1:\n",
    "            negative_list.append(trump_posts_list[i])\n",
    "    else:\n",
    "        neutral += 1\n",
    "    \n",
    "print((positive/len(Y_trump))*100,\"% holds a positive attitude towards trump\")\n",
    "print((negative/len(Y_trump))*100,\"% holds a negative attitude towards trump\")\n",
    "print((neutral/len(Y_trump))*100,\"% holds a neutral attitude towards trump\")\n",
    "\n",
    "print('\\n\\n\\n')\n",
    "print(\"Positive:\")\n",
    "for p in positive_list:\n",
    "    print(p)\n",
    "    \n",
    "print('\\n\\n\\n')\n",
    "print(\"Negative:\")\n",
    "for p in negative_list:\n",
    "    print(p)"
   ]
  },
  {
   "cell_type": "markdown",
   "metadata": {},
   "source": [
    "## coronavirus"
   ]
  },
  {
   "cell_type": "code",
   "execution_count": 16,
   "metadata": {},
   "outputs": [
    {
     "data": {
      "text/plain": [
       "['FIRST 1-on-1 Democratic Debate on NOW.\\n\\nWatch:\\nhttps://t.co/Ia3dpBk43R\\nhttps://t.co/fmKIXgU44g\\nhttps://t.co/iicO2BVela\\n\\n#notmeus #covid_19 #covıd19 #coronavirus #coronavirusoutbreak⚠️ #medicareforall #unbought #bernie2020 #berniebeatstrump https://t.co/vZ8WVCkf56',\n",
       " 'Stay safe, everyone. This, too, shall pass.\\n.\\n.\\n.\\n.\\n.\\n.\\n.\\n.\\n.\\n.\\n#staycalm #quarantine #quarantineandchill #socialdistancing #covid_19 #coronavirus #washyourhands https://t.co/zjbvT5PfwM',\n",
       " '@ProudResister @renbri13542 @JohnCooper4Nash @GovBillLee - with Steve Smith refusing to comply, this what we need to see here. He is putting tourists at risk, tourists who will return home to THEIR communities. #coronavirus #coronavirusnashville #NashvilleTN #nashville',\n",
       " 'CNN DEBATE RIGHT NOW: Joe Biden said he would put the military out on the streets now, during this national emergency. @CNN #coronavirus #DemocraticDebate https://t.co/pnuaRWXPVg',\n",
       " 'There are now more confirmed #coronavirus cases outside China than within the country. https://t.co/EqIht329gi']"
      ]
     },
     "execution_count": 16,
     "metadata": {},
     "output_type": "execute_result"
    }
   ],
   "source": [
    "coronavirus_posts = pd.read_csv('../application_dataset/coronavirus1.csv')\n",
    "coronavirus_posts2 = coronavirus_posts.drop(coronavirus_posts.columns[0], axis=1)\n",
    "coronavirus_posts_list = coronavirus_posts[coronavirus_posts2.columns[0]].values.tolist()\n",
    "coronavirus_posts_list[:5]"
   ]
  },
  {
   "cell_type": "code",
   "execution_count": 18,
   "metadata": {},
   "outputs": [
    {
     "data": {
      "text/plain": [
       "array([[-0.03009885,  0.28107452,  0.09581375, ...,  0.04882917,\n",
       "        -0.04373717, -0.12045257],\n",
       "       [ 0.26245296,  0.30704144,  0.39360133, ..., -0.24031438,\n",
       "        -0.07129192,  0.4948717 ],\n",
       "       [ 0.08601478,  0.20926178,  0.16468643, ..., -0.13506167,\n",
       "         0.04698234, -0.04918837],\n",
       "       ...,\n",
       "       [ 0.18450731,  0.27161598,  0.20425725, ...,  0.08223472,\n",
       "        -0.1359793 , -0.13023856],\n",
       "       [-0.00287298,  0.22350828,  0.1119098 , ..., -0.03568802,\n",
       "         0.05357343, -0.07201127],\n",
       "       [ 0.07736453,  0.21726328,  0.14261918, ..., -0.05755896,\n",
       "         0.03231025, -0.07331132]])"
      ]
     },
     "execution_count": 18,
     "metadata": {},
     "output_type": "execute_result"
    }
   ],
   "source": [
    "X_coronavirus = np.genfromtxt('../new_data/coronavirus_word2vec.csv', delimiter=',')[1:]\n",
    "X_coronavirus"
   ]
  },
  {
   "cell_type": "code",
   "execution_count": 20,
   "metadata": {},
   "outputs": [
    {
     "data": {
      "text/plain": [
       "array([[0.46295138, 0.53704862],\n",
       "       [0.43279714, 0.56720286],\n",
       "       [0.58812292, 0.41187708],\n",
       "       ...,\n",
       "       [0.63067549, 0.36932451],\n",
       "       [0.62173704, 0.37826296],\n",
       "       [0.73833717, 0.26166283]])"
      ]
     },
     "execution_count": 20,
     "metadata": {},
     "output_type": "execute_result"
    }
   ],
   "source": [
    "Y_coronavirus = combined.predict_proba(X_coronavirus)\n",
    "Y_coronavirus"
   ]
  },
  {
   "cell_type": "code",
   "execution_count": 21,
   "metadata": {},
   "outputs": [
    {
     "name": "stdout",
     "output_type": "stream",
     "text": [
      "30.3 % holds a positive attitude towards coronavirus\n",
      "41.699999999999996 % holds a negative attitude towards coronavirus\n",
      "28.000000000000004 % holds a neutral attitude towards coronavirus\n",
      "The #Celebrity Coronavirus tracker is out. Follow along here: https://t.co/7oZQcPpJyo #coronavirus\n",
      "Beautiful evening here in Jensen. Calm before the storm?#jensenbeach #coronavirus #772living @ Pineapple Jacks Bistro https://t.co/x1EotcJ435\n",
      "Grade 1 adding their own sounds to the story “Little Indian Boy”. Connecting the actions in a story to different sounds they can create. Excited for the level of creativity this gives. #pypchat #music #onlinelearning #elearning #coronavirus https://t.co/RlsyMPT55k\n",
      "Hey America..\n",
      "#coronavirus\n",
      " #COVID19\n",
      "#StayTheFHome https://t.co/1KKK28gDOx\n",
      "It is #habbening Movie\n",
      "#كورونا #coronavirus #TheStormHasArrived https://t.co/GQx64c41H1\n",
      "@MDolf @LDrogosPhD ❤️ Crafting a #coronavirus from #pipecleaners was helpful too 🦠🎨🧠 LEARN MORE 🤓👉🏾 https://t.co/hnrVcipjSc https://t.co/ObI4BRcqSN\n",
      "THANK YOU #MotherNature \n",
      " #coronavirus #COVIDー19 #economiccrisis #WorldWarThree \n",
      "This great cleansing we're about to experience is EXACTLY what we need right now. What will follow, I promise, will be the greatest era in human history\n",
      "#Blessed are we all\n",
      "The #Celebrity Coronavirus tracker is out. Follow along here: https://t.co/GZFFPT9nls #coronavirus\n",
      "#CoronaVirus watch and share\n",
      "\n",
      "https://t.co/9E4jUIb4Uo\n",
      "Got to watch a movie all cuddled up tonight with Graham &amp; Benjamin. disneyfrozen thanks to disneyplus #familymovienight #coronavirus https://t.co/mDbf803oUm\n",
      "Yes, this video begins with satire about the #coronavirus but provides some useful information.   https://t.co/pyFNOYY29S\n",
      "Connecticut #coronavirus Thank you, @GovNedLamont https://t.co/42i3rJqqt1\n",
      "Chef Andres once again does good for the community.\n",
      "\n",
      "#benevolence\n",
      "#integrity\n",
      "#coronavirus https://t.co/L7U5b81CVL\n",
      "“We’re all in this to.get.her”\n",
      "#WitchHunt #CoronaVirus \n",
      "\n",
      "Thanks @debibug and @flissdesigns for the finds 🙌🏻\n",
      "\n",
      "https://t.co/sW6RzLCd9o https://t.co/lIgeFrKAL8 https://t.co/5bB6ivEPxO\n",
      "Fucking wonderful! #coronavirus #StayTheFHome https://t.co/Be6VeuqMHU\n",
      "@greenfield64 The new normal. Get your masses in gear. @CDCGlobal @CDCemergency #coronavirus #CoronaVirusUpdates\n",
      "Shoutout to Vineyard Vines for ensuring your employees are taken care of, while looking out for the health and safety of the community you serve! 🐳💕  #coronavirus #COVID19 #VineyardVines https://t.co/25QEMqtHkK\n",
      "@WhiteHouse Incompetence at its peak.\n",
      "#TrumpPlague \n",
      "#coronavirus https://t.co/ZZCBycFcIo\n",
      "*everybody* deserves to be safe at a time like this.   #coronavirus https://t.co/oG3Wdy5DGs\n",
      "@NYGovCuomo Thank God for you!  We are self isolating here in upstate! #coronavirus\n",
      "A visual history of pandemics https://t.co/D3bwBMhl21 #coronavirus #COVID19\n",
      " @IpsAshish sir 🙏🏻💐 https://t.co/yw7nLmKD1s\n",
      "\"Intelligence is the ability to adapt to change\". Stephen Hawking. \n",
      "\n",
      "\"Be safe.\n",
      "Be kind.\n",
      "Be smart.\n",
      "Spread the word, not the disease\". \n",
      "\n",
      "#COVID19, #CoronaVirus, #CoronavirusQuarantine. #IntelligenceIsTheAbilityToAdaptToChange, #FlattenTheCurve, #Together, #StaySafeYall 🙏💓💞💞💞!. https://t.co/USIG83O3MY https://t.co/D6q2gy7tyu\n",
      "Excellent video about Trump's lies on #coronavirus https://t.co/LVfsKhKFBP\n",
      "\n",
      "\n",
      "\n",
      "\n",
      "Negative:\n",
      "#DemocraticDebate Biden is lying. He didn't say shit when #coronavirus broke out.\n",
      "Bernie doesn't answer what sanctions should be imposed on China for #coronavirus  #DemDebate\n",
      "This website and sites relying on the data are hacked/broken... DON'T PANIC!\n",
      "#coronavirus\n",
      "Broke:\n",
      "https://t.co/7zOd6b8wGJ\n",
      "https://t.co/jNLkYP3i0F\n",
      "Woke (still reliable):\n",
      "https://t.co/2SIWobWCIS https://t.co/sfhj3yY0mB\n",
      "What about the 11.4 million Australians with chronic illness according to 2019 #AIHW report? #coronavirus #auspol #AuspolSoDumb https://t.co/bsnslWdYXb\n",
      "UFRGS cancelled lectures for three weeks\n",
      "\n",
      "#coronavirus 🦠\n",
      "@realDonaldTrump People are dying and suffering all over the country! #CoronaVirus\n",
      "#DemDebate our child lost the job Friday ... due to #coronavirus ... what happens now?\n",
      ".@JoeBiden so are you going to pay for my health insurance for the rest of my life if I catch #COVID19 #coronavirus because the virus may cause permanent lung, liver, and heart damage. This is why we need #M4All #Medicare4All #M4A \n",
      "\n",
      "#DemDebate #DemocraticDebate @SenSanders\n",
      "Proof that we can fight this virus and flatten the curve. #COVIDー19 #coronavirus https://t.co/pvdwnJUfGt\n",
      "CLAIM: Gilead wants to keep their vaccine out of the hands of the poor. By Corona_Cantina \n",
      "\n",
      "#COVIDー19 #coronavirus \n",
      "https://t.co/WOTYgjgwns\n",
      "Fuck you toilet paper taking assholes. I got a rash on my ass from sandpaper 🖕🏼 #coronavirus\n",
      "In the span of 10 seconds, Joe Biden:\n",
      "\n",
      "- Mixes up the #coronavirus with the swine flu \n",
      "\n",
      "- Mistakenly calls the H1N1 virus (swine flu) the \"N1H1\"\n",
      "\n",
      "- Forgets the name of the Ebola virus, calling it \"what happened in Africa\"\n",
      "\n",
      "#DemDebate\n",
      "\n",
      " https://t.co/aU0LyTWfxk\n",
      "Coronavirus Symptoms Vs. Cold And Flu: Experts Explain The Difference\n",
      "Tbh, it's kind of hard to tell.\n",
      "- by Korin Miller, March 13, 2020\n",
      "\n",
      "https://t.co/vJbpG52EWS\n",
      "\n",
      "#CoronaVirus #CoronavirusOutbreak #CoronavirusPandemic #COVIDー19 #COVID19 #Symptoms\n",
      "@Breaking911 IT's OVER❢ #DemDebate \n",
      "\n",
      "#WuhanFlu😷#WuhanVirus\n",
      "☣#COVID19☣#SARSCoV2☣#coronavirus☣\n",
      "🌐Global pandemic Outbreak FEARS &amp; PARANOIA😱\n",
      "🚫#CancelEverything🚫#CancelEverythingNow\n",
      "#Quarantine #coronapocolypse https://t.co/WcREp1qYnJ\n",
      "@kschumi777 @GiselleAlbrech2 Closing schools and shutting down the entire economy will lead to consequences that we're not thinking about now but will have to live with months from now. The #coronavirus affects the respiratory system which the majority of people, esp. kids have no problems with.\n",
      "Trip to Buenos Aires cancelled due to #coronavirus 😑\n",
      "Schools canceled for 2 weeks. If you see this dm me because I'm lonely 😅\n",
      "#coronapocolypse #coronavirus #SocialDistance #LGBTQuarantine #LGBTQoftwitter\n",
      "In 2009 Obama was late on millions of vaccines. 2700 died of #SwineFlu \n",
      "At least there was a vaccine for swine flu and Obama still failed. #coronavirus #WuhanVirus #DemocratsAreADisgrace https://t.co/iuarcTDwLV\n",
      "It was already awkward to sneez and cough in public but now it feels criminal and I’m sure I look stupid trying to hold it all in. #coronavirus\n",
      "@cnn @dnc #DemocraticDebate sucks. Can you move on from #WuhanVirus #coronavirus ?!\n",
      ".@SenSanders is worried about the people who will lose income due to bars and restaurants closing. He cares about the people. #NotMeUs #DemocraticDebate #coronavirus #Ohio\n",
      "Bernie just called the Corona virus” far worse” than the Ebola outbreak. #DemocraticDebate #coronapocolypse #COVIDー19 #coronavirus https://t.co/rQl3n5HrLg\n",
      "Two Emergency Room Doctors Are in Critical Condition With #Coronavirus https://t.co/G50aGbwnry\n",
      "Sigh. I am not going to argue with you about H1N1 vs the #coronavirus and how you think I am over reacting because I’m social distancing myself, and I didn’t with H1N1. Some people truly do not get it. Block, block, block. Leave me alone 🙄😡 I hate Facebook sometimes. https://t.co/COBRzJFJkg\n",
      "@realDonaldTrump News flash, Dumbass -- the #coronavirus can't read and won't be distracted by your desperation to change the subject from your abominable handling of this crisis.\n",
      "@nypost #China shuts all 16 temporary #coronavirus hospitals in Wuhan. In a dramatic sign that the coronavirus crisis is improving in China, the last two of 16 temporary hospitals in the epicenter city of Wuhan have been shut down, according to a report. https://t.co/RflRCpX9sQ https://t.co/OgJXaDmfHL\n",
      "The irony of schools canceling, yet these same parents will be dumping the kids off a childcare in mass. #Coronavirus have turned people stupid! #SanAntonio #SATX https://t.co/wOuFyzr4mH\n",
      "@RepAdamSchiff In 2009 Obama was late on millions of vaccines. 2700 died of #SwineFlu \n",
      "At least there was a vaccine for swine flu and Obama still failed. #coronavirus #WuhanVirus #DemocratsAreADisgrace\n",
      "Are ear infections a symptom? Or is that because I’ve been swimming in a public pool last week? #coronavirus #COVID19Aus\n",
      "#Coronavirus\n",
      "\n",
      "Damn it Italy, wash your damn hands!\n",
      "\"All hospitals in #Wuhan overwhelmed. No beds, no doctors. patients...rejected \" We knew #CCP was lying about #coronavirus #infection and death numbers. And it seems logical that the situation is still going on, relapses and cross infections as #quarantine measures are relaxed. https://t.co/tpXGOC3zj9\n",
      "Mass toilet paper outage due to #coronavirus . But not one reported case of anyone SHITTING TO DEATH! #comeonman\n",
      "#Fed cuts rates to buffer #economy from #coronavirus... https://t.co/FE17RtPIox\n",
      "#restaurants don't need to close due to #coronavirus. They need to adapt. Most viruses die @ 150° We could #takeandbake our way out of the food scarcity seen @ #grocerystores\n",
      "Life and TV without sports is like unseasoned meat...bland af! #coronavirus\n",
      "This debate sucks, fucking CoronaVirus ruined that too.. #DemDebate #coronavirus\n",
      "The liberals are far worse than the #coronavirus - they need to be all Quarantined- https://t.co/mKpz16AMrC\n",
      "I find this a little strange. If they are dying they should be on a ventilator and will be in medically induced coma. . https://t.co/koDq6VYI4X #coronavirus #covid19\n",
      "It is a serious issue that the only part of our government that is able to respond to this crisis is our military. That's a broken system. That shows that we spend too much on our military. #coronavirus #CNNDebate #DemocraticDebate\n",
      "I hated doing it, but I just canceled my @MLBTV account. With the season's start being uncertain, I didn't want the annual payment to go through. Now I can spend that extra money wisely, by stocking up on toilet paper.\n",
      "#COVID19 #coronavirus #MLBTV\n",
      "I’m angry with @Chase for not insuring my cancelled plans to travel to CO for spring break due to COVID19. The governor has closed all mtns &amp; resorts. My family is unable to go and you refuse to help. I will be cancelling all of my service. Do not get this card. #coronavirus\n",
      "Right now even if I sneeze, I begin to suspect myself 😂😂 #CoronaVirus\n",
      "#Coronavirus patient under 24/7 armed guard after refusing to self-isolate https://t.co/6hRqyjP2yg WHERE IS THE #aclu when you need them #AIDS #SARSCoV2 #MERS #SwineFlu #Ebola #media causing #panicshopping @zesty_politics\n",
      "Just cancel all the events. #coronapocolypse \n",
      "#coronavirus\n",
      "https://t.co/fwvY0wmPO1\n",
      "In the span of 10 seconds, Joe Biden:\n",
      "\n",
      "- Mixes up the #coronavirus with the swine flu \n",
      "\n",
      "- Mistakenly calls the H1N1 virus (swine flu) the \"N1H1\"\n",
      "\n",
      "- Forgets the name of the Ebola virus, calling it \"what happened in Africa\"\n",
      "\n",
      "#DemDebate https://t.co/O5cKNBPZSH\n",
      "@JoeBiden is going to fight #coronavirus bare knuckles.\n",
      "Quarantine bae where you at??????#coronavirus\n",
      "Canada: We have no plan and look stupid on camera. #Wuhan #Chinese #coronavirus #SARS \n",
      "https://t.co/mRCsjTYZT2\n",
      "Coronona Virus status: 6  AM March 16\n",
      "\n",
      "Infected: 169,362\n",
      "Death:          6,501         (3.8%)\n",
      "Recovered:  76,618        (45.2%)\n",
      "Active cases.            86,243       (51.0%) \n",
      "\n",
      "Death in China:      3,199    (49.2%)\n",
      "Death out of China:    3,302      (50.8%)\n",
      "\n",
      "#coronavirus\n",
      "Where are the homeless during this self quarantine isolation period?!\n",
      "\n",
      " #coronavirus #COVIDー19\n",
      "What the fuck can the military do about the #coronavirus? #DemDebate\n",
      "Damn! #MD #coronavirus #PGCounty https://t.co/uEc84wjjwx\n",
      "i want to talk i think corona virus is hiv and what if we try Chemical cancer treatment i think it something attack Immunity like the cancer and aids We havetocheck the virus cell and know from where it born and what the reason of built#CoronaVirusUpdates #COVIDー19  #CoronaVirus\n"
     ]
    }
   ],
   "source": [
    "positive = 0\n",
    "negative = 0\n",
    "neutral = 0\n",
    "\n",
    "positive_list = []\n",
    "negative_list = []\n",
    "\n",
    "for i,p in enumerate(Y_coronavirus):\n",
    "\n",
    "    if p[1] > 0.6: \n",
    "        positive += 1\n",
    "        if p[1] > 0.9:\n",
    "            positive_list.append(coronavirus_posts_list[i])\n",
    "\n",
    "    elif p[1] < 0.4:\n",
    "        negative += 1\n",
    "        if p[1] < 0.1:\n",
    "            negative_list.append(coronavirus_posts_list[i])\n",
    "    else:\n",
    "        neutral += 1\n",
    "    \n",
    "print((positive/len(Y_coronavirus))*100,\"% holds a positive attitude towards coronavirus\")\n",
    "print((negative/len(Y_coronavirus))*100,\"% holds a negative attitude towards coronavirus\")\n",
    "print((neutral/len(Y_coronavirus))*100,\"% holds a neutral attitude towards coronavirus\")\n",
    "\n",
    "for p in positive_list:\n",
    "    print(p)\n",
    "    \n",
    "print('\\n\\n\\n')\n",
    "print(\"Negative:\")\n",
    "for p in negative_list:\n",
    "    print(p)"
   ]
  },
  {
   "cell_type": "markdown",
   "metadata": {},
   "source": [
    "## MeToo"
   ]
  },
  {
   "cell_type": "code",
   "execution_count": 23,
   "metadata": {},
   "outputs": [
    {
     "data": {
      "text/plain": [
       "['What is worse - ruining @PlacidoDomingo for personal reasons or writing #lies for those who are doing it? Unscrupulous mercenaries!\\n @elpaissemanal @el_pais @elpais_cultura #PlácidoDomingo #opera #tenor #metoo #metoomovement  #feminismo https://t.co/jJRN8udZIk',\n",
       " 'Will these #lies ever stop?! Shameful and shameless!\\n\\n#PlacidoDomingo #PlácidoDomingo #opera #tenor #metoo #metoomovement  #feminismo #mentiras @elpaisuy @elpais_america @elpais_espana @elpais_cultura https://t.co/L0bMyz3KhP https://t.co/6PQbA6gyi6',\n",
       " 'Please vote 4 my book cover for cover of the month. Help others with child loss, grief, #abuse. #rape https://t.co/yfHkxsHNKj #DomesticAbuse #ChildhoodCancer Thank you kindly. #ASMSG #IARTG #metoomovement #DomesticAbuse #Romance #CR4U #ADHD #specialneeds #CoPromosRT',\n",
       " 'And honestly. There needs to be a clearer cut definition for snitch and rape. Cause the situations I’m hearing about people being labeled as a snitch isn’t technically snitching. Along with rape. It’s women that have cried rape and it wasn’t actually rape. #MetooMovement',\n",
       " 'corona virus is spreading faster than the #MeTooMovement']"
      ]
     },
     "execution_count": 23,
     "metadata": {},
     "output_type": "execute_result"
    }
   ],
   "source": [
    "metoo_posts = pd.read_csv('../application_dataset/Metoomovement1.csv')\n",
    "metoo_posts2 = metoo_posts.drop(metoo_posts.columns[0], axis=1)\n",
    "metoo_posts_list = metoo_posts[metoo_posts2.columns[0]].values.tolist()\n",
    "metoo_posts_list[:5]"
   ]
  },
  {
   "cell_type": "code",
   "execution_count": 25,
   "metadata": {},
   "outputs": [
    {
     "data": {
      "text/plain": [
       "array([[-0.0185164 ,  0.2499859 ,  0.12702811, ..., -0.10466733,\n",
       "         0.03403067,  0.00356049],\n",
       "       [-0.03891921,  0.2620171 ,  0.08575037, ..., -0.06342452,\n",
       "        -0.01427911, -0.04138988],\n",
       "       [ 0.002216  ,  0.23587711,  0.02129001, ..., -0.08602763,\n",
       "         0.02059182,  0.1667108 ],\n",
       "       ...,\n",
       "       [ 0.14207678,  0.0786264 ,  0.21403322, ..., -0.03408537,\n",
       "        -0.06486704,  0.0035299 ],\n",
       "       [ 0.01111663,  0.22482179,  0.15812479, ..., -0.06723486,\n",
       "         0.03835816,  0.06576356],\n",
       "       [ 0.14251898,  0.35406438,  0.19423215, ..., -0.22997963,\n",
       "         0.01901244,  0.0129883 ]])"
      ]
     },
     "execution_count": 25,
     "metadata": {},
     "output_type": "execute_result"
    }
   ],
   "source": [
    "X_metoo = np.genfromtxt('../new_data/Metoomovement_word2vec.csv', delimiter=',')[1:]\n",
    "X_metoo"
   ]
  },
  {
   "cell_type": "code",
   "execution_count": 26,
   "metadata": {},
   "outputs": [
    {
     "data": {
      "text/plain": [
       "array([[0.80868162, 0.19131838],\n",
       "       [0.56242412, 0.43757588],\n",
       "       [0.29273813, 0.70726187],\n",
       "       [0.61941142, 0.38058858],\n",
       "       [0.42760943, 0.57239057]])"
      ]
     },
     "execution_count": 26,
     "metadata": {},
     "output_type": "execute_result"
    }
   ],
   "source": [
    "Y_metoo = combined.predict_proba(X_metoo)\n",
    "Y_metoo[:5]"
   ]
  },
  {
   "cell_type": "code",
   "execution_count": 27,
   "metadata": {},
   "outputs": [
    {
     "name": "stdout",
     "output_type": "stream",
     "text": [
      "41.52542372881356 % holds a positive attitude towards metoo\n",
      "27.75423728813559 % holds a negative attitude towards metoo\n",
      "30.720338983050848 % holds a neutral attitude towards metoo\n",
      "\n",
      "\n",
      "\n",
      "\n",
      "Positive:\n",
      "Happy 87th Birthday Ruth Bader Ginsburg\n",
      "\n",
      "...The women who inspired Ruth and the women she’s inspired.\n",
      "\n",
      " #supremecourt #law #birthdays #RBG #inspiration #metoomovement #women #lawyers #justiceforall #socialimpact https://t.co/tG45Ydlr5P\n",
      "@thatsSOlaura_ Women proposing is a Trend now it’s the new #Metoomovement 😅😂\n",
      "“The #Metoomovement is not a witch hunt. It is a reckoning.” - Actress #JessicaBarth https://t.co/OOXO9zPsHN @Variety https://t.co/mMvOGzEbFx\n",
      "#Metoomovement This is its success. \n",
      "\n",
      "Way to go for keeping workplaces safe. \n",
      "\n",
      "https://t.co/vu520Dmu1v\n",
      "Agreed #TimesUp #Metoomovement #EnoughIsEnough https://t.co/lXzAkG77Lx\n",
      "Sicko!  @Erin_MA_Shean thank you for sharing your touching story. I support you! #Metoomovement #strength https://t.co/bfcpDv2Jp9\n",
      "@LaurelSchuett If there is such a thing as Divine Justice, he will. #MeTooMovement\n",
      "Thank god for justice #Metoomovement https://t.co/uU8dcSzge5\n",
      "@jaketapper Justice. Finally. Yes! #Metoomovement #HarveyWeinsteinGuilty\n",
      "Finally,a judgement long overdue to women that are preyed upon. Salute to the women that came forward and spoke up.  A special mention to @RonanFarrow &amp; all the other journalists that helped to stand up against this grave injustice.\n",
      "#catchandkillpodcast \n",
      "#Metoomovement https://t.co/P15rAQjQ0X\n",
      "This is a celebration of Justice for the women and men of the #Metoomovement\n",
      "Big accomplishment in #Metoomovement https://t.co/0mYIpz4wbl\n",
      "Pete Edochie shares his opinion on the westernisation of Nigerian culture, sexual harassment and the #metoomovement 1/3\n",
      "\n",
      "📽️: Bella Naija Online https://t.co/BIxu4b7Dkh\n",
      "@Tombx7M @Jamierodr14 Where all the #Metoomovement  women helping over women.\n",
      "The morning show is epic btw! Jennifer Aniston and Reese Witherspoon do an awesome job! Also @gugumbatharaw was dope in episode 8 #Metoomovement #TheMorningShow https://t.co/YJlVCviWdD\n",
      "After long, watched a good movie - great performance, no nonsense and absolutely relevant #GuiltyOnNetflix #Metoomovement #metooindia\n",
      "Every day, in every way, I am getting better and better #Lawsofsuggestion #PositivePsychology #PositiveVibesOnly #PositiveImpact #positivity #MotivationalMonday #motivational #Mentalhealth #MensHealth #MeToo #Metoomovement #Mindfulness #Mindset #mindsetiseverything  #mind https://t.co/r14jX2qI0t\n",
      "good but not great and certainly not about the invisible man. But Elizabeth Moss is wonderful. This film is for #Metoomovement and does it justice. https://t.co/CErzkl6fHn\n",
      "Welcome to the world of intimacy coordinators and desexualized language to interpret the stage directions.\n",
      "\n",
      "https://t.co/cdFLKvLbKd #Metoomovement #IWD2020\n",
      "Here's a power packed dose of poetic inspiration on International Women's Day. I speak my truth, share OUR story and inspire change! Full poem on Facebook. \n",
      "#IWD2020 #InternationalWomensDay #WomensHistoryMonth #WomenTellAll #EveryWoman\n",
      "#InternationalWomenDay2020 #Metoomovement https://t.co/4kVYrtdSKJ\n",
      "#InternationalWomensDay for me is about all these girls that have been let down! Keep fighting, your courage is inspiring. #GroomingGangs #Metoomovement https://t.co/pJegdgjpaI\n",
      "It #iwd2020, which calls for one thing only; a blogpost on something women um and ah about each day... going braless! For my thoughts on going braless, and some style tips along the way, check out my blog post, here 👉🏻 https://t.co/9Vx1uSPelf #metoo #Metoomovement #goingbraless\n",
      "Preach Brother Preach #Metoomovement #MeToo #WomensDay2020 https://t.co/NvudZmz4Jf\n",
      "@joozzy13 @philwithy69 @Dredekia Me to. The new #metoomovement\n",
      "@ida_skibenes @ShannonFreshour Shout out to all  #Metoomovement\n",
      "@girlpwreffect #girlpowereffect celebrates all women and girl achievements. #InternationalWomensDay2020 #becauseofherwecan #ShePersisted #walkinhershoes #MMIW #Metoomovement #TimesUp #MeToo #WomensMarch #girlpower #strongwomen #womenempowerment #WomenInSTEM #WomensDay2020 👊🏽👊🏽💪🏼 https://t.co/xoKqn5HRFk\n",
      "#internationalwomensday \n",
      "\n",
      "Not Just a Girl - COMING SOON\n",
      "\n",
      "#writingcommunity #comingsoon #whatisit #amwriting #skyeroxy #adventure #notjustagirl #metoo #metoomovement #powerfulwomen #clothing #women #girls #youngadult https://t.co/ITyVYwoB1v\n",
      "Today we put a spotlight on the phenomenal women of the #Kalahari Desert in #Botswana — in celebration of women and girls all over the world.\n",
      "\n",
      "#InternationalWomensDay #IWD2020 #WomensDay #SeeHer #metoomovement #EachforEqual #designforsocialimpact #aproductofbotswana 🇧🇼 #pushabw https://t.co/MF5calHCHV\n",
      "@GeoffLusk @ErrameyRamey @vardmin @PhilipWegmann The flag has joined the #Metoomovement\n",
      "Celebrating #InternationalWomensDay\n",
      "#EachForEqual #iamgenerationequality #iwd #iwd2020♀️  #iwd2020\n",
      "#OpeyemiAdeneyeAboderin \n",
      "#WomenImpactingOurWorld \n",
      "#womenempoweringwomen #WomensDay\n",
      "#women #woman #girlchild #girls #feminism #metoomovement #MeToo #metooindia https://t.co/NQF8DkGF99\n",
      "Celebrating #InternationalWomensDay\n",
      "#EachForEqual #iamgenerationequality #iwd #iwd2020♀️  #iwd2020\n",
      "#OpeyemiAdeneyeAboderin \n",
      "#WomenImpactingOurWorld \n",
      "#womenempoweringwomen #WomensDay\n",
      "#women #woman #girlchild #girls #feminism #metoomovement #MeToo #metooindia https://t.co/Kn9RzVvjr4\n",
      "\n",
      "\n",
      "\n",
      "\n",
      "Negative:\n",
      "The people who claim they did nothing wrong are the same people trying to threaten their victims into silence. \n",
      "\n",
      "Let that sink in... \n",
      "#MeToo #Metoomovement #dcdouglas #whatdoyouhavetohide\n",
      "#HarveyWeinstein back in hospital for chest pains, immediately following 23-year prison sentence \n",
      "\n",
      "@HarveyWeinstein #MeToo #Metoomovement https://t.co/RDLuWV11jB\n",
      "@CNN He should be transferred to Uglyvue hospital!\n",
      "#MeToo\n",
      "#Metoomovement \n",
      "#Easyescape\n",
      "Weinstein handed 23-year jail term, taken to hospital for chest pains #Twitter #MeTooMovement #HarveyWeinstein #SexualAssault #SexualMisconduct\n",
      "https://t.co/OoIkSdgg9x\n",
      "This is another type of #Metoomovement We're all sick of T https://t.co/zHzI4lNG72\n",
      "#Metoomovement #MeToo #JoeBiden #BidenLosesToTrump \n",
      "\n",
      "EIGHT allegations over a year ago... @JoeBiden is NOT electable!! \n",
      "\n",
      "https://t.co/VGzq6NZY0i\n",
      "I hope #HarveyWeinstein dies in prison. Fuck you!!!! #Metoomovement #TimesUp\n",
      "yahoo #harveyweinstein #metoomovement #prison #yahoo #yahoonews https://t.co/nKVEShqtA1\n",
      "I’m guessing these LONG  GUYLAND lugnuts never heard of the #MeTooMovement? Sorry you had to endure that @_TheMadStalker  These guys are the worst!!😫 #BelowDeckSailing\n",
      "@TMZ just doesn't get it. #MeToo #Metoomovement https://t.co/4UzlMJJrDg\n",
      "#HarveyWeinstein #rapist #rapistclinton #Metoomovement #metoo aww too bad he didn’t die https://t.co/0BrT6SGDzE\n",
      "@LBaptisia @charliekirk11 What happened to #Metoomovement\n",
      "#Metoomovement  ow about they offer up prayers to the victims. I think not. GRRR https://t.co/KCTtF5aCmT\n"
     ]
    }
   ],
   "source": [
    "positive = 0\n",
    "negative = 0\n",
    "neutral = 0\n",
    "\n",
    "positive_list = []\n",
    "negative_list = []\n",
    "\n",
    "for i,p in enumerate(Y_metoo):\n",
    "\n",
    "    if p[1] > 0.6: \n",
    "        positive += 1\n",
    "        if p[1] > 0.9:\n",
    "            positive_list.append(metoo_posts_list[i])\n",
    "\n",
    "    elif p[1] < 0.4:\n",
    "        negative += 1\n",
    "        if p[1] < 0.1:\n",
    "            negative_list.append(metoo_posts_list[i])\n",
    "    else:\n",
    "        neutral += 1\n",
    "    \n",
    "print((positive/len(Y_metoo))*100,\"% holds a positive attitude towards metoo\")\n",
    "print((negative/len(Y_metoo))*100,\"% holds a negative attitude towards metoo\")\n",
    "print((neutral/len(Y_metoo))*100,\"% holds a neutral attitude towards metoo\")\n",
    "\n",
    "print('\\n\\n\\n')\n",
    "print(\"Positive:\")\n",
    "for p in positive_list:\n",
    "    print(p)\n",
    "    \n",
    "print('\\n\\n\\n')\n",
    "print(\"Negative:\")\n",
    "for p in negative_list:\n",
    "    print(p)"
   ]
  },
  {
   "cell_type": "code",
   "execution_count": null,
   "metadata": {},
   "outputs": [],
   "source": []
  }
 ],
 "metadata": {
  "kernelspec": {
   "display_name": "Python 3",
   "language": "python",
   "name": "python3"
  },
  "language_info": {
   "codemirror_mode": {
    "name": "ipython",
    "version": 3
   },
   "file_extension": ".py",
   "mimetype": "text/x-python",
   "name": "python",
   "nbconvert_exporter": "python",
   "pygments_lexer": "ipython3",
   "version": "3.7.4"
  }
 },
 "nbformat": 4,
 "nbformat_minor": 2
}
