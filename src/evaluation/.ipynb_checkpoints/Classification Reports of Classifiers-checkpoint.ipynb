{
 "cells": [
  {
   "cell_type": "code",
   "execution_count": 1,
   "metadata": {},
   "outputs": [],
   "source": [
    "import pandas as pd\n",
    "import numpy as np\n",
    "import matplotlib.pyplot as plt\n",
    "from sklearn.metrics import classification_report\n",
    "\n",
    "import warnings\n",
    "warnings.filterwarnings('ignore')"
   ]
  },
  {
   "cell_type": "code",
   "execution_count": 2,
   "metadata": {},
   "outputs": [],
   "source": [
    "from sklearn.metrics import roc_auc_score\n",
    "from sklearn.model_selection import cross_val_score\n",
    "from sklearn.model_selection import train_test_split\n",
    "from sklearn.metrics import classification_report\n",
    "from sklearn.neural_network import MLPClassifier\n",
    "from sklearn.ensemble import GradientBoostingClassifier\n",
    "from sklearn.linear_model import LogisticRegression\n",
    "import time"
   ]
  },
  {
   "cell_type": "code",
   "execution_count": 5,
   "metadata": {},
   "outputs": [],
   "source": [
    "X = np.genfromtxt('../data/X.csv', delimiter=',')\n",
    "Y = np.genfromtxt('../data/Y.csv', delimiter=',')\n",
    "\n",
    "X_comp, X_test, Y_comp, Y_test = train_test_split(X, Y, test_size=0.2, random_state=0)\n",
    "Xtr, Xva, Ytr, Yva = train_test_split(X_comp, Y_comp, test_size=0.2)"
   ]
  },
  {
   "cell_type": "code",
   "execution_count": 6,
   "metadata": {},
   "outputs": [],
   "source": [
    "# grid search results (hyper-values): \n",
    "\n",
    "lr = LogisticRegression(C=2, penalty='l1')\n",
    "\n",
    "mlp = MLPClassifier(max_iter=1000, hidden_layer_sizes=(100,), activation='identity', \n",
    "                            solver='sgd', alpha=0.01, learning_rate='adaptive')\n",
    "\n",
    "gb = GradientBoostingClassifier(max_depth=3,loss=\"deviance\",learning_rate=0.160222,\n",
    "                                 n_estimators=1000,min_samples_split=20,min_samples_leaf=9,\n",
    "                                 max_features=\"sqrt\", subsample=0.637095)"
   ]
  },
  {
   "cell_type": "code",
   "execution_count": 7,
   "metadata": {},
   "outputs": [
    {
     "name": "stdout",
     "output_type": "stream",
     "text": [
      "lr training started\n",
      "lr training finished\n",
      "mlp training started\n",
      "mlp training finished\n",
      "gb training started\n",
      "gb training finished\n"
     ]
    }
   ],
   "source": [
    "print(\"lr training started\")\n",
    "lr.fit(Xtr,Ytr)\n",
    "print(\"lr training finished\")\n",
    "\n",
    "print(\"mlp training started\")\n",
    "mlp.fit(Xtr,Ytr)\n",
    "print(\"mlp training finished\")\n",
    "\n",
    "print(\"gb training started\")\n",
    "gb.fit(Xtr,Ytr)\n",
    "print(\"gb training finished\")"
   ]
  },
  {
   "cell_type": "markdown",
   "metadata": {},
   "source": [
    "## Classification Report of Different Classifiers"
   ]
  },
  {
   "cell_type": "code",
   "execution_count": 8,
   "metadata": {},
   "outputs": [],
   "source": [
    "target_names = ['negative', 'positive']"
   ]
  },
  {
   "cell_type": "code",
   "execution_count": 12,
   "metadata": {},
   "outputs": [
    {
     "name": "stdout",
     "output_type": "stream",
     "text": [
      "Logistic Regression Classifier Report\n",
      "              precision    recall  f1-score   support\n",
      "\n",
      "    negative       0.69      0.51      0.59      8636\n",
      "    positive       0.69      0.83      0.75     11362\n",
      "\n",
      "    accuracy                           0.69     19998\n",
      "   macro avg       0.69      0.67      0.67     19998\n",
      "weighted avg       0.69      0.69      0.68     19998\n",
      "\n"
     ]
    }
   ],
   "source": [
    "lr_pred = lr.predict(X_test)\n",
    "\n",
    "print(\"Logistic Regression Classifier Report\")\n",
    "print(classification_report(Y_test, lr_pred, target_names=target_names))"
   ]
  },
  {
   "cell_type": "code",
   "execution_count": 13,
   "metadata": {},
   "outputs": [
    {
     "name": "stdout",
     "output_type": "stream",
     "text": [
      "Neural Network Classifier Report\n",
      "              precision    recall  f1-score   support\n",
      "\n",
      "    negative       0.69      0.51      0.59      8636\n",
      "    positive       0.69      0.83      0.75     11362\n",
      "\n",
      "    accuracy                           0.69     19998\n",
      "   macro avg       0.69      0.67      0.67     19998\n",
      "weighted avg       0.69      0.69      0.68     19998\n",
      "\n"
     ]
    }
   ],
   "source": [
    "mlp_pred = mlp.predict(X_test)\n",
    "\n",
    "print(\"Neural Network Classifier Report\")\n",
    "print(classification_report(Y_test, mlp_pred, target_names=target_names))"
   ]
  },
  {
   "cell_type": "code",
   "execution_count": 14,
   "metadata": {},
   "outputs": [
    {
     "name": "stdout",
     "output_type": "stream",
     "text": [
      "Gradient Boosting Classifier Report\n",
      "              precision    recall  f1-score   support\n",
      "\n",
      "    negative       0.69      0.52      0.59      8636\n",
      "    positive       0.69      0.82      0.75     11362\n",
      "\n",
      "    accuracy                           0.69     19998\n",
      "   macro avg       0.69      0.67      0.67     19998\n",
      "weighted avg       0.69      0.69      0.68     19998\n",
      "\n"
     ]
    }
   ],
   "source": [
    "gb_pred = gb.predict(X_test)\n",
    "\n",
    "print(\"Gradient Boosting Classifier Report\")\n",
    "print(classification_report(Y_test, gb_pred, target_names=target_names))"
   ]
  },
  {
   "cell_type": "code",
   "execution_count": null,
   "metadata": {},
   "outputs": [],
   "source": []
  },
  {
   "cell_type": "markdown",
   "metadata": {},
   "source": [
    "## Check the similarity of the results predicted by diffierent classifiers"
   ]
  },
  {
   "cell_type": "code",
   "execution_count": 15,
   "metadata": {},
   "outputs": [],
   "source": [
    "lr_pred_1 = lr_pred[lr_pred==1]\n",
    "lr_pred_0 = lr_pred[lr_pred==0]\n",
    "\n",
    "mlp_pred_1 = mlp_pred[mlp_pred==1]\n",
    "mlp_pred_0 = mlp_pred[mlp_pred==0]\n",
    "\n",
    "gb_pred_1 = gb_pred[gb_pred==1]\n",
    "gb_pred_0 = gb_pred[gb_pred==0]"
   ]
  },
  {
   "cell_type": "code",
   "execution_count": 20,
   "metadata": {},
   "outputs": [
    {
     "name": "stdout",
     "output_type": "stream",
     "text": [
      "Similarity: \n",
      "\tlr  vs. mlp:\t0.9887\n",
      "\tlr  vs. gb: \t0.9653\n",
      "\tmlp vs. gb: \t0.9617\n"
     ]
    }
   ],
   "source": [
    "# lr vs. mlp\n",
    "print(\"Similarity: \")\n",
    "\n",
    "print(\"\\tlr  vs. mlp:\\t%.4f\" % ((lr_pred[lr_pred==mlp_pred].shape[0])/(lr_pred.shape[0])))\n",
    "print(\"\\tlr  vs. gb: \\t%.4f\" % ((lr_pred[lr_pred==gb_pred].shape[0])/(lr_pred.shape[0])))\n",
    "print(\"\\tmlp vs. gb: \\t%.4f\" % ((mlp_pred[mlp_pred==gb_pred].shape[0])/(mlp_pred.shape[0])))"
   ]
  },
  {
   "cell_type": "code",
   "execution_count": 24,
   "metadata": {},
   "outputs": [
    {
     "data": {
      "text/plain": [
       "(13603,)"
      ]
     },
     "execution_count": 24,
     "metadata": {},
     "output_type": "execute_result"
    }
   ],
   "source": [
    "lr_pred_1.shape"
   ]
  },
  {
   "cell_type": "code",
   "execution_count": 25,
   "metadata": {},
   "outputs": [
    {
     "data": {
      "text/plain": [
       "(13582,)"
      ]
     },
     "execution_count": 25,
     "metadata": {},
     "output_type": "execute_result"
    }
   ],
   "source": [
    "mlp_pred_1.shape"
   ]
  },
  {
   "cell_type": "code",
   "execution_count": 26,
   "metadata": {},
   "outputs": [
    {
     "data": {
      "text/plain": [
       "(13459,)"
      ]
     },
     "execution_count": 26,
     "metadata": {},
     "output_type": "execute_result"
    }
   ],
   "source": [
    "gb_pred_1.shape"
   ]
  },
  {
   "cell_type": "code",
   "execution_count": null,
   "metadata": {},
   "outputs": [],
   "source": []
  },
  {
   "cell_type": "markdown",
   "metadata": {},
   "source": [
    "## classifiers with default hyper parameters"
   ]
  },
  {
   "cell_type": "code",
   "execution_count": 27,
   "metadata": {},
   "outputs": [
    {
     "name": "stdout",
     "output_type": "stream",
     "text": [
      "              precision    recall  f1-score   support\n",
      "\n",
      "    negative       0.76      0.36      0.49      8636\n",
      "    positive       0.65      0.92      0.76     11362\n",
      "\n",
      "    accuracy                           0.67     19998\n",
      "   macro avg       0.71      0.64      0.62     19998\n",
      "weighted avg       0.70      0.67      0.64     19998\n",
      "\n"
     ]
    }
   ],
   "source": [
    "gb_default = GradientBoostingClassifier()\n",
    "\n",
    "gb_default.fit(Xtr,Ytr)\n",
    "\n",
    "gb_default_pred = gb_default.predict(X_test)\n",
    "\n",
    "print(classification_report(Y_test, gb_default_pred, target_names=target_names))"
   ]
  },
  {
   "cell_type": "code",
   "execution_count": 28,
   "metadata": {},
   "outputs": [
    {
     "name": "stdout",
     "output_type": "stream",
     "text": [
      "              precision    recall  f1-score   support\n",
      "\n",
      "    negative       0.69      0.51      0.59      8636\n",
      "    positive       0.69      0.83      0.75     11362\n",
      "\n",
      "    accuracy                           0.69     19998\n",
      "   macro avg       0.69      0.67      0.67     19998\n",
      "weighted avg       0.69      0.69      0.68     19998\n",
      "\n"
     ]
    }
   ],
   "source": [
    "lr_default = LogisticRegression()\n",
    "\n",
    "lr_default.fit(Xtr,Ytr)\n",
    "\n",
    "lr_default_pred = lr_default.predict(X_test)\n",
    "\n",
    "print(classification_report(Y_test, lr_default_pred, target_names=target_names))"
   ]
  },
  {
   "cell_type": "code",
   "execution_count": 32,
   "metadata": {},
   "outputs": [
    {
     "name": "stdout",
     "output_type": "stream",
     "text": [
      "lr  vs. lr_default: \t0.9993\n"
     ]
    }
   ],
   "source": [
    "print(\"lr  vs. lr_default: \\t%.4f\" % ((lr_pred[lr_pred==lr_default_pred].shape[0])/(lr_pred.shape[0])))"
   ]
  },
  {
   "cell_type": "code",
   "execution_count": 33,
   "metadata": {},
   "outputs": [
    {
     "name": "stdout",
     "output_type": "stream",
     "text": [
      "gb  vs. gb_default: \t0.8570\n"
     ]
    }
   ],
   "source": [
    "print(\"gb  vs. gb_default: \\t%.4f\" % ((gb_pred[gb_pred==gb_default_pred].shape[0])/(gb_pred.shape[0])))"
   ]
  },
  {
   "cell_type": "code",
   "execution_count": null,
   "metadata": {},
   "outputs": [],
   "source": []
  }
 ],
 "metadata": {
  "kernelspec": {
   "display_name": "Python 3",
   "language": "python",
   "name": "python3"
  },
  "language_info": {
   "codemirror_mode": {
    "name": "ipython",
    "version": 3
   },
   "file_extension": ".py",
   "mimetype": "text/x-python",
   "name": "python",
   "nbconvert_exporter": "python",
   "pygments_lexer": "ipython3",
   "version": "3.7.4"
  }
 },
 "nbformat": 4,
 "nbformat_minor": 2
}
