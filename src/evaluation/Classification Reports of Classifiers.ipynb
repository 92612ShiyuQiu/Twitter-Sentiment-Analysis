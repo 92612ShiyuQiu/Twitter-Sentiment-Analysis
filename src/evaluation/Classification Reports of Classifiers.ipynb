{
 "cells": [
  {
   "cell_type": "code",
   "execution_count": 1,
   "metadata": {},
   "outputs": [],
   "source": [
    "import pandas as pd\n",
    "import numpy as np\n",
    "import matplotlib.pyplot as plt\n",
    "from sklearn.metrics import classification_report\n",
    "\n",
    "import warnings\n",
    "warnings.filterwarnings('ignore')"
   ]
  },
  {
   "cell_type": "code",
   "execution_count": 2,
   "metadata": {},
   "outputs": [],
   "source": [
    "from sklearn.metrics import roc_auc_score\n",
    "from sklearn.model_selection import cross_val_score\n",
    "from sklearn.model_selection import train_test_split\n",
    "from sklearn.metrics import classification_report\n",
    "from sklearn.neural_network import MLPClassifier\n",
    "from sklearn.ensemble import GradientBoostingClassifier\n",
    "from sklearn.linear_model import LogisticRegression\n",
    "import time"
   ]
  },
  {
   "cell_type": "markdown",
   "metadata": {},
   "source": [
    "Observe the accuracy of each classifier in more detail. We tested classifiers based on both BoW and Word2vec training data. \n",
    "\n",
    "\n",
    "### In the classification report: \n",
    "\n",
    "Precision: the ability to find elements correctly in a class. \n",
    "Ex: Precision for Positive class = True Positive / ( True Positive + False Positive )\n",
    "\n",
    "Recall: the ability to find the elements of a class. \n",
    "Ex: Recall for Positive class = True Positive / ( True Positive + False Negative )\n",
    "\n",
    "F1 Score: 2 * ( Recall * Precision ) / ( Recall + Precision )\n",
    "\n",
    "Support is the number of actual occurrences of the class in the specified dataset."
   ]
  },
  {
   "cell_type": "markdown",
   "metadata": {},
   "source": [
    "## BoW data (sparse)"
   ]
  },
  {
   "cell_type": "code",
   "execution_count": 3,
   "metadata": {},
   "outputs": [],
   "source": [
    "import scipy\n",
    "\n",
    "X = load = scipy.sparse.load_npz('../new_data/X_sparse.npz')\n",
    "Y = np.genfromtxt('../new_data/Y.csv', delimiter=',')[1:]\n",
    "\n",
    "X_comp, X_test, Y_comp, Y_test = train_test_split(X, Y, test_size=0.2, random_state=0)\n",
    "Xtr, Xva, Ytr, Yva = train_test_split(X_comp, Y_comp, test_size=0.2)"
   ]
  },
  {
   "cell_type": "code",
   "execution_count": 4,
   "metadata": {},
   "outputs": [],
   "source": [
    "# grid search results (hyper-values): \n",
    "\n",
    "lr = LogisticRegression(C=0.1, penalty='l2')\n",
    "\n",
    "mlp = MLPClassifier(max_iter=1000, hidden_layer_sizes=(200, 50, 50), activation='relu', \n",
    "                            solver='lbfgs', alpha=0.0001, learning_rate='constant')\n",
    "\n",
    "gb = GradientBoostingClassifier(loss=\"deviance\", learning_rate=0.2, \n",
    "                                n_estimators=1500, max_depth=3,\n",
    "                                min_samples_split=6,min_samples_leaf=1,\n",
    "                                max_features='sqrt', subsample=0.95)"
   ]
  },
  {
   "cell_type": "code",
   "execution_count": 5,
   "metadata": {},
   "outputs": [
    {
     "name": "stdout",
     "output_type": "stream",
     "text": [
      "lr training started\n",
      "lr training finished\n",
      "mlp training started\n",
      "mlp training finished\n",
      "gb training started\n",
      "gb training finished\n"
     ]
    }
   ],
   "source": [
    "print(\"lr training started\")\n",
    "lr.fit(Xtr,Ytr)\n",
    "print(\"lr training finished\")\n",
    "\n",
    "print(\"mlp training started\")\n",
    "mlp.fit(Xtr,Ytr)\n",
    "print(\"mlp training finished\")\n",
    "\n",
    "print(\"gb training started\")\n",
    "gb.fit(Xtr,Ytr)\n",
    "print(\"gb training finished\")"
   ]
  },
  {
   "cell_type": "code",
   "execution_count": 10,
   "metadata": {},
   "outputs": [
    {
     "name": "stdout",
     "output_type": "stream",
     "text": [
      "training started\n",
      "training finished\n"
     ]
    }
   ],
   "source": [
    "from sklearn.ensemble import VotingClassifier\n",
    "\n",
    "combined = VotingClassifier(estimators=[('lr', lr), ('nn', mlp), ('gb', gb)],\n",
    "                            voting='soft', flatten_transform=True, weights=[2,1,3])\n",
    "\n",
    "print(\"training started\")\n",
    "combined.fit(Xtr,Ytr)\n",
    "print(\"training finished\")"
   ]
  },
  {
   "cell_type": "markdown",
   "metadata": {},
   "source": [
    "### Classification Report of Different Classifiers"
   ]
  },
  {
   "cell_type": "code",
   "execution_count": 6,
   "metadata": {},
   "outputs": [],
   "source": [
    "target_names = ['negative', 'positive']"
   ]
  },
  {
   "cell_type": "code",
   "execution_count": 7,
   "metadata": {},
   "outputs": [
    {
     "name": "stdout",
     "output_type": "stream",
     "text": [
      "Logistic Regression Classifier Report\n",
      "              precision    recall  f1-score   support\n",
      "\n",
      "    negative       0.78      0.72      0.75     10031\n",
      "    positive       0.74      0.79      0.77      9969\n",
      "\n",
      "    accuracy                           0.76     20000\n",
      "   macro avg       0.76      0.76      0.76     20000\n",
      "weighted avg       0.76      0.76      0.76     20000\n",
      "\n"
     ]
    }
   ],
   "source": [
    "lr_pred = lr.predict(X_test)\n",
    "\n",
    "print(\"Logistic Regression Classifier Report\")\n",
    "print(classification_report(Y_test, lr_pred, target_names=target_names))"
   ]
  },
  {
   "cell_type": "code",
   "execution_count": 8,
   "metadata": {},
   "outputs": [
    {
     "name": "stdout",
     "output_type": "stream",
     "text": [
      "Neural Network Classifier Report\n",
      "              precision    recall  f1-score   support\n",
      "\n",
      "    negative       0.73      0.71      0.72     10031\n",
      "    positive       0.71      0.73      0.72      9969\n",
      "\n",
      "    accuracy                           0.72     20000\n",
      "   macro avg       0.72      0.72      0.72     20000\n",
      "weighted avg       0.72      0.72      0.72     20000\n",
      "\n"
     ]
    }
   ],
   "source": [
    "mlp_pred = mlp.predict(X_test)\n",
    "\n",
    "print(\"Neural Network Classifier Report\")\n",
    "print(classification_report(Y_test, mlp_pred, target_names=target_names))"
   ]
  },
  {
   "cell_type": "code",
   "execution_count": 9,
   "metadata": {},
   "outputs": [
    {
     "name": "stdout",
     "output_type": "stream",
     "text": [
      "Gradient Boosting Classifier Report\n",
      "              precision    recall  f1-score   support\n",
      "\n",
      "    negative       0.79      0.71      0.75     10031\n",
      "    positive       0.74      0.80      0.77      9969\n",
      "\n",
      "    accuracy                           0.76     20000\n",
      "   macro avg       0.76      0.76      0.76     20000\n",
      "weighted avg       0.76      0.76      0.76     20000\n",
      "\n"
     ]
    }
   ],
   "source": [
    "gb_pred = gb.predict(X_test)\n",
    "\n",
    "print(\"Gradient Boosting Classifier Report\")\n",
    "print(classification_report(Y_test, gb_pred, target_names=target_names))"
   ]
  },
  {
   "cell_type": "code",
   "execution_count": 11,
   "metadata": {},
   "outputs": [
    {
     "name": "stdout",
     "output_type": "stream",
     "text": [
      "Ensemble Classifier Report\n",
      "              precision    recall  f1-score   support\n",
      "\n",
      "    negative       0.77      0.74      0.76     10031\n",
      "    positive       0.75      0.78      0.76      9969\n",
      "\n",
      "    accuracy                           0.76     20000\n",
      "   macro avg       0.76      0.76      0.76     20000\n",
      "weighted avg       0.76      0.76      0.76     20000\n",
      "\n"
     ]
    }
   ],
   "source": [
    "comb_pred = combined.predict(X_test)\n",
    "\n",
    "print(\"Ensemble Classifier Report\")\n",
    "print(classification_report(Y_test, comb_pred, target_names=target_names))"
   ]
  },
  {
   "cell_type": "markdown",
   "metadata": {},
   "source": [
    "### Check the similarity of the results predicted by diffierent classifiers"
   ]
  },
  {
   "cell_type": "code",
   "execution_count": 10,
   "metadata": {},
   "outputs": [],
   "source": [
    "lr_pred_1 = lr_pred[lr_pred==1]\n",
    "lr_pred_0 = lr_pred[lr_pred==0]\n",
    "\n",
    "mlp_pred_1 = mlp_pred[mlp_pred==1]\n",
    "mlp_pred_0 = mlp_pred[mlp_pred==0]\n",
    "\n",
    "gb_pred_1 = gb_pred[gb_pred==1]\n",
    "gb_pred_0 = gb_pred[gb_pred==0]"
   ]
  },
  {
   "cell_type": "code",
   "execution_count": 11,
   "metadata": {},
   "outputs": [
    {
     "name": "stdout",
     "output_type": "stream",
     "text": [
      "Similarity: \n",
      "\tlr  vs. mlp:\t0.8075\n",
      "\tlr  vs. gb: \t0.9345\n",
      "\tmlp vs. gb: \t0.7932\n"
     ]
    }
   ],
   "source": [
    "print(\"Similarity: \")\n",
    "\n",
    "print(\"\\tlr  vs. mlp:\\t%.4f\" % ((lr_pred[lr_pred==mlp_pred].shape[0])/(lr_pred.shape[0])))\n",
    "print(\"\\tlr  vs. gb: \\t%.4f\" % ((lr_pred[lr_pred==gb_pred].shape[0])/(lr_pred.shape[0])))\n",
    "print(\"\\tmlp vs. gb: \\t%.4f\" % ((mlp_pred[mlp_pred==gb_pred].shape[0])/(mlp_pred.shape[0])))"
   ]
  },
  {
   "cell_type": "code",
   "execution_count": null,
   "metadata": {},
   "outputs": [],
   "source": []
  },
  {
   "cell_type": "markdown",
   "metadata": {},
   "source": [
    "## Word2vec Data"
   ]
  },
  {
   "cell_type": "code",
   "execution_count": 12,
   "metadata": {},
   "outputs": [],
   "source": [
    "X = np.genfromtxt('../../new_data/X_word2vec.csv', delimiter=',')[1:]\n",
    "Y = np.genfromtxt('../new_data/Y.csv', delimiter=',')[1:]\n",
    "\n",
    "X_comp, X_test, Y_comp, Y_test, indices_train, indices_test = train_test_split(X, Y, np.arange(100000), test_size=0.2, random_state=0)\n",
    "Xtr, Xva, Ytr, Yva = train_test_split(X_comp, Y_comp, test_size=0.2)"
   ]
  },
  {
   "cell_type": "code",
   "execution_count": 14,
   "metadata": {},
   "outputs": [],
   "source": [
    "import joblib\n",
    "\n",
    "mlp = joblib.load('../new_data/best_mlp.sav')\n",
    "\n",
    "lr = joblib.load('../new_data/best_lr.sav')\n",
    "\n",
    "gb = joblib.load('../new_data/best_gb.sav')\n",
    "\n",
    "combined = joblib.load('../new_data/best_combined.sav')"
   ]
  },
  {
   "cell_type": "code",
   "execution_count": 15,
   "metadata": {},
   "outputs": [
    {
     "name": "stdout",
     "output_type": "stream",
     "text": [
      "Logistic Regression Classifier Report\n",
      "              precision    recall  f1-score   support\n",
      "\n",
      "    negative       0.76      0.75      0.76     10031\n",
      "    positive       0.75      0.76      0.76      9969\n",
      "\n",
      "    accuracy                           0.76     20000\n",
      "   macro avg       0.76      0.76      0.76     20000\n",
      "weighted avg       0.76      0.76      0.76     20000\n",
      "\n"
     ]
    }
   ],
   "source": [
    "lr_pred = lr.predict(X_test)\n",
    "\n",
    "print(\"Logistic Regression Classifier Report\")\n",
    "print(classification_report(Y_test, lr_pred, target_names=target_names))"
   ]
  },
  {
   "cell_type": "code",
   "execution_count": 16,
   "metadata": {},
   "outputs": [
    {
     "name": "stdout",
     "output_type": "stream",
     "text": [
      "Neural Network Classifier Report\n",
      "              precision    recall  f1-score   support\n",
      "\n",
      "    negative       0.76      0.75      0.76     10031\n",
      "    positive       0.75      0.76      0.76      9969\n",
      "\n",
      "    accuracy                           0.76     20000\n",
      "   macro avg       0.76      0.76      0.76     20000\n",
      "weighted avg       0.76      0.76      0.76     20000\n",
      "\n"
     ]
    }
   ],
   "source": [
    "mlp_pred = mlp.predict(X_test)\n",
    "\n",
    "print(\"Neural Network Classifier Report\")\n",
    "print(classification_report(Y_test, mlp_pred, target_names=target_names))"
   ]
  },
  {
   "cell_type": "code",
   "execution_count": 17,
   "metadata": {},
   "outputs": [
    {
     "name": "stdout",
     "output_type": "stream",
     "text": [
      "Gradient Boosting Classifier Report\n",
      "              precision    recall  f1-score   support\n",
      "\n",
      "    negative       0.76      0.76      0.76     10031\n",
      "    positive       0.76      0.76      0.76      9969\n",
      "\n",
      "    accuracy                           0.76     20000\n",
      "   macro avg       0.76      0.76      0.76     20000\n",
      "weighted avg       0.76      0.76      0.76     20000\n",
      "\n"
     ]
    }
   ],
   "source": [
    "gb_pred = gb.predict(X_test)\n",
    "\n",
    "print(\"Gradient Boosting Classifier Report\")\n",
    "print(classification_report(Y_test, gb_pred, target_names=target_names))"
   ]
  },
  {
   "cell_type": "code",
   "execution_count": 19,
   "metadata": {},
   "outputs": [
    {
     "name": "stdout",
     "output_type": "stream",
     "text": [
      "Ensemble Classifier Report\n",
      "              precision    recall  f1-score   support\n",
      "\n",
      "    negative       0.77      0.77      0.77     10031\n",
      "    positive       0.76      0.76      0.76      9969\n",
      "\n",
      "    accuracy                           0.76     20000\n",
      "   macro avg       0.76      0.76      0.76     20000\n",
      "weighted avg       0.76      0.76      0.76     20000\n",
      "\n"
     ]
    }
   ],
   "source": [
    "comb_pred = combined.predict(X_test)\n",
    "\n",
    "print(\"Ensemble Classifier Report\")\n",
    "print(classification_report(Y_test, comb_pred, target_names=target_names))"
   ]
  },
  {
   "cell_type": "code",
   "execution_count": 18,
   "metadata": {},
   "outputs": [
    {
     "name": "stdout",
     "output_type": "stream",
     "text": [
      "Similarity: \n",
      "\tlr  vs. mlp:\t0.9897\n",
      "\tlr  vs. gb: \t0.8917\n",
      "\tmlp vs. gb: \t0.8915\n"
     ]
    }
   ],
   "source": [
    "print(\"Similarity: \")\n",
    "\n",
    "print(\"\\tlr  vs. mlp:\\t%.4f\" % ((lr_pred[lr_pred==mlp_pred].shape[0])/(lr_pred.shape[0])))\n",
    "print(\"\\tlr  vs. gb: \\t%.4f\" % ((lr_pred[lr_pred==gb_pred].shape[0])/(lr_pred.shape[0])))\n",
    "print(\"\\tmlp vs. gb: \\t%.4f\" % ((mlp_pred[mlp_pred==gb_pred].shape[0])/(mlp_pred.shape[0])))"
   ]
  },
  {
   "cell_type": "code",
   "execution_count": null,
   "metadata": {},
   "outputs": [],
   "source": []
  }
 ],
 "metadata": {
  "kernelspec": {
   "display_name": "Python 3",
   "language": "python",
   "name": "python3"
  },
  "language_info": {
   "codemirror_mode": {
    "name": "ipython",
    "version": 3
   },
   "file_extension": ".py",
   "mimetype": "text/x-python",
   "name": "python",
   "nbconvert_exporter": "python",
   "pygments_lexer": "ipython3",
   "version": "3.7.4"
  }
 },
 "nbformat": 4,
 "nbformat_minor": 2
}
