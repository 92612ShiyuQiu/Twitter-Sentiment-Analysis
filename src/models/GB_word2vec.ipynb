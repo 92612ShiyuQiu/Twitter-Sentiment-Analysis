{
 "cells": [
  {
   "cell_type": "code",
   "execution_count": 1,
   "metadata": {},
   "outputs": [],
   "source": [
    "import pandas as pd\n",
    "import numpy as np\n",
    "import scipy\n",
    "import matplotlib.pyplot as plt\n",
    "from sklearn.metrics import roc_auc_score\n",
    "from sklearn.model_selection import cross_val_score\n",
    "from sklearn.ensemble import GradientBoostingClassifier\n",
    "from sklearn.model_selection import train_test_split\n",
    "\n",
    "X = np.genfromtxt('../new_data/X_word2vec.csv', delimiter=',')\n",
    "Y = np.genfromtxt('../new_data/Y.csv', delimiter=',')"
   ]
  },
  {
   "cell_type": "code",
   "execution_count": 2,
   "metadata": {},
   "outputs": [
    {
     "data": {
      "text/plain": [
       "(100001, 100)"
      ]
     },
     "execution_count": 2,
     "metadata": {},
     "output_type": "execute_result"
    }
   ],
   "source": [
    "X.shape"
   ]
  },
  {
   "cell_type": "code",
   "execution_count": 4,
   "metadata": {},
   "outputs": [
    {
     "data": {
      "text/plain": [
       "(100000, 100)"
      ]
     },
     "execution_count": 4,
     "metadata": {},
     "output_type": "execute_result"
    }
   ],
   "source": [
    "X = X[1:]\n",
    "X.shape"
   ]
  },
  {
   "cell_type": "code",
   "execution_count": 5,
   "metadata": {},
   "outputs": [
    {
     "data": {
      "text/plain": [
       "(100001,)"
      ]
     },
     "execution_count": 5,
     "metadata": {},
     "output_type": "execute_result"
    }
   ],
   "source": [
    "Y.shape"
   ]
  },
  {
   "cell_type": "code",
   "execution_count": 6,
   "metadata": {},
   "outputs": [
    {
     "data": {
      "text/plain": [
       "0.0"
      ]
     },
     "execution_count": 6,
     "metadata": {},
     "output_type": "execute_result"
    }
   ],
   "source": [
    "Y[0]"
   ]
  },
  {
   "cell_type": "code",
   "execution_count": 7,
   "metadata": {},
   "outputs": [
    {
     "data": {
      "text/plain": [
       "(100000,)"
      ]
     },
     "execution_count": 7,
     "metadata": {},
     "output_type": "execute_result"
    }
   ],
   "source": [
    "Y = Y[1:]\n",
    "Y.shape"
   ]
  },
  {
   "cell_type": "code",
   "execution_count": 9,
   "metadata": {},
   "outputs": [
    {
     "data": {
      "text/plain": [
       "array([ 0.13919652,  0.34522787,  0.25230184, -0.0769003 ,  0.16374893,\n",
       "        0.20409723,  0.23620039, -0.22331832,  0.5665915 , -0.00426637,\n",
       "        0.17732595, -0.23525636, -0.11313281, -0.10409188,  0.45694837,\n",
       "       -0.10380501, -0.03387303,  0.04110739,  0.34642172,  0.0021829 ,\n",
       "        0.56319404, -0.36089084, -0.10861673,  0.44213843,  0.04636109,\n",
       "       -0.094379  , -0.1529754 , -0.33557013, -0.24949755, -0.03063167,\n",
       "        0.19823845,  0.26017118,  0.46327618, -0.04559801, -0.5678514 ,\n",
       "       -0.58161813, -0.19105203, -0.07561374, -0.20636106, -0.04571686,\n",
       "       -0.02558777, -0.35042024, -0.51668215, -0.13987066,  0.01888408,\n",
       "       -0.32288697,  0.15072297,  0.03304933, -0.22576384,  0.10634459,\n",
       "       -0.29640242, -0.11779431,  0.32316992, -0.02969029,  0.08544739,\n",
       "        0.49210298, -0.07357363, -0.3178645 ,  0.5132642 ,  0.14494598,\n",
       "        0.02008446, -0.38770854,  0.14228489,  0.26731256,  0.26943806,\n",
       "       -0.04936242,  0.3703746 ,  0.25799286,  0.25105253,  0.5708216 ,\n",
       "       -0.09532217,  0.15920295, -0.05579858, -0.00389347,  0.5914072 ,\n",
       "        0.05183172, -0.5025226 ,  0.43837693, -0.08970568,  0.26713663,\n",
       "       -0.33691576, -0.2853355 ,  0.4431546 , -0.1755861 ,  0.09494593,\n",
       "       -0.0021599 ,  0.1856425 ,  0.26375088,  0.04542018,  0.7166362 ,\n",
       "       -0.24244247, -0.39214745,  0.16829698,  0.08719499, -0.02574323,\n",
       "       -0.01961872, -0.15897596, -0.20247114,  0.1206493 ,  0.20066495])"
      ]
     },
     "execution_count": 9,
     "metadata": {},
     "output_type": "execute_result"
    }
   ],
   "source": [
    "X[0]"
   ]
  },
  {
   "cell_type": "code",
   "execution_count": 10,
   "metadata": {},
   "outputs": [],
   "source": [
    "X_comp, X_test, Y_comp, Y_test = train_test_split(X, Y, test_size=0.2, random_state=0)\n",
    "Xtr, Xva, Ytr, Yva = train_test_split(X_comp, Y_comp, test_size=0.2)"
   ]
  },
  {
   "cell_type": "markdown",
   "metadata": {},
   "source": [
    "## Run a baseline model without tuning"
   ]
  },
  {
   "cell_type": "code",
   "execution_count": 11,
   "metadata": {},
   "outputs": [
    {
     "name": "stdout",
     "output_type": "stream",
     "text": [
      "training start\n",
      "training finished, took 79.82819199562073 seconds\n",
      "ROC AUC score:\t 0.8215001112911763\n",
      "training error:\t 0.757671875\n",
      "validation error:\t  0.7400625\n"
     ]
    }
   ],
   "source": [
    "import time\n",
    "\n",
    "gb_base = GradientBoostingClassifier()\n",
    "\n",
    "print('training start')\n",
    "starting_time = time.time()\n",
    "gb_base.fit(Xtr, Ytr)\n",
    "end_time = time.time()\n",
    "print(\"training finished, took {} seconds\".format(end_time - starting_time))\n",
    "\n",
    "roc = roc_auc_score(Yva, gb_base.predict_proba(Xva)[:,1])\n",
    "print(\"ROC AUC score:\\t\", roc)\n",
    "\n",
    "print(\"training error:\\t\", gb_base.score(Xtr, Ytr))\n",
    "print(\"validation error:\\t \", gb_base.score(Xva, Yva))"
   ]
  },
  {
   "cell_type": "code",
   "execution_count": 12,
   "metadata": {},
   "outputs": [
    {
     "name": "stdout",
     "output_type": "stream",
     "text": [
      "ROC AUC score on Test data:\t 0.8255387284271801\n"
     ]
    }
   ],
   "source": [
    "roc = roc_auc_score(Y_test, gb_base.predict_proba(X_test)[:,1])\n",
    "print(\"ROC AUC score on Test data:\\t\", roc)"
   ]
  },
  {
   "cell_type": "markdown",
   "metadata": {},
   "source": [
    "## Grid Search"
   ]
  },
  {
   "cell_type": "code",
   "execution_count": 13,
   "metadata": {},
   "outputs": [],
   "source": [
    "from sklearn.model_selection import GridSearchCV\n",
    "\n",
    "parameters1 = {\"learning_rate\": [0.01, 0.05, 0.075, 0.1,0.2],\n",
    "               \"n_estimators\":[10, 100, 250, 500, 1000, 1250, 1500, 1750]}\n",
    "\n",
    "parameters2 = {\"max_depth\":[3,5,8]}\n",
    "\n",
    "parameters3 = {\"min_samples_split\": [2,6,10,20,40,60],\n",
    "               \"min_samples_leaf\": [1,3,5,7,9]}\n",
    "\n",
    "parameters4 = {\"max_features\":[\"log2\",\"sqrt\"]}\n",
    "\n",
    "parameters5 = {\"subsample\":[0.5, 0.618, 0.8, 0.85, 0.9, 0.95, 1.0]}"
   ]
  },
  {
   "cell_type": "markdown",
   "metadata": {},
   "source": [
    "### 1. Tuning learning_rate and n_estimators"
   ]
  },
  {
   "cell_type": "code",
   "execution_count": 14,
   "metadata": {},
   "outputs": [
    {
     "name": "stdout",
     "output_type": "stream",
     "text": [
      "training start\n",
      "training finished, took 4162.911555767059 seconds\n"
     ]
    }
   ],
   "source": [
    "clf = GridSearchCV(GradientBoostingClassifier(loss=\"deviance\"), parameters1, cv=5)\n",
    "\n",
    "print('training start')\n",
    "starting_time = time.time()\n",
    "clf.fit(Xtr[:5000], Ytr[:5000])\n",
    "end_time = time.time()\n",
    "print(\"training finished, took {} seconds\".format(end_time - starting_time))"
   ]
  },
  {
   "cell_type": "code",
   "execution_count": 15,
   "metadata": {},
   "outputs": [
    {
     "name": "stdout",
     "output_type": "stream",
     "text": [
      "best_estimator:\t GradientBoostingClassifier(criterion='friedman_mse', init=None,\n",
      "                           learning_rate=0.1, loss='deviance', max_depth=3,\n",
      "                           max_features=None, max_leaf_nodes=None,\n",
      "                           min_impurity_decrease=0.0, min_impurity_split=None,\n",
      "                           min_samples_leaf=1, min_samples_split=2,\n",
      "                           min_weight_fraction_leaf=0.0, n_estimators=250,\n",
      "                           n_iter_no_change=None, presort='auto',\n",
      "                           random_state=None, subsample=1.0, tol=0.0001,\n",
      "                           validation_fraction=0.1, verbose=0,\n",
      "                           warm_start=False)\n",
      "best_score:\t 0.7426\n",
      "best_params:\t {'learning_rate': 0.1, 'n_estimators': 250}\n",
      "best_index:\t 26\n",
      "scorer:\t <function _passthrough_scorer at 0x1a1ce9c710>\n",
      "cv_results:\t {'mean_fit_time': array([ 0.30441604,  2.80691099,  6.76570477, 13.35367575, 25.79758997,\n",
      "       32.42334356, 39.51852546, 40.57986403,  0.26379118,  2.38443093,\n",
      "        5.81358619, 11.33635993, 54.0601285 , 31.14055939, 42.68547354,\n",
      "       64.69360261,  0.27567782,  2.6446476 ,  6.24843888, 12.16719232,\n",
      "       25.23527246, 30.80580091, 35.76617627, 40.04759121,  0.26429882,\n",
      "        2.58366756,  5.86339459, 11.8741076 , 23.57683854, 33.19198456,\n",
      "       37.30903125, 39.71302772,  0.26951942,  2.44735684,  5.76034594,\n",
      "       11.5741549 , 23.78757262, 29.81445904, 33.12323875, 41.91511641]), 'std_fit_time': array([2.31257501e-02, 9.45335563e-02, 1.53882985e-01, 2.85123240e-01,\n",
      "       9.49612766e-01, 1.11268289e+00, 6.07745579e-01, 5.43821951e-01,\n",
      "       2.36228869e-03, 1.25279631e-02, 5.07658407e-02, 1.09439712e-01,\n",
      "       6.25338704e+01, 1.45007843e+00, 1.04199660e+01, 1.33618972e+01,\n",
      "       5.89400802e-03, 2.37451465e-01, 3.17294384e-01, 4.41795518e-01,\n",
      "       1.34501785e+00, 1.40236481e+00, 7.87549276e-01, 1.70223271e+00,\n",
      "       6.16640765e-03, 1.37535935e-01, 1.08882790e-01, 3.78566623e-01,\n",
      "       2.39086753e-01, 4.14958637e+00, 4.62348574e+00, 1.79940328e-01,\n",
      "       5.75482153e-03, 1.77936295e-01, 9.61407379e-02, 4.55802706e-02,\n",
      "       6.64154012e-01, 6.83622701e-01, 7.40365032e-01, 4.60959264e+00]), 'mean_score_time': array([0.0010036 , 0.0028266 , 0.00514927, 0.00938787, 0.01691799,\n",
      "       0.02296615, 0.02625036, 0.02699881, 0.000809  , 0.00225582,\n",
      "       0.00441756, 0.00762339, 0.01379509, 0.01740322, 0.02816544,\n",
      "       0.03265371, 0.00084567, 0.00283041, 0.00498824, 0.00771656,\n",
      "       0.01547656, 0.01739359, 0.02128749, 0.02301164, 0.00079908,\n",
      "       0.00283027, 0.00438819, 0.0079278 , 0.01409698, 0.02056541,\n",
      "       0.02244773, 0.02331686, 0.00092316, 0.00216198, 0.00410881,\n",
      "       0.00762148, 0.01542182, 0.01730399, 0.01951799, 0.02524939]), 'std_score_time': array([9.01902663e-05, 4.39801534e-04, 2.12871483e-04, 4.80576412e-04,\n",
      "       1.48172202e-03, 2.60958418e-03, 4.05924711e-03, 1.60472423e-03,\n",
      "       1.67982090e-05, 4.48907680e-05, 6.82744562e-05, 1.86931320e-04,\n",
      "       3.95392193e-04, 3.71596527e-04, 5.47525729e-03, 5.40421769e-03,\n",
      "       2.32626170e-05, 5.16371615e-04, 6.18508957e-04, 3.31355874e-04,\n",
      "       1.24346822e-03, 8.20504382e-04, 1.14562984e-03, 6.53124352e-04,\n",
      "       1.33927591e-05, 4.55632614e-04, 4.50698869e-04, 5.85057791e-04,\n",
      "       3.29790314e-04, 2.48457119e-03, 2.63955726e-03, 8.90502515e-04,\n",
      "       1.85486774e-04, 1.82356582e-04, 3.69257923e-04, 4.41518287e-04,\n",
      "       2.44346343e-03, 6.07252175e-04, 7.16734813e-04, 1.65864555e-03]), 'param_learning_rate': masked_array(data=[0.01, 0.01, 0.01, 0.01, 0.01, 0.01, 0.01, 0.01, 0.05,\n",
      "                   0.05, 0.05, 0.05, 0.05, 0.05, 0.05, 0.05, 0.075, 0.075,\n",
      "                   0.075, 0.075, 0.075, 0.075, 0.075, 0.075, 0.1, 0.1,\n",
      "                   0.1, 0.1, 0.1, 0.1, 0.1, 0.1, 0.2, 0.2, 0.2, 0.2, 0.2,\n",
      "                   0.2, 0.2, 0.2],\n",
      "             mask=[False, False, False, False, False, False, False, False,\n",
      "                   False, False, False, False, False, False, False, False,\n",
      "                   False, False, False, False, False, False, False, False,\n",
      "                   False, False, False, False, False, False, False, False,\n",
      "                   False, False, False, False, False, False, False, False],\n",
      "       fill_value='?',\n",
      "            dtype=object), 'param_n_estimators': masked_array(data=[10, 100, 250, 500, 1000, 1250, 1500, 1750, 10, 100,\n",
      "                   250, 500, 1000, 1250, 1500, 1750, 10, 100, 250, 500,\n",
      "                   1000, 1250, 1500, 1750, 10, 100, 250, 500, 1000, 1250,\n",
      "                   1500, 1750, 10, 100, 250, 500, 1000, 1250, 1500, 1750],\n",
      "             mask=[False, False, False, False, False, False, False, False,\n",
      "                   False, False, False, False, False, False, False, False,\n",
      "                   False, False, False, False, False, False, False, False,\n",
      "                   False, False, False, False, False, False, False, False,\n",
      "                   False, False, False, False, False, False, False, False],\n",
      "       fill_value='?',\n",
      "            dtype=object), 'params': [{'learning_rate': 0.01, 'n_estimators': 10}, {'learning_rate': 0.01, 'n_estimators': 100}, {'learning_rate': 0.01, 'n_estimators': 250}, {'learning_rate': 0.01, 'n_estimators': 500}, {'learning_rate': 0.01, 'n_estimators': 1000}, {'learning_rate': 0.01, 'n_estimators': 1250}, {'learning_rate': 0.01, 'n_estimators': 1500}, {'learning_rate': 0.01, 'n_estimators': 1750}, {'learning_rate': 0.05, 'n_estimators': 10}, {'learning_rate': 0.05, 'n_estimators': 100}, {'learning_rate': 0.05, 'n_estimators': 250}, {'learning_rate': 0.05, 'n_estimators': 500}, {'learning_rate': 0.05, 'n_estimators': 1000}, {'learning_rate': 0.05, 'n_estimators': 1250}, {'learning_rate': 0.05, 'n_estimators': 1500}, {'learning_rate': 0.05, 'n_estimators': 1750}, {'learning_rate': 0.075, 'n_estimators': 10}, {'learning_rate': 0.075, 'n_estimators': 100}, {'learning_rate': 0.075, 'n_estimators': 250}, {'learning_rate': 0.075, 'n_estimators': 500}, {'learning_rate': 0.075, 'n_estimators': 1000}, {'learning_rate': 0.075, 'n_estimators': 1250}, {'learning_rate': 0.075, 'n_estimators': 1500}, {'learning_rate': 0.075, 'n_estimators': 1750}, {'learning_rate': 0.1, 'n_estimators': 10}, {'learning_rate': 0.1, 'n_estimators': 100}, {'learning_rate': 0.1, 'n_estimators': 250}, {'learning_rate': 0.1, 'n_estimators': 500}, {'learning_rate': 0.1, 'n_estimators': 1000}, {'learning_rate': 0.1, 'n_estimators': 1250}, {'learning_rate': 0.1, 'n_estimators': 1500}, {'learning_rate': 0.1, 'n_estimators': 1750}, {'learning_rate': 0.2, 'n_estimators': 10}, {'learning_rate': 0.2, 'n_estimators': 100}, {'learning_rate': 0.2, 'n_estimators': 250}, {'learning_rate': 0.2, 'n_estimators': 500}, {'learning_rate': 0.2, 'n_estimators': 1000}, {'learning_rate': 0.2, 'n_estimators': 1250}, {'learning_rate': 0.2, 'n_estimators': 1500}, {'learning_rate': 0.2, 'n_estimators': 1750}], 'split0_test_score': array([0.6043956 , 0.67932068, 0.70929071, 0.73326673, 0.74325674,\n",
      "       0.75124875, 0.75224775, 0.75424575, 0.67632368, 0.72627373,\n",
      "       0.75024975, 0.76023976, 0.75824176, 0.75324675, 0.74925075,\n",
      "       0.75024975, 0.67732268, 0.73226773, 0.76123876, 0.75224775,\n",
      "       0.76023976, 0.75424575, 0.75924076, 0.75924076, 0.69130869,\n",
      "       0.74525475, 0.77122877, 0.76123876, 0.75624376, 0.75624376,\n",
      "       0.74825175, 0.73926074, 0.69430569, 0.74525475, 0.73826174,\n",
      "       0.74225774, 0.74625375, 0.74925075, 0.74225774, 0.74825175]), 'split1_test_score': array([0.62937063, 0.6953047 , 0.71528472, 0.73426573, 0.75124875,\n",
      "       0.74425574, 0.74725275, 0.75224775, 0.68631369, 0.73126873,\n",
      "       0.74525475, 0.75024975, 0.75824176, 0.76123876, 0.76023976,\n",
      "       0.75524476, 0.69330669, 0.73926074, 0.75224775, 0.74125874,\n",
      "       0.74525475, 0.75524476, 0.74525475, 0.74925075, 0.6983017 ,\n",
      "       0.74825175, 0.75624376, 0.76623377, 0.75424575, 0.76123876,\n",
      "       0.75724276, 0.75324675, 0.71028971, 0.74525475, 0.76023976,\n",
      "       0.74125874, 0.73926074, 0.74125874, 0.74225774, 0.74425574]), 'split2_test_score': array([0.603, 0.675, 0.691, 0.713, 0.718, 0.721, 0.721, 0.72 , 0.661,\n",
      "       0.708, 0.722, 0.718, 0.708, 0.71 , 0.715, 0.714, 0.661, 0.722,\n",
      "       0.713, 0.712, 0.708, 0.703, 0.704, 0.697, 0.663, 0.711, 0.716,\n",
      "       0.712, 0.705, 0.708, 0.708, 0.712, 0.679, 0.709, 0.712, 0.697,\n",
      "       0.698, 0.708, 0.704, 0.706]), 'split3_test_score': array([0.62462462, 0.67467467, 0.7007007 , 0.72472472, 0.73473473,\n",
      "       0.73373373, 0.73173173, 0.73273273, 0.67367367, 0.71671672,\n",
      "       0.73273273, 0.72472472, 0.73173173, 0.72672673, 0.72672673,\n",
      "       0.72872873, 0.68068068, 0.72772773, 0.73173173, 0.72672673,\n",
      "       0.73273273, 0.72972973, 0.72772773, 0.72172172, 0.67467467,\n",
      "       0.73673674, 0.74074074, 0.73573574, 0.72572573, 0.72672673,\n",
      "       0.72772773, 0.72572573, 0.68268268, 0.73373373, 0.72872873,\n",
      "       0.72572573, 0.72572573, 0.72272272, 0.72772773, 0.71771772]), 'split4_test_score': array([0.62162162, 0.67567568, 0.6986987 , 0.71771772, 0.73473473,\n",
      "       0.73073073, 0.73573574, 0.73373373, 0.67167167, 0.71071071,\n",
      "       0.73473473, 0.72972973, 0.73973974, 0.73373373, 0.72472472,\n",
      "       0.72272272, 0.67467467, 0.72372372, 0.72872873, 0.72272272,\n",
      "       0.73373373, 0.73073073, 0.73273273, 0.72872873, 0.67967968,\n",
      "       0.72872873, 0.72872873, 0.71871872, 0.71471471, 0.71571572,\n",
      "       0.71671672, 0.71471471, 0.68568569, 0.72272272, 0.73773774,\n",
      "       0.73273273, 0.72972973, 0.71771772, 0.71571572, 0.71971972]), 'mean_test_score': array([0.6166, 0.68  , 0.703 , 0.7246, 0.7364, 0.7362, 0.7376, 0.7386,\n",
      "       0.6738, 0.7186, 0.737 , 0.7366, 0.7392, 0.737 , 0.7352, 0.7342,\n",
      "       0.6774, 0.729 , 0.7374, 0.731 , 0.736 , 0.7346, 0.7338, 0.7312,\n",
      "       0.6814, 0.734 , 0.7426, 0.7388, 0.7312, 0.7336, 0.7316, 0.729 ,\n",
      "       0.6904, 0.7312, 0.7354, 0.7278, 0.7278, 0.7278, 0.7264, 0.7272]), 'std_test_score': array([0.01083356, 0.00783507, 0.0084669 , 0.00837378, 0.01106226,\n",
      "       0.01057025, 0.01114876, 0.01292663, 0.00814255, 0.00891834,\n",
      "       0.00992228, 0.01599934, 0.01873688, 0.01842508, 0.01682037,\n",
      "       0.01594188, 0.01039629, 0.00623707, 0.01727486, 0.01417711,\n",
      "       0.0171679 , 0.01923635, 0.01846746, 0.02181153, 0.0124172 ,\n",
      "       0.01337425, 0.01954481, 0.02185333, 0.02072354, 0.02144761,\n",
      "       0.01859568, 0.01547551, 0.01116177, 0.01390333, 0.01564167,\n",
      "       0.01653965, 0.0165434 , 0.0152398 , 0.01497331, 0.01630933]), 'rank_test_score': array([40, 37, 34, 32, 10, 11,  5,  4, 39, 33,  7,  9,  2,  7, 14, 16, 38,\n",
      "       25,  6, 24, 12, 15, 18, 21, 36, 17,  1,  3, 21, 19, 20, 25, 35, 21,\n",
      "       13, 27, 27, 27, 31, 30], dtype=int32)}\n",
      "refit_time:\t 9.315737009048462\n"
     ]
    }
   ],
   "source": [
    "print('best_estimator:\\t', clf.best_estimator_)\n",
    "print('best_score:\\t', clf.best_score_)\n",
    "print('best_params:\\t', clf.best_params_)\n",
    "print('best_index:\\t', clf.best_index_)\n",
    "print('scorer:\\t', clf.scorer_)\n",
    "print('cv_results:\\t', clf.cv_results_)\n",
    "print('refit_time:\\t', clf.refit_time_)"
   ]
  },
  {
   "cell_type": "code",
   "execution_count": 16,
   "metadata": {},
   "outputs": [
    {
     "name": "stdout",
     "output_type": "stream",
     "text": [
      "AUC:  0.8148767587158697\n",
      "training error: 0.2518125\n",
      "validation error: 0.2681875\n"
     ]
    }
   ],
   "source": [
    "gradient_boosting_classifier_roc = roc_auc_score(\n",
    "   Yva, clf.predict_proba(Xva)[:,1])\n",
    "print(\"AUC: \", gradient_boosting_classifier_roc)\n",
    "\n",
    "print(\"training error:\", 1 - clf.score(Xtr, Ytr))\n",
    "print(\"validation error:\", 1 - clf.score(Xva, Yva))"
   ]
  },
  {
   "cell_type": "markdown",
   "metadata": {},
   "source": [
    "### 2. Tuning max_depth"
   ]
  },
  {
   "cell_type": "code",
   "execution_count": 18,
   "metadata": {},
   "outputs": [
    {
     "name": "stdout",
     "output_type": "stream",
     "text": [
      "training start\n",
      "training finished, took 230.16340517997742 seconds\n"
     ]
    }
   ],
   "source": [
    "clf = GridSearchCV(GradientBoostingClassifier(loss=\"deviance\", learning_rate=0.1, \n",
    "                                              n_estimators=250), parameters2, cv=5)\n",
    "\n",
    "print('training start')\n",
    "starting_time = time.time()\n",
    "clf.fit(Xtr[:5000], Ytr[:5000])\n",
    "end_time = time.time()\n",
    "print(\"training finished, took {} seconds\".format(end_time - starting_time))"
   ]
  },
  {
   "cell_type": "code",
   "execution_count": 19,
   "metadata": {},
   "outputs": [
    {
     "name": "stdout",
     "output_type": "stream",
     "text": [
      "best_estimator:\t GradientBoostingClassifier(criterion='friedman_mse', init=None,\n",
      "                           learning_rate=0.1, loss='deviance', max_depth=3,\n",
      "                           max_features=None, max_leaf_nodes=None,\n",
      "                           min_impurity_decrease=0.0, min_impurity_split=None,\n",
      "                           min_samples_leaf=1, min_samples_split=2,\n",
      "                           min_weight_fraction_leaf=0.0, n_estimators=250,\n",
      "                           n_iter_no_change=None, presort='auto',\n",
      "                           random_state=None, subsample=1.0, tol=0.0001,\n",
      "                           validation_fraction=0.1, verbose=0,\n",
      "                           warm_start=False)\n",
      "best_score:\t 0.7426\n",
      "best_params:\t {'max_depth': 3}\n",
      "best_index:\t 0\n",
      "scorer:\t <function _passthrough_scorer at 0x1a1ce9c710>\n",
      "cv_results:\t {'mean_fit_time': array([ 7.89431405, 12.6886364 , 23.94322276]), 'std_fit_time': array([0.22272457, 1.32708582, 0.95811688]), 'mean_score_time': array([0.00571175, 0.00680704, 0.01217823]), 'std_score_time': array([0.00036934, 0.00031016, 0.00146625]), 'param_max_depth': masked_array(data=[3, 5, 8],\n",
      "             mask=[False, False, False],\n",
      "       fill_value='?',\n",
      "            dtype=object), 'params': [{'max_depth': 3}, {'max_depth': 5}, {'max_depth': 8}], 'split0_test_score': array([0.77122877, 0.76123876, 0.75224775]), 'split1_test_score': array([0.75624376, 0.74225774, 0.74025974]), 'split2_test_score': array([0.716, 0.711, 0.724]), 'split3_test_score': array([0.74074074, 0.72272272, 0.72372372]), 'split4_test_score': array([0.72872873, 0.73473473, 0.73573574]), 'mean_test_score': array([0.7426, 0.7344, 0.7352]), 'std_test_score': array([0.01954481, 0.0171274 , 0.01071301]), 'rank_test_score': array([1, 3, 2], dtype=int32)}\n",
      "refit_time:\t 7.396030902862549\n"
     ]
    }
   ],
   "source": [
    "print('best_estimator:\\t', clf.best_estimator_)\n",
    "print('best_score:\\t', clf.best_score_)\n",
    "print('best_params:\\t', clf.best_params_)\n",
    "print('best_index:\\t', clf.best_index_)\n",
    "print('scorer:\\t', clf.scorer_)\n",
    "print('cv_results:\\t', clf.cv_results_)\n",
    "print('refit_time:\\t', clf.refit_time_)"
   ]
  },
  {
   "cell_type": "code",
   "execution_count": 20,
   "metadata": {},
   "outputs": [
    {
     "name": "stdout",
     "output_type": "stream",
     "text": [
      "AUC:  0.8148851819334516\n",
      "training error: 0.2518125\n",
      "validation error: 0.26831249999999995\n"
     ]
    }
   ],
   "source": [
    "gradient_boosting_classifier_roc = roc_auc_score(\n",
    "   Yva, clf.predict_proba(Xva)[:,1])\n",
    "print(\"AUC: \", gradient_boosting_classifier_roc)\n",
    "\n",
    "print(\"training error:\", 1 - clf.score(Xtr, Ytr))\n",
    "print(\"validation error:\", 1 - clf.score(Xva, Yva))"
   ]
  },
  {
   "cell_type": "markdown",
   "metadata": {},
   "source": [
    "### 3. Tuning min_samples_split and min_samples_leaf"
   ]
  },
  {
   "cell_type": "code",
   "execution_count": 21,
   "metadata": {},
   "outputs": [
    {
     "name": "stdout",
     "output_type": "stream",
     "text": [
      "training start\n",
      "training finished, took 895.4347591400146 seconds\n"
     ]
    }
   ],
   "source": [
    "clf = GridSearchCV(GradientBoostingClassifier(loss=\"deviance\", learning_rate=0.1, \n",
    "                                              n_estimators=250, max_depth=3), parameters3, cv=5)\n",
    "\n",
    "print('training start')\n",
    "starting_time = time.time()\n",
    "clf.fit(Xtr[:5000], Ytr[:5000])\n",
    "end_time = time.time()\n",
    "print(\"training finished, took {} seconds\".format(end_time - starting_time))"
   ]
  },
  {
   "cell_type": "code",
   "execution_count": 22,
   "metadata": {},
   "outputs": [
    {
     "name": "stdout",
     "output_type": "stream",
     "text": [
      "best_estimator:\t GradientBoostingClassifier(criterion='friedman_mse', init=None,\n",
      "                           learning_rate=0.1, loss='deviance', max_depth=3,\n",
      "                           max_features=None, max_leaf_nodes=None,\n",
      "                           min_impurity_decrease=0.0, min_impurity_split=None,\n",
      "                           min_samples_leaf=1, min_samples_split=2,\n",
      "                           min_weight_fraction_leaf=0.0, n_estimators=250,\n",
      "                           n_iter_no_change=None, presort='auto',\n",
      "                           random_state=None, subsample=1.0, tol=0.0001,\n",
      "                           validation_fraction=0.1, verbose=0,\n",
      "                           warm_start=False)\n",
      "best_score:\t 0.7428\n",
      "best_params:\t {'min_samples_leaf': 1, 'min_samples_split': 2}\n",
      "best_index:\t 0\n",
      "scorer:\t <function _passthrough_scorer at 0x1a1ce9c710>\n",
      "cv_results:\t {'mean_fit_time': array([6.29438066, 6.3808579 , 6.35299459, 5.57460928, 5.61101842,\n",
      "       5.49739528, 5.54592533, 5.53019524, 6.20381484, 6.01253004,\n",
      "       6.14038048, 5.91766305, 5.97823672, 5.76546082, 5.89338403,\n",
      "       5.89582276, 5.90211334, 5.90407681, 6.14417486, 5.84434943,\n",
      "       6.03959475, 6.27230759, 5.49505539, 5.6661253 , 5.88056874,\n",
      "       6.18261828, 5.68004417, 5.59225059, 5.84555702, 6.31325011]), 'std_fit_time': array([0.13063034, 0.35799648, 0.13020116, 0.04536089, 0.10433809,\n",
      "       0.02520997, 0.03847496, 0.04745302, 0.50376889, 0.12013879,\n",
      "       0.18726195, 0.11235797, 0.15858101, 0.14070599, 0.0532451 ,\n",
      "       0.10986271, 0.09371956, 0.39989889, 0.32743337, 0.20313334,\n",
      "       0.28258874, 0.36209211, 0.09583389, 0.24204416, 0.25755432,\n",
      "       0.19090447, 0.16890544, 0.14708173, 0.2723835 , 0.29304573]), 'mean_score_time': array([0.00430975, 0.00488734, 0.00458775, 0.00416923, 0.00411525,\n",
      "       0.00397263, 0.00422831, 0.00404673, 0.00439754, 0.00439596,\n",
      "       0.00436921, 0.0046308 , 0.00429568, 0.00403457, 0.00426736,\n",
      "       0.00414476, 0.00434847, 0.00420351, 0.0048306 , 0.00427952,\n",
      "       0.0044138 , 0.00461202, 0.00391126, 0.00420322, 0.00428691,\n",
      "       0.00454817, 0.00428219, 0.00418239, 0.00449657, 0.00467529]), 'std_score_time': array([1.24763565e-04, 7.84400357e-04, 5.91542116e-04, 1.57410872e-04,\n",
      "       5.07934766e-05, 1.19418590e-04, 1.81367406e-04, 6.17925397e-05,\n",
      "       5.49345794e-05, 1.12348238e-04, 8.53174015e-05, 5.73450540e-04,\n",
      "       2.71092581e-04, 1.05146583e-04, 1.51413376e-04, 1.23716556e-04,\n",
      "       1.11514198e-04, 1.56976313e-04, 5.91898619e-04, 1.08912112e-04,\n",
      "       4.08015639e-04, 4.25184798e-04, 3.91485920e-05, 2.39021521e-04,\n",
      "       2.90184407e-04, 4.88843599e-04, 1.42684817e-04, 1.81024079e-04,\n",
      "       4.61514548e-04, 4.05644633e-04]), 'param_min_samples_leaf': masked_array(data=[1, 1, 1, 1, 1, 1, 3, 3, 3, 3, 3, 3, 5, 5, 5, 5, 5, 5,\n",
      "                   7, 7, 7, 7, 7, 7, 9, 9, 9, 9, 9, 9],\n",
      "             mask=[False, False, False, False, False, False, False, False,\n",
      "                   False, False, False, False, False, False, False, False,\n",
      "                   False, False, False, False, False, False, False, False,\n",
      "                   False, False, False, False, False, False],\n",
      "       fill_value='?',\n",
      "            dtype=object), 'param_min_samples_split': masked_array(data=[2, 6, 10, 20, 40, 60, 2, 6, 10, 20, 40, 60, 2, 6, 10,\n",
      "                   20, 40, 60, 2, 6, 10, 20, 40, 60, 2, 6, 10, 20, 40, 60],\n",
      "             mask=[False, False, False, False, False, False, False, False,\n",
      "                   False, False, False, False, False, False, False, False,\n",
      "                   False, False, False, False, False, False, False, False,\n",
      "                   False, False, False, False, False, False],\n",
      "       fill_value='?',\n",
      "            dtype=object), 'params': [{'min_samples_leaf': 1, 'min_samples_split': 2}, {'min_samples_leaf': 1, 'min_samples_split': 6}, {'min_samples_leaf': 1, 'min_samples_split': 10}, {'min_samples_leaf': 1, 'min_samples_split': 20}, {'min_samples_leaf': 1, 'min_samples_split': 40}, {'min_samples_leaf': 1, 'min_samples_split': 60}, {'min_samples_leaf': 3, 'min_samples_split': 2}, {'min_samples_leaf': 3, 'min_samples_split': 6}, {'min_samples_leaf': 3, 'min_samples_split': 10}, {'min_samples_leaf': 3, 'min_samples_split': 20}, {'min_samples_leaf': 3, 'min_samples_split': 40}, {'min_samples_leaf': 3, 'min_samples_split': 60}, {'min_samples_leaf': 5, 'min_samples_split': 2}, {'min_samples_leaf': 5, 'min_samples_split': 6}, {'min_samples_leaf': 5, 'min_samples_split': 10}, {'min_samples_leaf': 5, 'min_samples_split': 20}, {'min_samples_leaf': 5, 'min_samples_split': 40}, {'min_samples_leaf': 5, 'min_samples_split': 60}, {'min_samples_leaf': 7, 'min_samples_split': 2}, {'min_samples_leaf': 7, 'min_samples_split': 6}, {'min_samples_leaf': 7, 'min_samples_split': 10}, {'min_samples_leaf': 7, 'min_samples_split': 20}, {'min_samples_leaf': 7, 'min_samples_split': 40}, {'min_samples_leaf': 7, 'min_samples_split': 60}, {'min_samples_leaf': 9, 'min_samples_split': 2}, {'min_samples_leaf': 9, 'min_samples_split': 6}, {'min_samples_leaf': 9, 'min_samples_split': 10}, {'min_samples_leaf': 9, 'min_samples_split': 20}, {'min_samples_leaf': 9, 'min_samples_split': 40}, {'min_samples_leaf': 9, 'min_samples_split': 60}], 'split0_test_score': array([0.77022977, 0.76023976, 0.76423576, 0.75924076, 0.76523477,\n",
      "       0.76223776, 0.75524476, 0.75424575, 0.75824176, 0.75024975,\n",
      "       0.76123876, 0.76123876, 0.75424575, 0.75424575, 0.75424575,\n",
      "       0.76123876, 0.76923077, 0.75124875, 0.74925075, 0.74925075,\n",
      "       0.74925075, 0.75524476, 0.75824176, 0.75924076, 0.74925075,\n",
      "       0.74925075, 0.74925075, 0.75424575, 0.75624376, 0.76123876]), 'split1_test_score': array([0.75624376, 0.75324675, 0.74425574, 0.75024975, 0.75524476,\n",
      "       0.74325674, 0.75624376, 0.75624376, 0.75524476, 0.75524476,\n",
      "       0.75824176, 0.74225774, 0.75324675, 0.75324675, 0.75324675,\n",
      "       0.75224775, 0.75124875, 0.74525475, 0.75024975, 0.75024975,\n",
      "       0.75024975, 0.74225774, 0.75324675, 0.74425574, 0.73526474,\n",
      "       0.73526474, 0.73526474, 0.75424575, 0.74125874, 0.75024975]), 'split2_test_score': array([0.716, 0.709, 0.703, 0.719, 0.704, 0.709, 0.711, 0.711, 0.713,\n",
      "       0.713, 0.712, 0.713, 0.706, 0.706, 0.706, 0.72 , 0.716, 0.721,\n",
      "       0.703, 0.703, 0.703, 0.715, 0.714, 0.708, 0.71 , 0.71 , 0.71 ,\n",
      "       0.713, 0.707, 0.701]), 'split3_test_score': array([0.74074074, 0.73573574, 0.73073073, 0.73073073, 0.72472472,\n",
      "       0.73473473, 0.72672673, 0.72572573, 0.72772773, 0.73473473,\n",
      "       0.73973974, 0.72572573, 0.73573574, 0.73473473, 0.73573574,\n",
      "       0.72772773, 0.72872873, 0.73973974, 0.72272272, 0.72272272,\n",
      "       0.72272272, 0.72372372, 0.73873874, 0.72772773, 0.72972973,\n",
      "       0.72972973, 0.72972973, 0.72772773, 0.72872873, 0.72972973]), 'split4_test_score': array([0.73073073, 0.73173173, 0.72972973, 0.72472472, 0.73673674,\n",
      "       0.73573574, 0.73973974, 0.73973974, 0.72872873, 0.73073073,\n",
      "       0.72672673, 0.73773774, 0.71971972, 0.71971972, 0.71971972,\n",
      "       0.73773774, 0.72972973, 0.72872873, 0.73073073, 0.73073073,\n",
      "       0.73073073, 0.73473473, 0.74274274, 0.74074074, 0.73373373,\n",
      "       0.73373373, 0.73373373, 0.73773774, 0.73173173, 0.73273273]), 'mean_test_score': array([0.7428, 0.738 , 0.7344, 0.7368, 0.7372, 0.737 , 0.7378, 0.7374,\n",
      "       0.7366, 0.7368, 0.7396, 0.736 , 0.7338, 0.7336, 0.7338, 0.7398,\n",
      "       0.739 , 0.7372, 0.7312, 0.7312, 0.7312, 0.7342, 0.7414, 0.736 ,\n",
      "       0.7316, 0.7316, 0.7316, 0.7374, 0.733 , 0.735 ]), 'std_test_score': array([0.01898451, 0.01796202, 0.02004742, 0.01539138, 0.02177432,\n",
      "       0.01713179, 0.01726053, 0.01719353, 0.01740289, 0.01502748,\n",
      "       0.01867566, 0.01621297, 0.01882361, 0.01880729, 0.01882361,\n",
      "       0.01521226, 0.01889572, 0.01098256, 0.01764462, 0.01764462,\n",
      "       0.01764462, 0.01404909, 0.01538864, 0.01722622, 0.01264837,\n",
      "       0.01264837, 0.01264837, 0.01585597, 0.016155  , 0.02054669]), 'rank_test_score': array([ 1,  6, 19, 13, 10, 12,  7,  8, 15, 13,  4, 16, 21, 23, 21,  3,  5,\n",
      "       10, 28, 28, 28, 20,  2, 16, 25, 25, 25,  8, 24, 18], dtype=int32)}\n",
      "refit_time:\t 7.919471025466919\n"
     ]
    }
   ],
   "source": [
    "print('best_estimator:\\t', clf.best_estimator_)\n",
    "print('best_score:\\t', clf.best_score_)\n",
    "print('best_params:\\t', clf.best_params_)\n",
    "print('best_index:\\t', clf.best_index_)\n",
    "print('scorer:\\t', clf.scorer_)\n",
    "print('cv_results:\\t', clf.cv_results_)\n",
    "print('refit_time:\\t', clf.refit_time_)"
   ]
  },
  {
   "cell_type": "code",
   "execution_count": 23,
   "metadata": {},
   "outputs": [
    {
     "name": "stdout",
     "output_type": "stream",
     "text": [
      "AUC:  0.8148286885539365\n",
      "training error: 0.251765625\n",
      "validation error: 0.2684375\n"
     ]
    }
   ],
   "source": [
    "gradient_boosting_classifier_roc = roc_auc_score(\n",
    "   Yva, clf.predict_proba(Xva)[:,1])\n",
    "print(\"AUC: \", gradient_boosting_classifier_roc)\n",
    "\n",
    "print(\"training error:\", 1 - clf.score(Xtr, Ytr))\n",
    "print(\"validation error:\", 1 - clf.score(Xva, Yva))"
   ]
  },
  {
   "cell_type": "markdown",
   "metadata": {},
   "source": [
    "### 4. Tuning max_features"
   ]
  },
  {
   "cell_type": "code",
   "execution_count": 24,
   "metadata": {},
   "outputs": [
    {
     "name": "stdout",
     "output_type": "stream",
     "text": [
      "training start\n",
      "training finished, took 8.63338017463684 seconds\n"
     ]
    }
   ],
   "source": [
    "clf = GridSearchCV(GradientBoostingClassifier(loss=\"deviance\", learning_rate=0.1, \n",
    "                                              n_estimators=250, max_depth=3,\n",
    "                                              min_samples_split=2,min_samples_leaf=1), parameters4, cv=5)\n",
    "\n",
    "print('training start')\n",
    "starting_time = time.time()\n",
    "clf.fit(Xtr[:5000], Ytr[:5000])\n",
    "end_time = time.time()\n",
    "print(\"training finished, took {} seconds\".format(end_time - starting_time))"
   ]
  },
  {
   "cell_type": "code",
   "execution_count": 25,
   "metadata": {},
   "outputs": [
    {
     "name": "stdout",
     "output_type": "stream",
     "text": [
      "best_estimator:\t GradientBoostingClassifier(criterion='friedman_mse', init=None,\n",
      "                           learning_rate=0.1, loss='deviance', max_depth=3,\n",
      "                           max_features='sqrt', max_leaf_nodes=None,\n",
      "                           min_impurity_decrease=0.0, min_impurity_split=None,\n",
      "                           min_samples_leaf=1, min_samples_split=2,\n",
      "                           min_weight_fraction_leaf=0.0, n_estimators=250,\n",
      "                           n_iter_no_change=None, presort='auto',\n",
      "                           random_state=None, subsample=1.0, tol=0.0001,\n",
      "                           validation_fraction=0.1, verbose=0,\n",
      "                           warm_start=False)\n",
      "best_score:\t 0.7358\n",
      "best_params:\t {'max_features': 'sqrt'}\n",
      "best_index:\t 1\n",
      "scorer:\t <function _passthrough_scorer at 0x1a1ce9c710>\n",
      "cv_results:\t {'mean_fit_time': array([0.61297674, 0.89302468]), 'std_fit_time': array([0.0221916 , 0.01699773]), 'mean_score_time': array([0.00444722, 0.004916  ]), 'std_score_time': array([0.00045259, 0.00047391]), 'param_max_features': masked_array(data=['log2', 'sqrt'],\n",
      "             mask=[False, False],\n",
      "       fill_value='?',\n",
      "            dtype=object), 'params': [{'max_features': 'log2'}, {'max_features': 'sqrt'}], 'split0_test_score': array([0.74425574, 0.76323676]), 'split1_test_score': array([0.73726274, 0.74425574]), 'split2_test_score': array([0.71 , 0.716]), 'split3_test_score': array([0.74174174, 0.73473473]), 'split4_test_score': array([0.72772773, 0.72072072]), 'mean_test_score': array([0.7322, 0.7358]), 'std_test_score': array([0.01244924, 0.01700253]), 'rank_test_score': array([2, 1], dtype=int32)}\n",
      "refit_time:\t 1.0447580814361572\n"
     ]
    }
   ],
   "source": [
    "print('best_estimator:\\t', clf.best_estimator_)\n",
    "print('best_score:\\t', clf.best_score_)\n",
    "print('best_params:\\t', clf.best_params_)\n",
    "print('best_index:\\t', clf.best_index_)\n",
    "print('scorer:\\t', clf.scorer_)\n",
    "print('cv_results:\\t', clf.cv_results_)\n",
    "print('refit_time:\\t', clf.refit_time_)"
   ]
  },
  {
   "cell_type": "code",
   "execution_count": 26,
   "metadata": {},
   "outputs": [
    {
     "name": "stdout",
     "output_type": "stream",
     "text": [
      "AUC:  0.8182076802585363\n",
      "training error: 0.250484375\n",
      "validation error: 0.26356250000000003\n"
     ]
    }
   ],
   "source": [
    "gradient_boosting_classifier_roc = roc_auc_score(\n",
    "   Yva, clf.predict_proba(Xva)[:,1])\n",
    "print(\"AUC: \", gradient_boosting_classifier_roc)\n",
    "\n",
    "print(\"training error:\", 1 - clf.score(Xtr, Ytr))\n",
    "print(\"validation error:\", 1 - clf.score(Xva, Yva))"
   ]
  },
  {
   "cell_type": "markdown",
   "metadata": {},
   "source": [
    "### 5. Tuning subsample"
   ]
  },
  {
   "cell_type": "code",
   "execution_count": 27,
   "metadata": {},
   "outputs": [
    {
     "name": "stdout",
     "output_type": "stream",
     "text": [
      "training start\n",
      "training finished, took 30.260679960250854 seconds\n"
     ]
    }
   ],
   "source": [
    "clf = GridSearchCV(GradientBoostingClassifier(loss=\"deviance\", learning_rate=0.1, \n",
    "                                              n_estimators=250, max_depth=3,\n",
    "                                              min_samples_split=2,min_samples_leaf=1,\n",
    "                                              max_features='sqrt'), parameters5, cv=5)\n",
    "\n",
    "print('training start')\n",
    "starting_time = time.time()\n",
    "clf.fit(Xtr[:5000], Ytr[:5000])\n",
    "end_time = time.time()\n",
    "print(\"training finished, took {} seconds\".format(end_time - starting_time))"
   ]
  },
  {
   "cell_type": "code",
   "execution_count": 28,
   "metadata": {},
   "outputs": [
    {
     "name": "stdout",
     "output_type": "stream",
     "text": [
      "best_estimator:\t GradientBoostingClassifier(criterion='friedman_mse', init=None,\n",
      "                           learning_rate=0.1, loss='deviance', max_depth=3,\n",
      "                           max_features='sqrt', max_leaf_nodes=None,\n",
      "                           min_impurity_decrease=0.0, min_impurity_split=None,\n",
      "                           min_samples_leaf=1, min_samples_split=2,\n",
      "                           min_weight_fraction_leaf=0.0, n_estimators=250,\n",
      "                           n_iter_no_change=None, presort='auto',\n",
      "                           random_state=None, subsample=0.5, tol=0.0001,\n",
      "                           validation_fraction=0.1, verbose=0,\n",
      "                           warm_start=False)\n",
      "best_score:\t 0.7406\n",
      "best_params:\t {'subsample': 0.5}\n",
      "best_index:\t 0\n",
      "scorer:\t <function _passthrough_scorer at 0x1a1ce9c710>\n",
      "cv_results:\t {'mean_fit_time': array([0.75178308, 0.78481722, 0.84637012, 0.85710168, 0.87065721,\n",
      "       0.93545694, 0.79726086]), 'std_fit_time': array([0.02164824, 0.06138873, 0.04509082, 0.05450365, 0.0924277 ,\n",
      "       0.03688853, 0.01913746]), 'mean_score_time': array([0.00419822, 0.00449672, 0.00466123, 0.00444455, 0.00459838,\n",
      "       0.00471005, 0.00429721]), 'std_score_time': array([0.00017599, 0.00029959, 0.0004443 , 0.00050307, 0.00052416,\n",
      "       0.00052963, 0.00017523]), 'param_subsample': masked_array(data=[0.5, 0.618, 0.8, 0.85, 0.9, 0.95, 1.0],\n",
      "             mask=[False, False, False, False, False, False, False],\n",
      "       fill_value='?',\n",
      "            dtype=object), 'params': [{'subsample': 0.5}, {'subsample': 0.618}, {'subsample': 0.8}, {'subsample': 0.85}, {'subsample': 0.9}, {'subsample': 0.95}, {'subsample': 1.0}], 'split0_test_score': array([0.75424575, 0.77022977, 0.76223776, 0.76423576, 0.76323676,\n",
      "       0.76423576, 0.75224775]), 'split1_test_score': array([0.73926074, 0.75524476, 0.73126873, 0.74225774, 0.74125874,\n",
      "       0.74325674, 0.74025974]), 'split2_test_score': array([0.733, 0.702, 0.705, 0.706, 0.714, 0.718, 0.717]), 'split3_test_score': array([0.73173173, 0.73373373, 0.73373373, 0.72772773, 0.72472472,\n",
      "       0.72172172, 0.72372372]), 'split4_test_score': array([0.74474474, 0.71571572, 0.72972973, 0.72972973, 0.73773774,\n",
      "       0.72572573, 0.72572573]), 'mean_test_score': array([0.7406, 0.7354, 0.7324, 0.734 , 0.7362, 0.7346, 0.7318]), 'std_test_score': array([0.00826653, 0.02495577, 0.01817759, 0.01910441, 0.01663783,\n",
      "       0.01717026, 0.01273757]), 'rank_test_score': array([1, 3, 6, 5, 2, 4, 7], dtype=int32)}\n",
      "refit_time:\t 0.8622879981994629\n"
     ]
    }
   ],
   "source": [
    "print('best_estimator:\\t', clf.best_estimator_)\n",
    "print('best_score:\\t', clf.best_score_)\n",
    "print('best_params:\\t', clf.best_params_)\n",
    "print('best_index:\\t', clf.best_index_)\n",
    "print('scorer:\\t', clf.scorer_)\n",
    "print('cv_results:\\t', clf.cv_results_)\n",
    "print('refit_time:\\t', clf.refit_time_)"
   ]
  },
  {
   "cell_type": "code",
   "execution_count": 29,
   "metadata": {},
   "outputs": [
    {
     "name": "stdout",
     "output_type": "stream",
     "text": [
      "AUC:  0.8190869141501758\n",
      "training error: 0.25396874999999997\n",
      "validation error: 0.26349999999999996\n"
     ]
    }
   ],
   "source": [
    "gradient_boosting_classifier_roc = roc_auc_score(\n",
    "   Yva, clf.predict_proba(Xva)[:,1])\n",
    "print(\"AUC: \", gradient_boosting_classifier_roc)\n",
    "\n",
    "print(\"training error:\", 1 - clf.score(Xtr, Ytr))\n",
    "print(\"validation error:\", 1 - clf.score(Xva, Yva))"
   ]
  },
  {
   "cell_type": "markdown",
   "metadata": {},
   "source": [
    "### Final GB model after gridsearch"
   ]
  },
  {
   "cell_type": "code",
   "execution_count": 31,
   "metadata": {},
   "outputs": [
    {
     "name": "stdout",
     "output_type": "stream",
     "text": [
      "training start\n",
      "training finished, took 17.08224606513977 seconds\n",
      "AUC:  0.8337655506622237\n",
      "training acc: 0.76834375\n",
      "validation acc: 0.7521875\n"
     ]
    }
   ],
   "source": [
    "gb_grid = GradientBoostingClassifier(loss=\"deviance\", learning_rate=0.1, \n",
    "                                     n_estimators=250, max_depth=3,\n",
    "                                     min_samples_split=2,min_samples_leaf=1,\n",
    "                                     max_features='sqrt', subsample=0.5)\n",
    "\n",
    "print('training start')\n",
    "starting_time = time.time()\n",
    "gb_grid.fit(Xtr, Ytr)\n",
    "end_time = time.time()\n",
    "print(\"training finished, took {} seconds\".format(end_time - starting_time))\n",
    "\n",
    "gradient_boosting_classifier_roc = roc_auc_score(\n",
    "   Yva, gb_grid.predict_proba(Xva)[:,1])\n",
    "print(\"AUC: \", gradient_boosting_classifier_roc)\n",
    "\n",
    "print(\"training acc:\", gb_grid.score(Xtr, Ytr))\n",
    "print(\"validation acc:\", gb_grid.score(Xva, Yva))"
   ]
  },
  {
   "cell_type": "code",
   "execution_count": 32,
   "metadata": {},
   "outputs": [
    {
     "name": "stdout",
     "output_type": "stream",
     "text": [
      "ROC AUC score on Test data:\t 0.8357213362820417\n"
     ]
    }
   ],
   "source": [
    "roc = roc_auc_score(Y_test, gb_grid.predict_proba(X_test)[:,1])\n",
    "print(\"ROC AUC score on Test data:\\t\", roc)"
   ]
  },
  {
   "cell_type": "markdown",
   "metadata": {},
   "source": [
    "## Bayesian Optimization"
   ]
  },
  {
   "cell_type": "code",
   "execution_count": 33,
   "metadata": {},
   "outputs": [],
   "source": [
    "from skopt.space import Integer\n",
    "from skopt.space import Real\n",
    "from skopt.utils import use_named_args\n",
    "from skopt import gp_minimize\n",
    "from numpy import mean\n",
    "\n",
    "import warnings\n",
    "warnings.filterwarnings('ignore')"
   ]
  },
  {
   "cell_type": "markdown",
   "metadata": {},
   "source": [
    "### 1. Tuning \"n_estimators\" and \"learning_rate\""
   ]
  },
  {
   "cell_type": "code",
   "execution_count": 34,
   "metadata": {},
   "outputs": [
    {
     "name": "stdout",
     "output_type": "stream",
     "text": [
      "Best Accuracy: 0.743\n",
      "Best Parameters: n_estimators=1000\t learning_rate=0.056248\n"
     ]
    }
   ],
   "source": [
    "search_space1 = [Integer(1000, 2000, name='n_estimators'), Real(0.001, 1, name=\"learning_rate\")]\n",
    "\n",
    "clf1 = GradientBoostingClassifier(loss=\"deviance\",max_features=\"sqrt\")\n",
    "\n",
    "@use_named_args(search_space1)\n",
    "def evaluate_model1(**params):\n",
    "    # something\n",
    "    clf1.set_params(**params)\n",
    "    # calculate 5-fold cross validation\n",
    "    result = cross_val_score(clf1, Xtr[:5000], Ytr[:5000], cv=5, n_jobs=-1, scoring='accuracy')\n",
    "    # calculate the mean of the scores\n",
    "    estimate = mean(result)\n",
    "    return 1.0 - estimate\n",
    "\n",
    "result1 = gp_minimize(evaluate_model1, search_space1)\n",
    "print('Best Accuracy: %.3f' % (1.0 - result1.fun))\n",
    "print('Best Parameters: n_estimators=%d\\t learning_rate=%f' % (result1.x[0], result1.x[1]))"
   ]
  },
  {
   "cell_type": "markdown",
   "metadata": {},
   "source": [
    "### 2. Tuning \"subsample\""
   ]
  },
  {
   "cell_type": "code",
   "execution_count": 35,
   "metadata": {},
   "outputs": [
    {
     "name": "stdout",
     "output_type": "stream",
     "text": [
      "Best Accuracy: 0.744\n",
      "Best Parameters: subsample=0.640235\n"
     ]
    }
   ],
   "source": [
    "search_space2 = [Real(0.1, 1, name=\"subsample\")]\n",
    "\n",
    "clf2 = GradientBoostingClassifier(n_estimators=1000, learning_rate=0.056248,\n",
    "                                  loss=\"deviance\",max_features=\"sqrt\")\n",
    "\n",
    "@use_named_args(search_space2)\n",
    "def evaluate_model2(**params):\n",
    "    # something\n",
    "    clf2.set_params(**params)\n",
    "    # calculate 5-fold cross validation\n",
    "    result = cross_val_score(clf2, Xtr[:5000], Ytr[:5000], cv=5, n_jobs=-1, scoring='accuracy')\n",
    "    # calculate the mean of the scores\n",
    "    estimate = mean(result)\n",
    "    return 1.0 - estimate\n",
    "\n",
    "result2 = gp_minimize(evaluate_model2, search_space2)\n",
    "print('Best Accuracy: %.3f' % (1.0 - result2.fun))\n",
    "print('Best Parameters: subsample=%f' % (result2.x[0]))"
   ]
  },
  {
   "cell_type": "markdown",
   "metadata": {},
   "source": [
    "### 3. Tuning \"max_depth\""
   ]
  },
  {
   "cell_type": "code",
   "execution_count": 37,
   "metadata": {},
   "outputs": [
    {
     "name": "stdout",
     "output_type": "stream",
     "text": [
      "Best Accuracy: 0.745\n",
      "Best Parameters: max_depth=10\n"
     ]
    }
   ],
   "source": [
    "search_space3 = [Integer(3, 10, name=\"max_depth\")]\n",
    "\n",
    "clf3 = GradientBoostingClassifier(n_estimators=1000, learning_rate=0.056248,\n",
    "                                  subsample=0.640235,\n",
    "                                  loss=\"deviance\",max_features=\"sqrt\")\n",
    "\n",
    "@use_named_args(search_space3)\n",
    "def evaluate_model3(**params):\n",
    "    # something\n",
    "    clf3.set_params(**params)\n",
    "    # calculate 5-fold cross validation\n",
    "    result = cross_val_score(clf3, Xtr[:5000], Ytr[:5000], cv=5, n_jobs=-1, scoring='accuracy')\n",
    "    # calculate the mean of the scores\n",
    "    estimate = mean(result)\n",
    "    return 1.0 - estimate\n",
    "\n",
    "result3 = gp_minimize(evaluate_model3, search_space3)\n",
    "print('Best Accuracy: %.3f' % (1.0 - result3.fun))\n",
    "print('Best Parameters: max_depth=%d' % (result3.x[0]))"
   ]
  },
  {
   "cell_type": "markdown",
   "metadata": {},
   "source": [
    "### 4. Tuning \"min_samples_split\" and \"min_samples_leaf\""
   ]
  },
  {
   "cell_type": "code",
   "execution_count": 38,
   "metadata": {},
   "outputs": [
    {
     "name": "stdout",
     "output_type": "stream",
     "text": [
      "Best Accuracy: 0.748\n",
      "Best Parameters: min_samples_split=2\t min_samples_leaf=10\n"
     ]
    }
   ],
   "source": [
    "search_space4 = [Integer(2, 60, name=\"min_samples_split\"), Integer(1, 10, name=\"min_samples_leaf\")]\n",
    "\n",
    "clf4 = GradientBoostingClassifier(n_estimators=1000, learning_rate=0.056248,\n",
    "                                  subsample=0.640235, max_depth=10,\n",
    "                                  loss=\"deviance\",max_features=\"sqrt\")\n",
    "\n",
    "@use_named_args(search_space4)\n",
    "def evaluate_model4(**params):\n",
    "    # something\n",
    "    clf4.set_params(**params)\n",
    "    # calculate 5-fold cross validation\n",
    "    result = cross_val_score(clf4, Xtr[:5000], Ytr[:5000], cv=5, n_jobs=-1, scoring='accuracy')\n",
    "    # calculate the mean of the scores\n",
    "    estimate = mean(result)\n",
    "    return 1.0 - estimate\n",
    "\n",
    "result4 = gp_minimize(evaluate_model4, search_space4)\n",
    "print('Best Accuracy: %.3f' % (1.0 - result4.fun))\n",
    "print('Best Parameters: min_samples_split=%d\\t min_samples_leaf=%d' % (result4.x[0], result4.x[1]))"
   ]
  },
  {
   "cell_type": "markdown",
   "metadata": {},
   "source": [
    "### Final GB model after Bayesian Optimization"
   ]
  },
  {
   "cell_type": "code",
   "execution_count": 39,
   "metadata": {},
   "outputs": [
    {
     "name": "stdout",
     "output_type": "stream",
     "text": [
      "training start\n",
      "training finished, took 403.4930191040039 seconds\n",
      "AUC:  0.8421545440391209\n",
      "training acc: 0.993515625\n",
      "validation acc: 0.7619375\n"
     ]
    }
   ],
   "source": [
    "gb_bayeOptimal = GradientBoostingClassifier(n_estimators=1000, learning_rate=0.056248,\n",
    "                                  subsample=0.640235, max_depth=10, min_samples_split=2, \n",
    "                                  min_samples_leaf=10, loss=\"deviance\",max_features=\"sqrt\")\n",
    "\n",
    "print('training start')\n",
    "starting_time = time.time()\n",
    "gb_bayeOptimal.fit(Xtr, Ytr)\n",
    "end_time = time.time()\n",
    "print(\"training finished, took {} seconds\".format(end_time - starting_time))\n",
    "\n",
    "gradient_boosting_classifier_roc = roc_auc_score(\n",
    "   Yva, gb_bayeOptimal.predict_proba(Xva)[:,1])\n",
    "print(\"AUC: \", gradient_boosting_classifier_roc)\n",
    "\n",
    "print(\"training acc:\", gb_bayeOptimal.score(Xtr, Ytr))\n",
    "print(\"validation acc:\", gb_bayeOptimal.score(Xva, Yva))"
   ]
  },
  {
   "cell_type": "code",
   "execution_count": 40,
   "metadata": {},
   "outputs": [
    {
     "name": "stdout",
     "output_type": "stream",
     "text": [
      "ROC AUC score on Test data:\t 0.8431092672800585\n"
     ]
    }
   ],
   "source": [
    "roc = roc_auc_score(Y_test, gb_bayeOptimal.predict_proba(X_test)[:,1])\n",
    "print(\"ROC AUC score on Test data:\\t\", roc)"
   ]
  },
  {
   "cell_type": "markdown",
   "metadata": {},
   "source": [
    "## Save the best GB model"
   ]
  },
  {
   "cell_type": "code",
   "execution_count": null,
   "metadata": {},
   "outputs": [],
   "source": [
    "import joblib\n",
    "\n",
    "joblib.dump(best, '../new_data/best_gb.sav')"
   ]
  }
 ],
 "metadata": {
  "kernelspec": {
   "display_name": "Python 3",
   "language": "python",
   "name": "python3"
  }
 },
 "nbformat": 4,
 "nbformat_minor": 2
}
