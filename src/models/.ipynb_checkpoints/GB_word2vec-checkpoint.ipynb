{
 "cells": [
  {
   "cell_type": "code",
   "execution_count": 1,
   "metadata": {},
   "outputs": [],
   "source": [
    "import pandas as pd\n",
    "import numpy as np\n",
    "import scipy\n",
    "import matplotlib.pyplot as plt\n",
    "from sklearn.metrics import roc_auc_score\n",
    "from sklearn.model_selection import cross_val_score\n",
    "from sklearn.ensemble import GradientBoostingClassifier\n",
    "from sklearn.model_selection import train_test_split\n",
    "\n",
    "X = np.genfromtxt('../new_data/X_word2vec.csv', delimiter=',')\n",
    "Y = np.genfromtxt('../new_data/Y.csv', delimiter=',')"
   ]
  },
  {
   "cell_type": "code",
   "execution_count": 2,
   "metadata": {},
   "outputs": [
    {
     "data": {
      "text/plain": [
       "(100001, 100)"
      ]
     },
     "execution_count": 2,
     "metadata": {},
     "output_type": "execute_result"
    }
   ],
   "source": [
    "X.shape"
   ]
  },
  {
   "cell_type": "code",
   "execution_count": 4,
   "metadata": {},
   "outputs": [
    {
     "data": {
      "text/plain": [
       "(100000, 100)"
      ]
     },
     "execution_count": 4,
     "metadata": {},
     "output_type": "execute_result"
    }
   ],
   "source": [
    "X = X[1:]\n",
    "X.shape"
   ]
  },
  {
   "cell_type": "code",
   "execution_count": 5,
   "metadata": {},
   "outputs": [
    {
     "data": {
      "text/plain": [
       "(100001,)"
      ]
     },
     "execution_count": 5,
     "metadata": {},
     "output_type": "execute_result"
    }
   ],
   "source": [
    "Y.shape"
   ]
  },
  {
   "cell_type": "code",
   "execution_count": 6,
   "metadata": {},
   "outputs": [
    {
     "data": {
      "text/plain": [
       "0.0"
      ]
     },
     "execution_count": 6,
     "metadata": {},
     "output_type": "execute_result"
    }
   ],
   "source": [
    "Y[0]"
   ]
  },
  {
   "cell_type": "code",
   "execution_count": 7,
   "metadata": {},
   "outputs": [
    {
     "data": {
      "text/plain": [
       "(100000,)"
      ]
     },
     "execution_count": 7,
     "metadata": {},
     "output_type": "execute_result"
    }
   ],
   "source": [
    "Y = Y[1:]\n",
    "Y.shape"
   ]
  },
  {
   "cell_type": "code",
   "execution_count": 9,
   "metadata": {},
   "outputs": [
    {
     "data": {
      "text/plain": [
       "array([ 0.13919652,  0.34522787,  0.25230184, -0.0769003 ,  0.16374893,\n",
       "        0.20409723,  0.23620039, -0.22331832,  0.5665915 , -0.00426637,\n",
       "        0.17732595, -0.23525636, -0.11313281, -0.10409188,  0.45694837,\n",
       "       -0.10380501, -0.03387303,  0.04110739,  0.34642172,  0.0021829 ,\n",
       "        0.56319404, -0.36089084, -0.10861673,  0.44213843,  0.04636109,\n",
       "       -0.094379  , -0.1529754 , -0.33557013, -0.24949755, -0.03063167,\n",
       "        0.19823845,  0.26017118,  0.46327618, -0.04559801, -0.5678514 ,\n",
       "       -0.58161813, -0.19105203, -0.07561374, -0.20636106, -0.04571686,\n",
       "       -0.02558777, -0.35042024, -0.51668215, -0.13987066,  0.01888408,\n",
       "       -0.32288697,  0.15072297,  0.03304933, -0.22576384,  0.10634459,\n",
       "       -0.29640242, -0.11779431,  0.32316992, -0.02969029,  0.08544739,\n",
       "        0.49210298, -0.07357363, -0.3178645 ,  0.5132642 ,  0.14494598,\n",
       "        0.02008446, -0.38770854,  0.14228489,  0.26731256,  0.26943806,\n",
       "       -0.04936242,  0.3703746 ,  0.25799286,  0.25105253,  0.5708216 ,\n",
       "       -0.09532217,  0.15920295, -0.05579858, -0.00389347,  0.5914072 ,\n",
       "        0.05183172, -0.5025226 ,  0.43837693, -0.08970568,  0.26713663,\n",
       "       -0.33691576, -0.2853355 ,  0.4431546 , -0.1755861 ,  0.09494593,\n",
       "       -0.0021599 ,  0.1856425 ,  0.26375088,  0.04542018,  0.7166362 ,\n",
       "       -0.24244247, -0.39214745,  0.16829698,  0.08719499, -0.02574323,\n",
       "       -0.01961872, -0.15897596, -0.20247114,  0.1206493 ,  0.20066495])"
      ]
     },
     "execution_count": 9,
     "metadata": {},
     "output_type": "execute_result"
    }
   ],
   "source": [
    "X[0]"
   ]
  },
  {
   "cell_type": "code",
   "execution_count": 5,
   "metadata": {},
   "outputs": [],
   "source": [
    "X_comp, X_test, Y_comp, Y_test = train_test_split(X, Y, test_size=0.2, random_state=0)\n",
    "Xtr, Xva, Ytr, Yva = train_test_split(X_comp, Y_comp, test_size=0.2)"
   ]
  },
  {
   "cell_type": "code",
   "execution_count": 2,
   "metadata": {},
   "outputs": [],
   "source": [
    "from sklearn.model_selection import GridSearchCV\n",
    "\n",
    "parameters1 = {\"learning_rate\": [0.01, 0.05, 0.075, 0.1,0.2],\n",
    "               \"n_estimators\":[10, 100, 250, 500, 1000, 1250, 1500, 1750]}\n",
    "\n",
    "parameters2 = {\"max_depth\":[3,5,8]}\n",
    "\n",
    "parameters3 = {\"min_samples_split\": [2,6,10,20,40,60],\n",
    "               \"min_samples_leaf\": [1,3,5,7,9]}\n",
    "\n",
    "parameters4 = {\"max_features\":[\"log2\",\"sqrt\"]}\n",
    "\n",
    "parameters5 = {\"subsample\":[0.5, 0.618, 0.8, 0.85, 0.9, 0.95, 1.0]}"
   ]
  },
  {
   "cell_type": "code",
   "execution_count": null,
   "metadata": {},
   "outputs": [
    {
     "name": "stdout",
     "output_type": "stream",
     "text": [
      "training start\n"
     ]
    }
   ],
   "source": [
    "import time\n",
    "clf = GridSearchCV(GradientBoostingClassifier(loss=\"deviance\"), parameters1, cv=5)\n",
    "\n",
    "print('training start')\n",
    "starting_time = time.time()\n",
    "clf.fit(Xtr[:5000], Ytr[:5000])\n",
    "end_time = time.time()\n",
    "print(\"training finished, took {} seconds\".format(end_time - starting_time))"
   ]
  },
  {
   "cell_type": "code",
   "execution_count": null,
   "metadata": {},
   "outputs": [],
   "source": []
  }
 ],
 "metadata": {
  "kernelspec": {
   "display_name": "Python 3",
   "language": "python",
   "name": "python3"
  },
  "language_info": {
   "codemirror_mode": {
    "name": "ipython",
    "version": 3
   },
   "file_extension": ".py",
   "mimetype": "text/x-python",
   "name": "python",
   "nbconvert_exporter": "python",
   "pygments_lexer": "ipython3",
   "version": "3.7.4"
  }
 },
 "nbformat": 4,
 "nbformat_minor": 2
}
