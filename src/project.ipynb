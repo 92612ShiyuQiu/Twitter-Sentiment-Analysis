{
 "cells": [
  {
   "cell_type": "code",
   "execution_count": 1,
   "metadata": {},
   "outputs": [],
   "source": [
    "import pandas as pd\n",
    "import numpy as np\n",
    "import scipy\n",
    "import matplotlib.pyplot as plt\n",
    "import joblib\n",
    "import time\n",
    "from sklearn.model_selection import train_test_split\n",
    "from sklearn.metrics import classification_report\n",
    "from sklearn.metrics import roc_auc_score\n",
    "from sklearn.model_selection import cross_val_score\n",
    "from sklearn.ensemble import GradientBoostingClassifier\n",
    "from sklearn.neural_network import MLPClassifier\n",
    "from sklearn.ensemble import GradientBoostingClassifier\n",
    "from sklearn.linear_model import LogisticRegression\n",
    "from sklearn.pipeline import Pipeline\n",
    "from sklearn.preprocessing import StandardScaler\n",
    "from sklearn.ensemble import VotingClassifier\n",
    "\n",
    "import warnings\n",
    "warnings.filterwarnings('ignore')"
   ]
  },
  {
   "cell_type": "markdown",
   "metadata": {},
   "source": [
    "## Load tweets training data\n",
    "\n",
    "We used two different methods to represent words from each Tweet: Bag of Words and Skip-Gram Word2Vec (word embeddings). Since Word2Vec has higher accuracy in practice, we will only use data in this format to show our final work."
   ]
  },
  {
   "cell_type": "code",
   "execution_count": 2,
   "metadata": {},
   "outputs": [],
   "source": [
    "X = np.genfromtxt('src/new_data/X_word2vec.csv', delimiter=',')[1:]\n",
    "Y = np.genfromtxt('src/new_data/Y.csv', delimiter=',')[1:]"
   ]
  },
  {
   "cell_type": "code",
   "execution_count": 3,
   "metadata": {},
   "outputs": [
    {
     "data": {
      "text/plain": [
       "(100000, 100)"
      ]
     },
     "execution_count": 3,
     "metadata": {},
     "output_type": "execute_result"
    }
   ],
   "source": [
    "X.shape"
   ]
  },
  {
   "cell_type": "code",
   "execution_count": 4,
   "metadata": {},
   "outputs": [
    {
     "data": {
      "text/plain": [
       "(100000,)"
      ]
     },
     "execution_count": 4,
     "metadata": {},
     "output_type": "execute_result"
    }
   ],
   "source": [
    "Y.shape"
   ]
  },
  {
   "cell_type": "code",
   "execution_count": 5,
   "metadata": {},
   "outputs": [
    {
     "data": {
      "text/plain": [
       "array([ 0.13919652,  0.34522787,  0.25230184, -0.0769003 ,  0.16374893,\n",
       "        0.20409723,  0.23620039, -0.22331832,  0.5665915 , -0.00426637,\n",
       "        0.17732595, -0.23525636, -0.11313281, -0.10409188,  0.45694837,\n",
       "       -0.10380501, -0.03387303,  0.04110739,  0.34642172,  0.0021829 ,\n",
       "        0.56319404, -0.36089084, -0.10861673,  0.44213843,  0.04636109,\n",
       "       -0.094379  , -0.1529754 , -0.33557013, -0.24949755, -0.03063167,\n",
       "        0.19823845,  0.26017118,  0.46327618, -0.04559801, -0.5678514 ,\n",
       "       -0.58161813, -0.19105203, -0.07561374, -0.20636106, -0.04571686,\n",
       "       -0.02558777, -0.35042024, -0.51668215, -0.13987066,  0.01888408,\n",
       "       -0.32288697,  0.15072297,  0.03304933, -0.22576384,  0.10634459,\n",
       "       -0.29640242, -0.11779431,  0.32316992, -0.02969029,  0.08544739,\n",
       "        0.49210298, -0.07357363, -0.3178645 ,  0.5132642 ,  0.14494598,\n",
       "        0.02008446, -0.38770854,  0.14228489,  0.26731256,  0.26943806,\n",
       "       -0.04936242,  0.3703746 ,  0.25799286,  0.25105253,  0.5708216 ,\n",
       "       -0.09532217,  0.15920295, -0.05579858, -0.00389347,  0.5914072 ,\n",
       "        0.05183172, -0.5025226 ,  0.43837693, -0.08970568,  0.26713663,\n",
       "       -0.33691576, -0.2853355 ,  0.4431546 , -0.1755861 ,  0.09494593,\n",
       "       -0.0021599 ,  0.1856425 ,  0.26375088,  0.04542018,  0.7166362 ,\n",
       "       -0.24244247, -0.39214745,  0.16829698,  0.08719499, -0.02574323,\n",
       "       -0.01961872, -0.15897596, -0.20247114,  0.1206493 ,  0.20066495])"
      ]
     },
     "execution_count": 5,
     "metadata": {},
     "output_type": "execute_result"
    }
   ],
   "source": [
    "X[0]"
   ]
  },
  {
   "cell_type": "code",
   "execution_count": 6,
   "metadata": {},
   "outputs": [],
   "source": [
    "X_comp, X_test, Y_comp, Y_test, indices_train, indices_test = train_test_split(X, Y, np.arange(100000), test_size=0.2, random_state=0)\n",
    "Xtr, Xva, Ytr, Yva = train_test_split(X_comp, Y_comp, test_size=0.2)"
   ]
  },
  {
   "cell_type": "markdown",
   "metadata": {},
   "source": [
    "## Models"
   ]
  },
  {
   "cell_type": "code",
   "execution_count": 7,
   "metadata": {},
   "outputs": [
    {
     "name": "stdout",
     "output_type": "stream",
     "text": [
      "ROC AUC score on Test data:\t 0.8365729044656119\n"
     ]
    },
    {
     "data": {
      "text/plain": [
       "['new_data/best_mlp.sav']"
      ]
     },
     "execution_count": 7,
     "metadata": {},
     "output_type": "execute_result"
    }
   ],
   "source": [
    "# mlp = MLPClassifier(max_iter=1000, hidden_layer_sizes=(300,), \n",
    "#                    activation='identity', solver='adam', alpha=0.05, \n",
    "#                    learning_rate='invscaling')\n",
    "\n",
    "# mlp.fit(Xtr, Ytr)\n",
    "\n",
    "# roc = roc_auc_score(Y_test, mlp.predict_proba(X_test)[:,1])\n",
    "# print(\"ROC AUC score on Test data:\\t\", roc)\n",
    "\n",
    "# joblib.dump(mlp, 'src/new_data/best_mlp.sav')"
   ]
  },
  {
   "cell_type": "code",
   "execution_count": 8,
   "metadata": {},
   "outputs": [
    {
     "name": "stdout",
     "output_type": "stream",
     "text": [
      "ROC AUC score on Test data:\t 0.8368470571002187\n"
     ]
    },
    {
     "data": {
      "text/plain": [
       "['new_data/best_lr.sav']"
      ]
     },
     "execution_count": 8,
     "metadata": {},
     "output_type": "execute_result"
    }
   ],
   "source": [
    "# lr = LogisticRegression(C=2, penalty='l2')\n",
    "\n",
    "# lr.fit(Xtr, Ytr)\n",
    "\n",
    "# roc = roc_auc_score(Y_test, lr.predict_proba(X_test)[:,1])\n",
    "# print(\"ROC AUC score on Test data:\\t\", roc)\n",
    "\n",
    "# joblib.dump(lr, 'src/new_data/best_lr.sav')"
   ]
  },
  {
   "cell_type": "code",
   "execution_count": 18,
   "metadata": {},
   "outputs": [
    {
     "name": "stdout",
     "output_type": "stream",
     "text": [
      "ROC AUC score on Test data:\t 0.8439117849922538\n"
     ]
    },
    {
     "data": {
      "text/plain": [
       "['new_data/best_gb.sav']"
      ]
     },
     "execution_count": 18,
     "metadata": {},
     "output_type": "execute_result"
    }
   ],
   "source": [
    "# gb = GradientBoostingClassifier(n_estimators=1000, learning_rate=0.056248,\n",
    "#                                 subsample=0.640235, max_depth=10, min_samples_split=2, \n",
    "#                                 min_samples_leaf=10, loss=\"deviance\",max_features=\"sqrt\")\n",
    "\n",
    "# gb.fit(Xtr, Ytr)\n",
    "\n",
    "# roc = roc_auc_score(Y_test, gb.predict_proba(X_test)[:,1])\n",
    "# print(\"ROC AUC score on Test data:\\t\", roc)\n",
    "\n",
    "# joblib.dump(gb, 'src/new_data/best_gb.sav')"
   ]
  },
  {
   "cell_type": "code",
   "execution_count": 20,
   "metadata": {},
   "outputs": [
    {
     "name": "stdout",
     "output_type": "stream",
     "text": [
      "ROC AUC score on Test data:\t 0.8475056695294843\n"
     ]
    },
    {
     "data": {
      "text/plain": [
       "['new_data/best_combined.sav']"
      ]
     },
     "execution_count": 20,
     "metadata": {},
     "output_type": "execute_result"
    }
   ],
   "source": [
    "# weights <= auc ranking\n",
    "\n",
    "# combined = VotingClassifier(estimators=[('lr', lr), ('nn', mlp), ('gb', gb)],\n",
    "#                          voting='soft', flatten_transform=True, weights=[2,1,3])\n",
    "\n",
    "# combined.fit(Xtr,Ytr)\n",
    "\n",
    "# roc = roc_auc_score(Y_test, combined.predict_proba(X_test)[:,1])\n",
    "# print(\"ROC AUC score on Test data:\\t\", roc)\n",
    "\n",
    "# joblib.dump(combined, 'src/new_data/best_combined.sav')"
   ]
  },
  {
   "cell_type": "markdown",
   "metadata": {},
   "source": [
    "### Since training is time-consuming, we save the trained model locally. One can download and use it directly."
   ]
  },
  {
   "cell_type": "code",
   "execution_count": 7,
   "metadata": {},
   "outputs": [],
   "source": [
    "mlp = joblib.load('src/new_data/best_mlp.sav')\n",
    "\n",
    "lr = joblib.load('src/new_data/best_lr.sav')\n",
    "\n",
    "gb = joblib.load('src/new_data/best_gb.sav')\n",
    "\n",
    "combined = joblib.load('src/new_data/best_combined.sav')"
   ]
  },
  {
   "cell_type": "code",
   "execution_count": 8,
   "metadata": {},
   "outputs": [
    {
     "name": "stdout",
     "output_type": "stream",
     "text": [
      "ROC AUC score on Test data:\n",
      "\tmlp: 0.8366\n",
      "\tlr: 0.8368\n",
      "\tgb: 0.8439\n",
      "\tcombined: 0.8475\n"
     ]
    }
   ],
   "source": [
    "mlp_roc = roc_auc_score(Y_test, mlp.predict_proba(X_test)[:,1])\n",
    "lr_roc = roc_auc_score(Y_test, lr.predict_proba(X_test)[:,1])\n",
    "gb_roc = roc_auc_score(Y_test, gb.predict_proba(X_test)[:,1])\n",
    "combined_roc = roc_auc_score(Y_test, combined.predict_proba(X_test)[:,1])\n",
    "print('ROC AUC score on Test data:\\n\\tmlp: %.4f\\n\\tlr: %.4f\\n\\tgb: %.4f\\n\\tcombined: %.4f' % (mlp_roc, lr_roc, gb_roc, combined_roc))"
   ]
  },
  {
   "cell_type": "markdown",
   "metadata": {},
   "source": [
    "## Performance of the ensemble model \"combined\""
   ]
  },
  {
   "cell_type": "markdown",
   "metadata": {},
   "source": [
    "### 1. ROC AUC score\n",
    "\n",
    "ROC Curves summarize the trade-off between the true positive rate and false positive rate for a predictive model using different probability thresholds."
   ]
  },
  {
   "cell_type": "code",
   "execution_count": 9,
   "metadata": {},
   "outputs": [
    {
     "name": "stdout",
     "output_type": "stream",
     "text": [
      "training accuracy:  0.920609375\n",
      "testing accuracy :  0.76485\n",
      "test ROC AUC     :  0.8475056695294843\n"
     ]
    }
   ],
   "source": [
    "print(\"training accuracy: \", combined.score(Xtr, Ytr))\n",
    "print(\"testing accuracy : \", combined.score(X_test, Y_test))\n",
    "\n",
    "combined_roc = roc_auc_score(Y_test, combined.predict_proba(X_test)[:,1])\n",
    "print(\"test ROC AUC     : \", combined_roc)"
   ]
  },
  {
   "cell_type": "code",
   "execution_count": 11,
   "metadata": {},
   "outputs": [
    {
     "name": "stdout",
     "output_type": "stream",
     "text": [
      "No Skill: ROC AUC=0.5000\n",
      "Combined: ROC AUC=0.8475\n"
     ]
    },
    {
     "data": {
      "image/png": "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\n",
      "text/plain": [
       "<Figure size 432x288 with 1 Axes>"
      ]
     },
     "metadata": {
      "needs_background": "light"
     },
     "output_type": "display_data"
    }
   ],
   "source": [
    "from sklearn.metrics import roc_curve\n",
    "\n",
    "# generate a no skill prediction (majority class)\n",
    "ns_probs = [0 for _ in range(len(Y_test))]\n",
    "\n",
    "# predict probabilities and \n",
    "# keep probabilities for the positive outcome only\n",
    "Yhat = combined.predict_proba(X_test)[:,1]\n",
    "\n",
    "# calculate scores\n",
    "ns_auc = roc_auc_score(Y_test, ns_probs)\n",
    "cl_auc = roc_auc_score(Y_test, Yhat)\n",
    "# summarize scores\n",
    "print('No Skill: ROC AUC=%.4f' % (ns_auc))\n",
    "print('Combined: ROC AUC=%.4f' % (cl_auc))\n",
    "# calculate roc curves\n",
    "ns_fpr, ns_tpr, _ = roc_curve(Y_test, ns_probs)\n",
    "cl_fpr, cl_tpr, _ = roc_curve(Y_test, Yhat)\n",
    "# plot the roc curve for the model\n",
    "plt.plot(ns_fpr, ns_tpr, 'r-', label='No Skill')\n",
    "plt.plot(cl_fpr, cl_tpr, 'g-', label='Combined')\n",
    "# axis labels\n",
    "plt.xlabel('False Positive Rate')\n",
    "plt.ylabel('True Positive Rate')\n",
    "# show the legend\n",
    "plt.legend()\n",
    "# show the plot\n",
    "plt.show()"
   ]
  },
  {
   "cell_type": "markdown",
   "metadata": {},
   "source": [
    "The ROC AUC score of our combined model over test data is 0.8475, which is not bad. "
   ]
  },
  {
   "cell_type": "markdown",
   "metadata": {},
   "source": [
    "### 2. Classification Report"
   ]
  },
  {
   "cell_type": "markdown",
   "metadata": {},
   "source": [
    "TN: True Negative - when a case was negative and predicted negative\n",
    "\n",
    "TP: True Positive - when a case was positive and predicted positive\n",
    "\n",
    "FN: False Negative - when a case was positive but predicted negative\n",
    "\n",
    "FP: False Positive - when a case was negative but predicted positive\n",
    "\n",
    "Precision = TP/(TP + FP)\n",
    "\n",
    "Recall = TP/(TP+FN)\n",
    "\n",
    "F1 Score = 2*(Recall * Precision) / (Recall + Precision)\n",
    "\n",
    "Support is the number of actual occurrences of the class in the specified dataset."
   ]
  },
  {
   "cell_type": "code",
   "execution_count": 14,
   "metadata": {},
   "outputs": [
    {
     "name": "stdout",
     "output_type": "stream",
     "text": [
      "Combined Model Classifier Report\n",
      "              precision    recall  f1-score   support\n",
      "\n",
      "    negative       0.77      0.77      0.77     10031\n",
      "    positive       0.76      0.76      0.76      9969\n",
      "\n",
      "    accuracy                           0.76     20000\n",
      "   macro avg       0.76      0.76      0.76     20000\n",
      "weighted avg       0.76      0.76      0.76     20000\n",
      "\n"
     ]
    }
   ],
   "source": [
    "target_names = ['negative', 'positive']\n",
    "pred = combined.predict(X_test)\n",
    "\n",
    "print(\"Combined Model Classifier Report\")\n",
    "print(classification_report(Y_test, pred, target_names=target_names))"
   ]
  },
  {
   "cell_type": "markdown",
   "metadata": {},
   "source": [
    "Precision-Recall curves summarize the trade-off between the true positive rate and the positive predictive value for a predictive model using different probability thresholds."
   ]
  },
  {
   "cell_type": "code",
   "execution_count": 15,
   "metadata": {},
   "outputs": [
    {
     "name": "stdout",
     "output_type": "stream",
     "text": [
      "Combined: f1=0.764 auc=0.846\n"
     ]
    },
    {
     "data": {
      "image/png": "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\n",
      "text/plain": [
       "<Figure size 432x288 with 1 Axes>"
      ]
     },
     "metadata": {
      "needs_background": "light"
     },
     "output_type": "display_data"
    }
   ],
   "source": [
    "from sklearn.metrics import precision_recall_curve\n",
    "from sklearn.metrics import f1_score\n",
    "from sklearn.metrics import auc\n",
    "\n",
    "# predict class values\n",
    "yhat = combined.predict(X_test)\n",
    "precision, recall, _ = precision_recall_curve(Y_test, Yhat)\n",
    "f1, auc = f1_score(Y_test, yhat), auc(recall, precision)\n",
    "# summarize scores\n",
    "print('Combined: f1=%.3f auc=%.3f' % (f1, auc))\n",
    "# plot the precision-recall curves\n",
    "plt.plot(recall, precision, 'g-', label='Combined')\n",
    "# axis labels\n",
    "plt.xlabel('Recall')\n",
    "plt.ylabel('Precision')\n",
    "# show the legend\n",
    "plt.legend()\n",
    "# show the plot\n",
    "plt.show()"
   ]
  },
  {
   "cell_type": "markdown",
   "metadata": {},
   "source": [
    "### 3. 10 Most Positive & 10 Most Negative Tweets in Test Data\n",
    "\n",
    "We get the top 100 tweets that have a positive/negative sentiment predicted by our model (through commented code). We save them locally so that one can download and observe them directly. "
   ]
  },
  {
   "cell_type": "code",
   "execution_count": 18,
   "metadata": {},
   "outputs": [],
   "source": [
    "# Yhat = [(i,prob) for i,prob in enumerate(Yhat)]\n",
    "\n",
    "# sorted_Yhat = sorted(Yhat, key=lambda item: item[1])\n",
    "\n",
    "# top100_positive = sorted_Yhat[-100:]\n",
    "# top100_negative = sorted_Yhat[:100]\n",
    "\n",
    "# top100_pos_index = [indices_test[i] for i,p in top100_positive]\n",
    "# top100_neg_index = [indices_test[i] for i,p in top100_negative]\n",
    "\n",
    "# import pandas as pd\n",
    "\n",
    "# data = pd.read_csv(r\"new_data/training1600000.csv\", engine='python')\n",
    "\n",
    "# data = data.drop(data.columns[1:5], axis=1)\n",
    "\n",
    "# X = data[data.columns[1]].values.tolist()\n",
    "\n",
    "# from sklearn.utils import shuffle\n",
    "\n",
    "# X = shuffle(X, random_state=0)\n",
    "# X = X[:100000]"
   ]
  },
  {
   "cell_type": "code",
   "execution_count": 21,
   "metadata": {},
   "outputs": [],
   "source": [
    "# top100_pos_tweets = []\n",
    "# top100_pos_tweets_Y = []\n",
    "# top100_pos_pred_0 = []\n",
    "# top100_pos_pred_1 = []\n",
    "\n",
    "\n",
    "# for i in top100_pos_index:\n",
    "#     top100_pos_tweets.append(X[i])\n",
    "#     top100_pos_tweets_Y.append(Y[i])\n",
    "\n",
    "# # 100 most positive tweets (less positive -> most)\n",
    "# for i in range(100): \n",
    "#     print(int(top100_pos_tweets_Y[i]), top100_positive[i][1], top100_pos_tweets[i])\n",
    "#     top100_pos_pred_0.append(1-top100_positive[i][1])\n",
    "#     top100_pos_pred_1.append(top100_positive[i][1])"
   ]
  },
  {
   "cell_type": "code",
   "execution_count": 22,
   "metadata": {},
   "outputs": [],
   "source": [
    "# top100_neg_tweets = []\n",
    "# top100_neg_tweets_Y = []\n",
    "# top100_neg_pred_0 = []\n",
    "# top100_neg_pred_1 = []\n",
    "\n",
    "# for i in top100_neg_index:\n",
    "#     top100_neg_tweets.append(X[i])\n",
    "#     top100_neg_tweets_Y.append(Y[i])\n",
    "    \n",
    "# # 100 most negative tweets (most negative -> less)\n",
    "# for i in range(100):\n",
    "#     print(int(top100_neg_tweets_Y[i]), 1-top100_negative[i][1], top100_neg_tweets[i])\n",
    "#     top100_neg_pred_0.append(1-top100_negative[i][1])\n",
    "#     top100_neg_pred_1.append(top100_negative[i][1])"
   ]
  },
  {
   "cell_type": "code",
   "execution_count": 23,
   "metadata": {},
   "outputs": [],
   "source": [
    "# pos = {'Y_test': top100_pos_tweets_Y, 'Y_pred_0': top100_pos_pred_0, 'Y_pred_1': top100_pos_pred_1, 'Tweet': top100_pos_tweets}\n",
    "# df_pos = pd.DataFrame(data=pos)\n",
    "# neg = {'Y_test': top100_neg_tweets_Y, 'Y_pred_0': top100_neg_pred_0, 'Y_pred_1': top100_neg_pred_1, 'Tweet': top100_neg_tweets}\n",
    "# df_neg = pd.DataFrame(data=neg)"
   ]
  },
  {
   "cell_type": "code",
   "execution_count": 25,
   "metadata": {},
   "outputs": [],
   "source": [
    "# df_pos.to_csv('new_data/top100_positive.csv',index=False)\n",
    "# df_neg.to_csv('new_data/top100_negative.csv',index=False)"
   ]
  },
  {
   "cell_type": "code",
   "execution_count": 26,
   "metadata": {},
<<<<<<< HEAD
=======
   "outputs": [],
   "source": [
    "top100_negative = sorted_Yhat[:100]"
   ]
  },
  {
   "cell_type": "code",
   "execution_count": 27,
   "metadata": {},
   "outputs": [],
   "source": [
    "top100_pos_index = [indices_test[i] for i,p in top100_positive]\n",
    "top100_neg_index = [indices_test[i] for i,p in top100_negative]"
   ]
  },
  {
   "cell_type": "code",
   "execution_count": 29,
   "metadata": {},
   "outputs": [
    {
     "data": {
      "text/plain": [
       "\"is upset that he can't update his Facebook by texting it... and might cry as a result  School today also. Blah!\""
      ]
     },
     "execution_count": 29,
     "metadata": {},
     "output_type": "execute_result"
    }
   ],
   "source": [
    "import pandas as pd\n",
    "\n",
    "data = pd.read_csv(r\"src/new_data/training1600000.csv\", engine='python')\n",
    "\n",
    "data = data.drop(data.columns[1:5], axis=1)\n",
    "\n",
    "X = data[data.columns[1]].values.tolist()\n",
    "X[0]"
   ]
  },
  {
   "cell_type": "code",
   "execution_count": 30,
   "metadata": {},
   "outputs": [
    {
     "data": {
      "text/plain": [
       "'Happy birthday, sister! '"
      ]
     },
     "execution_count": 30,
     "metadata": {},
     "output_type": "execute_result"
    }
   ],
   "source": [
    "from sklearn.utils import shuffle\n",
    "\n",
    "X = shuffle(X, random_state=0)\n",
    "X[0]"
   ]
  },
  {
   "cell_type": "code",
   "execution_count": 31,
   "metadata": {},
   "outputs": [],
   "source": [
    "X = X[:100000]"
   ]
  },
  {
   "cell_type": "code",
   "execution_count": 57,
   "metadata": {},
   "outputs": [
    {
     "name": "stdout",
     "output_type": "stream",
     "text": [
      "1 0.9948459911598162 @healthypeople4u Thanks! Just following my bliss \n",
      "1 0.9948468313614139 http://twitter.com/tsaniyah follow yaa \n",
      "1 0.9948661514178552 its so nice.. I LUV KELLY...she's such an amazing singer  LUV HER\n",
      "1 0.994881515860258 @JennaMadison btw thanks for the recommend to @SexySubKaylee you both rock! \n",
      "1 0.9949543236323165 WHAT A FANTASTIC DAY INDEED \n",
      "1 0.994963109665527 @ruhanirabin  that is good\n",
      "1 0.9950292609951396 @mirzwick Hey, thanks for the #ff! \n",
      "1 0.9950497064924515 @justjen68 you're welcome ! \n",
      "1 0.9950731462071584 @Listersmate thank you! \n",
      "1 0.9951076599502078 @Shaundrie you're welcome sweetheart \n",
      "1 0.9951625674622374 EVERYBODY WELCOME @purpletonic!!!  Hello Nicole ;)\n",
      "1 0.9952619622637918 @niseema Awesome! good for you! \n",
      "1 0.9953735832627079 @YungKL Welcome back!! \n",
      "1 0.9954674680740521 Rockin' with PARAMORE! \n",
      "1 0.9955387832657285 Spread the music!  http://www.youtube.com/xtinemercado\n",
      "1 0.9956465073605772 heyy  what are you doing?  \n",
      "1 0.9956653288936014 Followeo a @Natychan hola! \n",
      "1 0.9956957607938349 Thank you for your feedback  @DCCordova @jjdoblados @good_education @ASCjoellio\n",
      "1 0.9957309154334499 @hhaydee Perfect, thanks  Great help.\n",
      "1 0.995753393034584 Spock eeeis awesome \n",
      "1 0.9957562002371502 @avenueofthearts My Pleasure \n",
      "1 0.995881818604245 @Marahd22 ooooh good quote \n",
      "1 0.9958920887979649 @StuBakerComedy  congrats  enjoy them young'uns ...Amy simpletownUSA.com\n",
      "1 0.9958972965781099 @mewsette3168 awesome! when do you arrive? \n",
      "1 0.9959386937813616 latín aprobadooooooooooooooooooooo    thanks 3!! xD\n",
      "1 0.9959589623186207 @nikobatallones Your welcome \n",
      "1 0.9960028195430013 @jasonanderson  Your Welcome! Good Luck \n",
      "1 0.9960064751176597 @chrispople yay! congratulations \n",
      "1 0.9960166887647167 @bruwmac You're welcome. \n",
      "1 0.9960538098589384 @ceoltoir Thanks for the input \n",
      "1 0.9960576671259146 @rnewbury Bless you!  \n",
      "1 0.9960642380002885 @theladywrites I am beyond wonderful.  How are you?\n",
      "1 0.9961382798924743 wooo! that was fun \n",
      "1 0.9961445245959396 @Lesterbud good luck and blessings and congrats and all that!! \n",
      "1 0.996175647490806 @cindy7609 Excellent! Thank you! \n",
      "1 0.9963409689795929 @Adriennevh  Hello Shelia!!  Welcome to twitterville \n",
      "0 0.9963743035959833 The movie was awesome \n",
      "1 0.9963770330185934 The BBQ was wonderful...today is wonderful \n",
      "1 0.9966688660664835 @xGunMoll__ cool ty \n",
      "1 0.9966932059165936 Hi there @Mtii   ♫ http://blip.fm/~7hcax\n",
      "1 0.9968033840091897 To all my new tweeties, hello, thank you for following me! \n",
      "1 0.9968327495336471 Welcome @@103Alison, thanks for the follow. I returned the favor. \n",
      "1 0.9968468490083587 @PeachyPictures Thank you for #FollowFriday! \n",
      "1 0.9968977701170211 @awesomefellow hehe \n",
      "1 0.9968977701170211 @robertklinc hehe, veliko restartanja  ... ArchiCad imaš?\n",
      "1 0.9970276815550587 Jordin Sparks - Battlefield. Great song. \n",
      "1 0.997091095575001 @alpacafashion hello thank you for following me \n",
      "1 0.9971102393156978 @MATT_369 Thank you  #FollowFriday\n",
      "1 0.9971126172334367 @CINTAAMONYET congratulations love \n",
      "1 0.9971494486978217 @alicam congratulations \n",
      "1 0.9971667123426009 fantastic song  ? http://blip.fm/~7aaxh\n",
      "1 0.9971798282175536 &lt;/cluster emoting&gt; Thanks for humoring me. \n",
      "1 0.9972197653581868 @patrickindc hi  thnx for the follow!\n",
      "1 0.9972417814344912 Hey @Xalior thanks for the welcome dude \n",
      "1 0.9972495624851666 @KAIcenhower Welcome to Twitter! \n",
      "1 0.9972628466423586 @artfanatic411 You're very welcome \n",
      "1 0.9972837040004583 @mistygirlph ...and a very pleasant and wonderful Sunday to you too! \n",
      "1 0.9974141073076429 @inkgypsy  Thank you for your kindness \n",
      "1 0.9974528257814534 @RealHughJackman have fun ..... \n",
      "1 0.9978147122511366 @brexians Oooh ! thx for the #followfriday ! \n",
      "1 0.9979954395052403 @yaysarcasm just for you    ♫ http://blip.fm/~7g4sa\n",
      "1 0.9981551538147962 Relaxing \n",
      "1 0.9981551538147962 relaxing... \n",
      "0 0.9982859295324019 why is @brelinkeels not following me \n",
      "1 0.9982859295324019 and follow me!! \n",
      "1 0.9982859295324019 follow me! \n",
      "1 0.9982859295324019 @brianaisapirate follow me on here \n",
      "1 0.9982859295324019 FOLLOW ME! \n",
      "1 0.9983110403420791 @MichellejFlynn  YOU ROCK\n",
      "1 0.9983440239605361 @astonesthrow Thanks for the followfriday, chica! \n",
      "1 0.9984055873887154 @taschee cool, cool.. will do \n",
      "1 0.99846002472291 @estockcouk; @efusjonfacebook; @Winospace; @DaEmptyPrincess; @PWMLtd; @zarvo; @affiliatelady; @blander555: Thanks for the follow! \n",
      "1 0.99846002472291 thanks for the follow, \n",
      "1 0.99846002472291 @dreammanifesto thanks for following \n",
      "1 0.9984911920077434 ...And Goodnight! \n",
      "0 0.9984911920077434 Goodnight. \n",
      "1 0.9984911920077434 Annnnnnnnd, goodnight. \n",
      "1 0.998540150101384 @6FuzzyFeet  hi ! thanks for the follow \n",
      "1 0.9987012308194533 @joeloleson Congratulations! \n",
      "1 0.9987692974520342 is enjoying http://www.pandora.tv \n",
      "1 0.9988191328888906 with Julia \n",
      "1 0.9988273266115097 hi to @feanix88 \n",
      "1 0.9988273266115097 Hi there @stephiemartinic \n",
      "1 0.9988546654320819 @chaware Welcome to twitterland \n",
      "1 0.9989794467943635 @jshe *Winks* You Rock Jen \n",
      "1 0.9991075117077367 @robdwoods - woohoo!  And thanks for the @MrTweet recommendation.  \n",
      "1 0.999126794274929 @terrynwilliams pleasure \n",
      "1 0.999126794274929 @laraslattery pleasure \n",
      "1 0.9992152132042434 @flyerboy_uk - thanks for the #followfriday ! \n",
      "1 0.9992831605262581 @SallieB CONGRATULATIONS!! How exciting!!   \n",
      "1 0.9993037865302616 @NathanEM youre welcome \n",
      "1 0.9993037865302616 @becca_roo you're welcome. \n",
      "1 0.9993037865302616 @Ebrunk You're welcome \n",
      "1 0.9993037865302616 @PixelProject You're welcome. \n",
      "1 0.9993388584148906 @RuthGarrity thanks for the welcome. \n",
      "1 0.9993872131017941 @JKMyth Welcome to the Twittersphere \n",
      "1 0.9994272809393424 @andysowards Welcome \n",
      "1 0.9996576418362185 @JennyHoliday Very welcome! xoxo \n",
      "1 0.999686063859909 @trygvis congrats \n",
      "1 0.9998697474743015 @HollyontheHill  Congratulations!  \n"
     ]
    }
   ],
   "source": [
    "top100_pos_tweets = []\n",
    "top100_pos_tweets_Y = []\n",
    "top100_pos_pred_0 = []\n",
    "top100_pos_pred_1 = []\n",
    "\n",
    "\n",
    "for i in top100_pos_index:\n",
    "    top100_pos_tweets.append(X[i])\n",
    "    top100_pos_tweets_Y.append(Y[i])\n",
    "\n",
    "# 100 most positive tweets (less positive -> most)\n",
    "for i in range(100): \n",
    "    print(int(top100_pos_tweets_Y[i]), top100_positive[i][1], top100_pos_tweets[i])\n",
    "    top100_pos_pred_0.append(1-top100_positive[i][1])\n",
    "    top100_pos_pred_1.append(top100_positive[i][1])"
   ]
  },
  {
   "cell_type": "code",
   "execution_count": 58,
   "metadata": {},
   "outputs": [
    {
     "name": "stdout",
     "output_type": "stream",
     "text": [
      "0 0.9999449303909664 I have a headache \n",
      "0 0.9999449303909664 i have a headache \n",
      "0 0.9999449303909664 headache \n",
      "0 0.9999449303909664 I have a headache \n",
      "0 0.9999449303909664 have a headache \n",
      "0 0.9999449303909664 has a headache \n",
      "0 0.9999163139383122 my throat hurts \n",
      "0 0.9999163139383122 My throat hurts ...  \n",
      "0 0.9998943178544055 Has a sore throat! \n",
      "0 0.9998393004063182 this cough hurts my throat \n",
      "0 0.9998352184473691 Toothache \n",
      "0 0.9998352184473691 toothache \n",
      "0 0.9998215319760586 My stomach hurts \n",
      "0 0.9998125244449961 @MPeters20 So upset \n",
      "0 0.9998125244449961 is upset \n",
      "0 0.9997469569020645 this cold sucks!!  my throat hurts\n",
      "0 0.9997411044748024 i have a headache.  how sad.\n",
      "0 0.9997359319260852 Ugh! My stomach hurts. \n",
      "0 0.9997091687323779 Having bad headache now!!!! \n",
      "0 0.9997091277980874 @jraimond  That sucks \n",
      "0 0.9997091277980874 @epicwelshman sucks \n",
      "0 0.9997091277980874 @DaveDeLuxe1 that sucks!  \n",
      "0 0.9997091277980874 @TaraRose  That sucks viciously.\n",
      "0 0.9997091277980874 @thrssmthnbtmry that sucks. \n",
      "0 0.99969199131344 Have a TERRIBLE headache.  Sad sad.\n",
      "0 0.9996522529746303 is in pain \n",
      "0 0.9996247361314612 arghhh! \n",
      "0 0.9996203199744846 isPlayer Has Died! Sorry \n",
      "0 0.9996203199744846 isPlayer Has Died! Sorry \n",
      "0 0.9996203199744846 isPlayer Has Died! Sorry \n",
      "0 0.9995837754724126 tummy hurts \n",
      "0 0.9995837754724126 My tummy hurts \n",
      "0 0.9995837754724126 Tummy hurts \n",
      "0 0.9995323906400406 *sigh* I hate sore throats. \n",
      "0 0.9995203760601622 Ugh I hate this, my tummy hurt \n",
      "0 0.9995155834781945 has bad hayfever again!!!1 \n",
      "0 0.9994803605002414 my knee hurts \n",
      "0 0.9994803605002414 my knee hurts.... \n",
      "0 0.9994215860450625 my neck hurts. \n",
      "0 0.999402764371697 my muscles are aching! I hate being sick \n",
      "0 0.999391553611412 @adrisr Poor you! \n",
      "0 0.999391553611412 @amyweald I am more poor than you... \n",
      "0 0.9993880709239751 i have a massive headache now... \n",
      "0 0.9993567525344147 sick again \n",
      "0 0.9993162320501372 my knees are sore \n",
      "0 0.9992547207740621 aaarrrrrrrrrrggggghhh itchy eyes! damn you hayfever \n",
      "0 0.9992246404021898  I hate pain\n",
      "0 0.9991064848834221 ouch! my ear hurts \n",
      "0 0.9990951155246517 Got a sore throat \n",
      "0 0.9990821926122627 Pinky cramp! \n",
      "0 0.9990545508490558 @earljon sorry... \n",
      "0 0.9990545508490558 @dontmesswithhef  sorry\n",
      "1 0.9990356233190761 @ksmcnally sore? \n",
      "0 0.9990347509552179 Just woke up... To a stomach ache... \n",
      "0 0.9990166999293277 my throat hurts really bad  dang allergies\n",
      "0 0.9989933966743506 i can't decide if i have tummy cramps or just tummy ache. ughhh. \n",
      "0 0.9989889346303836 eye hurts \n",
      "0 0.9989479997477939 uggggggggh, throbbing headache \n",
      "0 0.9989398829258236 knee pain is the worst.. \n",
      "0 0.9989103917650488 aaaahhhhh... itchy itchy itchy but i can't scratch, tooo sore! \n",
      "0 0.9988976866643805 i am so not down with the sickness. \n",
      "0 0.9988183694853734 Home sick. I have a sore throat and fever. \n",
      "0 0.9987800608904788 my legs hurt so bad.  \n",
      "0 0.9986959146811434 My puppy is sick. He threw up. \n",
      "0 0.9986918038231838 @SDNewsfeed depressing \n",
      "0 0.9986699197368287 My throat hurts, I think it's sore. bleh, I don't wanna be sick \n",
      "0 0.9986571428312204 Wishes her stomach didnt hurt \n",
      "0 0.9986446142013141 @ohheydaria. @supmaaya now you are making me sad   i hate you, but I will miss you...\n",
      "0 0.9986380412658281 I have a cold \n",
      "0 0.9986380412658281 its cold \n",
      "0 0.9986380412658281 Its too cold \n",
      "0 0.9986210198292508 @igaia and I'm very sorry for your loss \n",
      "0 0.9985990674132736 killer headache \n",
      "0 0.998571334998018 cat scratches hurt \n",
      "0 0.998560627676229  i feel sad. Discouraged. Lonely. Unlucky.\n",
      "0 0.9985442458982504 My body hurts \n",
      "0 0.9985398758776141 So unfair - sore throat, headache, runny nose - all on a long weekend \n",
      "0 0.9985276400492861 Ugh. I have a belly ache. \n",
      "0 0.9985015967118505 @chocolatemilk ouch \n",
      "0 0.9985015967118505 @Scriblit Ouch \n",
      "0 0.9984980570074687 is so tired he feels sick. \n",
      "0 0.9984938317518328 Limping to work, my knee hurts \n",
      "0 0.9984524945853961 Woke up to a headache \n",
      "0 0.9984311292099023 Nightmares are the worst.  I feel sick.\n",
      "0 0.9984236422344303 ughhhhh \n",
      "0 0.9983993771664447 I feel really sick to my stomach. \n",
      "0 0.9982964866735246 i'm sick, it sucks \n",
      "0 0.9982804547128368 i have a MAJOR headache like it hurts so bad \n",
      "0 0.998178984388542 SHE LEFT ME..  I HATE HER.. \n",
      "0 0.9981584143764527 i can't sleep.  my stomach hurtss\n",
      "0 0.9981483287124113 @AlwaysCharmed yuck! I am very prone to those. I feel your pain. \n",
      "0 0.9980950166112251 at home with a sprained ankle \n",
      "0 0.9980643528450323 Ow ow my nose hurts \n",
      "0 0.9980297039411469 i hate it when i get sad \n",
      "0 0.9980234318636739 @toofondofbooks how frustrating \n",
      "0 0.998008018208271 Hospital  ugh\n",
      "0 0.9980030234334416 It hurt so bad i cant sleep  .\n",
      "0 0.9980017363447378 i hate having a blocked nose \n",
      "0 0.997999602553217 Cant sleep.  i hate being sick.\n",
      "0 0.997966058193552 @PhuqPhase  sorry to disappoint.\n"
     ]
    }
   ],
   "source": [
    "top100_neg_tweets = []\n",
    "top100_neg_tweets_Y = []\n",
    "top100_neg_pred_0 = []\n",
    "top100_neg_pred_1 = []\n",
    "\n",
    "for i in top100_neg_index:\n",
    "    top100_neg_tweets.append(X[i])\n",
    "    top100_neg_tweets_Y.append(Y[i])\n",
    "    \n",
    "# 100 most negative tweets (most negative -> less)\n",
    "for i in range(100):\n",
    "    print(int(top100_neg_tweets_Y[i]), 1-top100_negative[i][1], top100_neg_tweets[i])\n",
    "    top100_neg_pred_0.append(1-top100_negative[i][1])\n",
    "    top100_neg_pred_1.append(top100_negative[i][1])"
   ]
  },
  {
   "cell_type": "code",
   "execution_count": 59,
   "metadata": {},
>>>>>>> 54698598af4b8be3b8740dbb977744929b6c762b
   "outputs": [
    {
     "data": {
      "text/html": [
       "<div>\n",
       "<style scoped>\n",
       "    .dataframe tbody tr th:only-of-type {\n",
       "        vertical-align: middle;\n",
       "    }\n",
       "\n",
       "    .dataframe tbody tr th {\n",
       "        vertical-align: top;\n",
       "    }\n",
       "\n",
       "    .dataframe thead th {\n",
       "        text-align: right;\n",
       "    }\n",
       "</style>\n",
       "<table border=\"1\" class=\"dataframe\">\n",
       "  <thead>\n",
       "    <tr style=\"text-align: right;\">\n",
       "      <th></th>\n",
       "      <th>Y_test</th>\n",
       "      <th>Y_pred_0</th>\n",
       "      <th>Y_pred_1</th>\n",
       "      <th>Tweet</th>\n",
       "    </tr>\n",
       "  </thead>\n",
       "  <tbody>\n",
       "    <tr>\n",
       "      <td>0</td>\n",
       "      <td>1.0</td>\n",
       "      <td>0.005154</td>\n",
       "      <td>0.994846</td>\n",
       "      <td>@healthypeople4u Thanks! Just following my bliss</td>\n",
       "    </tr>\n",
       "    <tr>\n",
       "      <td>1</td>\n",
       "      <td>1.0</td>\n",
       "      <td>0.005153</td>\n",
       "      <td>0.994847</td>\n",
       "      <td>http://twitter.com/tsaniyah follow yaa</td>\n",
       "    </tr>\n",
       "    <tr>\n",
       "      <td>2</td>\n",
       "      <td>1.0</td>\n",
       "      <td>0.005134</td>\n",
       "      <td>0.994866</td>\n",
       "      <td>its so nice.. I LUV KELLY...she's such an amaz...</td>\n",
       "    </tr>\n",
       "    <tr>\n",
       "      <td>3</td>\n",
       "      <td>1.0</td>\n",
       "      <td>0.005118</td>\n",
       "      <td>0.994882</td>\n",
       "      <td>@JennaMadison btw thanks for the recommend to ...</td>\n",
       "    </tr>\n",
       "    <tr>\n",
       "      <td>4</td>\n",
       "      <td>1.0</td>\n",
       "      <td>0.005046</td>\n",
       "      <td>0.994954</td>\n",
       "      <td>WHAT A FANTASTIC DAY INDEED</td>\n",
       "    </tr>\n",
       "  </tbody>\n",
       "</table>\n",
       "</div>"
      ],
      "text/plain": [
       "   Y_test  Y_pred_0  Y_pred_1  \\\n",
       "0     1.0  0.005154  0.994846   \n",
       "1     1.0  0.005153  0.994847   \n",
       "2     1.0  0.005134  0.994866   \n",
       "3     1.0  0.005118  0.994882   \n",
       "4     1.0  0.005046  0.994954   \n",
       "\n",
       "                                               Tweet  \n",
       "0  @healthypeople4u Thanks! Just following my bliss   \n",
       "1            http://twitter.com/tsaniyah follow yaa   \n",
       "2  its so nice.. I LUV KELLY...she's such an amaz...  \n",
       "3  @JennaMadison btw thanks for the recommend to ...  \n",
       "4                       WHAT A FANTASTIC DAY INDEED   "
      ]
     },
<<<<<<< HEAD
     "execution_count": 26,
=======
     "execution_count": 59,
     "metadata": {},
     "output_type": "execute_result"
    }
   ],
   "source": [
    "pos = {'Y_test': top100_pos_tweets_Y, 'Y_pred_0': top100_pos_pred_0, 'Y_pred_1': top100_pos_pred_1, 'Tweet': top100_pos_tweets}\n",
    "df_pos = pd.DataFrame(data=pos)\n",
    "df_pos.head()\n",
    "# df_pos.to_csv('src/new_data/top100_positive.csv',index=False)\n",
    "\n",
    "# df_neg = pd.DataFrame()\n",
    "# df_neg.to_csv('src/new_data/top100_negative.csv',index=False)"
   ]
  },
  {
   "cell_type": "code",
   "execution_count": 60,
   "metadata": {},
   "outputs": [
    {
     "data": {
      "text/html": [
       "<div>\n",
       "<style scoped>\n",
       "    .dataframe tbody tr th:only-of-type {\n",
       "        vertical-align: middle;\n",
       "    }\n",
       "\n",
       "    .dataframe tbody tr th {\n",
       "        vertical-align: top;\n",
       "    }\n",
       "\n",
       "    .dataframe thead th {\n",
       "        text-align: right;\n",
       "    }\n",
       "</style>\n",
       "<table border=\"1\" class=\"dataframe\">\n",
       "  <thead>\n",
       "    <tr style=\"text-align: right;\">\n",
       "      <th></th>\n",
       "      <th>Y_test</th>\n",
       "      <th>Y_pred_0</th>\n",
       "      <th>Y_pred_1</th>\n",
       "      <th>Tweet</th>\n",
       "    </tr>\n",
       "  </thead>\n",
       "  <tbody>\n",
       "    <tr>\n",
       "      <td>95</td>\n",
       "      <td>1.0</td>\n",
       "      <td>0.000613</td>\n",
       "      <td>0.999387</td>\n",
       "      <td>@JKMyth Welcome to the Twittersphere</td>\n",
       "    </tr>\n",
       "    <tr>\n",
       "      <td>96</td>\n",
       "      <td>1.0</td>\n",
       "      <td>0.000573</td>\n",
       "      <td>0.999427</td>\n",
       "      <td>@andysowards Welcome</td>\n",
       "    </tr>\n",
       "    <tr>\n",
       "      <td>97</td>\n",
       "      <td>1.0</td>\n",
       "      <td>0.000342</td>\n",
       "      <td>0.999658</td>\n",
       "      <td>@JennyHoliday Very welcome! xoxo</td>\n",
       "    </tr>\n",
       "    <tr>\n",
       "      <td>98</td>\n",
       "      <td>1.0</td>\n",
       "      <td>0.000314</td>\n",
       "      <td>0.999686</td>\n",
       "      <td>@trygvis congrats</td>\n",
       "    </tr>\n",
       "    <tr>\n",
       "      <td>99</td>\n",
       "      <td>1.0</td>\n",
       "      <td>0.000130</td>\n",
       "      <td>0.999870</td>\n",
       "      <td>@HollyontheHill  Congratulations!</td>\n",
       "    </tr>\n",
       "  </tbody>\n",
       "</table>\n",
       "</div>"
      ],
      "text/plain": [
       "    Y_test  Y_pred_0  Y_pred_1                                  Tweet\n",
       "95     1.0  0.000613  0.999387  @JKMyth Welcome to the Twittersphere \n",
       "96     1.0  0.000573  0.999427                  @andysowards Welcome \n",
       "97     1.0  0.000342  0.999658      @JennyHoliday Very welcome! xoxo \n",
       "98     1.0  0.000314  0.999686                     @trygvis congrats \n",
       "99     1.0  0.000130  0.999870    @HollyontheHill  Congratulations!  "
      ]
     },
     "execution_count": 60,
     "metadata": {},
     "output_type": "execute_result"
    }
   ],
   "source": [
    "df_pos.tail()"
   ]
  },
  {
   "cell_type": "code",
   "execution_count": 62,
   "metadata": {},
   "outputs": [
    {
     "data": {
      "text/html": [
       "<div>\n",
       "<style scoped>\n",
       "    .dataframe tbody tr th:only-of-type {\n",
       "        vertical-align: middle;\n",
       "    }\n",
       "\n",
       "    .dataframe tbody tr th {\n",
       "        vertical-align: top;\n",
       "    }\n",
       "\n",
       "    .dataframe thead th {\n",
       "        text-align: right;\n",
       "    }\n",
       "</style>\n",
       "<table border=\"1\" class=\"dataframe\">\n",
       "  <thead>\n",
       "    <tr style=\"text-align: right;\">\n",
       "      <th></th>\n",
       "      <th>Y_test</th>\n",
       "      <th>Y_pred_0</th>\n",
       "      <th>Y_pred_1</th>\n",
       "      <th>Tweet</th>\n",
       "    </tr>\n",
       "  </thead>\n",
       "  <tbody>\n",
       "    <tr>\n",
       "      <td>0</td>\n",
       "      <td>0.0</td>\n",
       "      <td>0.999945</td>\n",
       "      <td>0.000055</td>\n",
       "      <td>I have a headache</td>\n",
       "    </tr>\n",
       "    <tr>\n",
       "      <td>1</td>\n",
       "      <td>0.0</td>\n",
       "      <td>0.999945</td>\n",
       "      <td>0.000055</td>\n",
       "      <td>i have a headache</td>\n",
       "    </tr>\n",
       "    <tr>\n",
       "      <td>2</td>\n",
       "      <td>0.0</td>\n",
       "      <td>0.999945</td>\n",
       "      <td>0.000055</td>\n",
       "      <td>headache</td>\n",
       "    </tr>\n",
       "    <tr>\n",
       "      <td>3</td>\n",
       "      <td>0.0</td>\n",
       "      <td>0.999945</td>\n",
       "      <td>0.000055</td>\n",
       "      <td>I have a headache</td>\n",
       "    </tr>\n",
       "    <tr>\n",
       "      <td>4</td>\n",
       "      <td>0.0</td>\n",
       "      <td>0.999945</td>\n",
       "      <td>0.000055</td>\n",
       "      <td>have a headache</td>\n",
       "    </tr>\n",
       "  </tbody>\n",
       "</table>\n",
       "</div>"
      ],
      "text/plain": [
       "   Y_test  Y_pred_0  Y_pred_1               Tweet\n",
       "0     0.0  0.999945  0.000055  I have a headache \n",
       "1     0.0  0.999945  0.000055  i have a headache \n",
       "2     0.0  0.999945  0.000055           headache \n",
       "3     0.0  0.999945  0.000055  I have a headache \n",
       "4     0.0  0.999945  0.000055    have a headache "
      ]
     },
     "execution_count": 62,
>>>>>>> 54698598af4b8be3b8740dbb977744929b6c762b
     "metadata": {},
     "output_type": "execute_result"
    }
   ],
   "source": [
    "df_pos = pd.read_csv(r\"new_data/top100_positive.csv\", engine='python')\n",
    "df_pos.head()"
   ]
  },
  {
   "cell_type": "code",
   "execution_count": 28,
   "metadata": {},
   "outputs": [
    {
     "data": {
      "text/html": [
       "<div>\n",
       "<style scoped>\n",
       "    .dataframe tbody tr th:only-of-type {\n",
       "        vertical-align: middle;\n",
       "    }\n",
       "\n",
       "    .dataframe tbody tr th {\n",
       "        vertical-align: top;\n",
       "    }\n",
       "\n",
       "    .dataframe thead th {\n",
       "        text-align: right;\n",
       "    }\n",
       "</style>\n",
       "<table border=\"1\" class=\"dataframe\">\n",
       "  <thead>\n",
       "    <tr style=\"text-align: right;\">\n",
       "      <th></th>\n",
       "      <th>Y_test</th>\n",
       "      <th>Y_pred_0</th>\n",
       "      <th>Y_pred_1</th>\n",
       "      <th>Tweet</th>\n",
       "    </tr>\n",
       "  </thead>\n",
       "  <tbody>\n",
       "    <tr>\n",
       "      <td>95</td>\n",
       "      <td>0.0</td>\n",
       "      <td>0.998008</td>\n",
       "      <td>0.001992</td>\n",
       "      <td>Hospital  ugh</td>\n",
       "    </tr>\n",
       "    <tr>\n",
       "      <td>96</td>\n",
       "      <td>0.0</td>\n",
       "      <td>0.998003</td>\n",
       "      <td>0.001997</td>\n",
       "      <td>It hurt so bad i cant sleep  .</td>\n",
       "    </tr>\n",
       "    <tr>\n",
       "      <td>97</td>\n",
       "      <td>0.0</td>\n",
       "      <td>0.998002</td>\n",
       "      <td>0.001998</td>\n",
       "      <td>i hate having a blocked nose</td>\n",
       "    </tr>\n",
       "    <tr>\n",
       "      <td>98</td>\n",
       "      <td>0.0</td>\n",
       "      <td>0.998000</td>\n",
       "      <td>0.002000</td>\n",
       "      <td>Cant sleep.  i hate being sick.</td>\n",
       "    </tr>\n",
       "    <tr>\n",
       "      <td>99</td>\n",
       "      <td>0.0</td>\n",
       "      <td>0.997966</td>\n",
       "      <td>0.002034</td>\n",
       "      <td>@PhuqPhase  sorry to disappoint.</td>\n",
       "    </tr>\n",
       "  </tbody>\n",
       "</table>\n",
       "</div>"
      ],
      "text/plain": [
       "    Y_test  Y_pred_0  Y_pred_1                             Tweet\n",
       "95     0.0  0.998008  0.001992                     Hospital  ugh\n",
       "96     0.0  0.998003  0.001997    It hurt so bad i cant sleep  .\n",
       "97     0.0  0.998002  0.001998     i hate having a blocked nose \n",
       "98     0.0  0.998000  0.002000   Cant sleep.  i hate being sick.\n",
       "99     0.0  0.997966  0.002034  @PhuqPhase  sorry to disappoint."
      ]
     },
     "execution_count": 28,
     "metadata": {},
     "output_type": "execute_result"
    }
   ],
   "source": [
    "df_neg = pd.read_csv(r\"new_data/top100_negative.csv\", engine='python')\n",
    "df_neg.tail()"
   ]
  },
  {
   "cell_type": "code",
   "execution_count": 31,
   "metadata": {},
   "outputs": [],
   "source": [
<<<<<<< HEAD
    "pos_tweet = df_pos[df_pos.columns[3]].values.tolist()\n",
    "pos_ytest = df_pos[df_pos.columns[0]].values.tolist()\n",
    "pos_prob0 = df_pos[df_pos.columns[1]].values.tolist()\n",
    "pos_prob1 = df_pos[df_pos.columns[2]].values.tolist()\n",
    "\n",
    "neg_tweet = df_neg[df_neg.columns[3]].values.tolist()\n",
    "neg_ytest = df_neg[df_neg.columns[0]].values.tolist()\n",
    "neg_prob0 = df_neg[df_neg.columns[1]].values.tolist()\n",
    "neg_prob1 = df_neg[df_neg.columns[2]].values.tolist()"
   ]
  },
  {
   "cell_type": "code",
   "execution_count": 41,
   "metadata": {},
   "outputs": [
    {
     "name": "stdout",
     "output_type": "stream",
     "text": [
      "20 positive tweets we predicted: \n",
      "\t @healthypeople4u Thanks! Just following my bliss \n",
      "\t @ruhanirabin  that is good\n",
      "\t EVERYBODY WELCOME @purpletonic!!!  Hello Nicole ;)\n",
      "\t heyy  what are you doing?  \n",
      "\t @avenueofthearts My Pleasure \n",
      "\t @nikobatallones Your welcome \n",
      "\t @rnewbury Bless you!  \n",
      "\t @Adriennevh  Hello Shelia!!  Welcome to twitterville \n",
      "\t To all my new tweeties, hello, thank you for following me! \n",
      "\t Jordin Sparks - Battlefield. Great song. \n",
      "\t fantastic song  ? http://blip.fm/~7aaxh\n",
      "\t @artfanatic411 You're very welcome \n",
      "\t @yaysarcasm just for you    ♫ http://blip.fm/~7g4sa\n",
      "\t follow me! \n",
      "\t @taschee cool, cool.. will do \n",
      "\t Goodnight. \n",
      "\t with Julia \n",
      "\t @robdwoods - woohoo!  And thanks for the @MrTweet recommendation.  \n",
      "\t @NathanEM youre welcome \n",
      "\t @JKMyth Welcome to the Twittersphere \n"
     ]
    }
   ],
   "source": [
    "print(\"20 positive tweets we predicted: \")\n",
    "for i in range(0, 100, 5):\n",
    "    print(\"\\t\", pos_tweet[i])"
   ]
  },
  {
   "cell_type": "code",
   "execution_count": 42,
   "metadata": {},
   "outputs": [
    {
     "name": "stdout",
     "output_type": "stream",
     "text": [
      "20 negative tweets we predicted: \n",
      "\t I have a headache \n",
      "\t has a headache \n",
      "\t Toothache \n",
      "\t this cold sucks!!  my throat hurts\n",
      "\t @epicwelshman sucks \n",
      "\t is in pain \n",
      "\t tummy hurts \n",
      "\t has bad hayfever again!!!1 \n",
      "\t @adrisr Poor you! \n",
      "\t aaarrrrrrrrrrggggghhh itchy eyes! damn you hayfever \n",
      "\t @earljon sorry... \n",
      "\t i can't decide if i have tummy cramps or just tummy ache. ughhh. \n",
      "\t i am so not down with the sickness. \n",
      "\t My throat hurts, I think it's sore. bleh, I don't wanna be sick \n",
      "\t Its too cold \n",
      "\t My body hurts \n",
      "\t is so tired he feels sick. \n",
      "\t I feel really sick to my stomach. \n",
      "\t @AlwaysCharmed yuck! I am very prone to those. I feel your pain. \n",
      "\t Hospital  ugh\n"
     ]
    }
   ],
   "source": [
    "print(\"20 negative tweets we predicted: \")\n",
    "for i in range(0, 100, 5):\n",
    "    print(\"\\t\", neg_tweet[i])"
   ]
  },
  {
   "cell_type": "code",
   "execution_count": 36,
   "metadata": {},
   "outputs": [
    {
     "name": "stdout",
     "output_type": "stream",
     "text": [
      "Accuracy of the 100 most postive tweets predicted by our model:  0.97\n",
      "Accuracy of the 100 most negative tweets predicted by our model:  0.99\n"
     ]
    }
   ],
   "source": [
    "false_pos_n = len([i for i in pos_ytest if i==0])\n",
    "print(\"Accuracy of the 100 most postive tweets predicted by our model: \", (100-false_pos_n)/100)\n",
    "\n",
    "false_neg_n = len([i for i in neg_ytest if i==1])\n",
    "print(\"Accuracy of the 100 most negative tweets predicted by our model: \", (100-false_neg_n)/100)"
   ]
  },
  {
   "cell_type": "markdown",
   "metadata": {},
   "source": [
    "Take a look at the false postive tweets in top 100 positive tweets and the false negative tweets in top 100 negative tweets"
   ]
  },
  {
   "cell_type": "code",
   "execution_count": 39,
   "metadata": {},
   "outputs": [
    {
     "name": "stdout",
     "output_type": "stream",
     "text": [
      "False Positive: \n",
      "['The movie was awesome ', 'why is @brelinkeels not following me ', 'Goodnight. ']\n"
     ]
    }
   ],
   "source": [
    "false_pos = []\n",
    "false_neg = []\n",
    "for i in range(100):\n",
    "    if pos_ytest[i]==0:\n",
    "        false_pos.append(pos_tweet[i])\n",
    "    if neg_ytest[i]==1:\n",
    "        false_neg.append(neg_tweet[i])\n",
    "\n",
    "print(\"False Positive: \")\n",
    "print(false_pos)"
   ]
  },
  {
   "cell_type": "markdown",
   "metadata": {},
   "source": [
    "After looking at the tweets, we think the negative label of the tweets 'The movie was awesome ' and 'Goodnight. ' are incorrect. They should be positive tweets as what our model predicted. Thus, the \"Accuracy of the 100 most postive tweets predicted by our model\" should be higher (~0.99)"
   ]
  },
  {
   "cell_type": "code",
   "execution_count": 40,
   "metadata": {},
   "outputs": [
    {
     "name": "stdout",
     "output_type": "stream",
     "text": [
      "False Negative: \n",
      "['@ksmcnally sore? ']\n"
     ]
    }
   ],
   "source": [
    "print(\"False Negative: \")\n",
    "print(false_neg)"
   ]
  },
  {
   "cell_type": "markdown",
   "metadata": {},
   "source": [
    "After looking at the tweet, we think that the reason why we predicted this tweet as negative is because of the word \"sore\", which implies a negative sentiment. However, since we removed all punctuations during preprocessing, the model neglects the impact of the question mark in this tweet. Thus, punctuations may play a big difference for short tweets, and we can do more research on this in the future. "
   ]
  },
  {
   "cell_type": "code",
   "execution_count": null,
   "metadata": {},
   "outputs": [],
   "source": []
  },
  {
   "cell_type": "markdown",
   "metadata": {},
   "source": [
    "## Applicatoin"
=======
    "df_pos.to_csv('src/new_data/top100_positive.csv',index=False)\n",
    "df_neg.to_csv('src/new_data/top100_negative.csv',index=False)"
>>>>>>> 54698598af4b8be3b8740dbb977744929b6c762b
   ]
  },
  {
   "cell_type": "code",
   "execution_count": null,
   "metadata": {},
   "outputs": [],
   "source": []
  }
 ],
 "metadata": {
  "kernelspec": {
   "display_name": "Python 3",
   "language": "python",
   "name": "python3"
  },
  "language_info": {
   "codemirror_mode": {
    "name": "ipython",
    "version": 3
   },
   "file_extension": ".py",
   "mimetype": "text/x-python",
   "name": "python",
   "nbconvert_exporter": "python",
   "pygments_lexer": "ipython3",
   "version": "3.7.4"
  }
 },
 "nbformat": 4,
 "nbformat_minor": 2
}
