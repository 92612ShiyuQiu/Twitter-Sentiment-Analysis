{
 "cells": [
  {
   "cell_type": "code",
   "execution_count": 2,
   "metadata": {},
   "outputs": [],
   "source": [
    "import pandas as pd\n",
    "import numpy as np\n",
    "import matplotlib.pyplot as plt\n",
    "from sklearn.metrics import roc_auc_score\n",
    "from sklearn.model_selection import cross_val_score\n",
    "from sklearn.ensemble import GradientBoostingClassifier\n",
    "from sklearn.model_selection import train_test_split\n",
    "\n",
    "X = np.genfromtxt('data/X.csv', delimiter=',')\n",
    "Y = np.genfromtxt('data/Y.csv', delimiter=',')"
   ]
  },
  {
   "cell_type": "code",
   "execution_count": 3,
   "metadata": {},
   "outputs": [
    {
     "data": {
      "text/plain": [
       "(99990, 220)"
      ]
     },
     "execution_count": 3,
     "metadata": {},
     "output_type": "execute_result"
    }
   ],
   "source": [
    "X.shape"
   ]
  },
  {
   "cell_type": "code",
   "execution_count": 4,
   "metadata": {},
   "outputs": [
    {
     "data": {
      "text/plain": [
       "(99990,)"
      ]
     },
     "execution_count": 4,
     "metadata": {},
     "output_type": "execute_result"
    }
   ],
   "source": [
    "Y.shape"
   ]
  },
  {
   "cell_type": "code",
   "execution_count": 5,
   "metadata": {},
   "outputs": [],
   "source": [
    "X_comp, X_test, Y_comp, Y_test = train_test_split(X, Y, test_size=0.2, random_state=0)\n",
    "Xtr, Xva, Ytr, Yva = train_test_split(X_comp, Y_comp, test_size=0.2)"
   ]
  },
  {
   "cell_type": "code",
   "execution_count": 6,
   "metadata": {},
   "outputs": [
    {
     "data": {
      "text/plain": [
       "(63993, 220)"
      ]
     },
     "execution_count": 6,
     "metadata": {},
     "output_type": "execute_result"
    }
   ],
   "source": [
    "Xtr.shape"
   ]
  },
  {
   "cell_type": "code",
   "execution_count": 7,
   "metadata": {},
   "outputs": [
    {
     "data": {
      "text/plain": [
       "(15999, 220)"
      ]
     },
     "execution_count": 7,
     "metadata": {},
     "output_type": "execute_result"
    }
   ],
   "source": [
    "Xva.shape"
   ]
  },
  {
   "cell_type": "code",
   "execution_count": 8,
   "metadata": {},
   "outputs": [],
   "source": [
    "from sklearn.metrics import classification_report\n",
    "from sklearn.model_selection import GridSearchCV\n",
    "import time"
   ]
  },
  {
   "cell_type": "code",
   "execution_count": 20,
   "metadata": {},
   "outputs": [
    {
     "name": "stdout",
     "output_type": "stream",
     "text": [
      "training start\n",
      "training finished, took 22985.771896123886 seconds\n"
     ]
    }
   ],
   "source": [
    "from sklearn.metrics import classification_report\n",
    "from sklearn.model_selection import GridSearchCV\n",
    "import time\n",
    "\n",
    "parameters1 = {\n",
    "    \"loss\":[\"deviance\"],\n",
    "    \"learning_rate\": [0.01, 0.05, 0.075, 0.1,0.2],\n",
    "    \"n_estimators\":[10, 100, 250, 500, 1000]\n",
    "}\n",
    "\n",
    "parameters4 = {\"min_samples_split\": [2,6,10,20,40,60],\n",
    "    \"min_samples_leaf\": [1,3,5,7,9],}\n",
    "\n",
    "parameters5 = {\"max_features\":[\"log2\",\"sqrt\"]}\n",
    "\n",
    "parameters6 = {\"subsample\":[0.5, 0.618, 0.8, 0.85, 0.9, 0.95, 1.0]}\n",
    "    \n",
    "GBC = GridSearchCV(GradientBoostingClassifier(), parameters1, cv=5)\n",
    "\n",
    "print('training start')\n",
    "starting_time = time.time()\n",
    "GBC.fit(Xtr, Ytr)\n",
    "end_time = time.time()\n",
    "print(\"training finished, took {} seconds\".format(end_time - starting_time))\n",
    "\n",
    "# p_test3 = {'learning_rate':[0.15,0.1,0.05,0.01,0.005,0.001], 'n_estimators':[100,250,500,750,1000,1250,1500,1750]}\n",
    "\n",
    "# tuning = GridSearchCV(estimator=GradientBoostingClassifier(max_depth=4, min_samples_split=2, min_samples_leaf=1, subsample=1,max_features='sqrt', random_state=10), \n",
    "#             param_grid = p_test3, scoring='accuracy',n_jobs=4,iid=False, cv=5)\n",
    "# print('training start')\n",
    "# tuning.fit(Xtr,Ytr)\n",
    "# print('trainnig end\\n')\n",
    "# tuning.grid_scores_, tuning.best_params_, tuning.best_score_"
   ]
  },
  {
   "cell_type": "code",
   "execution_count": 21,
   "metadata": {},
   "outputs": [
    {
     "name": "stdout",
     "output_type": "stream",
     "text": [
      "0.7600362031854073\n",
      "training error: 0.28381229196943414\n",
      "validation error: 0.3077692355772236\n"
     ]
    }
   ],
   "source": [
    "gradient_boosting_classifier_roc = roc_auc_score(\n",
    "   Yva, GBC.predict_proba(Xva)[:,1])\n",
    "print(gradient_boosting_classifier_roc)\n",
    "\n",
    "print(\"training error:\", 1 - GBC.score(Xtr, Ytr))\n",
    "print(\"validation error:\", 1 - GBC.score(Xva, Yva))"
   ]
  },
  {
   "cell_type": "code",
   "execution_count": 24,
   "metadata": {},
   "outputs": [],
   "source": [
    "best_estimator = GBC.best_estimator_\n",
    "best_score = GBC.best_score_\n",
    "best_params = GBC.best_params_\n",
    "best_index = GBC.best_index_\n",
    "scorer = GBC.scorer_\n",
    "cv_results = GBC.cv_results_\n",
    "refit_time = GBC.refit_time_"
   ]
  },
  {
   "cell_type": "code",
   "execution_count": 25,
   "metadata": {},
   "outputs": [
    {
     "data": {
      "text/plain": [
       "{'learning_rate': 0.1, 'loss': 'deviance', 'n_estimators': 1000}"
      ]
     },
     "execution_count": 25,
     "metadata": {},
     "output_type": "execute_result"
    }
   ],
   "source": [
    "best_params"
   ]
  },
  {
   "cell_type": "code",
   "execution_count": 26,
   "metadata": {},
   "outputs": [
    {
     "name": "stdout",
     "output_type": "stream",
     "text": [
      "training start\n",
      "training finished, took 13299.6862180233 seconds\n",
      "0.7603106412017687\n",
      "training error: 0.2769834200615693\n",
      "validation error: 0.30870679417463587\n"
     ]
    }
   ],
   "source": [
    "parameters2 = {\n",
    "    \"loss\":[\"deviance\"],\n",
    "    \"learning_rate\": [0.1],\n",
    "    \"n_estimators\":[1000,1250,1500,1750]\n",
    "}\n",
    "\n",
    "GBC2 = GridSearchCV(GradientBoostingClassifier(), parameters2, cv=5)\n",
    "\n",
    "print('training start')\n",
    "starting_time = time.time()\n",
    "GBC2.fit(Xtr, Ytr)\n",
    "end_time = time.time()\n",
    "print(\"training finished, took {} seconds\".format(end_time - starting_time))\n",
    "\n",
    "gradient_boosting_classifier_roc = roc_auc_score(\n",
    "   Yva, GBC2.predict_proba(Xva)[:,1])\n",
    "print(gradient_boosting_classifier_roc)\n",
    "\n",
    "print(\"training error:\", 1 - GBC2.score(Xtr, Ytr))\n",
    "print(\"validation error:\", 1 - GBC2.score(Xva, Yva))"
   ]
  },
  {
   "cell_type": "code",
   "execution_count": 27,
   "metadata": {},
   "outputs": [],
   "source": [
    "best_estimator2 = GBC2.best_estimator_\n",
    "best_score2 = GBC2.best_score_\n",
    "best_params2 = GBC2.best_params_\n",
    "best_index2 = GBC2.best_index_\n",
    "scorer2 = GBC2.scorer_\n",
    "cv_results2 = GBC2.cv_results_\n",
    "refit_time2 = GBC2.refit_time_"
   ]
  },
  {
   "cell_type": "code",
   "execution_count": 28,
   "metadata": {},
   "outputs": [
    {
     "data": {
      "text/plain": [
       "{'learning_rate': 0.1, 'loss': 'deviance', 'n_estimators': 1500}"
      ]
     },
     "execution_count": 28,
     "metadata": {},
     "output_type": "execute_result"
    }
   ],
   "source": [
    "best_params2"
   ]
  },
  {
   "cell_type": "code",
   "execution_count": 32,
   "metadata": {},
   "outputs": [
    {
     "data": {
      "text/plain": [
       "0.691935055396684"
      ]
     },
     "execution_count": 32,
     "metadata": {},
     "output_type": "execute_result"
    }
   ],
   "source": []
  },
  {
   "cell_type": "code",
   "execution_count": 36,
   "metadata": {},
   "outputs": [
    {
     "name": "stdout",
     "output_type": "stream",
     "text": [
      "training start\n",
      "training finished, took 21781.42532300949 seconds\n",
      "0.7603145828608906\n",
      "training error: 0.27778038222930634\n",
      "validation error: 0.3093943371460717\n"
     ]
    }
   ],
   "source": [
    "parameters3 = {\"max_depth\":[3,5,8],\n",
    "               \"loss\":[\"deviance\"],\n",
    "               \"learning_rate\": [0.1],\n",
    "               \"n_estimators\":[1500]\n",
    "              }\n",
    "\n",
    "GBC3 = GridSearchCV(GradientBoostingClassifier(), parameters3, cv=5)\n",
    "\n",
    "print('training start')\n",
    "starting_time = time.time()\n",
    "GBC3.fit(Xtr, Ytr)\n",
    "end_time = time.time()\n",
    "print(\"training finished, took {} seconds\".format(end_time - starting_time))\n",
    "\n",
    "gradient_boosting_classifier_roc = roc_auc_score(\n",
    "   Yva, GBC3.predict_proba(Xva)[:,1])\n",
    "print(gradient_boosting_classifier_roc)\n",
    "\n",
    "print(\"training error:\", 1 - GBC3.score(Xtr, Ytr))\n",
    "print(\"validation error:\", 1 - GBC3.score(Xva, Yva))\n",
    "\n",
    "best_estimator3 = GBC3.best_estimator_\n",
    "best_score3 = GBC3.best_score_\n",
    "best_params3 = GBC3.best_params_\n",
    "best_index3 = GBC3.best_index_\n",
    "scorer3 = GBC3.scorer_\n",
    "cv_results3 = GBC3.cv_results_\n",
    "refit_time3 = GBC3.refit_time_"
   ]
  },
  {
   "cell_type": "code",
   "execution_count": 38,
   "metadata": {},
   "outputs": [
    {
     "data": {
      "text/plain": [
       "{'learning_rate': 0.1,\n",
       " 'loss': 'deviance',\n",
       " 'max_depth': 3,\n",
       " 'n_estimators': 1500}"
      ]
     },
     "execution_count": 38,
     "metadata": {},
     "output_type": "execute_result"
    }
   ],
   "source": [
    "best_params3"
   ]
  },
  {
   "cell_type": "code",
   "execution_count": null,
   "metadata": {},
   "outputs": [
    {
     "name": "stdout",
     "output_type": "stream",
     "text": [
      "training start\n"
     ]
    }
   ],
   "source": [
    "parameters4 = {\n",
    "    \"max_depth\":[3],\n",
    "    \"loss\":[\"deviance\"],\n",
    "    \"learning_rate\": [0.1],\n",
    "    \"n_estimators\":[1500],\n",
    "    \"min_samples_split\": [2,6,10,20,40,60],\n",
    "    \"min_samples_leaf\": [1,3,5,7,9]}\n",
    "\n",
    "GBC4 = GridSearchCV(GradientBoostingClassifier(), parameters4, cv=5)\n",
    "\n",
    "print('training start')\n",
    "starting_time = time.time()\n",
    "GBC4.fit(Xtr, Ytr)\n",
    "end_time = time.time()\n",
    "print(\"training finished, took {} seconds\".format(end_time - starting_time))\n",
    "\n",
    "gradient_boosting_classifier_roc = roc_auc_score(\n",
    "   Yva, GBC4.predict_proba(Xva)[:,1])\n",
    "print(gradient_boosting_classifier_roc)\n",
    "\n",
    "print(\"training error:\", 1 - GBC4.score(Xtr, Ytr))\n",
    "print(\"validation error:\", 1 - GBC4.score(Xva, Yva))\n",
    "\n",
    "best_estimator4 = GBC4.best_estimator_\n",
    "best_score4 = GBC4.best_score_\n",
    "best_params4 = GBC4.best_params_\n",
    "best_index4 = GBC4.best_index_\n",
    "scorer4 = GBC4.scorer_\n",
    "cv_results4 = GBC4.cv_results_\n",
    "refit_time4 = GBC4.refit_time_"
   ]
  },
  {
   "cell_type": "code",
   "execution_count": null,
   "metadata": {},
   "outputs": [],
   "source": [
    "print('best_estimator4:\\t', best_estimator4)\n",
    "print('best_score4:\\t', best_score4)\n",
    "print('best_params4:\\t', best_params4)\n",
    "print('best_index4:\\t', best_index4)\n",
    "print('scorer4:\\t', scorer4)\n",
    "print('cv_results4:\\t', cv_results4)\n",
    "print('refit_time4:\\t', refit_time4)"
   ]
  },
  {
   "cell_type": "code",
   "execution_count": null,
   "metadata": {},
   "outputs": [],
   "source": [
    "clf = GradientBoostingClassifier(max_depth=3,loss=\"deviance\",learning_rate=0.1,\n",
    "                                 n_estimators=1500,min_samples_split=,min_samples_leaf=)\n",
    "\n",
    "parameters5 = {\"max_features\":[\"log2\",\"sqrt\"]}\n",
    "\n",
    "GBC5 = GridSearchCV(clf, parameters5, cv=5)\n",
    "\n",
    "print('training start')\n",
    "starting_time = time.time()\n",
    "GBC5.fit(Xtr, Ytr)\n",
    "end_time = time.time()\n",
    "print(\"training finished, took {} seconds\".format(end_time - starting_time))\n",
    "\n",
    "gradient_boosting_classifier_roc = roc_auc_score(\n",
    "   Yva, GBC5.predict_proba(Xva)[:,1])\n",
    "print(gradient_boosting_classifier_roc)\n",
    "\n",
    "print(\"training error:\", 1 - GBC5.score(Xtr, Ytr))\n",
    "print(\"validation error:\", 1 - GBC5.score(Xva, Yva))\n",
    "\n",
    "best_estimator5 = GBC5.best_estimator_\n",
    "best_score5 = GBC5.best_score_\n",
    "best_params5 = GBC5.best_params_\n",
    "best_index5 = GBC5.best_index_\n",
    "scorer5 = GBC5.scorer_\n",
    "cv_results5 = GBC5.cv_results_\n",
    "refit_time5 = GBC5.refit_time_\n",
    "\n"
   ]
  },
  {
   "cell_type": "code",
   "execution_count": null,
   "metadata": {},
   "outputs": [],
   "source": [
    "\n",
    "\n",
    "parameters6 = {\"subsample\":[0.5, 0.618, 0.8, 0.85, 0.9, 0.95, 1.0]}"
   ]
  }
 ],
 "metadata": {
  "kernelspec": {
   "display_name": "Python 3",
   "language": "python",
   "name": "python3"
  },
  "language_info": {
   "codemirror_mode": {
    "name": "ipython",
    "version": 3
   },
   "file_extension": ".py",
   "mimetype": "text/x-python",
   "name": "python",
   "nbconvert_exporter": "python",
   "pygments_lexer": "ipython3",
   "version": "3.7.4"
  }
 },
 "nbformat": 4,
 "nbformat_minor": 2
}
