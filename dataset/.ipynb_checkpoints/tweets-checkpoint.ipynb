{
 "cells": [
  {
   "cell_type": "code",
   "execution_count": 2,
   "metadata": {
    "colab": {},
    "colab_type": "code",
    "id": "ckHUOjxUcDda"
   },
   "outputs": [],
   "source": [
    "import tweepy as tw\n",
    "import os\n",
    "import pandas as pd\n",
    "\n",
    "#To access the Twitter API, you will need 4 things from the your Twitter App page. \n",
    "#These keys are located in your Twitter app settings in the Keys and Access Tokens tab.\n",
    "consumer_key= 'wnFgrbwPDAwJA1vCS8EZVfiP7'\n",
    "consumer_secret= 'cHUSVJZQtkhU6w05pBPROGZ1yAahHakL8pSJEr5jIhkDJvXElo'\n",
    "access_token= '1203090107957309440-jrv0gUebcBjNvqlml26PdLYG5Kibgk'\n",
    "access_token_secret= 'iD74htxVkMRnxN8I8dFwmsuGsukbOSaslfL1UqK8HHgtB'"
   ]
  },
  {
   "cell_type": "code",
   "execution_count": 3,
   "metadata": {
    "colab": {},
    "colab_type": "code",
    "id": "AdalLuQcfFVN"
   },
   "outputs": [],
   "source": [
    "auth = tw.OAuthHandler(consumer_key, consumer_secret)\n",
    "auth.set_access_token(access_token, access_token_secret)\n",
    "api = tw.API(auth, wait_on_rate_limit=True)"
   ]
  },
  {
   "cell_type": "code",
   "execution_count": 4,
   "metadata": {
    "colab": {},
    "colab_type": "code",
    "id": "JbYFydcvzPJt"
   },
   "outputs": [],
   "source": [
    "#Now you are ready to search Twitter for recent tweets! Start by finding recent tweets that use the #XXX hashtag. \n",
    "#You will use the .Cursor method to get an object containing tweets containing the hashtag #XXX.\n",
    "\n",
    "#To create this query, you will define the:\n",
    "\n",
    "#Search term - in this case #XXX\n",
    "#the start date of your search\n",
    "\n",
    "search_word1 = \"#Trump\" + \" -filter:retweets\"\n",
    "date_since = \"2019-01-01\""
   ]
  },
  {
   "cell_type": "code",
   "execution_count": 7,
   "metadata": {
    "colab": {},
    "colab_type": "code",
    "id": "ObW2KR6hz3GI"
   },
   "outputs": [],
   "source": [
    "# Collect tweets\n",
    "#.Cursor() returns an object that you can iterate or loop over \n",
    "#to access the data collected. Each item in the iterator has various \n",
    "#attributes that you can access to get information about each tweet including:\n",
    "\n",
    "#the text of the tweet\n",
    "#who sent the tweet\n",
    "#the date the tweet was sent and more. \n",
    "tweetsObj1 = tw.Cursor(api.search,\n",
    "                   q = search_word1,\n",
    "                   lang = \"en\",\n",
    "                   since = date_since).items(1000)"
   ]
  },
  {
   "cell_type": "code",
   "execution_count": 8,
   "metadata": {
    "colab": {
     "base_uri": "https://localhost:8080/",
     "height": 72
    },
    "colab_type": "code",
    "id": "dLLZaDVe0QhN",
    "outputId": "6a18f083-b2e2-41ee-e43b-3ba1b9ee32ea"
   },
   "outputs": [
    {
     "name": "stdout",
     "output_type": "stream",
     "text": [
      "['If you tell me a \"being of pure white light\" speaks to Donald J. #Trump, I\\'ll wonder if they were #Elohim.', '.@TheDemocrats in 2016: \"Don\\'t vote for #Trump, he will start new wars!!!\"\\n\\n@TheDemocrats in 2020: \"Don\\'t vote for… https://t.co/qcjcBxxWFD', \"@4Awesometweet I'm sure #trump will find a way to compliment himself.\", \"@MikeHun84192140 @JadeisFedUp @MPFIED @davematt88 Really?  How?  Name one thing that #Trump has done that's best of… https://t.co/WGYV3RlGTJ\", \"@mitchellvii Best outcome: you're purposely trolling.\\n\\nWorst outcome: You and the people who rely on you for… https://t.co/yZW1GqXLGF\", \".\\nWashington state woman becomes first American fatality from Fucking Moron #Trump's #coronavirus #hoax… https://t.co/iT1h86bVNn\", \"#Trump is actively encouraging\\nmagas\\nto #Vote for @BernieSanders\\nwhy you ask?\\nso he\\n&amp;\\nhis 'followers'\\ncan SCREAM… https://t.co/LIUZSLSVPG\", \"#CoronaVirus. #Biden contro #Trump. 'Absolutely dangerous': Biden slams Trump's claim coronavirus is a hoax.\\nhttps://t.co/op81BjV6JE\", \"@DonaldJTrumpJr @realDonaldTrump At least his presidency won't be won with the help of the russians. #trump&amp;putin 2016win\", 'Another uninspiring performance coming up. Wonder if he will ignore the 1st death, just announced on CNN. Difficult… https://t.co/cfvdsmt2Vc', '83-year-old #PopeFrancis, has canceled all appearances for the third straight day with cold and flu symptoms resemb… https://t.co/Xu31AdC4xo', '\"Populists attract some extremists. The populist candidate never disavows them because they are his strongest suppo… https://t.co/lbd7Ryea7g', '#Trump Is Asking For A Do-Over After His First Coronavirus Press Conference Flopped now trending on Monkey Viral - https://t.co/80L6LnLp4i', 'Donald Trump’s war on coronavirus is just his latest war on truth | Jonathan Freedland https://t.co/vgce64P3fC No c… https://t.co/BWzuIfdgXq', '@realDonaldTrump @SpeakerPelosi @MittRomney @CharlesGKoch @georgesoros @NBCNews @CBSNews @ABC @CNN @MSNBC @FoxNews… https://t.co/jRCzMu8EGg', \"Why the Taliban Is Celebrating #Trump's #Peace Plan: Small Wars Journal https://t.co/sA0Brmsa1V\\n\\nMORE w/ EcoSearch… https://t.co/S5nFpc0zLY\", '#Trump will know first person has died by the time of press event? https://t.co/sQeQNx2zuh', \"The @nyknicks should begin tanking for Barron Trump in the 2025 NBA Draft. His father's competitiveness + Slovenian… https://t.co/1iE1OzzSg5\", '@NewYorker This is insanely good. PARS PRO TOTO, #TRUMP.', \".\\nWashington state woman becomes first American fatality of Fucking Moron #Trump's #coronavirus #hoax… https://t.co/RxXIqKMmpV\"]\n",
      "1000\n"
     ]
    }
   ],
   "source": [
    "# Collect a list of tweets\n",
    "tweets1 = [tweet.text for tweet in tweetsObj1]\n",
    "print(tweets1[:20])\n",
    "print(len(tweets1))"
   ]
  },
  {
   "cell_type": "code",
   "execution_count": 9,
   "metadata": {
    "colab": {},
    "colab_type": "code",
    "id": "A3k4Rgce1_hN"
   },
   "outputs": [],
   "source": [
    "#create a pandas dataframe that contains that data.\n",
    "tweet_pandas1 = pd.DataFrame(data = tweets1, columns=['text'])"
   ]
  },
  {
   "cell_type": "code",
   "execution_count": 10,
   "metadata": {
    "colab": {},
    "colab_type": "code",
    "id": "jRrI7ZJB2VnQ"
   },
   "outputs": [],
   "source": [
    "#convert pandas dataframe into a CSV file.\n",
    "tweet_pandas1.to_csv(r'Trump.csv')"
   ]
  },
  {
   "cell_type": "code",
   "execution_count": 11,
   "metadata": {
    "colab": {
     "base_uri": "https://localhost:8080/",
     "height": 72
    },
    "colab_type": "code",
    "id": "1fOoFnk8QPN3",
    "outputId": "6bcd787c-8937-4dc0-ff2f-9426538ddd1f"
   },
   "outputs": [
    {
     "name": "stdout",
     "output_type": "stream",
     "text": [
      "['Thank you to @RepCicilline and @RepSpanberger for fighting for what is right. \\n#Iran\\n#Soleimani https://t.co/pqguMVsxsq', 'Nation Of #Islam Leader #LouisFarrakhan: ‘Mr. #Trump Killed My Brother #Soleimani  America ‘The Habitation Of Devil… https://t.co/WPVPUyhE9Z', '@JOKER_237 @AdairBlackmore @rich_goldberg @jonathanvswan @realDonaldTrump @SecPompeo Get out troll #Soleimani', '@TulsiGabbard @realDonaldTrump Trump has no plans to take out Erdogan? Interesting...🤔 #soleimani', 'Wow. The Democrats are seriously comparing Benghazi to Soleimani. Really?\\n\\n@RepLeeZeldin #cpac #cpac2020 #benghazi… https://t.co/HvnNLRHyhE', 'Why Iranians Say Death to America.\\nAfter watching this video, give Iranians the right to hate America.\\n#iran… https://t.co/veatpnrygZ', '@SecPompeo #Turkey thought it could occupy Idlib after Commander #Soleimani.\\nBut he has forgotten that #Islam does not depend on one person.', 'If #Trump listened to me re: #Soleimani, why not you @RTErdogan ??\\n\\nYou can do it to! ✔️\\n\\n#TSK #Turkey #Erdogan… https://t.co/QN3Y02gQhU', \"In reference to #Afghanistan, Trump doesn't start endless wars like every other politician in history. He ends them… https://t.co/a13bwnJj74\", 'Would be wise to start an informal #Israel #Turkey alliance to smash #Assad, incl. #Hezbollah #Iran and #Soleimani… https://t.co/W2F5VGPWSc', '#IranProtests2020 \\n#Soleimani was a mass murderer\\n@AlexanderSNeu\\n@HeikeHaensel\\n@ZaklinNastic\\n@voglerk\\n@Diether_Dehm… https://t.co/wa1YtgYeS8', 'How will #Iran’s Quds Force change in the post-#Soleimani era?\\n\\nANALYSIS: https://t.co/un7hYOLu2X', '@Raihan52750994 @RiteItIs @AB_BJP @ssingapuri @_sabanaqvi @CPDelhi @DelhiPolice @HMOIndia @sambitswaraj… https://t.co/8j2xa3ykqp', 'When asked what the precise number of casualties at #ainalassad were instead of responding with the current declass… https://t.co/tex5BSbsKV', '@CarlZha because iran armed talib with antiair in return4 #Soleimani \\n\\nUSAF Bombardier E-11A was carrying Michael D… https://t.co/o2l5sbxbyU', \"How far does #Iran's influence extend across the region? Learn more about the networks #Soleimani cultivated and Te… https://t.co/fFdkIoDWRd\", '#Afghans (#Taliban)need to look \"Deep into their soul\"@SecPompeo \\n\"Look who is talking!\"Someone who just killed… https://t.co/eTfk6YG0P8', '@AatishTaseer @postcolonialist @IndiainNewYork Ask ammi @tavleen_singh what genocide #1984SikhGenocide lol @POTUS k… https://t.co/11jYrPfZDa', 'THANK YOU @RepRonWright for supporting our President!\\n\\nI watched you Fri. morning on C-Span2 ...your interaction wi… https://t.co/okxd8tasKq', '@PeteHegseth did the killing of Bahgdadi and #Soleimani help bring the Taliban leader to the table? @foxandfriends #FoxandFriends']\n",
      "457\n"
     ]
    }
   ],
   "source": [
    "#Tweets collection of the second search word\n",
    "search_word2 = \"#Soleimani\" + \" -filter:retweets\" # #soleimanikilling\n",
    "tweetsObj2 = tw.Cursor(api.search,\n",
    "                   q = search_word2,\n",
    "                   lang = \"en\",\n",
    "                   since = date_since).items(1000)\n",
    "tweets2 = [tweet.text for tweet in tweetsObj2]\n",
    "print(tweets2[:20])\n",
    "print(len(tweets2))\n",
    "tweet_pandas2 = pd.DataFrame(data = tweets2, columns=['text'])\n",
    "tweet_pandas2.to_csv(r'Soleimani.csv')"
   ]
  },
  {
   "cell_type": "code",
   "execution_count": 12,
   "metadata": {
    "colab": {
     "base_uri": "https://localhost:8080/",
     "height": 72
    },
    "colab_type": "code",
    "id": "2SZL0GleRPJD",
    "outputId": "26a071fd-370d-4572-f1c8-6190f75722ad"
   },
   "outputs": [
    {
     "name": "stdout",
     "output_type": "stream",
     "text": [
      "['@ubendor @Abby4Iowa Actually no, John Deere has outsourced so many parts to China in the past 10 years. There are m… https://t.co/8TLgkzUjW4', \"@shaver50 @Abby4Iowa Layoffs in Waterloo don't take effect until May 4th. No John Deere has no regular layoffs, my… https://t.co/0rG3Ec9Lpn\", '#Trump provides government \"#Socialism\" to #TradeWar struggling US farmers &amp; culinary industry. #Takers… https://t.co/tjK5ET6IZg', 'Did you miss this Gary Shilling Interview? With recent #coronavirusupdates we now know that the Coronavirus has spr… https://t.co/g4XULnUmbF', '#maga #washyourhands #cdc #politics #elections #tradewar #hkprorestors #nyse Another tool for division.. we are the… https://t.co/jqRwmlq0eo', 'Can our #Security be guaranteed by only letting Huawei build a periphery 5G network?\\nhttps://t.co/tb5fLjsvxd\\n#5G… https://t.co/uugCWWQ31c', '#Trade Wars: Substance, Nonsense and the Thucydides Trap\\n#Financial #InternationalTrade #StockMarket… https://t.co/GLxT9fTb9X', 'ICYMI: Cost of Trump’s #Tariffs Has Hit Entirely on US Businesses &amp; Households. LINK: https://t.co/SJ6CTbk5f4… https://t.co/PJetS2Holw', 'Top 10 highest paid salary countries https://t.co/DJU9vnq1OE #country #rich #people #CoronaVirusUpdates #ecommerce… https://t.co/QKEKzvHnsC', \"@JimmyJohnston77 Ask the #Farmers who received #Bailouts when they couldn't sell their #Soybeans thanks to #Trump's… https://t.co/DBxgrCLHF9\", 'American media say test kits for #Covid_19 are in short supply in the US. Would US be willing to import from China… https://t.co/b9bIi8ZniG', \"In case US has to import #Covid_19 test kits from China bec there's said to be a shortage in the US, how much shoul… https://t.co/yJgCx8cGXI\", \"She forgot #obama🙄\\n\\nThis loony is running for office. Obviously she'll never get elected, but still.\\n\\nI heard somew… https://t.co/8FMhtjcDas\", 'Global markets are TANKING in response to the #COVID19 🦠 #CoronaVirusPandemic. But let’s not forget that they were… https://t.co/vWCk9MMTxH', \"After #China takes over.\\nDon't blame me. I voted for Kodos.\\n#hegemony #Political #influence #tradewar https://t.co/KrK9KGQJfs\", 'Beyond the Belt and Road: China’s Global Economic Expansion, by Dr. Antonio Graceffo, available on Amazon\\n#china… https://t.co/P1ZHBwzksz', '#China Reports 47 More #Coronavirus Deaths \\n\\n#worldpowers #climatesecurity #disobedientdss #breaking #unsc #covid19… https://t.co/VQ3ZK6wMbR', 'It must be love;) \\n\"#Google has applied for a license with the #US government, asking permission to resume business… https://t.co/qboXQHhSFo', 'The timing and placement of #coronavirus were awfully convenient. It gave us negotiating power where we had none fo… https://t.co/5bfLhUG7VG', 'We need to bring production back to our shores permanently and set up new partners around the world. This is an urg… https://t.co/4ESqD9nr3V']\n",
      "650\n"
     ]
    }
   ],
   "source": [
    "#Tweets collection of the third search word\n",
    "search_word3 = \"#tradewar\" + \" -filter:retweets\" # #soleimanikilling\n",
    "tweetsObj3 = tw.Cursor(api.search,\n",
    "                   q = search_word3,\n",
    "                   lang = \"en\",\n",
    "                   since = date_since).items(1000)\n",
    "tweets3 = [tweet.text for tweet in tweetsObj3]\n",
    "print(tweets3[:20])\n",
    "print(len(tweets3))\n",
    "tweet_pandas3 = pd.DataFrame(data = tweets3, columns=['text'])\n",
    "tweet_pandas3.to_csv(r'tradewar.csv')"
   ]
  },
  {
   "cell_type": "code",
   "execution_count": 15,
   "metadata": {},
   "outputs": [
    {
     "name": "stdout",
     "output_type": "stream",
     "text": [
      "['@atrupar @AynRandPaulRyan Meanwhile, an American has now died of #coronavirus.  This person died in my state, Washi… https://t.co/seYtN0nnvI', '#coronavirus kills person in Washington, first such death in US\\n\\n#Trump2020 #DemocratsAreDestroyingAmerica \\n\\nhttps://t.co/SE5qFnFi9u', 'What kind of moron calls a press conference at a specific time and then makes the audience wait? This is not realit… https://t.co/2KGAZNKP9s', \"Yes it will. Because the #coronavirus can't be bullied into behaving the way that tRump and the #GOP want it to. Th… https://t.co/ryhDFnN1Uq\", 'MITIGATION in the U.S. MUST HAPPEN NOW ! 🇺🇸\\n\\n#COVID19 #COVID #Coronavirus #redflu', '@nntaleb I confirm that the #Italian #Healthcare System is public but also in these cases it is #functional and… https://t.co/7WGWJaNwxf', 'Three more #coronavirus reports in the UK. Here we go.', 'President Trump #Coronavirus #Update #Live scheduled at 1:30pm ...over 10 minutes past\\n\\nhttps://t.co/MrJYFWyFIj', '@GreenPeaches2 @SaveUSA1776 @realDonaldTrump @RonnyJackson4TX That wimp Jim @SaveUSA1776 blocked me because like… https://t.co/Y3IUotVefL', 'Since we need all hands on deck to address the #ClimateCrisis—a #FederalJobsGaurantee is needed. \\n\\nConsidering thre… https://t.co/sSPhlZj0YJ', '.@WHO will feel the pressure now!\\n#coronavirus #COVID19\\nhttps://t.co/Q9GXnR8JZy', \"We're following this breaking development. Stay tuned. #coronavirus https://t.co/qCIKPitIFq\", 'The “latest Democratic hoax” just claimed a life in Washington.\\n\\nBoy, some people will do *anything * to make Trump… https://t.co/tfEEiXvsVP', '#Coronavirus near US border in Mexican side.\\n\\nIf it hits the factories north then...\\n\\nKABOOM supply lines', 'Trump is a seriously sick individual.\\n#CoronaVirus #COVID19 #hoax\\n\\nhttps://t.co/ljTa5jPjf1', 'Taking steps to prevent the #coronavirus @ Darkside Records https://t.co/RNrUE2VtsY', '#Kolkatans should in fact be thanking #coronavirus for reducing #Cancer risks. But I wonder why the government allo… https://t.co/bJNuBMDRrM', 'The number of people I know who have flat out said that they would not stay indoors if the government suggested it.… https://t.co/JNNZEtA69H', 'It is vital to find appropriate sources of information. Some useful info and links below. 👇 \\n#coronavirus #COVID… https://t.co/WMTMTu6BRo', 'I noticed this morning when #FoxNews accused the President of calling the #coronavirus a hoax they never bothered t… https://t.co/FPCnqa0ZWB']\n",
      "1000\n"
     ]
    }
   ],
   "source": [
    "search_word4 = \"#coronavirus\" + \" -filter:retweets\" # #soleimanikilling\n",
    "tweetsObj4 = tw.Cursor(api.search,\n",
    "                   q = search_word4,\n",
    "                   lang = \"en\",\n",
    "                   since = \"2020-01-01\").items(1000)\n",
    "tweets4 = [tweet.text for tweet in tweetsObj4]\n",
    "print(tweets4[:20])\n",
    "print(len(tweets4))\n",
    "tweet_pandas4 = pd.DataFrame(data = tweets4, columns=['text'])\n",
    "tweet_pandas4.to_csv(r'coronavirus.csv')"
   ]
  },
  {
   "cell_type": "code",
   "execution_count": 1,
   "metadata": {},
   "outputs": [
    {
     "ename": "NameError",
     "evalue": "name 'tw' is not defined",
     "output_type": "error",
     "traceback": [
      "\u001b[1;31m---------------------------------------------------------------------------\u001b[0m",
      "\u001b[1;31mNameError\u001b[0m                                 Traceback (most recent call last)",
      "\u001b[1;32m<ipython-input-1-836c11bc3451>\u001b[0m in \u001b[0;36m<module>\u001b[1;34m\u001b[0m\n\u001b[0;32m      1\u001b[0m \u001b[0msearch_word5\u001b[0m \u001b[1;33m=\u001b[0m \u001b[1;34m\"#metoo\"\u001b[0m \u001b[1;33m+\u001b[0m \u001b[1;34m\" -filter:retweets\"\u001b[0m \u001b[1;31m# #soleimanikilling\u001b[0m\u001b[1;33m\u001b[0m\u001b[1;33m\u001b[0m\u001b[0m\n\u001b[1;32m----> 2\u001b[1;33m tweetsObj5 = tw.Cursor(api.search,\n\u001b[0m\u001b[0;32m      3\u001b[0m                    \u001b[0mq\u001b[0m \u001b[1;33m=\u001b[0m \u001b[0msearch_word4\u001b[0m\u001b[1;33m,\u001b[0m\u001b[1;33m\u001b[0m\u001b[1;33m\u001b[0m\u001b[0m\n\u001b[0;32m      4\u001b[0m                    \u001b[0mlang\u001b[0m \u001b[1;33m=\u001b[0m \u001b[1;34m\"en\"\u001b[0m\u001b[1;33m,\u001b[0m\u001b[1;33m\u001b[0m\u001b[1;33m\u001b[0m\u001b[0m\n\u001b[0;32m      5\u001b[0m                    since = date_since).items(1000)\n",
      "\u001b[1;31mNameError\u001b[0m: name 'tw' is not defined"
     ]
    }
   ],
   "source": [
    "search_word5 = \"#metoo\" + \" -filter:retweets\" # #soleimanikilling\n",
    "tweetsObj5 = tw.Cursor(api.search,\n",
    "                   q = search_word4,\n",
    "                   lang = \"en\",\n",
    "                   since = date_since).items(1000)\n",
    "tweets5 = [tweet.text for tweet in tweetsObj5]\n",
    "print(tweets5[:20])\n",
    "print(len(tweets5))\n",
    "tweet_pandas5 = pd.DataFrame(data = tweets5, columns=['text'])\n",
    "tweet_pandas5.to_csv(r'coronavirus.csv')"
   ]
  }
 ],
 "metadata": {
  "colab": {
   "collapsed_sections": [],
   "name": "dataset.ipynb",
   "provenance": []
  },
  "kernelspec": {
   "display_name": "Python 3",
   "language": "python",
   "name": "python3"
  },
  "language_info": {
   "codemirror_mode": {
    "name": "ipython",
    "version": 3
   },
   "file_extension": ".py",
   "mimetype": "text/x-python",
   "name": "python",
   "nbconvert_exporter": "python",
   "pygments_lexer": "ipython3",
   "version": "3.7.4"
  }
 },
 "nbformat": 4,
 "nbformat_minor": 1
}
