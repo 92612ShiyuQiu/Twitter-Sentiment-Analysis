{
 "cells": [
  {
   "cell_type": "code",
   "execution_count": null,
   "metadata": {
    "colab": {},
    "colab_type": "code",
    "id": "ckHUOjxUcDda"
   },
   "outputs": [],
   "source": [
    "import tweepy as tw\n",
    "import os\n",
    "import pandas as pd\n",
    "\n",
    "#To access the Twitter API, you will need 4 things from the your Twitter App page. \n",
    "#These keys are located in your Twitter app settings in the Keys and Access Tokens tab.\n",
    "consumer_key= 'wnFgrbwPDAwJA1vCS8EZVfiP7'\n",
    "consumer_secret= 'cHUSVJZQtkhU6w05pBPROGZ1yAahHakL8pSJEr5jIhkDJvXElo'\n",
    "access_token= '1203090107957309440-jrv0gUebcBjNvqlml26PdLYG5Kibgk'\n",
    "access_token_secret= 'iD74htxVkMRnxN8I8dFwmsuGsukbOSaslfL1UqK8HHgtB'"
   ]
  },
  {
   "cell_type": "code",
   "execution_count": null,
   "metadata": {
    "colab": {},
    "colab_type": "code",
    "id": "AdalLuQcfFVN"
   },
   "outputs": [],
   "source": [
    "auth = tw.OAuthHandler(consumer_key, consumer_secret)\n",
    "auth.set_access_token(access_token, access_token_secret)\n",
    "api = tw.API(auth, wait_on_rate_limit=True)"
   ]
  },
  {
   "cell_type": "code",
   "execution_count": null,
   "metadata": {
    "colab": {},
    "colab_type": "code",
    "id": "JbYFydcvzPJt"
   },
   "outputs": [],
   "source": [
    "#Now you are ready to search Twitter for recent tweets! Start by finding recent tweets that use the #XXX hashtag. \n",
    "#You will use the .Cursor method to get an object containing tweets containing the hashtag #XXX.\n",
    "\n",
    "#To create this query, you will define the:\n",
    "\n",
    "#Search term - in this case #XXX\n",
    "#the start date of your search\n",
    "\n",
    "search_word1 = \"#Trump\" + \" -filter:retweets\"\n",
    "date_since = \"2019-01-01\""
   ]
  },
  {
   "cell_type": "code",
   "execution_count": 7,
   "metadata": {
    "colab": {},
    "colab_type": "code",
    "id": "ObW2KR6hz3GI"
   },
   "outputs": [],
   "source": [
    "# Collect tweets\n",
    "#.Cursor() returns an object that you can iterate or loop over \n",
    "#to access the data collected. Each item in the iterator has various \n",
    "#attributes that you can access to get information about each tweet including:\n",
    "\n",
    "#the text of the tweet\n",
    "#who sent the tweet\n",
    "#the date the tweet was sent and more. \n",
    "tweetsObj1 = tw.Cursor(api.search,\n",
    "                   q = search_word1,\n",
    "                   lang = \"en\",\n",
    "                   since = date_since).items(1000)"
   ]
  },
  {
   "cell_type": "code",
   "execution_count": 8,
   "metadata": {
    "colab": {
     "base_uri": "https://localhost:8080/",
     "height": 72
    },
    "colab_type": "code",
    "id": "dLLZaDVe0QhN",
    "outputId": "6a18f083-b2e2-41ee-e43b-3ba1b9ee32ea"
   },
   "outputs": [
    {
     "name": "stdout",
     "output_type": "stream",
     "text": [
      "['If you tell me a \"being of pure white light\" speaks to Donald J. #Trump, I\\'ll wonder if they were #Elohim.', '.@TheDemocrats in 2016: \"Don\\'t vote for #Trump, he will start new wars!!!\"\\n\\n@TheDemocrats in 2020: \"Don\\'t vote for… https://t.co/qcjcBxxWFD', \"@4Awesometweet I'm sure #trump will find a way to compliment himself.\", \"@MikeHun84192140 @JadeisFedUp @MPFIED @davematt88 Really?  How?  Name one thing that #Trump has done that's best of… https://t.co/WGYV3RlGTJ\", \"@mitchellvii Best outcome: you're purposely trolling.\\n\\nWorst outcome: You and the people who rely on you for… https://t.co/yZW1GqXLGF\", \".\\nWashington state woman becomes first American fatality from Fucking Moron #Trump's #coronavirus #hoax… https://t.co/iT1h86bVNn\", \"#Trump is actively encouraging\\nmagas\\nto #Vote for @BernieSanders\\nwhy you ask?\\nso he\\n&amp;\\nhis 'followers'\\ncan SCREAM… https://t.co/LIUZSLSVPG\", \"#CoronaVirus. #Biden contro #Trump. 'Absolutely dangerous': Biden slams Trump's claim coronavirus is a hoax.\\nhttps://t.co/op81BjV6JE\", \"@DonaldJTrumpJr @realDonaldTrump At least his presidency won't be won with the help of the russians. #trump&amp;putin 2016win\", 'Another uninspiring performance coming up. Wonder if he will ignore the 1st death, just announced on CNN. Difficult… https://t.co/cfvdsmt2Vc', '83-year-old #PopeFrancis, has canceled all appearances for the third straight day with cold and flu symptoms resemb… https://t.co/Xu31AdC4xo', '\"Populists attract some extremists. The populist candidate never disavows them because they are his strongest suppo… https://t.co/lbd7Ryea7g', '#Trump Is Asking For A Do-Over After His First Coronavirus Press Conference Flopped now trending on Monkey Viral - https://t.co/80L6LnLp4i', 'Donald Trump’s war on coronavirus is just his latest war on truth | Jonathan Freedland https://t.co/vgce64P3fC No c… https://t.co/BWzuIfdgXq', '@realDonaldTrump @SpeakerPelosi @MittRomney @CharlesGKoch @georgesoros @NBCNews @CBSNews @ABC @CNN @MSNBC @FoxNews… https://t.co/jRCzMu8EGg', \"Why the Taliban Is Celebrating #Trump's #Peace Plan: Small Wars Journal https://t.co/sA0Brmsa1V\\n\\nMORE w/ EcoSearch… https://t.co/S5nFpc0zLY\", '#Trump will know first person has died by the time of press event? https://t.co/sQeQNx2zuh', \"The @nyknicks should begin tanking for Barron Trump in the 2025 NBA Draft. His father's competitiveness + Slovenian… https://t.co/1iE1OzzSg5\", '@NewYorker This is insanely good. PARS PRO TOTO, #TRUMP.', \".\\nWashington state woman becomes first American fatality of Fucking Moron #Trump's #coronavirus #hoax… https://t.co/RxXIqKMmpV\"]\n",
      "1000\n"
     ]
    }
   ],
   "source": [
    "# Collect a list of tweets\n",
    "tweets1 = [tweet.text for tweet in tweetsObj1]\n",
    "print(tweets1[:20])\n",
    "print(len(tweets1))"
   ]
  },
  {
   "cell_type": "code",
   "execution_count": 9,
   "metadata": {
    "colab": {},
    "colab_type": "code",
    "id": "A3k4Rgce1_hN"
   },
   "outputs": [],
   "source": [
    "#create a pandas dataframe that contains that data.\n",
    "tweet_pandas1 = pd.DataFrame(data = tweets1, columns=['text'])"
   ]
  },
  {
   "cell_type": "code",
   "execution_count": 10,
   "metadata": {
    "colab": {},
    "colab_type": "code",
    "id": "jRrI7ZJB2VnQ"
   },
   "outputs": [],
   "source": [
    "#convert pandas dataframe into a CSV file.\n",
    "tweet_pandas1.to_csv(r'Trump.csv')"
   ]
  },
  {
   "cell_type": "code",
   "execution_count": 11,
   "metadata": {
    "colab": {
     "base_uri": "https://localhost:8080/",
     "height": 72
    },
    "colab_type": "code",
    "id": "1fOoFnk8QPN3",
    "outputId": "6bcd787c-8937-4dc0-ff2f-9426538ddd1f"
   },
   "outputs": [
    {
     "name": "stdout",
     "output_type": "stream",
     "text": [
      "['Thank you to @RepCicilline and @RepSpanberger for fighting for what is right. \\n#Iran\\n#Soleimani https://t.co/pqguMVsxsq', 'Nation Of #Islam Leader #LouisFarrakhan: ‘Mr. #Trump Killed My Brother #Soleimani  America ‘The Habitation Of Devil… https://t.co/WPVPUyhE9Z', '@JOKER_237 @AdairBlackmore @rich_goldberg @jonathanvswan @realDonaldTrump @SecPompeo Get out troll #Soleimani', '@TulsiGabbard @realDonaldTrump Trump has no plans to take out Erdogan? Interesting...🤔 #soleimani', 'Wow. The Democrats are seriously comparing Benghazi to Soleimani. Really?\\n\\n@RepLeeZeldin #cpac #cpac2020 #benghazi… https://t.co/HvnNLRHyhE', 'Why Iranians Say Death to America.\\nAfter watching this video, give Iranians the right to hate America.\\n#iran… https://t.co/veatpnrygZ', '@SecPompeo #Turkey thought it could occupy Idlib after Commander #Soleimani.\\nBut he has forgotten that #Islam does not depend on one person.', 'If #Trump listened to me re: #Soleimani, why not you @RTErdogan ??\\n\\nYou can do it to! ✔️\\n\\n#TSK #Turkey #Erdogan… https://t.co/QN3Y02gQhU', \"In reference to #Afghanistan, Trump doesn't start endless wars like every other politician in history. He ends them… https://t.co/a13bwnJj74\", 'Would be wise to start an informal #Israel #Turkey alliance to smash #Assad, incl. #Hezbollah #Iran and #Soleimani… https://t.co/W2F5VGPWSc', '#IranProtests2020 \\n#Soleimani was a mass murderer\\n@AlexanderSNeu\\n@HeikeHaensel\\n@ZaklinNastic\\n@voglerk\\n@Diether_Dehm… https://t.co/wa1YtgYeS8', 'How will #Iran’s Quds Force change in the post-#Soleimani era?\\n\\nANALYSIS: https://t.co/un7hYOLu2X', '@Raihan52750994 @RiteItIs @AB_BJP @ssingapuri @_sabanaqvi @CPDelhi @DelhiPolice @HMOIndia @sambitswaraj… https://t.co/8j2xa3ykqp', 'When asked what the precise number of casualties at #ainalassad were instead of responding with the current declass… https://t.co/tex5BSbsKV', '@CarlZha because iran armed talib with antiair in return4 #Soleimani \\n\\nUSAF Bombardier E-11A was carrying Michael D… https://t.co/o2l5sbxbyU', \"How far does #Iran's influence extend across the region? Learn more about the networks #Soleimani cultivated and Te… https://t.co/fFdkIoDWRd\", '#Afghans (#Taliban)need to look \"Deep into their soul\"@SecPompeo \\n\"Look who is talking!\"Someone who just killed… https://t.co/eTfk6YG0P8', '@AatishTaseer @postcolonialist @IndiainNewYork Ask ammi @tavleen_singh what genocide #1984SikhGenocide lol @POTUS k… https://t.co/11jYrPfZDa', 'THANK YOU @RepRonWright for supporting our President!\\n\\nI watched you Fri. morning on C-Span2 ...your interaction wi… https://t.co/okxd8tasKq', '@PeteHegseth did the killing of Bahgdadi and #Soleimani help bring the Taliban leader to the table? @foxandfriends #FoxandFriends']\n",
      "457\n"
     ]
    }
   ],
   "source": [
    "#Tweets collection of the second search word\n",
    "search_word2 = \"#Soleimani\" + \" -filter:retweets\" # #soleimanikilling\n",
    "tweetsObj2 = tw.Cursor(api.search,\n",
    "                   q = search_word2,\n",
    "                   lang = \"en\",\n",
    "                   since = date_since).items(1000)\n",
    "tweets2 = [tweet.text for tweet in tweetsObj2]\n",
    "print(tweets2[:20])\n",
    "print(len(tweets2))\n",
    "tweet_pandas2 = pd.DataFrame(data = tweets2, columns=['text'])\n",
    "tweet_pandas2.to_csv(r'Soleimani.csv')"
   ]
  },
  {
   "cell_type": "code",
   "execution_count": 12,
   "metadata": {
    "colab": {
     "base_uri": "https://localhost:8080/",
     "height": 72
    },
    "colab_type": "code",
    "id": "2SZL0GleRPJD",
    "outputId": "26a071fd-370d-4572-f1c8-6190f75722ad"
   },
   "outputs": [
    {
     "name": "stdout",
     "output_type": "stream",
     "text": [
      "['@ubendor @Abby4Iowa Actually no, John Deere has outsourced so many parts to China in the past 10 years. There are m… https://t.co/8TLgkzUjW4', \"@shaver50 @Abby4Iowa Layoffs in Waterloo don't take effect until May 4th. No John Deere has no regular layoffs, my… https://t.co/0rG3Ec9Lpn\", '#Trump provides government \"#Socialism\" to #TradeWar struggling US farmers &amp; culinary industry. #Takers… https://t.co/tjK5ET6IZg', 'Did you miss this Gary Shilling Interview? With recent #coronavirusupdates we now know that the Coronavirus has spr… https://t.co/g4XULnUmbF', '#maga #washyourhands #cdc #politics #elections #tradewar #hkprorestors #nyse Another tool for division.. we are the… https://t.co/jqRwmlq0eo', 'Can our #Security be guaranteed by only letting Huawei build a periphery 5G network?\\nhttps://t.co/tb5fLjsvxd\\n#5G… https://t.co/uugCWWQ31c', '#Trade Wars: Substance, Nonsense and the Thucydides Trap\\n#Financial #InternationalTrade #StockMarket… https://t.co/GLxT9fTb9X', 'ICYMI: Cost of Trump’s #Tariffs Has Hit Entirely on US Businesses &amp; Households. LINK: https://t.co/SJ6CTbk5f4… https://t.co/PJetS2Holw', 'Top 10 highest paid salary countries https://t.co/DJU9vnq1OE #country #rich #people #CoronaVirusUpdates #ecommerce… https://t.co/QKEKzvHnsC', \"@JimmyJohnston77 Ask the #Farmers who received #Bailouts when they couldn't sell their #Soybeans thanks to #Trump's… https://t.co/DBxgrCLHF9\", 'American media say test kits for #Covid_19 are in short supply in the US. Would US be willing to import from China… https://t.co/b9bIi8ZniG', \"In case US has to import #Covid_19 test kits from China bec there's said to be a shortage in the US, how much shoul… https://t.co/yJgCx8cGXI\", \"She forgot #obama🙄\\n\\nThis loony is running for office. Obviously she'll never get elected, but still.\\n\\nI heard somew… https://t.co/8FMhtjcDas\", 'Global markets are TANKING in response to the #COVID19 🦠 #CoronaVirusPandemic. But let’s not forget that they were… https://t.co/vWCk9MMTxH', \"After #China takes over.\\nDon't blame me. I voted for Kodos.\\n#hegemony #Political #influence #tradewar https://t.co/KrK9KGQJfs\", 'Beyond the Belt and Road: China’s Global Economic Expansion, by Dr. Antonio Graceffo, available on Amazon\\n#china… https://t.co/P1ZHBwzksz', '#China Reports 47 More #Coronavirus Deaths \\n\\n#worldpowers #climatesecurity #disobedientdss #breaking #unsc #covid19… https://t.co/VQ3ZK6wMbR', 'It must be love;) \\n\"#Google has applied for a license with the #US government, asking permission to resume business… https://t.co/qboXQHhSFo', 'The timing and placement of #coronavirus were awfully convenient. It gave us negotiating power where we had none fo… https://t.co/5bfLhUG7VG', 'We need to bring production back to our shores permanently and set up new partners around the world. This is an urg… https://t.co/4ESqD9nr3V']\n",
      "650\n"
     ]
    }
   ],
   "source": [
    "#Tweets collection of the third search word\n",
    "search_word3 = \"#tradewar\" + \" -filter:retweets\" # #soleimanikilling\n",
    "tweetsObj3 = tw.Cursor(api.search,\n",
    "                   q = search_word3,\n",
    "                   lang = \"en\",\n",
    "                   since = date_since).items(1000)\n",
    "tweets3 = [tweet.text for tweet in tweetsObj3]\n",
    "print(tweets3[:20])\n",
    "print(len(tweets3))\n",
    "tweet_pandas3 = pd.DataFrame(data = tweets3, columns=['text'])\n",
    "tweet_pandas3.to_csv(r'tradewar.csv')"
   ]
  },
  {
   "cell_type": "code",
   "execution_count": 7,
   "metadata": {},
   "outputs": [
    {
     "name": "stdout",
     "output_type": "stream",
     "text": [
      "['@RealJamesWoods Last 18 hours:\\nOur #POTUS45 ...\\n✅ Huge Trump Rally in Charleston 12,000 plus\\n✅ Conveens Emergency… https://t.co/E0VDvyLzpg', '@SecAzar WE THE PEOPLE ARE NOT* PAYING TO GET TREATED FOR THE #CORONAVIRUS. I’m reading reports Americans are recei… https://t.co/pOVP80M9xg', 'As of 29/02/2020. Confirmed cases in areas outside PRC are picking up speed.\\n#nCoV19 #coronavirus #COVID19… https://t.co/gbgc5OqPsW', 'Pope confirmed to have #COVID19 #CoronaVirus.... Coincidence? I think NOT...', '@MrTommyCampbell A new case in Ajax, close to where I live.\\nSick stay home.\\n#coronavirus', 'NEO-Age Art by MOnKe’J #CoronaVirusUpdate #coronavirus #CoronaVirusUpdates https://t.co/yto1sO3not', 'There are significant announcements on #Coronavirus and hypothesizing. Time for that was 4 weeks ago. Being a panic… https://t.co/w01Eo7mrrV', 'Yall 40-60% americans will contract this #coronavirus , thats scary af.', 'Are we going to see over time the advantages of geographical isolation. Island nations doing better as flights are… https://t.co/VCjf0j0FEY', \"Know the facts. Believe the science. Don't panic. And don't use this as an excuse to spew racist crap. #coronavirus… https://t.co/gWSQKIoM0B\", \"Obviously it was only a matter of time before the #coronavirus got in to the Republic  of Ireland 😳😬 and no I won't… https://t.co/H2Rkk6DeSx\", \"@Oilfield_Jobs I go out among a largely Asian population all the time and I never wear a mask. I've probably been b… https://t.co/HmNMrk48Dk\", 'For real this totally helped + vitamin c. Stay away #coronavirus https://t.co/HC4VXuxBqZ', \"https://t.co/ER9y7lLJmD You can't find it if you aren't looking... #coronavirus #coronavirususa  #Coronavirustruth… https://t.co/Jao47niOj4\", '#HandSanitizer #Coronavirus #Culture Oh my god, just wash your hands https://t.co/JrKt9lQimZ https://t.co/CFruD1OFre', '#BREAKING: Health officials confirm a 4th case of #coronavirus in Santa Clara County. An adult woman, who is a hous… https://t.co/7q0kbnYbNy', \"Another great #shortwave podcast episode. Answered all the questions I've been asking about the #covid19… https://t.co/tnGGug1FwI\", '#COVID19 outbreak on the #DiamondPrincess cruise ship: estimating the epidemic potential and effectiveness of… https://t.co/hdGhu5XNuX', '@MaevenMorrigan @briantylercohen Yeah well, ask yourself why the Taliban is coming to the table. Trump probably tol… https://t.co/EQz6xddhTv', 'The picks are in for tonight! @AEWrestling #AEW #AEWDynamite and lets got for the #coronavirus https://t.co/9uJqkRybBt']\n",
      "1000\n"
     ]
    }
   ],
   "source": [
    "search_word4 = \"#coronavirus\" + \" -filter:retweets\" # #soleimanikilling\n",
    "tweetsObj4 = tw.Cursor(api.search,\n",
    "                   q = search_word4,\n",
    "                   lang = \"en\",\n",
    "                   since = \"2020-01-01\").items(1000)\n",
    "tweets4 = [tweet.text for tweet in tweetsObj4]\n",
    "print(tweets4[:20])\n",
    "print(len(tweets4))\n",
    "tweet_pandas4 = pd.DataFrame(data = tweets4, columns=['text'])\n",
    "tweet_pandas4.to_csv(r'coronavirus.csv')"
   ]
  },
  {
   "cell_type": "code",
   "execution_count": 8,
   "metadata": {},
   "outputs": [
    {
     "name": "stdout",
     "output_type": "stream",
     "text": [
      "['@aeryn_thrace The latest #Metoomovement.\\n\\nhttps://t.co/UXnyPVHdBl https://t.co/YA2PLXviM8', '@miriamsved - involved in a wonderful discussion about the #Metoomovement with @LaTrioli yesterday. When asked if t… https://t.co/S9pqAhwJNs', '@fawazar94 That show talks about #media and the #MeTooMovement in a very interesting way. Well-received', '@raveninak @BridgetSterli19 She joined the #Metoomovement', '@JoJoFromJerz Did the flag give consent???? Then again, has that ever stopped him before??? #metoo #Metoomovement @Alyssa_Milano', '@Acyn Welcome American flag to #Metoomovement', '@thexybeatht @srmgonzalez So much for the #Metoomovement', 'Keep fighting back #Metoomovement https://t.co/Dyk3eW3OCO', '3 days and 6 hours until I can go back to my real account. #TwitterJail #Metoomovement https://t.co/2R3qlOBY2C', 'The pair of guilty verdicts this week against disgraced Hollywood movie magnate Harvey Weinstein was a victory for… https://t.co/udlfzi6fcF', '@LEBassett I never cared for him.  What really turned me off was the story that came out during the early days of t… https://t.co/S1YvpC0IWy', '@iheartmindy I think hits pathetic and mocks the #Metoomovement imo.', '#Metoomovement is about violating a person NOT condemning age appropriate consent...and  they hooked up at the END… https://t.co/3WUiTZF8sT', '#BREAKINGNEWS: Lisa Allpress makes history as first female jockey to win in Saudi Arabia #women #metoo… https://t.co/KU1NeEW3nu', '@GdnUSopinion @GuardianUS @MoiraDonegan a thirst to keep a #Metoomovement alive while sullying the memory of a man… https://t.co/8cwBhu12q1', 'Too true! Sir Philip Rutnam is clearly a racist and misogynist! Priti Patel has the moral high ground not playing t… https://t.co/107q4IrgIl', '#Metoomovement  guess me too doesnt mean anything to democrats if an illegal alien was involved https://t.co/KtrV0ASRrk', '@AlexCKaufman This is a direct attack on women!\\n\\nInciting Violence...and it is not criminal... off course..\\nDo you… https://t.co/crGrUdNgTr', '@fixed_air @ScottAdamsSays @CBSSports Scott\"s sports plan would be killed by #Metoomovement.  Male athletes trash-t… https://t.co/eR4gVSprLl', 'I connect with so much of this piece: \"As you grow older you become an immigrant from a vanished country. You could… https://t.co/PNmZlU8qqz']\n",
      "387\n"
     ]
    }
   ],
   "source": [
    "search_word5 = \"#Metoomovement\" + \" -filter:retweets\" # #soleimanikilling\n",
    "tweetsObj5 = tw.Cursor(api.search,\n",
    "                   q = search_word5,\n",
    "                   lang = \"en\",\n",
    "                   since = date_since).items(1000)\n",
    "tweets5 = [tweet.text for tweet in tweetsObj5]\n",
    "print(tweets5[:20])\n",
    "print(len(tweets5))\n",
    "tweet_pandas5 = pd.DataFrame(data = tweets5, columns=['text'])\n",
    "tweet_pandas5.to_csv(r'Metoomovement.csv')"
   ]
  },
  {
   "cell_type": "code",
   "execution_count": 12,
   "metadata": {},
   "outputs": [
    {
     "name": "stdout",
     "output_type": "stream",
     "text": [
      "['Forty-Plus #gaymen, where do you meet men to DATE (not sex hookups)?\\n\\n#LGBT  #GLBT #LGBTQ #LGBTI #LGBTIQ #LGBTplus #gaypolls', 'TODAY I am your DJ at oxfordhotel 2pm stonewallhotel 6pm #RAYISAAC #DJRAYISAAC #HappyMardiGras #SamSmith #DuaLipa… https://t.co/p8aUUFHj1y', 'what’s ya fav color? 🧐 #LGBT #LGBTQ #gay #cute #fly #rollingloud #miami #boston #aqua #red #rosegold #orange #yeezy… https://t.co/JPkPHtrqH8', 'I don’t understand the necessity of guys keeping it straight and messing with me at the same time, randomly 🤔  #LGBTQ #LGBT', 'Black never looked so good 😍#LGBT https://t.co/hDd9tbsguy', 'One Million Moms #Boycotts #Disney’s ‘Onward’ for forcing #LGBT agenda on kids. ‘Disney has left conservative and… https://t.co/BamVzx3Igz', 'Only the love between them as men, partners, and Brothers will allow them to survive and face a Darkness they never… https://t.co/xsEjhzOCCP', \"Many people are saying Dishonest Donald's doped up, politicized ramblings about the corona virus aren't inspiring c… https://t.co/Vvdvac4rNx\", 'this is slowly turning into my art twitter ugh okay never wanted to have this LMAO. but this is an oc ive had for a… https://t.co/Duk0sCx8rk', \"Hey, I'm Live on #Mixer / @watchmixer playing, #WorldOfWarcraft\\nCome hang out &amp; say hi! 😊 https://t.co/ntvez2pgUd o… https://t.co/yGEp2jSYaw\", 'Tonight Fluffy invites you to an inter-GAY-lactic extravaganza. We Have Lift Off!! https://t.co/nPsWElxznr #LGBT #drag @FluffyBrisbane', 'The new LGBT clip from Second Chance! I’ve finally coded this powerful dialogue I’ve written. What happens when a f… https://t.co/lNti2O4K37', '@ChicagoMureeds @TheWhitestBacha @IsmailRoyer @CanaVox @PublicDiscourse The problem with that guide is that… https://t.co/MJnatfAYSI', 'Popped along to @senedd 🏴\\U000e0067\\U000e0062\\U000e0077\\U000e006c\\U000e0073\\U000e007fto @PrideCymru 🏳️\\u200d🌈event #leapintosight great to see @NorenaShopland #lgbt https://t.co/qEdZnD30kV', '#Polish politicians have declared #LGBT+ people \"enemies of the state.\" Pride marches are being attacked. Show your… https://t.co/6h2NLM607M', '\"Sexual fluidity\" is something we\\'re hearing about more and more often these days as people become increasingly mor… https://t.co/xaInIrzv9L', 'All Boy by Mia Kerick\\n\\n#YA #yalit #yabooks #LGBTQ #lgbt #LGBTQBooks #transgender\\n#weekendreads\\n\\nGet it today on Ama… https://t.co/ebz3ckdenk', \"Wilton Manors' Gay Mayor .@JustinFlippen Dies Suddenly https://t.co/LhUUTTlV4r #LGBT @WiltonManorsCity #RIP\", 'During the last days of #LGBTHistoryMonth we are highlighting #LGBT+ figures MAKING history. Jayne Ozanne is a Brit… https://t.co/STLQi9fKxM', 'Ro is right! I think everybody needs to be voting for Bernie. https://t.co/wf9r1iy4ZA #LGBT #SouthCarolina… https://t.co/Y9DhRjeHvv']\n",
      "1000\n"
     ]
    }
   ],
   "source": [
    "search_word6 = \"#lgbt\" + \" -filter:retweets\" # #soleimanikilling\n",
    "tweetsObj6 = tw.Cursor(api.search,\n",
    "                   q = search_word6,\n",
    "                   lang = \"en\",\n",
    "                   since = date_since).items(1000)\n",
    "tweets6 = [tweet.text for tweet in tweetsObj6]\n",
    "print(tweets6[:20])\n",
    "print(len(tweets6))\n",
    "tweet_pandas6 = pd.DataFrame(data = tweets6, columns=['text'])\n",
    "tweet_pandas6.to_csv(r'lgbt.csv')"
   ]
  },
  {
   "cell_type": "code",
   "execution_count": 13,
   "metadata": {},
   "outputs": [
    {
     "name": "stdout",
     "output_type": "stream",
     "text": [
      "['Dear #CaliforniaPrimary\\n#Cali \\n#voters pls support  #MostQualified : #Warren \\nduring #Obama \\ncreated @CFPB to prote… https://t.co/NzV7WYiEKK', 'The reason #Obama is not endorsing #Biden is because Obama is a #socialist, and secretly hoping for #BernieSanders… https://t.co/GAIHp5jbgI', '2007 #IndyMc failed and was seized by the United States Federal Deposit Insurance Corporation (FDIC). In 2008 IndyM… https://t.co/tcg0jNxvhi', '@GeorgeTakei You know #Trump would say he never tweeted that statement...\\n\\n#PresidentTrump...  Did you say #Obama s… https://t.co/EpiESf5hFe', 'If #Biden gets nomination, can #Obama serve as his running mate? Would #Trump’s head explode?https://t.co/j2UHJqxycK via @usatoday', '@Bill_Cimbrelo You &amp; anyone who has been watching #Biden campaign, Bill. But if you only get your news from Cable T… https://t.co/V8JQqLJ65n', 'Is it me or is #Biden the weakest candidate of the bunch? He’s riding on Obama’s coattails and expects us to ignore… https://t.co/tDvpVSfL2z', 'All of a sudden @joebiden will \"make Russia pay\" for interfering in r election in 2020...yet he was part of #obama… https://t.co/JQIGT8k1Vd', '@DecisionDeskHQ  #SCPrimary Joe Biden reminded Black voters of, \"Heeey, I know #Obama \" Steyer lied saying he suppo… https://t.co/U6T5ai5oC6', 'North Platte (NE) Telegraph:  AP VoteCast: Many SC black voters back return to Obama era . More #Obama #news - https://t.co/9t3XMTkOpW', '@TheMicMichael @sheisartmoney @MSNBC @WhipClyburn the reason #Obama picked #Biden as VP is because he’s an oldschoo… https://t.co/cIJZQXScWn', \"I think #Obama should definitely verbalize his preference for president. If his pick doesn't get the nominee, then… https://t.co/kLX7cxt9sd\", \"Federal Judge Blocks Trump Move To Fast-Track Deportations\\n28 Sept 2019\\n\\nThe judge is 'Ketanji Brown Jackson,' an… https://t.co/k7Na3YE8qb\", '@TheYoungTurks @AdrienneLaw @JoeBiden Agreed. He hasn’t proposed anything solid &amp; is riding on #Obama’s thinly veiled @GOP-lite tenure', '@KelliCa38731932 @Styx666Official @JoeBiden 2/2\\n#trump also hates #experts like #PeterStrzok.\\n#Drumpf fired the… https://t.co/TL07LGJILY', '#NEWS\\n\\nCrooked #Democrats\\n#Pelosi’s Brother-In-Law’s Company Received $737,000,000 From #Obama’s Energy Dept As “Lo… https://t.co/aGN1aBewq0', 'The last day of Black History Month.  So, we are sharing our final tea in our Black HisTEAry Sampler.  Barry Berry… https://t.co/BprKIICf0Y', 'Boston (MA) Globe:  AP VoteCast: Many SC black voters back return to Obama era . More #Obama #news - https://t.co/9t3XMTkOpW', '@IvankaTrump #Obama did this already.  \\nI mean he freed prisoners.  \\nNot as many as your dad is freeing, however.… https://t.co/0ptiEmH0Kf', 'Comical watching Dem candidates use #Obama sound bites to suggest his endorsement.']\n",
      "1000\n"
     ]
    }
   ],
   "source": [
    "search_word7 = \"#obama\" + \" -filter:retweets\" # #soleimanikilling\n",
    "tweetsObj7 = tw.Cursor(api.search,\n",
    "                   q = search_word7,\n",
    "                   lang = \"en\",\n",
    "                   since = date_since).items(1000)\n",
    "tweets7 = [tweet.text for tweet in tweetsObj7]\n",
    "print(tweets7[:20])\n",
    "print(len(tweets7))\n",
    "tweet_pandas7 = pd.DataFrame(data = tweets7, columns=['text'])\n",
    "tweet_pandas7.to_csv(r'obama.csv')"
   ]
  },
  {
   "cell_type": "code",
   "execution_count": null,
   "metadata": {},
   "outputs": [],
   "source": []
  }
 ],
 "metadata": {
  "colab": {
   "collapsed_sections": [],
   "name": "dataset.ipynb",
   "provenance": []
  },
  "kernelspec": {
   "display_name": "Python 3",
   "language": "python",
   "name": "python3"
  },
  "language_info": {
   "codemirror_mode": {
    "name": "ipython",
    "version": 3
   },
   "file_extension": ".py",
   "mimetype": "text/x-python",
   "name": "python",
   "nbconvert_exporter": "python",
   "pygments_lexer": "ipython3",
   "version": "3.7.4"
  }
 },
 "nbformat": 4,
 "nbformat_minor": 1
}
