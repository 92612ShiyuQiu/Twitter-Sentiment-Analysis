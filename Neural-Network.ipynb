{
 "cells": [
  {
   "cell_type": "code",
   "execution_count": 1,
   "metadata": {},
   "outputs": [],
   "source": [
    "import pandas as pd\n",
    "import numpy as np\n",
    "import matplotlib.pyplot as plt\n",
    "from sklearn.metrics import roc_auc_score\n",
    "from sklearn.model_selection import cross_val_score\n",
    "from sklearn.model_selection import train_test_split\n",
    "from sklearn.neural_network import MLPClassifier\n",
    "from sklearn.utils import shuffle\n",
    "\n",
    "X = np.genfromtxt('X.csv', delimiter = ',')\n",
    "Y = np.genfromtxt('Y.csv', delimiter = ',')"
   ]
  },
  {
   "cell_type": "code",
   "execution_count": 2,
   "metadata": {},
   "outputs": [
    {
     "data": {
      "text/plain": [
       "(99990, 220)"
      ]
     },
     "execution_count": 2,
     "metadata": {},
     "output_type": "execute_result"
    }
   ],
   "source": [
    "X.shape"
   ]
  },
  {
   "cell_type": "code",
   "execution_count": 3,
   "metadata": {},
   "outputs": [
    {
     "data": {
      "text/plain": [
       "(99990,)"
      ]
     },
     "execution_count": 3,
     "metadata": {},
     "output_type": "execute_result"
    }
   ],
   "source": [
    "Y.shape"
   ]
  },
  {
   "cell_type": "code",
   "execution_count": 4,
   "metadata": {},
   "outputs": [],
   "source": [
    "X_comp, X_test, Y_comp, Y_test = train_test_split(X, Y, test_size=0.2, random_state=0)\n",
    "Xtr, Xva, Ytr, Yva = train_test_split(X_comp, Y_comp, test_size=0.2)\n",
    "Xtr, Ytr = shuffle(Xtr, Ytr)"
   ]
  },
  {
   "cell_type": "code",
   "execution_count": 5,
   "metadata": {},
   "outputs": [
    {
     "data": {
      "text/plain": [
       "(63993, 220)"
      ]
     },
     "execution_count": 5,
     "metadata": {},
     "output_type": "execute_result"
    }
   ],
   "source": [
    "Xtr.shape"
   ]
  },
  {
   "cell_type": "code",
   "execution_count": 6,
   "metadata": {},
   "outputs": [
    {
     "data": {
      "text/plain": [
       "(15999, 220)"
      ]
     },
     "execution_count": 6,
     "metadata": {},
     "output_type": "execute_result"
    }
   ],
   "source": [
    "Xva.shape"
   ]
  },
  {
   "cell_type": "code",
   "execution_count": 7,
   "metadata": {},
   "outputs": [],
   "source": [
    "from sklearn.metrics import classification_report\n",
    "from sklearn.model_selection import GridSearchCV\n",
    "import time"
   ]
  },
  {
   "cell_type": "code",
   "execution_count": 8,
   "metadata": {},
   "outputs": [
    {
     "data": {
      "text/plain": [
       "\"\\nparameter_space = {\\n    'hidden_layer_sizes': [(50,50,50),(50,100,50),(100,)],\\n    'activation': ['relu','identity','logistic','tanh'],\\n    'solver': ['adam','lbfgs','sgd'],\\n    'alpha': [0.0001, 0.05, 0.1, 0.01, 0.001],\\n    'learning_rate': ['constant', 'invscaling', 'adaptive']\\n}\\n\""
      ]
     },
     "execution_count": 8,
     "metadata": {},
     "output_type": "execute_result"
    }
   ],
   "source": [
    "#mlp = MLPClassifier(max_iter=1000)\n",
    "parameters1 = {\n",
    "    'hidden_layer_sizes': [(50,50,50),(50,100,50),(100,)]\n",
    "}\n",
    "\n",
    "parameters2 = {\n",
    "    'activation': ['relu','identity','logistic','tanh']\n",
    "}\n",
    "\n",
    "parameters3 = {\n",
    "    'solver': ['adam','lbfgs','sgd']\n",
    "}\n",
    "\n",
    "parameters4 = {\n",
    "    'alpha': [0.0001, 0.05, 0.1, 0.01, 0.001]\n",
    "}\n",
    "\n",
    "parameters5 = {\n",
    "    'learning_rate': ['constant', 'invscaling', 'adaptive']\n",
    "}\n",
    "'''\n",
    "parameter_space = {\n",
    "    'hidden_layer_sizes': [(50,50,50),(50,100,50),(100,)],\n",
    "    'activation': ['relu','identity','logistic','tanh'],\n",
    "    'solver': ['adam','lbfgs','sgd'],\n",
    "    'alpha': [0.0001, 0.05, 0.1, 0.01, 0.001],\n",
    "    'learning_rate': ['constant', 'invscaling', 'adaptive']\n",
    "}\n",
    "'''"
   ]
  },
  {
   "cell_type": "code",
   "execution_count": 30,
   "metadata": {},
   "outputs": [
    {
     "name": "stdout",
     "output_type": "stream",
     "text": [
      "parameters1 training starting...\n",
      "training finished, took 54.64198160171509 seconds\n",
      "Best parameters found: \n",
      " {'hidden_layer_sizes': (100,)}\n",
      "0.644 (+/-0.037) for {'hidden_layer_sizes': (50, 50, 50)}\n",
      "0.644 (+/-0.032) for {'hidden_layer_sizes': (50, 100, 50)}\n",
      "0.659 (+/-0.038) for {'hidden_layer_sizes': (100,)}\n"
     ]
    }
   ],
   "source": [
    "print(\"parameters1 training starting...\")\n",
    "starting_time = time.time()\n",
    "clf1 = GridSearchCV(MLPClassifier(max_iter=1000), parameters1, cv=5)\n",
    "clf1.fit(Xtr[:5000], Ytr[:5000])\n",
    "end_time = time.time()\n",
    "print(\"training finished, took {} seconds\".format(end_time - starting_time))\n",
    "\n",
    "#best parameter set\n",
    "print(\"Best parameters found: \\n\", clf1.best_params_)\n",
    "\n",
    "#all results\n",
    "means = clf1.cv_results_['mean_test_score']\n",
    "stds = clf1.cv_results_['std_test_score']\n",
    "for mean, std, params in zip(means, stds, clf1.cv_results_['params']):\n",
    "    print(\"%0.3f (+/-%0.03f) for %r\" % (mean, std * 2, params))"
   ]
  },
  {
   "cell_type": "code",
   "execution_count": 37,
   "metadata": {},
   "outputs": [
    {
     "name": "stdout",
     "output_type": "stream",
     "text": [
      "best hidden_layer_sizes:  (100,)\n"
     ]
    }
   ],
   "source": [
    "best_hidden_layer_sizes = clf1.best_params_['hidden_layer_sizes']\n",
    "print(\"best hidden_layer_sizes: \", best_hidden_layer_sizes)"
   ]
  },
  {
   "cell_type": "code",
   "execution_count": 38,
   "metadata": {},
   "outputs": [
    {
     "name": "stdout",
     "output_type": "stream",
     "text": [
      "parameters2 training starting...\n",
      "training finished, took 45.97746539115906 seconds\n",
      "Best parameters found: \n",
      " {'activation': 'identity'}\n",
      "0.651 (+/-0.037) for {'activation': 'relu'}\n",
      "0.670 (+/-0.030) for {'activation': 'identity'}\n",
      "0.667 (+/-0.019) for {'activation': 'logistic'}\n",
      "0.666 (+/-0.023) for {'activation': 'tanh'}\n"
     ]
    }
   ],
   "source": [
    "print(\"parameters2 training starting...\")\n",
    "starting_time = time.time()\n",
    "clf2 = GridSearchCV(MLPClassifier(max_iter=1000, hidden_layer_sizes=best_hidden_layer_sizes), parameters2, cv=5)\n",
    "clf2.fit(Xtr[:5000], Ytr[:5000])\n",
    "end_time = time.time()\n",
    "print(\"training finished, took {} seconds\".format(end_time - starting_time))\n",
    "\n",
    "#best parameter set\n",
    "print(\"Best parameters found: \\n\", clf2.best_params_)\n",
    "\n",
    "#all results\n",
    "means = clf2.cv_results_['mean_test_score']\n",
    "stds = clf2.cv_results_['std_test_score']\n",
    "for mean, std, params in zip(means, stds, clf2.cv_results_['params']):\n",
    "    print(\"%0.3f (+/-%0.03f) for %r\" % (mean, std * 2, params))"
   ]
  },
  {
   "cell_type": "code",
   "execution_count": 39,
   "metadata": {},
   "outputs": [
    {
     "name": "stdout",
     "output_type": "stream",
     "text": [
      "best_activation:  identity\n"
     ]
    }
   ],
   "source": [
    "best_activation = clf2.best_params_['activation']\n",
    "print(\"best_activation: \", best_activation)"
   ]
  },
  {
   "cell_type": "code",
   "execution_count": 40,
   "metadata": {},
   "outputs": [
    {
     "name": "stdout",
     "output_type": "stream",
     "text": [
      "parameters3 training starting...\n",
      "training finished, took 47.59204983711243 seconds\n",
      "Best parameters found: \n",
      " {'solver': 'sgd'}\n",
      "0.665 (+/-0.024) for {'solver': 'adam'}\n",
      "0.666 (+/-0.026) for {'solver': 'lbfgs'}\n",
      "0.668 (+/-0.017) for {'solver': 'sgd'}\n"
     ]
    }
   ],
   "source": [
    "print(\"parameters3 training starting...\")\n",
    "starting_time = time.time()\n",
    "clf3 = GridSearchCV(MLPClassifier(max_iter=1000, hidden_layer_sizes=best_hidden_layer_sizes, activation=best_activation), parameters3, cv=5)\n",
    "clf3.fit(Xtr[:5000], Ytr[:5000])\n",
    "end_time = time.time()\n",
    "print(\"training finished, took {} seconds\".format(end_time - starting_time))\n",
    "\n",
    "#best parameter set\n",
    "print(\"Best parameters found: \\n\", clf3.best_params_)\n",
    "\n",
    "#all results\n",
    "means = clf3.cv_results_['mean_test_score']\n",
    "stds = clf3.cv_results_['std_test_score']\n",
    "for mean, std, params in zip(means, stds, clf3.cv_results_['params']):\n",
    "    print(\"%0.3f (+/-%0.03f) for %r\" % (mean, std * 2, params))"
   ]
  },
  {
   "cell_type": "code",
   "execution_count": 41,
   "metadata": {},
   "outputs": [
    {
     "name": "stdout",
     "output_type": "stream",
     "text": [
      "best_solver:  sgd\n"
     ]
    }
   ],
   "source": [
    "best_solver = clf3.best_params_['solver']\n",
    "print(\"best_solver: \", best_solver)"
   ]
  },
  {
   "cell_type": "code",
   "execution_count": 9,
   "metadata": {},
   "outputs": [
    {
     "name": "stdout",
     "output_type": "stream",
     "text": [
      "parameters4 training starting...\n",
      "training finished, took 202.60059785842896 seconds\n",
      "Best parameters found: \n",
      " {'alpha': 0.01}\n",
      "0.671 (+/-0.025) for {'alpha': 0.0001}\n",
      "0.672 (+/-0.031) for {'alpha': 0.05}\n",
      "0.668 (+/-0.017) for {'alpha': 0.1}\n",
      "0.673 (+/-0.024) for {'alpha': 0.01}\n",
      "0.669 (+/-0.023) for {'alpha': 0.001}\n"
     ]
    }
   ],
   "source": [
    "print(\"parameters4 training starting...\")\n",
    "starting_time = time.time()\n",
    "clf4 = GridSearchCV(MLPClassifier(max_iter=1000, hidden_layer_sizes=(100,), activation='identity', solver='sgd'), parameters4, cv=5)\n",
    "clf4.fit(Xtr[:5000], Ytr[:5000])\n",
    "end_time = time.time()\n",
    "print(\"training finished, took {} seconds\".format(end_time - starting_time))\n",
    "\n",
    "#best parameter set\n",
    "print(\"Best parameters found: \\n\", clf4.best_params_)\n",
    "\n",
    "#all results\n",
    "means = clf4.cv_results_['mean_test_score']\n",
    "stds = clf4.cv_results_['std_test_score']\n",
    "for mean, std, params in zip(means, stds, clf4.cv_results_['params']):\n",
    "    print(\"%0.3f (+/-%0.03f) for %r\" % (mean, std * 2, params))"
   ]
  },
  {
   "cell_type": "code",
   "execution_count": 10,
   "metadata": {},
   "outputs": [
    {
     "name": "stdout",
     "output_type": "stream",
     "text": [
      "best_alpha:  0.01\n"
     ]
    }
   ],
   "source": [
    "best_alpha = clf4.best_params_['alpha']\n",
    "print(\"best_alpha: \", best_alpha)"
   ]
  },
  {
   "cell_type": "code",
   "execution_count": 11,
   "metadata": {},
   "outputs": [
    {
     "name": "stdout",
     "output_type": "stream",
     "text": [
      "parameters5 training starting...\n",
      "training finished, took 85.35491991043091 seconds\n",
      "Best parameters found: \n",
      " {'learning_rate': 'adaptive'}\n",
      "0.667 (+/-0.028) for {'learning_rate': 'constant'}\n",
      "0.498 (+/-0.084) for {'learning_rate': 'invscaling'}\n",
      "0.671 (+/-0.023) for {'learning_rate': 'adaptive'}\n"
     ]
    }
   ],
   "source": [
    "print(\"parameters5 training starting...\")\n",
    "starting_time = time.time()\n",
    "clf5 = GridSearchCV(MLPClassifier(max_iter=1000, hidden_layer_sizes=(100,), activation='identity', solver='sgd', alpha=best_alpha), parameters5, cv=5)\n",
    "clf5.fit(Xtr[:5000], Ytr[:5000])\n",
    "end_time = time.time()\n",
    "print(\"training finished, took {} seconds\".format(end_time - starting_time))\n",
    "\n",
    "#best parameter set\n",
    "print(\"Best parameters found: \\n\", clf5.best_params_)\n",
    "\n",
    "#all results\n",
    "means = clf5.cv_results_['mean_test_score']\n",
    "stds = clf5.cv_results_['std_test_score']\n",
    "for mean, std, params in zip(means, stds, clf5.cv_results_['params']):\n",
    "    print(\"%0.3f (+/-%0.03f) for %r\" % (mean, std * 2, params))"
   ]
  },
  {
   "cell_type": "code",
   "execution_count": 14,
   "metadata": {},
   "outputs": [
    {
     "name": "stdout",
     "output_type": "stream",
     "text": [
      "best_learning_rate:  adaptive\n"
     ]
    }
   ],
   "source": [
    "best_learning_rate = clf5.best_params_['learning_rate']\n",
    "print(\"best_learning_rate: \", best_learning_rate)"
   ]
  },
  {
   "cell_type": "code",
   "execution_count": 35,
   "metadata": {},
   "outputs": [
    {
     "name": "stdout",
     "output_type": "stream",
     "text": [
      "mlp_classifier_roc:  0.7497837633723505\n",
      "training error: 0.3237697873204882\n",
      "validation error: 0.31351959497468596\n"
     ]
    }
   ],
   "source": [
    "'''mlp_classifier_roc = roc_auc_score(Yva, clf.predict_proba(Xva)[:,1])\n",
    "print(\"mlp_classifier_roc: \", mlp_classifier_roc)\n",
    "\n",
    "print(\"training error:\", 1 - clf.score(Xtr, Ytr))\n",
    "print(\"validation error:\", 1 - clf.score(Xva, Yva))'''"
   ]
  },
  {
   "cell_type": "code",
   "execution_count": 15,
   "metadata": {},
   "outputs": [
    {
     "name": "stdout",
     "output_type": "stream",
     "text": [
      "optimal_mlp_roc:  0.737568815540788\n",
      "training error: 0.32062881877705374\n",
      "validation error: 0.3233327082942684\n"
     ]
    }
   ],
   "source": [
    "optimal_mlp = MLPClassifier(max_iter=1000, hidden_layer_sizes=(100,), activation='identity', solver='sgd', alpha=best_alpha, learning_rate=best_learning_rate)\n",
    "optimal_mlp.fit(Xtr[:5000], Ytr[:5000])\n",
    "\n",
    "optimal_mlp_roc = roc_auc_score(Yva, optimal_mlp.predict_proba(Xva)[:,1])\n",
    "print(\"optimal_mlp_roc: \", optimal_mlp_roc)\n",
    "print(\"training error:\", 1 - optimal_mlp.score(Xtr, Ytr))\n",
    "print(\"validation error:\", 1 - optimal_mlp.score(Xva, Yva))"
   ]
  },
  {
   "cell_type": "code",
   "execution_count": null,
   "metadata": {},
   "outputs": [],
   "source": [
    "optimal_mlp = MLPClassifier(max_iter=1000, hidden_layer_sizes=(100,), activation='identity', solver='sgd', alpha=best_alpha, learning_rate=best_learning_rate)\n",
    "optimal_mlp.fit(Xtr, Ytr)\n",
    "\n",
    "optimal_mlp_roc = roc_auc_score(Yva, optimal_mlp.predict_proba(Xva)[:,1])\n",
    "print(\"optimal_mlp_roc: \", optimal_mlp_roc)\n",
    "print(\"training error:\", 1 - optimal_mlp.score(Xtr, Ytr))\n",
    "print(\"validation error:\", 1 - optimal_mlp.score(Xva, Yva))"
   ]
  },
  {
   "cell_type": "code",
   "execution_count": null,
   "metadata": {},
   "outputs": [],
   "source": []
  }
 ],
 "metadata": {
  "kernelspec": {
   "display_name": "Python 3",
   "language": "python",
   "name": "python3"
  },
  "language_info": {
   "codemirror_mode": {
    "name": "ipython",
    "version": 3
   },
   "file_extension": ".py",
   "mimetype": "text/x-python",
   "name": "python",
   "nbconvert_exporter": "python",
   "pygments_lexer": "ipython3",
   "version": "3.7.4"
  }
 },
 "nbformat": 4,
 "nbformat_minor": 4
}
