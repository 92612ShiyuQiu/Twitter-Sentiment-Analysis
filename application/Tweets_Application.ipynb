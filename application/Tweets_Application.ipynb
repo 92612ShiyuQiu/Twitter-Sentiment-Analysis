{
 "cells": [
  {
   "cell_type": "code",
   "execution_count": 20,
   "metadata": {},
   "outputs": [],
   "source": [
    "import pandas as pd\n",
    "import numpy as np\n",
    "import matplotlib.pyplot as plt\n",
    "from sklearn.model_selection import train_test_split\n",
    "from sklearn.metrics import classification_report\n",
    "from sklearn.neural_network import MLPClassifier\n",
    "from sklearn.ensemble import GradientBoostingClassifier\n",
    "from sklearn.linear_model import LogisticRegression\n",
    "from sklearn.pipeline import Pipeline\n",
    "from sklearn.preprocessing import StandardScaler\n",
    "from sklearn.ensemble import VotingClassifier"
   ]
  },
  {
   "cell_type": "code",
   "execution_count": 21,
   "metadata": {},
   "outputs": [],
   "source": [
    "import joblib\n",
    "model = joblib.load('new_data/combinedModel.sav')"
   ]
  },
  {
   "cell_type": "markdown",
   "metadata": {},
   "source": [
    "## Trump"
   ]
  },
  {
   "cell_type": "code",
   "execution_count": 22,
   "metadata": {},
   "outputs": [
    {
     "data": {
      "text/plain": [
       "['If you tell me a \"being of pure white light\" speaks to Donald J. #Trump, I\\'ll wonder if they were #Elohim.',\n",
       " '.@TheDemocrats in 2016: \"Don\\'t vote for #Trump, he will start new wars!!!\"\\n\\n@TheDemocrats in 2020: \"Don\\'t vote for… https://t.co/qcjcBxxWFD',\n",
       " \"@4Awesometweet I'm sure #trump will find a way to compliment himself.\",\n",
       " \"@MikeHun84192140 @JadeisFedUp @MPFIED @davematt88 Really?  How?  Name one thing that #Trump has done that's best of… https://t.co/WGYV3RlGTJ\",\n",
       " \"@mitchellvii Best outcome: you're purposely trolling.\\n\\nWorst outcome: You and the people who rely on you for… https://t.co/yZW1GqXLGF\"]"
      ]
     },
     "execution_count": 22,
     "metadata": {},
     "output_type": "execute_result"
    }
   ],
   "source": [
    "trump_posts = pd.read_csv('dataset/trump.csv')\n",
    "trump_posts2 = trump_posts.drop(trump_posts.columns[0], axis=1)\n",
    "trump_posts_list = trump_posts[trump_posts2.columns[0]].values.tolist()\n",
    "trump_posts_list[:5]"
   ]
  },
  {
   "cell_type": "code",
   "execution_count": 23,
   "metadata": {},
   "outputs": [
    {
     "data": {
      "text/plain": [
       "array([[0., 0., 0., ..., 0., 0., 0.],\n",
       "       [0., 0., 0., ..., 0., 0., 0.],\n",
       "       [0., 0., 0., ..., 0., 0., 0.],\n",
       "       ...,\n",
       "       [0., 0., 0., ..., 0., 0., 0.],\n",
       "       [0., 0., 0., ..., 0., 0., 0.],\n",
       "       [0., 0., 0., ..., 0., 0., 0.]])"
      ]
     },
     "execution_count": 23,
     "metadata": {},
     "output_type": "execute_result"
    }
   ],
   "source": [
    "X_trump = np.genfromtxt('X_trump.csv', delimiter=',')[1:]\n",
    "X_trump"
   ]
  },
  {
   "cell_type": "code",
   "execution_count": 24,
   "metadata": {},
   "outputs": [
    {
     "data": {
      "text/plain": [
       "array([[0.26284019, 0.73715981],\n",
       "       [0.33102541, 0.66897459],\n",
       "       [0.3317598 , 0.6682402 ],\n",
       "       ...,\n",
       "       [0.60372298, 0.39627702],\n",
       "       [0.227561  , 0.772439  ],\n",
       "       [0.68050409, 0.31949591]])"
      ]
     },
     "execution_count": 24,
     "metadata": {},
     "output_type": "execute_result"
    }
   ],
   "source": [
    "Y_trump = model.predict_proba(X_trump)\n",
    "Y_trump"
   ]
  },
  {
   "cell_type": "code",
   "execution_count": 25,
   "metadata": {},
   "outputs": [
    {
     "name": "stdout",
     "output_type": "stream",
     "text": [
      "45.9 % holds a positive attitude towards trump\n",
      "17.5 % holds a negative attitude towards trump\n",
      "36.6 % holds a neutral attitude towards trump\n",
      "\n",
      "\n",
      "\n",
      "\n",
      "Positive:\n",
      "I'm kinda glad that #Trump is encouraging his #StuckonTrumpers to vote for Sanders in primary. I'm ready for the Un… https://t.co/zYJdCK1Su5\n",
      "@wwdnet2 Beautiful Twitter header. Just beautiful. #TRUMP\n",
      "#Trump Says: I will be having a 1:30 P.M. Press Conference at the White House to discuss the latest CoronaVirus developments. Thank you!\n",
      "#CoronavirusOutbreak\n",
      "\n",
      "Be sure to thank @realDonaldTrump and @RichforGA for a rational response🙏🇺🇸\n",
      "\n",
      "Instead of… https://t.co/cT0FTgKa74\n",
      "You’re not welcome. And if you do not let your qualified scientists and health experts speak, we can’t believe anyt… https://t.co/ywf7Z0YATk\n",
      "You're feeling pretty happy Trump! Is your failing Scottish golf resort finally doing well?\n",
      " In response to:… https://t.co/X7mAEqZg0K\n",
      "#Trump Says: THANK YOU SOUTH CAROLINA! \n",
      "https://t.co/RSEelakGwC\n",
      "Glad you are joining us for a trip down #Trump Corruption Lane. You'll see some oldies but not goodies. But first a… https://t.co/ltfLEa7yDW\n",
      "@BrentTerhune Thank you #GarthBrooks. #BernieSanders isn’t my first choice but every #Democratic Candidate is bette… https://t.co/KTtHl3tDmk\n",
      "Fantastic New #Trump Campaign Ad… – CITIZEN FREE PRESS https://t.co/egalCpdjal\n",
      "@dfl120 @worldbefree_99 Ha ha ha . . . sure! \n",
      "\n",
      "#GodBlessPresidentTrump!  \n",
      "\n",
      "#GodBlessAmerica! \n",
      "\n",
      "That white stripe do… https://t.co/GDLdZxBWLi\n",
      "\n",
      "\n",
      "\n",
      "\n",
      "Negative:\n",
      "Department of Health confirms first #coronavirus death in Washington state. This is very sad news. And now maybe… https://t.co/QTE7zoFuCp\n",
      "@realDonaldTrump I won't expect to hear the truth from you \n",
      "bc you don't care of people die especially \n",
      "poor people… https://t.co/hmBkb61Yeb\n",
      "#Trump has been doing things like this for his entire Presidency. Sad that it takes a REAL #NationalEmergency /… https://t.co/AvSoy5QANo\n",
      "@DonaldJTrumpJr please run in 2024. I didn't vote for your dad the first time and I'm sorry, it was because I didn'… https://t.co/GgaJWgRbvN\n",
      "@RobWayTV They only wish! I feel certain this time next year, #Trump will be in jail and Lindsey will be golfing al… https://t.co/L2rPE0v1VX\n",
      "@MSNBC Didn't Donnie say Obama setting a date to leave Iraq (because of the agreement signed by W) was stupid?\n",
      "\n",
      "I c… https://t.co/FW03U77ulH\n",
      "\"“It’s Like Rip Van Winkle Over There” – Economist Peter Morici BLASTS Failed Fed Chief Jerome Powell After Worst M… https://t.co/4lAxoc5wUs\n",
      "@realDonaldTrump That is a small room for a small sad poor man. #trump #TrumpLiesAboutCoronavirus\n",
      "Another #TrumpBankruptcy I dont know about all of you but I'm sick of #Trump screwing up and destroying norms becau… https://t.co/pdxSfpTycy\n",
      "Woke up sad today 😪 as I realised we get an extra day of #trump this year.  #SaturdayMorning\n",
      "Ahh... #AOC, you poor lost misguided soul. The pudding isn't available any more as it was taken by your uncle… https://t.co/SRvv2y1v0P\n",
      "Unfortunately ppl are gullible, stupid &amp; #Trump seizes on that. https://t.co/dXL49vsiWq\n"
     ]
    }
   ],
   "source": [
    "#trump\n",
    "positive = 0\n",
    "negative = 0\n",
    "neutral = 0\n",
    "\n",
    "positive_list, negative_list = [], []\n",
    "\n",
    "for i,p in enumerate(Y_trump):\n",
    "\n",
    "    if p[1] > 0.6: \n",
    "        positive += 1\n",
    "        if p[1] > 0.9:\n",
    "            positive_list.append(trump_posts_list[i])\n",
    "\n",
    "    elif p[1] < 0.4:\n",
    "        negative += 1\n",
    "        if p[1] < 0.1:\n",
    "            negative_list.append(trump_posts_list[i])\n",
    "    else:\n",
    "        neutral += 1\n",
    "    \n",
    "print((positive/len(Y_trump))*100,\"% holds a positive attitude towards trump\")\n",
    "print((negative/len(Y_trump))*100,\"% holds a negative attitude towards trump\")\n",
    "print((neutral/len(Y_trump))*100,\"% holds a neutral attitude towards trump\")\n",
    "\n",
    "print('\\n\\n\\n')\n",
    "print(\"Positive:\")\n",
    "for p in positive_list:\n",
    "    print(p)\n",
    "    \n",
    "print('\\n\\n\\n')\n",
    "print(\"Negative:\")\n",
    "for p in negative_list:\n",
    "    print(p)"
   ]
  },
  {
   "cell_type": "markdown",
   "metadata": {},
   "source": [
    "## coronavirus"
   ]
  },
  {
   "cell_type": "code",
   "execution_count": 13,
   "metadata": {},
   "outputs": [
    {
     "data": {
      "text/plain": [
       "['@RealJamesWoods Last 18 hours:\\nOur #POTUS45 ...\\n✅ Huge Trump Rally in Charleston 12,000 plus\\n✅ Conveens Emergency… https://t.co/E0VDvyLzpg',\n",
       " '@SecAzar WE THE PEOPLE ARE NOT* PAYING TO GET TREATED FOR THE #CORONAVIRUS. I’m reading reports Americans are recei… https://t.co/pOVP80M9xg',\n",
       " 'As of 29/02/2020. Confirmed cases in areas outside PRC are picking up speed.\\n#nCoV19 #coronavirus #COVID19… https://t.co/gbgc5OqPsW',\n",
       " 'Pope confirmed to have #COVID19 #CoronaVirus.... Coincidence? I think NOT...',\n",
       " '@MrTommyCampbell A new case in Ajax, close to where I live.\\nSick stay home.\\n#coronavirus']"
      ]
     },
     "execution_count": 13,
     "metadata": {},
     "output_type": "execute_result"
    }
   ],
   "source": [
    "coronavirus_posts = pd.read_csv('dataset/coronavirus.csv')\n",
    "coronavirus_posts2 = coronavirus_posts.drop(coronavirus_posts.columns[0], axis=1)\n",
    "coronavirus_posts_list = coronavirus_posts[coronavirus_posts2.columns[0]].values.tolist()\n",
    "coronavirus_posts_list[:5]"
   ]
  },
  {
   "cell_type": "code",
   "execution_count": 14,
   "metadata": {},
   "outputs": [
    {
     "data": {
      "text/plain": [
       "array([[0., 0., 0., ..., 0., 0., 0.],\n",
       "       [0., 0., 0., ..., 0., 0., 0.],\n",
       "       [0., 0., 0., ..., 0., 0., 0.],\n",
       "       ...,\n",
       "       [0., 0., 0., ..., 0., 0., 0.],\n",
       "       [0., 0., 0., ..., 0., 0., 0.],\n",
       "       [0., 0., 0., ..., 0., 0., 0.]])"
      ]
     },
     "execution_count": 14,
     "metadata": {},
     "output_type": "execute_result"
    }
   ],
   "source": [
    "X_coronavirus = np.genfromtxt('X_coronavirus.csv', delimiter=',')[1:]\n",
    "X_coronavirus"
   ]
  },
  {
   "cell_type": "code",
   "execution_count": 15,
   "metadata": {},
   "outputs": [
    {
     "data": {
      "text/plain": [
       "array([[0.64185727, 0.35814273],\n",
       "       [0.38819136, 0.61180864],\n",
       "       [0.45858073, 0.54141927],\n",
       "       ...,\n",
       "       [0.57305556, 0.42694444],\n",
       "       [0.71448218, 0.28551782],\n",
       "       [0.67736294, 0.32263706]])"
      ]
     },
     "execution_count": 15,
     "metadata": {},
     "output_type": "execute_result"
    }
   ],
   "source": [
    "Y_coronavirus = model.predict_proba(X_coronavirus)\n",
    "Y_coronavirus"
   ]
  },
  {
   "cell_type": "code",
   "execution_count": 18,
   "metadata": {},
   "outputs": [
    {
     "name": "stdout",
     "output_type": "stream",
     "text": [
      "41.4 % holds a positive attitude towards coronavirus\n",
      "25.2 % holds a negative attitude towards coronavirus\n",
      "33.4 % holds a neutral attitude towards coronavirus\n",
      "Attention: Event Organizers! \n",
      "\n",
      "A great read from @rwang0 on the best practices for hosting events while we are deal… https://t.co/2Zzi35elKb\n",
      "#Repost 9gag (@get_repost)\n",
      "・・・\n",
      "sing Happy Birthday twice⠀\n",
      "-⠀\n",
      "#washyourhands #9gag #coronavirus https://t.co/naUskKA0i1\n",
      "As #Coronavirus hits Europe, check out our latest blog post about how Social Media Platforms are tackling fake Covi… https://t.co/yM3iYrGgY5\n",
      "#COVID19 #CustomerService\n",
      "#cruisingwithdon\n",
      "#cruiseshipnews\n",
      "#coronavirus\n",
      "\n",
      "Thank you for such generosity and great cu… https://t.co/Y7zy68TxAu\n",
      "@connecticuck #coronavirus \n",
      "#Connzuela\n",
      "@toddtalk \n",
      "See above,Todd \n",
      "Thank you\n",
      "\n",
      "\n",
      "\n",
      "\n",
      "Negative:\n",
      "@MrTommyCampbell A new case in Ajax, close to where I live.\n",
      "Sick stay home.\n",
      "#coronavirus\n",
      "@Gopgirl719 Sorry to hear. I too have a condition with my stomach that if I got the #CoronaVirus it could kill me too. Very scary times.\n",
      "@InsidersABC @David_Speers The Libs quite like #coronavirus It'll kill off the old and sick and reduce their welfar… https://t.co/YpPfgu8une\n",
      "About 30k people have died in the US from the #flu this season so far and a ton of you still haven't gotten your… https://t.co/C2DlAfaGSK\n",
      "Public service announcement: if you have an older relative at risk of getting quite sick if they get #coronavirus,… https://t.co/Qle76okgNI\n",
      "@alluring_kyh #Covid18 \n",
      "\n",
      "Children will be ok, unless they’re sick with something else.\n",
      "\n",
      "They barely show any… https://t.co/Mlh3rB0D54\n",
      "I feel like companies should expand \"sick days\" and add \"remote days\" as a requirement, especially if they work on… https://t.co/qRPVaVx5YW\n",
      "You should only wear the masks if your sick.  Masks don’t prevent you from getting sick.  Just wash your hands, sta… https://t.co/VvEu0Al1be\n",
      "Told ya. \n",
      "\n",
      "People are so stupid. \n",
      "\n",
      "Maybe culling the herd ain't a bad idea...\n",
      "\n",
      "#CoronaVirus \n",
      "\n",
      "https://t.co/9h0HB45LWS\n",
      "@SpeakerPelosi It is unfortunate to lose a life but we were forewarned about this. Why aren’t you sadly announcing… https://t.co/Axt6I4nc2j\n",
      "@realDonaldTrump THE CORONAVIRUS COULD BE NO WORSE THAN FLU\n",
      "The same people who want you to panic about coronavirus… https://t.co/6oqxPRohgC\n",
      "The artists who you like to pay in “exposure” who can barely afford rent let alone their medical bills. #coronavirus\n",
      "A buddy of mine whose not into reading the news exclaimed, ”Fuck is nothing sacred anymore, they're making corona i… https://t.co/FPynfkBrKZ\n",
      "very sad #coronavirus not only old and ill people are affected https://t.co/j3oiQVvYbG\n"
     ]
    }
   ],
   "source": [
    "positive = 0\n",
    "negative = 0\n",
    "neutral = 0\n",
    "\n",
    "positive_list = []\n",
    "negative_list = []\n",
    "\n",
    "for i,p in enumerate(Y_coronavirus):\n",
    "\n",
    "    if p[1] > 0.6: \n",
    "        positive += 1\n",
    "        if p[1] > 0.9:\n",
    "            positive_list.append(coronavirus_posts_list[i])\n",
    "\n",
    "    elif p[1] < 0.4:\n",
    "        negative += 1\n",
    "        if p[1] < 0.1:\n",
    "            negative_list.append(coronavirus_posts_list[i])\n",
    "    else:\n",
    "        neutral += 1\n",
    "    \n",
    "print((positive/len(Y_coronavirus))*100,\"% holds a positive attitude towards coronavirus\")\n",
    "print((negative/len(Y_coronavirus))*100,\"% holds a negative attitude towards coronavirus\")\n",
    "print((neutral/len(Y_coronavirus))*100,\"% holds a neutral attitude towards coronavirus\")\n",
    "\n",
    "for p in positive_list:\n",
    "    print(p)\n",
    "    \n",
    "print('\\n\\n\\n')\n",
    "print(\"Negative:\")\n",
    "for p in negative_list:\n",
    "    print(p)"
   ]
  },
  {
   "cell_type": "markdown",
   "metadata": {},
   "source": [
    "## MeToo"
   ]
  },
  {
   "cell_type": "code",
   "execution_count": 5,
   "metadata": {},
   "outputs": [
    {
     "data": {
      "text/plain": [
       "['@aeryn_thrace The latest #Metoomovement.\\n\\nhttps://t.co/UXnyPVHdBl https://t.co/YA2PLXviM8',\n",
       " '@miriamsved - involved in a wonderful discussion about the #Metoomovement with @LaTrioli yesterday. When asked if t… https://t.co/S9pqAhwJNs',\n",
       " '@fawazar94 That show talks about #media and the #MeTooMovement in a very interesting way. Well-received',\n",
       " '@raveninak @BridgetSterli19 She joined the #Metoomovement',\n",
       " '@JoJoFromJerz Did the flag give consent???? Then again, has that ever stopped him before??? #metoo #Metoomovement @Alyssa_Milano']"
      ]
     },
     "execution_count": 5,
     "metadata": {},
     "output_type": "execute_result"
    }
   ],
   "source": [
    "metoo_posts = pd.read_csv('dataset/Metoomovement.csv')\n",
    "metoo_posts2 = metoo_posts.drop(metoo_posts.columns[0], axis=1)\n",
    "metoo_posts_list = metoo_posts[metoo_posts2.columns[0]].values.tolist()\n",
    "metoo_posts_list[:5]"
   ]
  },
  {
   "cell_type": "code",
   "execution_count": 6,
   "metadata": {},
   "outputs": [
    {
     "data": {
      "text/plain": [
       "array([[0., 0., 0., ..., 0., 0., 0.],\n",
       "       [0., 0., 0., ..., 0., 0., 0.],\n",
       "       [0., 0., 0., ..., 0., 0., 0.],\n",
       "       ...,\n",
       "       [0., 0., 0., ..., 0., 0., 0.],\n",
       "       [0., 0., 0., ..., 0., 0., 0.],\n",
       "       [0., 0., 0., ..., 0., 0., 0.]])"
      ]
     },
     "execution_count": 6,
     "metadata": {},
     "output_type": "execute_result"
    }
   ],
   "source": [
    "X_metoo = np.genfromtxt('X_metoo.csv', delimiter=',')[1:]\n",
    "X_metoo"
   ]
  },
  {
   "cell_type": "code",
   "execution_count": 8,
   "metadata": {},
   "outputs": [
    {
     "data": {
      "text/plain": [
       "array([[0.45022353, 0.54977647],\n",
       "       [0.4121008 , 0.5878992 ],\n",
       "       [0.25135349, 0.74864651],\n",
       "       [0.42910483, 0.57089517],\n",
       "       [0.27249235, 0.72750765]])"
      ]
     },
     "execution_count": 8,
     "metadata": {},
     "output_type": "execute_result"
    }
   ],
   "source": [
    "Y_metoo = model.predict_proba(X_metoo)\n",
    "Y_metoo[:5]"
   ]
  },
  {
   "cell_type": "code",
   "execution_count": 19,
   "metadata": {},
   "outputs": [
    {
     "name": "stdout",
     "output_type": "stream",
     "text": [
      "46.253229974160206 % holds a positive attitude towards metoo\n",
      "19.379844961240313 % holds a negative attitude towards metoo\n",
      "34.366925064599485 % holds a neutral attitude towards metoo\n",
      "\n",
      "\n",
      "\n",
      "\n",
      "Positive:\n",
      "y’all love the #Metoomovement and applaud women for standing up to their attackers until ur favorite athlete gets a… https://t.co/uREhAhPUAn\n",
      "Thank you @TaranaBurke for leading America by founding the #Metoomovement.  Hopefully the conviction of… https://t.co/JDzYsmi8zW\n",
      "Congrats #MeToo #Metoomovement on success w/Weinstein &amp; Cosby finally paying for their many crimes, but w/24+ claim… https://t.co/KKwu3pjz4t\n",
      "Thank you brave women #metoo #Metoomovement for bringing light to this toxic norm of the 20th century. #shesaid… https://t.co/FnWPfcGxLs\n",
      "He’s finally getting locked up! 🥳 It’s a good morning! #HarveyWeinsteinGuilty #MeTooMovement https://t.co/wRy097iRZt\n",
      "Help yourself cope by getting tons of ppl signed up to vote. Back and follow @KamalaHarris  join #metoomovement. It… https://t.co/BCrkALXRXb\n",
      "\n",
      "\n",
      "\n",
      "\n",
      "Negative:\n",
      "@APWestRegion Sad apology. He's afraid of jail. All rapists are. #PlacidoDomingo #Metoomovement #metoo\n",
      "Man THIS is my Miss Marvel, wtf did they do to her in MUA3?! a fucking Aladdin bitch? Since when? Lmao she can stre… https://t.co/hFpCyfVmJJ\n"
     ]
    }
   ],
   "source": [
    "positive = 0\n",
    "negative = 0\n",
    "neutral = 0\n",
    "\n",
    "positive_list = []\n",
    "negative_list = []\n",
    "\n",
    "for i,p in enumerate(Y_metoo):\n",
    "\n",
    "    if p[1] > 0.6: \n",
    "        positive += 1\n",
    "        if p[1] > 0.9:\n",
    "            positive_list.append(metoo_posts_list[i])\n",
    "\n",
    "    elif p[1] < 0.4:\n",
    "        negative += 1\n",
    "        if p[1] < 0.1:\n",
    "            negative_list.append(metoo_posts_list[i])\n",
    "    else:\n",
    "        neutral += 1\n",
    "    \n",
    "print((positive/len(Y_metoo))*100,\"% holds a positive attitude towards metoo\")\n",
    "print((negative/len(Y_metoo))*100,\"% holds a negative attitude towards metoo\")\n",
    "print((neutral/len(Y_metoo))*100,\"% holds a neutral attitude towards metoo\")\n",
    "\n",
    "print('\\n\\n\\n')\n",
    "print(\"Positive:\")\n",
    "for p in positive_list:\n",
    "    print(p)\n",
    "    \n",
    "print('\\n\\n\\n')\n",
    "print(\"Negative:\")\n",
    "for p in negative_list:\n",
    "    print(p)"
   ]
  },
  {
   "cell_type": "code",
   "execution_count": null,
   "metadata": {},
   "outputs": [],
   "source": []
  }
 ],
 "metadata": {
  "kernelspec": {
   "display_name": "Python 3",
   "language": "python",
   "name": "python3"
  },
  "language_info": {
   "codemirror_mode": {
    "name": "ipython",
    "version": 3
   },
   "file_extension": ".py",
   "mimetype": "text/x-python",
   "name": "python",
   "nbconvert_exporter": "python",
   "pygments_lexer": "ipython3",
   "version": "3.7.4"
  }
 },
 "nbformat": 4,
 "nbformat_minor": 2
}
