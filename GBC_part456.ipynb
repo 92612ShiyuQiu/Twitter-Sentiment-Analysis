{
 "cells": [
  {
   "cell_type": "code",
   "execution_count": 1,
   "metadata": {},
   "outputs": [],
   "source": [
    "import pandas as pd\n",
    "import numpy as np\n",
    "import matplotlib.pyplot as plt\n",
    "from sklearn.metrics import roc_auc_score\n",
    "from sklearn.model_selection import cross_val_score\n",
    "from sklearn.ensemble import GradientBoostingClassifier\n",
    "from sklearn.model_selection import train_test_split\n",
    "from sklearn.metrics import classification_report\n",
    "from sklearn.model_selection import GridSearchCV\n",
    "import time\n",
    "\n",
    "X = np.genfromtxt('data/X.csv', delimiter=',')\n",
    "Y = np.genfromtxt('data/Y.csv', delimiter=',')\n",
    "\n",
    "X_comp, X_test, Y_comp, Y_test = train_test_split(X, Y, test_size=0.2, random_state=0)\n",
    "Xtr, Xva, Ytr, Yva = train_test_split(X_comp, Y_comp, test_size=0.2)"
   ]
  },
  {
   "cell_type": "code",
   "execution_count": 2,
   "metadata": {},
   "outputs": [],
   "source": [
    "clf = GradientBoostingClassifier(max_depth=3,loss=\"deviance\",learning_rate=0.1,n_estimators=1500)"
   ]
  },
  {
   "cell_type": "code",
   "execution_count": 3,
   "metadata": {},
   "outputs": [],
   "source": [
    "parameters4 = {\n",
    "    \"min_samples_split\": [2,6,10,20,40,60],\n",
    "    \"min_samples_leaf\": [1,3,5,7,9]}"
   ]
  },
  {
   "cell_type": "code",
   "execution_count": null,
   "metadata": {},
   "outputs": [
    {
     "name": "stdout",
     "output_type": "stream",
     "text": [
      "training start\n"
     ]
    }
   ],
   "source": [
    "GBC4 = GridSearchCV(clf, parameters4, cv=5)\n",
    "\n",
    "print('training start')\n",
    "starting_time = time.time()\n",
    "GBC4.fit(Xtr, Ytr)\n",
    "end_time = time.time()\n",
    "print(\"training finished, took {} seconds\".format(end_time - starting_time))\n",
    "\n",
    "gradient_boosting_classifier_roc = roc_auc_score(\n",
    "   Yva, GBC4.predict_proba(Xva)[:,1])\n",
    "print(gradient_boosting_classifier_roc)\n",
    "\n",
    "print(\"training error:\", 1 - GBC4.score(Xtr, Ytr))\n",
    "print(\"validation error:\", 1 - GBC4.score(Xva, Yva))\n",
    "\n",
    "best_estimator4 = GBC4.best_estimator_\n",
    "best_score4 = GBC4.best_score_\n",
    "best_params4 = GBC4.best_params_\n",
    "best_index4 = GBC4.best_index_\n",
    "scorer4 = GBC4.scorer_\n",
    "cv_results4 = GBC4.cv_results_\n",
    "refit_time4 = GBC4.refit_time_\n",
    "\n",
    "print('best_estimator4:\\t', best_estimator4)\n",
    "print('best_score4:\\t', best_score4)\n",
    "print('best_params4:\\t', best_params4)\n",
    "print('best_index4:\\t', best_index4)\n",
    "print('scorer4:\\t', scorer4)\n",
    "print('cv_results4:\\t', cv_results4)\n",
    "print('refit_time4:\\t', refit_time4)"
   ]
  },
  {
   "cell_type": "code",
   "execution_count": null,
   "metadata": {},
   "outputs": [],
   "source": []
  }
 ],
 "metadata": {
  "kernelspec": {
   "display_name": "Python 3",
   "language": "python",
   "name": "python3"
  },
  "language_info": {
   "codemirror_mode": {
    "name": "ipython",
    "version": 3
   },
   "file_extension": ".py",
   "mimetype": "text/x-python",
   "name": "python",
   "nbconvert_exporter": "python",
   "pygments_lexer": "ipython3",
   "version": "3.7.4"
  }
 },
 "nbformat": 4,
 "nbformat_minor": 2
}
