{
 "cells": [
  {
   "cell_type": "code",
   "execution_count": 1,
   "metadata": {},
   "outputs": [],
   "source": [
    "import pandas as pd\n",
    "import numpy as np\n",
    "import matplotlib.pyplot as plt\n",
    "from sklearn.metrics import classification_report\n",
    "\n",
    "import warnings\n",
    "warnings.filterwarnings('ignore')"
   ]
  },
  {
   "cell_type": "code",
   "execution_count": 2,
   "metadata": {},
   "outputs": [],
   "source": [
    "from sklearn.metrics import roc_auc_score\n",
    "from sklearn.model_selection import cross_val_score\n",
    "from sklearn.model_selection import train_test_split\n",
    "from sklearn.metrics import classification_report\n",
    "from sklearn.neural_network import MLPClassifier\n",
    "from sklearn.ensemble import GradientBoostingClassifier\n",
    "from sklearn.linear_model import LogisticRegression\n",
    "import time"
   ]
  },
  {
   "cell_type": "code",
   "execution_count": 3,
   "metadata": {},
   "outputs": [],
   "source": [
    "X = np.genfromtxt('data/X.csv', delimiter=',')\n",
    "Y = np.genfromtxt('data/Y.csv', delimiter=',')\n",
    "\n",
    "X_comp, X_test, Y_comp, Y_test = train_test_split(X, Y, test_size=0.2, random_state=0)\n",
    "Xtr, Xva, Ytr, Yva = train_test_split(X_comp, Y_comp, test_size=0.2)"
   ]
  },
  {
   "cell_type": "code",
   "execution_count": 43,
   "metadata": {},
   "outputs": [],
   "source": [
    "# grid search results (hyper-values): \n",
    "\n",
    "lr = LogisticRegression(C=2, penalty='l1')\n",
    "\n",
    "mlp = MLPClassifier(max_iter=1000, hidden_layer_sizes=(100,), activation='identity', \n",
    "                            solver='sgd', alpha=0.01, learning_rate='adaptive')\n",
    "\n",
    "gb = GradientBoostingClassifier(max_depth=3,loss=\"deviance\",learning_rate=0.160222,\n",
    "                                 n_estimators=1000,min_samples_split=20,min_samples_leaf=9,\n",
    "                                 max_features=\"sqrt\", subsample=0.637095)"
   ]
  },
  {
   "cell_type": "code",
   "execution_count": 5,
   "metadata": {},
   "outputs": [
    {
     "name": "stdout",
     "output_type": "stream",
     "text": [
      "lr training started\n",
      "lr training finished\n",
      "mlp training started\n",
      "mlp training finished\n",
      "gb training started\n",
      "gb training finished\n"
     ]
    }
   ],
   "source": [
    "print(\"lr training started\")\n",
    "lr.fit(Xtr,Ytr)\n",
    "print(\"lr training finished\")\n",
    "\n",
    "print(\"mlp training started\")\n",
    "mlp.fit(Xtr,Ytr)\n",
    "print(\"mlp training finished\")\n",
    "\n",
    "print(\"gb training started\")\n",
    "gb.fit(Xtr,Ytr)\n",
    "print(\"gb training finished\")"
   ]
  },
  {
   "cell_type": "code",
   "execution_count": 16,
   "metadata": {},
   "outputs": [],
   "source": [
    "y_true = Yva\n",
    "lr_y_pred = lr.predict(Xva)"
   ]
  },
  {
   "cell_type": "code",
   "execution_count": 17,
   "metadata": {},
   "outputs": [],
   "source": [
    "target_names = ['negative', 'positive']"
   ]
  },
  {
   "cell_type": "code",
   "execution_count": 23,
   "metadata": {},
   "outputs": [
    {
     "name": "stdout",
     "output_type": "stream",
     "text": [
      "Logistic Regression Classifier Report\n",
      "              precision    recall  f1-score   support\n",
      "\n",
      "    negative       0.69      0.51      0.59      8636\n",
      "    positive       0.69      0.83      0.75     11362\n",
      "\n",
      "    accuracy                           0.69     19998\n",
      "   macro avg       0.69      0.67      0.67     19998\n",
      "weighted avg       0.69      0.69      0.68     19998\n",
      "\n"
     ]
    }
   ],
   "source": [
    "print(\"Logistic Regression Classifier Report\")\n",
    "print(classification_report(Y_test, lr.predict(X_test), target_names=target_names))"
   ]
  },
  {
   "cell_type": "code",
   "execution_count": 25,
   "metadata": {},
   "outputs": [
    {
     "name": "stdout",
     "output_type": "stream",
     "text": [
      "mlp training started\n",
      "mlp training finished\n",
      "Neural Network Classifier Report\n",
      "              precision    recall  f1-score   support\n",
      "\n",
      "    negative       0.69      0.51      0.59      8636\n",
      "    positive       0.69      0.83      0.75     11362\n",
      "\n",
      "    accuracy                           0.69     19998\n",
      "   macro avg       0.69      0.67      0.67     19998\n",
      "weighted avg       0.69      0.69      0.68     19998\n",
      "\n"
     ]
    }
   ],
   "source": [
    "#mlp_y_pred = mlp.predict(Xva)\n",
    "mlp = MLPClassifier(max_iter=1000, hidden_layer_sizes=(100,), activation='identity', \n",
    "                            solver='sgd', alpha=0.01, learning_rate='adaptive')\n",
    "\n",
    "print(\"mlp training started\")\n",
    "mlp.fit(Xtr,Ytr)\n",
    "print(\"mlp training finished\")\n",
    "\n",
    "print(\"Neural Network Classifier Report\")\n",
    "print(classification_report(Y_test, mlp.predict(X_test), target_names=target_names))"
   ]
  },
  {
   "cell_type": "code",
   "execution_count": 44,
   "metadata": {},
   "outputs": [
    {
     "name": "stdout",
     "output_type": "stream",
     "text": [
      "gb training started\n",
      "gb training finished\n",
      "Gradient Boosting Classifier Report\n",
      "              precision    recall  f1-score   support\n",
      "\n",
      "    negative       0.69      0.52      0.59      8636\n",
      "    positive       0.69      0.82      0.75     11362\n",
      "\n",
      "    accuracy                           0.69     19998\n",
      "   macro avg       0.69      0.67      0.67     19998\n",
      "weighted avg       0.69      0.69      0.68     19998\n",
      "\n"
     ]
    }
   ],
   "source": [
    "#gb_y_true = gb.predict(Xva)\n",
    "print(\"gb training started\")\n",
    "gb.fit(Xtr,Ytr)\n",
    "print(\"gb training finished\")\n",
    "\n",
    "print(\"Gradient Boosting Classifier Report\")\n",
    "print(classification_report(Y_test, gb.predict(X_test), target_names=target_names))"
   ]
  },
  {
   "cell_type": "code",
   "execution_count": 27,
   "metadata": {},
   "outputs": [
    {
     "name": "stdout",
     "output_type": "stream",
     "text": [
      "              precision    recall  f1-score   support\n",
      "\n",
      "    negative       0.75      0.36      0.49      8636\n",
      "    positive       0.65      0.91      0.76     11362\n",
      "\n",
      "    accuracy                           0.67     19998\n",
      "   macro avg       0.70      0.64      0.63     19998\n",
      "weighted avg       0.70      0.67      0.64     19998\n",
      "\n"
     ]
    }
   ],
   "source": [
    "gb_test = GradientBoostingClassifier()\n",
    "\n",
    "gb_test.fit(Xtr,Ytr)\n",
    "\n",
    "print(classification_report(Y_test, gb_test.predict(X_test), target_names=target_names))"
   ]
  },
  {
   "cell_type": "code",
   "execution_count": 29,
   "metadata": {},
   "outputs": [
    {
     "name": "stdout",
     "output_type": "stream",
     "text": [
      "              precision    recall  f1-score   support\n",
      "\n",
      "    negative       0.69      0.51      0.59      8636\n",
      "    positive       0.69      0.83      0.75     11362\n",
      "\n",
      "    accuracy                           0.69     19998\n",
      "   macro avg       0.69      0.67      0.67     19998\n",
      "weighted avg       0.69      0.69      0.68     19998\n",
      "\n"
     ]
    }
   ],
   "source": [
    "lr_test = LogisticRegression()\n",
    "\n",
    "lr_test.fit(Xtr,Ytr)\n",
    "\n",
    "print(classification_report(Y_test, lr_test.predict(X_test), target_names=target_names))"
   ]
  },
  {
   "cell_type": "code",
   "execution_count": 32,
   "metadata": {},
   "outputs": [],
   "source": [
    "b = lr_test.predict(X_test)\n",
    "a = Y_test[b == Y_test]"
   ]
  },
  {
   "cell_type": "code",
   "execution_count": 33,
   "metadata": {},
   "outputs": [
    {
     "data": {
      "text/plain": [
       "(13824,)"
      ]
     },
     "execution_count": 33,
     "metadata": {},
     "output_type": "execute_result"
    }
   ],
   "source": [
    "a.shape"
   ]
  },
  {
   "cell_type": "code",
   "execution_count": 34,
   "metadata": {},
   "outputs": [
    {
     "data": {
      "text/plain": [
       "(19998,)"
      ]
     },
     "execution_count": 34,
     "metadata": {},
     "output_type": "execute_result"
    }
   ],
   "source": [
    "Y_test.shape"
   ]
  },
  {
   "cell_type": "code",
   "execution_count": 35,
   "metadata": {},
   "outputs": [
    {
     "data": {
      "text/plain": [
       "0.6912691269126913"
      ]
     },
     "execution_count": 35,
     "metadata": {},
     "output_type": "execute_result"
    }
   ],
   "source": [
    "a.shape[0]/19998"
   ]
  },
  {
   "cell_type": "code",
   "execution_count": 36,
   "metadata": {},
   "outputs": [
    {
     "data": {
      "text/plain": [
       "(13578,)"
      ]
     },
     "execution_count": 36,
     "metadata": {},
     "output_type": "execute_result"
    }
   ],
   "source": [
    "c = b[b == 1.0]\n",
    "c.shape"
   ]
  },
  {
   "cell_type": "code",
   "execution_count": 38,
   "metadata": {},
   "outputs": [
    {
     "data": {
      "text/plain": [
       "(9383,)"
      ]
     },
     "execution_count": 38,
     "metadata": {},
     "output_type": "execute_result"
    }
   ],
   "source": [
    "a[a==1.0].shape"
   ]
  },
  {
   "cell_type": "code",
   "execution_count": 39,
   "metadata": {},
   "outputs": [
    {
     "data": {
      "text/plain": [
       "(4441,)"
      ]
     },
     "execution_count": 39,
     "metadata": {},
     "output_type": "execute_result"
    }
   ],
   "source": [
    "a[a==0.0].shape"
   ]
  },
  {
   "cell_type": "code",
   "execution_count": 41,
   "metadata": {},
   "outputs": [
    {
     "data": {
      "text/plain": [
       "0.6910443364265724"
      ]
     },
     "execution_count": 41,
     "metadata": {},
     "output_type": "execute_result"
    }
   ],
   "source": [
    "9383/13578"
   ]
  },
  {
   "cell_type": "code",
   "execution_count": 42,
   "metadata": {},
   "outputs": [
    {
     "data": {
      "text/plain": [
       "0.32707320665782885"
      ]
     },
     "execution_count": 42,
     "metadata": {},
     "output_type": "execute_result"
    }
   ],
   "source": [
    "4441/(13578)"
   ]
  },
  {
   "cell_type": "code",
   "execution_count": 46,
   "metadata": {},
   "outputs": [
    {
     "data": {
      "text/plain": [
       "(19320,)"
      ]
     },
     "execution_count": 46,
     "metadata": {},
     "output_type": "execute_result"
    }
   ],
   "source": [
    "gb_pred = gb.predict(X_test)\n",
    "\n",
    "lr.fit(Xtr,Ytr)\n",
    "\n",
    "lr_pred = lr.predict(X_test)\n",
    "\n",
    "gb_pred[gb_pred==lr_pred].shape"
   ]
  },
  {
   "cell_type": "code",
   "execution_count": 47,
   "metadata": {},
   "outputs": [
    {
     "data": {
      "text/plain": [
       "(19998,)"
      ]
     },
     "execution_count": 47,
     "metadata": {},
     "output_type": "execute_result"
    }
   ],
   "source": [
    "gb_pred.shape"
   ]
  },
  {
   "cell_type": "code",
   "execution_count": 48,
   "metadata": {},
   "outputs": [
    {
     "data": {
      "text/plain": [
       "(13832,)"
      ]
     },
     "execution_count": 48,
     "metadata": {},
     "output_type": "execute_result"
    }
   ],
   "source": [
    "gb_pred[gb_pred==Y_test].shape"
   ]
  },
  {
   "cell_type": "code",
   "execution_count": 49,
   "metadata": {},
   "outputs": [
    {
     "data": {
      "text/plain": [
       "(13828,)"
      ]
     },
     "execution_count": 49,
     "metadata": {},
     "output_type": "execute_result"
    }
   ],
   "source": [
    "lr_pred[lr_pred==Y_test].shape"
   ]
  },
  {
   "cell_type": "code",
   "execution_count": 51,
   "metadata": {},
   "outputs": [
    {
     "data": {
      "text/plain": [
       "0.033903390339033904"
      ]
     },
     "execution_count": 51,
     "metadata": {},
     "output_type": "execute_result"
    }
   ],
   "source": [
    "(19998-19320)/19998"
   ]
  },
  {
   "cell_type": "code",
   "execution_count": null,
   "metadata": {},
   "outputs": [],
   "source": []
  }
 ],
 "metadata": {
  "kernelspec": {
   "display_name": "Python 3",
   "language": "python",
   "name": "python3"
  },
  "language_info": {
   "codemirror_mode": {
    "name": "ipython",
    "version": 3
   },
   "file_extension": ".py",
   "mimetype": "text/x-python",
   "name": "python",
   "nbconvert_exporter": "python",
   "pygments_lexer": "ipython3",
   "version": "3.7.4"
  }
 },
 "nbformat": 4,
 "nbformat_minor": 2
}
