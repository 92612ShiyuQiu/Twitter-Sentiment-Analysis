{
 "cells": [
  {
   "cell_type": "code",
   "execution_count": 63,
   "metadata": {},
   "outputs": [],
   "source": [
    "import pandas as pd\n",
    "import numpy as np\n",
    "import matplotlib.pyplot as plt\n",
    "from sklearn.metrics import roc_auc_score\n",
    "from sklearn.model_selection import cross_val_score\n",
    "from sklearn.model_selection import train_test_split\n",
    "from sklearn.neural_network import MLPClassifier\n",
    "from sklearn.utils import shuffle\n",
    "import scipy.sparse\n",
    "\n",
    "X = scipy.sparse.load_npz('new_data/X_sparse.npz')#np.genfromtxt('X.csv', delimiter = ',')\n",
    "Y = np.genfromtxt('new_data/Y.csv', delimiter = ',')"
   ]
  },
  {
   "cell_type": "code",
   "execution_count": 64,
   "metadata": {},
   "outputs": [
    {
     "data": {
      "text/plain": [
       "(100000, 5000)"
      ]
     },
     "execution_count": 64,
     "metadata": {},
     "output_type": "execute_result"
    }
   ],
   "source": [
    "X.shape"
   ]
  },
  {
   "cell_type": "code",
   "execution_count": 65,
   "metadata": {},
   "outputs": [
    {
     "data": {
      "text/plain": [
       "(100000,)"
      ]
     },
     "execution_count": 65,
     "metadata": {},
     "output_type": "execute_result"
    }
   ],
   "source": [
    "Y = Y[1:]\n",
    "Y.shape"
   ]
  },
  {
   "cell_type": "code",
   "execution_count": 66,
   "metadata": {},
   "outputs": [
    {
     "data": {
      "text/plain": [
       "array([1., 1., 0., ..., 1., 0., 0.])"
      ]
     },
     "execution_count": 66,
     "metadata": {},
     "output_type": "execute_result"
    }
   ],
   "source": [
    "Y"
   ]
  },
  {
   "cell_type": "code",
   "execution_count": 67,
   "metadata": {},
   "outputs": [
    {
     "data": {
      "text/plain": [
       "(100000,)"
      ]
     },
     "execution_count": 67,
     "metadata": {},
     "output_type": "execute_result"
    }
   ],
   "source": [
    "Y.shape"
   ]
  },
  {
   "cell_type": "code",
   "execution_count": 68,
   "metadata": {},
   "outputs": [],
   "source": [
    "X_comp, X_test, Y_comp, Y_test = train_test_split(X, Y, test_size=0.2, random_state=0)\n",
    "Xtr, Xva, Ytr, Yva = train_test_split(X_comp, Y_comp, test_size=0.2)\n",
    "Xtr, Ytr = shuffle(Xtr, Ytr)"
   ]
  },
  {
   "cell_type": "code",
   "execution_count": 69,
   "metadata": {},
   "outputs": [
    {
     "data": {
      "text/plain": [
       "(64000, 5000)"
      ]
     },
     "execution_count": 69,
     "metadata": {},
     "output_type": "execute_result"
    }
   ],
   "source": [
    "Xtr.shape"
   ]
  },
  {
   "cell_type": "code",
   "execution_count": 70,
   "metadata": {},
   "outputs": [
    {
     "data": {
      "text/plain": [
       "(16000, 5000)"
      ]
     },
     "execution_count": 70,
     "metadata": {},
     "output_type": "execute_result"
    }
   ],
   "source": [
    "Xva.shape"
   ]
  },
  {
   "cell_type": "code",
   "execution_count": 71,
   "metadata": {},
   "outputs": [],
   "source": [
    "from sklearn.metrics import classification_report\n",
    "from sklearn.model_selection import GridSearchCV\n",
    "import time"
   ]
  },
  {
   "cell_type": "code",
   "execution_count": 88,
   "metadata": {},
   "outputs": [
    {
     "data": {
      "text/plain": [
       "\"\\nparameter_space = {\\n    'hidden_layer_sizes': [(50,50,50),(50,100,50),(100,)],\\n    'activation': ['relu','identity','logistic','tanh'],\\n    'solver': ['adam','lbfgs','sgd'],\\n    'alpha': [0.0001, 0.05, 0.1, 0.01, 0.001],\\n    'learning_rate': ['constant', 'invscaling', 'adaptive']\\n}\\n\""
      ]
     },
     "execution_count": 88,
     "metadata": {},
     "output_type": "execute_result"
    }
   ],
   "source": [
    "#mlp = MLPClassifier(max_iter=1000)\n",
    "parameters1 = {\n",
    "    'hidden_layer_sizes': [(100,100,100),(100,150,50),(150,100,50),(200,100),(200,50,50),(150,150),(300,)]\n",
    "}\n",
    "\n",
    "parameters2 = {\n",
    "    'activation': ['relu','identity','logistic','tanh']\n",
    "}\n",
    "\n",
    "parameters3 = {\n",
    "    'solver': ['adam','lbfgs','sgd']\n",
    "}\n",
    "\n",
    "parameters4 = {\n",
    "    'alpha': [0.0001, 0.05, 0.1, 0.01, 0.001]\n",
    "}\n",
    "\n",
    "parameters5 = {\n",
    "    'learning_rate': ['constant', 'invscaling', 'adaptive']\n",
    "}"
   ]
  },
  {
   "cell_type": "code",
   "execution_count": 89,
   "metadata": {},
   "outputs": [
    {
     "name": "stdout",
     "output_type": "stream",
     "text": [
      "parameters1 training starting...\n",
      "training finished, took 464.78902292251587 seconds\n",
      "Best parameters found: \n",
      " {'hidden_layer_sizes': (200, 50, 50)}\n",
      "0.677 (+/-0.032) for {'hidden_layer_sizes': (100, 100, 100)}\n",
      "0.672 (+/-0.007) for {'hidden_layer_sizes': (100, 150, 50)}\n",
      "0.677 (+/-0.025) for {'hidden_layer_sizes': (150, 100, 50)}\n",
      "0.677 (+/-0.016) for {'hidden_layer_sizes': (200, 100)}\n",
      "0.678 (+/-0.019) for {'hidden_layer_sizes': (200, 50, 50)}\n",
      "0.678 (+/-0.016) for {'hidden_layer_sizes': (150, 150)}\n",
      "0.674 (+/-0.014) for {'hidden_layer_sizes': (300,)}\n"
     ]
    }
   ],
   "source": [
    "print(\"parameters1 training starting...\")\n",
    "starting_time = time.time()\n",
    "clf1 = GridSearchCV(MLPClassifier(max_iter=1000), parameters1, cv=5)\n",
    "clf1.fit(Xtr[:5000], Ytr[:5000])\n",
    "end_time = time.time()\n",
    "print(\"training finished, took {} seconds\".format(end_time - starting_time))\n",
    "\n",
    "#best parameter set\n",
    "print(\"Best parameters found: \\n\", clf1.best_params_)\n",
    "\n",
    "#all results\n",
    "means = clf1.cv_results_['mean_test_score']\n",
    "stds = clf1.cv_results_['std_test_score']\n",
    "for mean, std, params in zip(means, stds, clf1.cv_results_['params']):\n",
    "    print(\"%0.3f (+/-%0.03f) for %r\" % (mean, std * 2, params))"
   ]
  },
  {
   "cell_type": "code",
   "execution_count": 90,
   "metadata": {},
   "outputs": [
    {
     "name": "stdout",
     "output_type": "stream",
     "text": [
      "best hidden_layer_sizes:  (200, 50, 50)\n"
     ]
    }
   ],
   "source": [
    "best_hidden_layer_sizes = clf1.best_params_['hidden_layer_sizes']\n",
    "print(\"best hidden_layer_sizes: \", best_hidden_layer_sizes)"
   ]
  },
  {
   "cell_type": "code",
   "execution_count": 91,
   "metadata": {},
   "outputs": [
    {
     "name": "stdout",
     "output_type": "stream",
     "text": [
      "parameters2 training starting...\n",
      "training finished, took 277.8222677707672 seconds\n",
      "Best parameters found: \n",
      " {'activation': 'relu'}\n",
      "0.668 (+/-0.026) for {'activation': 'relu'}\n",
      "0.649 (+/-0.032) for {'activation': 'identity'}\n",
      "0.627 (+/-0.131) for {'activation': 'logistic'}\n",
      "0.651 (+/-0.018) for {'activation': 'tanh'}\n"
     ]
    }
   ],
   "source": [
    "print(\"parameters2 training starting...\")\n",
    "starting_time = time.time()\n",
    "clf2 = GridSearchCV(MLPClassifier(max_iter=1000, hidden_layer_sizes=best_hidden_layer_sizes), parameters2, cv=5)\n",
    "clf2.fit(Xtr[:5000], Ytr[:5000])\n",
    "end_time = time.time()\n",
    "print(\"training finished, took {} seconds\".format(end_time - starting_time))\n",
    "\n",
    "#best parameter set\n",
    "print(\"Best parameters found: \\n\", clf2.best_params_)\n",
    "\n",
    "#all results\n",
    "means = clf2.cv_results_['mean_test_score']\n",
    "stds = clf2.cv_results_['std_test_score']\n",
    "for mean, std, params in zip(means, stds, clf2.cv_results_['params']):\n",
    "    print(\"%0.3f (+/-%0.03f) for %r\" % (mean, std * 2, params))"
   ]
  },
  {
   "cell_type": "code",
   "execution_count": 92,
   "metadata": {},
   "outputs": [
    {
     "name": "stdout",
     "output_type": "stream",
     "text": [
      "best_activation:  relu\n"
     ]
    }
   ],
   "source": [
    "best_activation = clf2.best_params_['activation']\n",
    "print(\"best_activation: \", best_activation)"
   ]
  },
  {
   "cell_type": "code",
   "execution_count": 93,
   "metadata": {},
   "outputs": [
    {
     "name": "stdout",
     "output_type": "stream",
     "text": [
      "parameters3 training starting...\n",
      "training finished, took 588.1112458705902 seconds\n",
      "Best parameters found: \n",
      " {'solver': 'lbfgs'}\n",
      "0.674 (+/-0.019) for {'solver': 'adam'}\n",
      "0.687 (+/-0.023) for {'solver': 'lbfgs'}\n",
      "0.580 (+/-0.168) for {'solver': 'sgd'}\n"
     ]
    }
   ],
   "source": [
    "print(\"parameters3 training starting...\")\n",
    "starting_time = time.time()\n",
    "clf3 = GridSearchCV(MLPClassifier(max_iter=1000, hidden_layer_sizes=best_hidden_layer_sizes, activation=best_activation), parameters3, cv=5)\n",
    "clf3.fit(Xtr[:5000], Ytr[:5000])\n",
    "end_time = time.time()\n",
    "print(\"training finished, took {} seconds\".format(end_time - starting_time))\n",
    "\n",
    "#best parameter set\n",
    "print(\"Best parameters found: \\n\", clf3.best_params_)\n",
    "\n",
    "#all results\n",
    "means = clf3.cv_results_['mean_test_score']\n",
    "stds = clf3.cv_results_['std_test_score']\n",
    "for mean, std, params in zip(means, stds, clf3.cv_results_['params']):\n",
    "    print(\"%0.3f (+/-%0.03f) for %r\" % (mean, std * 2, params))"
   ]
  },
  {
   "cell_type": "code",
   "execution_count": 94,
   "metadata": {},
   "outputs": [
    {
     "name": "stdout",
     "output_type": "stream",
     "text": [
      "best_solver:  lbfgs\n"
     ]
    }
   ],
   "source": [
    "best_solver = clf3.best_params_['solver']\n",
    "print(\"best_solver: \", best_solver)"
   ]
  },
  {
   "cell_type": "code",
   "execution_count": 95,
   "metadata": {},
   "outputs": [
    {
     "name": "stdout",
     "output_type": "stream",
     "text": [
      "parameters4 training starting...\n",
      "training finished, took 2514.4083154201508 seconds\n",
      "Best parameters found: \n",
      " {'alpha': 0.0001}\n",
      "0.682 (+/-0.022) for {'alpha': 0.0001}\n",
      "0.667 (+/-0.031) for {'alpha': 0.05}\n",
      "0.677 (+/-0.022) for {'alpha': 0.1}\n",
      "0.681 (+/-0.017) for {'alpha': 0.01}\n",
      "0.677 (+/-0.016) for {'alpha': 0.001}\n"
     ]
    }
   ],
   "source": [
    "print(\"parameters4 training starting...\")\n",
    "starting_time = time.time()\n",
    "clf4 = GridSearchCV(MLPClassifier(max_iter=1000, hidden_layer_sizes=best_hidden_layer_sizes, activation=best_activation, solver=best_solver), parameters4, cv=5)\n",
    "clf4.fit(Xtr[:5000], Ytr[:5000])\n",
    "end_time = time.time()\n",
    "print(\"training finished, took {} seconds\".format(end_time - starting_time))\n",
    "\n",
    "#best parameter set\n",
    "print(\"Best parameters found: \\n\", clf4.best_params_)\n",
    "\n",
    "#all results\n",
    "means = clf4.cv_results_['mean_test_score']\n",
    "stds = clf4.cv_results_['std_test_score']\n",
    "for mean, std, params in zip(means, stds, clf4.cv_results_['params']):\n",
    "    print(\"%0.3f (+/-%0.03f) for %r\" % (mean, std * 2, params))"
   ]
  },
  {
   "cell_type": "code",
   "execution_count": 96,
   "metadata": {},
   "outputs": [
    {
     "name": "stdout",
     "output_type": "stream",
     "text": [
      "best_alpha:  0.0001\n"
     ]
    }
   ],
   "source": [
    "best_alpha = clf4.best_params_['alpha']\n",
    "print(\"best_alpha: \", best_alpha)"
   ]
  },
  {
   "cell_type": "code",
   "execution_count": 97,
   "metadata": {},
   "outputs": [
    {
     "name": "stdout",
     "output_type": "stream",
     "text": [
      "parameters5 training starting...\n",
      "training finished, took 480.82027649879456 seconds\n",
      "Best parameters found: \n",
      " {'learning_rate': 'constant'}\n",
      "0.687 (+/-0.017) for {'learning_rate': 'constant'}\n",
      "0.679 (+/-0.011) for {'learning_rate': 'invscaling'}\n",
      "0.675 (+/-0.031) for {'learning_rate': 'adaptive'}\n"
     ]
    }
   ],
   "source": [
    "print(\"parameters5 training starting...\")\n",
    "starting_time = time.time()\n",
    "clf5 = GridSearchCV(MLPClassifier(max_iter=1000, hidden_layer_sizes=best_hidden_layer_sizes, activation=best_activation, solver=best_solver, alpha=best_alpha), parameters5, cv=5)\n",
    "clf5.fit(Xtr[:5000], Ytr[:5000])\n",
    "end_time = time.time()\n",
    "print(\"training finished, took {} seconds\".format(end_time - starting_time))\n",
    "\n",
    "#best parameter set\n",
    "print(\"Best parameters found: \\n\", clf5.best_params_)\n",
    "\n",
    "#all results\n",
    "means = clf5.cv_results_['mean_test_score']\n",
    "stds = clf5.cv_results_['std_test_score']\n",
    "for mean, std, params in zip(means, stds, clf5.cv_results_['params']):\n",
    "    print(\"%0.3f (+/-%0.03f) for %r\" % (mean, std * 2, params))"
   ]
  },
  {
   "cell_type": "code",
   "execution_count": 98,
   "metadata": {},
   "outputs": [
    {
     "name": "stdout",
     "output_type": "stream",
     "text": [
      "best_learning_rate:  constant\n"
     ]
    }
   ],
   "source": [
    "best_learning_rate = clf5.best_params_['learning_rate']\n",
    "print(\"best_learning_rate: \", best_learning_rate)"
   ]
  },
  {
   "cell_type": "code",
   "execution_count": 99,
   "metadata": {},
   "outputs": [
    {
     "data": {
      "text/plain": [
       "MLPClassifier(activation='relu', alpha=0.0001, batch_size='auto', beta_1=0.9,\n",
       "       beta_2=0.999, early_stopping=False, epsilon=1e-08,\n",
       "       hidden_layer_sizes=(200, 50, 50), learning_rate='constant',\n",
       "       learning_rate_init=0.001, max_iter=1000, momentum=0.9,\n",
       "       nesterovs_momentum=True, power_t=0.5, random_state=None,\n",
       "       shuffle=True, solver='lbfgs', tol=0.0001, validation_fraction=0.1,\n",
       "       verbose=False, warm_start=False)"
      ]
     },
     "execution_count": 99,
     "metadata": {},
     "output_type": "execute_result"
    }
   ],
   "source": [
    "optimal_mlp = MLPClassifier(max_iter=1000, hidden_layer_sizes=best_hidden_layer_sizes, \n",
    "                            activation=best_activation, solver=best_solver, alpha=best_alpha, \n",
    "                            learning_rate=best_learning_rate)\n",
    "optimal_mlp.fit(Xtr, Ytr)"
   ]
  },
  {
   "cell_type": "code",
   "execution_count": 100,
   "metadata": {},
   "outputs": [
    {
     "name": "stdout",
     "output_type": "stream",
     "text": [
      "optimal_mlp_roc:  0.7693450460363473\n",
      "training error: 0.013921874999999972\n",
      "validation error: 0.28174999999999994\n"
     ]
    }
   ],
   "source": [
    "optimal_mlp_roc = roc_auc_score(Yva, optimal_mlp.predict_proba(Xva)[:,1])\n",
    "print(\"optimal_mlp_roc: \", optimal_mlp_roc)\n",
    "print(\"training error:\", 1 - optimal_mlp.score(Xtr, Ytr))\n",
    "print(\"validation error:\", 1 - optimal_mlp.score(Xva, Yva))"
   ]
  },
  {
   "cell_type": "code",
   "execution_count": null,
   "metadata": {},
   "outputs": [],
   "source": []
  }
 ],
 "metadata": {
  "kernelspec": {
   "display_name": "Python 3",
   "language": "python",
   "name": "python3"
  },
  "language_info": {
   "codemirror_mode": {
    "name": "ipython",
    "version": 3
   },
   "file_extension": ".py",
   "mimetype": "text/x-python",
   "name": "python",
   "nbconvert_exporter": "python",
   "pygments_lexer": "ipython3",
   "version": "3.7.4"
  }
 },
 "nbformat": 4,
 "nbformat_minor": 4
}
