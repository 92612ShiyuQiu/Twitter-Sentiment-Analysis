{
 "cells": [
  {
   "cell_type": "code",
   "execution_count": 1,
   "metadata": {},
   "outputs": [],
   "source": [
    "import pandas as pd\n",
    "import numpy as np\n",
    "import matplotlib.pyplot as plt\n",
    "from sklearn.metrics import roc_auc_score\n",
    "from sklearn.model_selection import cross_val_score\n",
    "from sklearn.model_selection import train_test_split\n",
    "from sklearn.metrics import classification_report\n",
    "from sklearn.neural_network import MLPClassifier\n",
    "from sklearn.ensemble import GradientBoostingClassifier\n",
    "from sklearn.linear_model import LogisticRegression\n",
    "from sklearn.pipeline import Pipeline\n",
    "from sklearn.preprocessing import StandardScaler\n",
    "from sklearn.ensemble import VotingClassifier\n",
    "import time\n",
    "import scipy"
   ]
  },
  {
   "cell_type": "code",
   "execution_count": 2,
   "metadata": {},
   "outputs": [],
   "source": [
    "X = load = scipy.sparse.load_npz('../new_data/X_sparse.npz')\n",
    "Y = np.genfromtxt('../new_data/Y.csv', delimiter=',')[1:]"
   ]
  },
  {
   "cell_type": "code",
   "execution_count": 3,
   "metadata": {},
   "outputs": [
    {
     "data": {
      "text/plain": [
       "(100000, 5000)"
      ]
     },
     "execution_count": 3,
     "metadata": {},
     "output_type": "execute_result"
    }
   ],
   "source": [
    "X.shape"
   ]
  },
  {
   "cell_type": "code",
   "execution_count": null,
   "metadata": {},
   "outputs": [],
   "source": [
    "# X = X[1:]\n",
    "# Y = Y[1:]\n",
    "\n",
    "# X[:,:-1]"
   ]
  },
  {
   "cell_type": "code",
   "execution_count": 6,
   "metadata": {},
   "outputs": [],
   "source": [
    "X_comp, X_test, Y_comp, Y_test = train_test_split(X, Y, test_size=0.2, random_state=0)\n",
    "Xtr, Xva, Ytr, Yva = train_test_split(X_comp, Y_comp, test_size=0.2)"
   ]
  },
  {
   "cell_type": "code",
   "execution_count": null,
   "metadata": {},
   "outputs": [],
   "source": [
    "# Xtr, Xva = Xtr[:,:-1], Xva[:,:-1]"
   ]
  },
  {
   "cell_type": "code",
   "execution_count": 7,
   "metadata": {},
   "outputs": [],
   "source": [
    "lr = LogisticRegression(C=0.1, penalty='l2')\n",
    "\n",
    "mlp = MLPClassifier(max_iter=1000, hidden_layer_sizes=(200, 50, 50), activation='relu', \n",
    "                            solver='lbfgs', alpha=0.0001, learning_rate='constant')\n",
    "\n",
    "gb = GradientBoostingClassifier(loss=\"deviance\", learning_rate=0.2, \n",
    "                                n_estimators=1500, max_depth=3,\n",
    "                                min_samples_split=6,min_samples_leaf=1,\n",
    "                                max_features='sqrt', subsample=0.95)\n"
   ]
  },
  {
   "cell_type": "markdown",
   "metadata": {},
   "source": [
    "### Combined model with same weights"
   ]
  },
  {
   "cell_type": "code",
   "execution_count": 8,
   "metadata": {},
   "outputs": [
    {
     "name": "stdout",
     "output_type": "stream",
     "text": [
      "training started\n"
     ]
    },
    {
     "name": "stderr",
     "output_type": "stream",
     "text": [
      "/opt/anaconda3/lib/python3.7/site-packages/sklearn/linear_model/logistic.py:432: FutureWarning: Default solver will be changed to 'lbfgs' in 0.22. Specify a solver to silence this warning.\n",
      "  FutureWarning)\n"
     ]
    },
    {
     "name": "stdout",
     "output_type": "stream",
     "text": [
      "training finished\n",
      "validation roc: 0.825329841930367\n",
      "training error: 0.043187500000000045\n",
      "validation error: 0.2630625\n"
     ]
    }
   ],
   "source": [
    "combined = VotingClassifier(estimators=[('lr', lr), ('nn', mlp), ('gb', gb)],\n",
    "                         voting='soft', flatten_transform=True) # weights=?\n",
    "\n",
    "print(\"training started\")\n",
    "combined.fit(Xtr,Ytr)\n",
    "print(\"training finished\")\n",
    "\n",
    "combined_roc = roc_auc_score(Yva, combined.predict_proba(Xva)[:,1])\n",
    "print(\"validation roc:\", combined_roc)\n",
    "\n",
    "print(\"training error:\", 1 - combined.score(Xtr, Ytr))\n",
    "print(\"validation error:\", 1 - combined.score(Xva, Yva))"
   ]
  },
  {
   "cell_type": "markdown",
   "metadata": {},
   "source": [
    "### Combined weights with different weights"
   ]
  },
  {
   "cell_type": "code",
   "execution_count": 13,
   "metadata": {},
   "outputs": [
    {
     "name": "stdout",
     "output_type": "stream",
     "text": [
      "training started\n"
     ]
    },
    {
     "name": "stderr",
     "output_type": "stream",
     "text": [
      "/opt/anaconda3/lib/python3.7/site-packages/sklearn/linear_model/logistic.py:432: FutureWarning: Default solver will be changed to 'lbfgs' in 0.22. Specify a solver to silence this warning.\n",
      "  FutureWarning)\n"
     ]
    },
    {
     "name": "stdout",
     "output_type": "stream",
     "text": [
      "training finished\n",
      "validation roc: 0.828398406788387\n",
      "training error: 0.22815624999999995\n",
      "validation error: 0.2508125\n"
     ]
    }
   ],
   "source": [
    "# weights <= auc\n",
    "\n",
    "combined = VotingClassifier(estimators=[('lr', lr), ('nn', mlp), ('gb', gb)],\n",
    "                         voting='soft', flatten_transform=True, weights=[0.828,0.769,0.834]) # weights=?\n",
    "\n",
    "print(\"training started\")\n",
    "combined.fit(Xtr,Ytr)\n",
    "print(\"training finished\")\n",
    "\n",
    "combined_roc = roc_auc_score(Yva, combined.predict_proba(Xva)[:,1])\n",
    "print(\"validation roc:\", combined_roc)\n",
    "\n",
    "print(\"training error:\", 1 - combined.score(Xtr, Ytr))\n",
    "print(\"validation error:\", 1 - combined.score(Xva, Yva))"
   ]
  },
  {
   "cell_type": "code",
   "execution_count": 11,
   "metadata": {},
   "outputs": [],
   "source": [
    "w = np.array([0.828,0.769,0.834])\n",
    "w = w/sum((0.828,0.769,0.834))"
   ]
  },
  {
   "cell_type": "code",
   "execution_count": 12,
   "metadata": {},
   "outputs": [
    {
     "data": {
      "text/plain": [
       "array([0.34060058, 0.31633073, 0.3430687 ])"
      ]
     },
     "execution_count": 12,
     "metadata": {},
     "output_type": "execute_result"
    }
   ],
   "source": [
    "w"
   ]
  },
  {
   "cell_type": "code",
   "execution_count": 15,
   "metadata": {},
   "outputs": [
    {
     "name": "stdout",
     "output_type": "stream",
     "text": [
      "training started\n"
     ]
    },
    {
     "name": "stderr",
     "output_type": "stream",
     "text": [
      "/opt/anaconda3/lib/python3.7/site-packages/sklearn/linear_model/logistic.py:432: FutureWarning: Default solver will be changed to 'lbfgs' in 0.22. Specify a solver to silence this warning.\n",
      "  FutureWarning)\n"
     ]
    },
    {
     "name": "stdout",
     "output_type": "stream",
     "text": [
      "training finished\n",
      "validation roc: 0.8262917169782135\n",
      "training error: 0.049046875000000045\n",
      "validation error: 0.26068749999999996\n"
     ]
    }
   ],
   "source": [
    "# weights <= normalization form of auc\n",
    "\n",
    "combined = VotingClassifier(estimators=[('lr', lr), ('nn', mlp), ('gb', gb)],\n",
    "                         voting='soft', flatten_transform=True, weights=w)\n",
    "\n",
    "print(\"training started\")\n",
    "combined.fit(Xtr,Ytr)\n",
    "print(\"training finished\")\n",
    "\n",
    "combined_roc = roc_auc_score(Yva, combined.predict_proba(Xva)[:,1])\n",
    "print(\"validation roc:\", combined_roc)\n",
    "\n",
    "print(\"training error:\", 1 - combined.score(Xtr, Ytr))\n",
    "print(\"validation error:\", 1 - combined.score(Xva, Yva))"
   ]
  },
  {
   "cell_type": "code",
   "execution_count": 16,
   "metadata": {},
   "outputs": [
    {
     "name": "stdout",
     "output_type": "stream",
     "text": [
      "validation roc: 0.8303018142004345\n"
     ]
    }
   ],
   "source": [
    "combined_roc = roc_auc_score(Y_test, combined.predict_proba(X_test)[:,1])\n",
    "print(\"validation roc:\", combined_roc)"
   ]
  },
  {
   "cell_type": "code",
   "execution_count": 17,
   "metadata": {},
   "outputs": [
    {
     "name": "stdout",
     "output_type": "stream",
     "text": [
      "training started\n"
     ]
    },
    {
     "name": "stderr",
     "output_type": "stream",
     "text": [
      "/opt/anaconda3/lib/python3.7/site-packages/sklearn/linear_model/logistic.py:432: FutureWarning: Default solver will be changed to 'lbfgs' in 0.22. Specify a solver to silence this warning.\n",
      "  FutureWarning)\n"
     ]
    },
    {
     "name": "stdout",
     "output_type": "stream",
     "text": [
      "training finished\n",
      "validation roc: 0.8340148294773557\n",
      "training error: 0.11556250000000001\n",
      "validation error: 0.24175000000000002\n",
      "validation roc of Test data: 0.8377279955660373\n"
     ]
    }
   ],
   "source": [
    "# weights <= auc ranking\n",
    "\n",
    "combined = VotingClassifier(estimators=[('lr', lr), ('nn', mlp), ('gb', gb)],\n",
    "                         voting='soft', flatten_transform=True, weights=[2,1,3])\n",
    "\n",
    "print(\"training started\")\n",
    "combined.fit(Xtr,Ytr)\n",
    "print(\"training finished\")\n",
    "\n",
    "combined_roc = roc_auc_score(Yva, combined.predict_proba(Xva)[:,1])\n",
    "print(\"validation roc:\", combined_roc)\n",
    "\n",
    "print(\"training error:\", 1 - combined.score(Xtr, Ytr))\n",
    "print(\"validation error:\", 1 - combined.score(Xva, Yva))\n",
    "\n",
    "combined_roc = roc_auc_score(Y_test, combined.predict_proba(X_test)[:,1])\n",
    "print(\"validation roc of Test data:\", combined_roc)"
   ]
  },
  {
   "cell_type": "markdown",
   "metadata": {},
   "source": [
    "### Model with weights = [2,1,3]  performs the best"
   ]
  },
  {
   "cell_type": "markdown",
   "metadata": {},
   "source": [
    "# Save predicted test data and the model"
   ]
  },
  {
   "cell_type": "code",
   "execution_count": 18,
   "metadata": {},
   "outputs": [],
   "source": [
    "# original_indexes = []\n",
    "# for l in X_test:\n",
    "#     original_indexes.append(l[-1])"
   ]
  },
  {
   "cell_type": "code",
   "execution_count": 19,
   "metadata": {},
   "outputs": [],
   "source": [
    "# Y_test = np.vstack((np.arange(X_test.shape[0]), original_indexes, combined.predict_proba(X_test[:,:-1])[:,1])).T\n",
    "# np.savetxt('Y_test.txt',Y_test,'%d,%d,%.2f',header='Id,Original_Id,Predicted',comments='',delimiter=',')"
   ]
  },
  {
   "cell_type": "code",
   "execution_count": 20,
   "metadata": {},
   "outputs": [],
   "source": [
    "# df_X_test = pd.DataFrame(X_test)\n",
    "# df_X_test.to_csv('X_test.csv',index=False)"
   ]
  },
  {
   "cell_type": "code",
   "execution_count": 21,
   "metadata": {},
   "outputs": [],
   "source": [
    "# df_X_test = pd.DataFrame(Y_test)\n",
    "# df_X_test.to_csv('X_test.csv',index=False)"
   ]
  },
  {
   "cell_type": "code",
   "execution_count": 22,
   "metadata": {},
   "outputs": [],
   "source": [
    "import joblib"
   ]
  },
  {
   "cell_type": "code",
   "execution_count": 23,
   "metadata": {},
   "outputs": [
    {
     "data": {
      "text/plain": [
       "['../new_data/combinedModel.sav']"
      ]
     },
     "execution_count": 23,
     "metadata": {},
     "output_type": "execute_result"
    }
   ],
   "source": [
    "joblib.dump(combined, '../new_data/combinedModel.sav')"
   ]
  },
  {
   "cell_type": "code",
   "execution_count": 27,
   "metadata": {},
   "outputs": [],
   "source": [
    "# loaded_model = joblib.load('../new_data/combinedModel.sav')"
   ]
  },
  {
   "cell_type": "code",
   "execution_count": null,
   "metadata": {},
   "outputs": [],
   "source": []
  }
 ],
 "metadata": {
  "kernelspec": {
   "display_name": "Python 3",
   "language": "python",
   "name": "python3"
  },
  "language_info": {
   "codemirror_mode": {
    "name": "ipython",
    "version": 3
   },
   "file_extension": ".py",
   "mimetype": "text/x-python",
   "name": "python",
   "nbconvert_exporter": "python",
   "pygments_lexer": "ipython3",
   "version": "3.7.4"
  }
 },
 "nbformat": 4,
 "nbformat_minor": 2
}
