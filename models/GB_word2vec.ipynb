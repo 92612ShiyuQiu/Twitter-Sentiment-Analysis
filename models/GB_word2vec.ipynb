{
 "cells": [
  {
   "cell_type": "code",
   "execution_count": 1,
   "metadata": {},
   "outputs": [],
   "source": [
    "import pandas as pd\n",
    "import numpy as np\n",
    "import scipy\n",
    "import matplotlib.pyplot as plt\n",
    "from sklearn.metrics import roc_auc_score\n",
    "from sklearn.model_selection import cross_val_score\n",
    "from sklearn.ensemble import GradientBoostingClassifier\n",
    "from sklearn.model_selection import train_test_split\n",
    "\n",
    "X = np.genfromtxt('../new_data/X_word2vec.csv', delimiter=',')[1:]\n",
    "Y = np.genfromtxt('../new_data/Y.csv', delimiter=',')[1:]"
   ]
  },
  {
   "cell_type": "code",
   "execution_count": 5,
   "metadata": {},
   "outputs": [],
   "source": [
    "X_comp, X_test, Y_comp, Y_test = train_test_split(X, Y, test_size=0.2, random_state=0)\n",
    "Xtr, Xva, Ytr, Yva = train_test_split(X_comp, Y_comp, test_size=0.2)"
   ]
  },
  {
   "cell_type": "code",
   "execution_count": 2,
   "metadata": {},
   "outputs": [],
   "source": [
    "from sklearn.model_selection import GridSearchCV\n",
    "\n",
    "parameters1 = {\"learning_rate\": [0.01, 0.05, 0.075, 0.1,0.2],\n",
    "               \"n_estimators\":[10, 100, 250, 500, 1000, 1250, 1500, 1750]}\n",
    "\n",
    "parameters2 = {\"max_depth\":[3,5,8]}\n",
    "\n",
    "parameters3 = {\"min_samples_split\": [2,6,10,20,40,60],\n",
    "               \"min_samples_leaf\": [1,3,5,7,9]}\n",
    "\n",
    "parameters4 = {\"max_features\":[\"log2\",\"sqrt\"]}\n",
    "\n",
    "parameters5 = {\"subsample\":[0.5, 0.618, 0.8, 0.85, 0.9, 0.95, 1.0]}"
   ]
  },
  {
   "cell_type": "code",
   "execution_count": null,
   "metadata": {},
   "outputs": [
    {
     "name": "stdout",
     "output_type": "stream",
     "text": [
      "training start\n"
     ]
    }
   ],
   "source": [
    "import time\n",
    "clf = GridSearchCV(GradientBoostingClassifier(loss=\"deviance\"), parameters1, cv=5)\n",
    "\n",
    "print('training start')\n",
    "starting_time = time.time()\n",
    "clf.fit(Xtr[:5000], Ytr[:5000])\n",
    "end_time = time.time()\n",
    "print(\"training finished, took {} seconds\".format(end_time - starting_time))"
   ]
  },
  {
   "cell_type": "code",
   "execution_count": null,
   "metadata": {},
   "outputs": [],
   "source": []
  }
 ],
 "metadata": {
  "kernelspec": {
   "display_name": "Python 3",
   "language": "python",
   "name": "python3"
  },
  "language_info": {
   "codemirror_mode": {
    "name": "ipython",
    "version": 3
   },
   "file_extension": ".py",
   "mimetype": "text/x-python",
   "name": "python",
   "nbconvert_exporter": "python",
   "pygments_lexer": "ipython3",
   "version": "3.7.4"
  }
 },
 "nbformat": 4,
 "nbformat_minor": 2
}
