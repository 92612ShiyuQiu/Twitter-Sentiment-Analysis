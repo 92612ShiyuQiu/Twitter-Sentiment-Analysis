{
 "cells": [
  {
   "cell_type": "markdown",
   "metadata": {},
   "source": [
    "# Gradient Boosting Classifier Training\n",
    "\n",
    "## Load Data"
   ]
  },
  {
   "cell_type": "code",
   "execution_count": 1,
   "metadata": {},
   "outputs": [],
   "source": [
    "import pandas as pd\n",
    "import numpy as np\n",
    "import scipy\n",
    "import matplotlib.pyplot as plt\n",
    "from sklearn.metrics import roc_auc_score\n",
    "from sklearn.model_selection import cross_val_score\n",
    "from sklearn.ensemble import GradientBoostingClassifier\n",
    "from sklearn.model_selection import train_test_split\n",
    "\n",
    "X = load = scipy.sparse.load_npz('../new_data/X_sparse.npz')\n",
    "Y = np.genfromtxt('../new_data/Y.csv', delimiter=',')[1:]"
   ]
  },
  {
   "cell_type": "code",
   "execution_count": 2,
   "metadata": {},
   "outputs": [
    {
     "data": {
      "text/plain": [
       "(100000, 5000)"
      ]
     },
     "execution_count": 2,
     "metadata": {},
     "output_type": "execute_result"
    }
   ],
   "source": [
    "X.shape"
   ]
  },
  {
   "cell_type": "code",
   "execution_count": 3,
   "metadata": {},
   "outputs": [
    {
     "data": {
      "text/plain": [
       "(100000,)"
      ]
     },
     "execution_count": 3,
     "metadata": {},
     "output_type": "execute_result"
    }
   ],
   "source": [
    "Y.shape"
   ]
  },
  {
   "cell_type": "code",
   "execution_count": 4,
   "metadata": {},
   "outputs": [],
   "source": [
    "X_comp, X_test, Y_comp, Y_test = train_test_split(X, Y, test_size=0.2, random_state=0)\n",
    "Xtr, Xva, Ytr, Yva = train_test_split(X_comp, Y_comp, test_size=0.2)"
   ]
  },
  {
   "cell_type": "code",
   "execution_count": 5,
   "metadata": {},
   "outputs": [
    {
     "data": {
      "text/plain": [
       "(64000, 5000)"
      ]
     },
     "execution_count": 5,
     "metadata": {},
     "output_type": "execute_result"
    }
   ],
   "source": [
    "Xtr.shape"
   ]
  },
  {
   "cell_type": "code",
   "execution_count": 6,
   "metadata": {},
   "outputs": [
    {
     "data": {
      "text/plain": [
       "(16000, 5000)"
      ]
     },
     "execution_count": 6,
     "metadata": {},
     "output_type": "execute_result"
    }
   ],
   "source": [
    "Xva.shape"
   ]
  },
  {
   "cell_type": "code",
   "execution_count": 7,
   "metadata": {},
   "outputs": [
    {
     "data": {
      "text/plain": [
       "(20000, 5000)"
      ]
     },
     "execution_count": 7,
     "metadata": {},
     "output_type": "execute_result"
    }
   ],
   "source": [
    "X_test.shape"
   ]
  },
  {
   "cell_type": "markdown",
   "metadata": {},
   "source": [
    "## Run a baseline model without tuning"
   ]
  },
  {
   "cell_type": "code",
   "execution_count": 12,
   "metadata": {},
   "outputs": [
    {
     "name": "stdout",
     "output_type": "stream",
     "text": [
      "training start\n",
      "training finished, took 3.35256290435791 seconds\n",
      "ROC AUC score:\t 0.7671358764009053\n",
      "training error:\t 0.69871875\n",
      "validation error:\t  0.6970625\n"
     ]
    }
   ],
   "source": [
    "import time\n",
    "\n",
    "gb_base = GradientBoostingClassifier()\n",
    "\n",
    "print('training start')\n",
    "starting_time = time.time()\n",
    "gb_base.fit(Xtr, Ytr)\n",
    "end_time = time.time()\n",
    "print(\"training finished, took {} seconds\".format(end_time - starting_time))\n",
    "\n",
    "roc = roc_auc_score(Yva, gb_base.predict_proba(Xva)[:,1])\n",
    "print(\"ROC AUC score:\\t\", roc)\n",
    "\n",
    "print(\"training error:\\t\", gb_base.score(Xtr, Ytr))\n",
    "print(\"validation error:\\t \", gb_base.score(Xva, Yva))"
   ]
  },
  {
   "cell_type": "code",
   "execution_count": 13,
   "metadata": {},
   "outputs": [
    {
     "name": "stdout",
     "output_type": "stream",
     "text": [
      "ROC AUC score on Test data:\t 0.7655406268454239\n"
     ]
    }
   ],
   "source": [
    "roc = roc_auc_score(Y_test, gb_base.predict_proba(X_test)[:,1])\n",
    "print(\"ROC AUC score on Test data:\\t\", roc)"
   ]
  },
  {
   "cell_type": "markdown",
   "metadata": {},
   "source": [
    "## Grid Search"
   ]
  },
  {
   "cell_type": "code",
   "execution_count": 14,
   "metadata": {},
   "outputs": [],
   "source": [
    "from sklearn.model_selection import GridSearchCV"
   ]
  },
  {
   "cell_type": "code",
   "execution_count": 15,
   "metadata": {},
   "outputs": [],
   "source": [
    "# using a smaller subset (5000) of training data to do gridsearch"
   ]
  },
  {
   "cell_type": "code",
   "execution_count": 16,
   "metadata": {},
   "outputs": [],
   "source": [
    "parameters1 = {\"learning_rate\": [0.01, 0.05, 0.075, 0.1,0.2],\n",
    "               \"n_estimators\":[10, 100, 250, 500, 1000, 1250, 1500, 1750]}\n",
    "\n",
    "parameters2 = {\"max_depth\":[3,5,8]}\n",
    "\n",
    "parameters3 = {\"min_samples_split\": [2,6,10,20,40,60],\n",
    "               \"min_samples_leaf\": [1,3,5,7,9]}\n",
    "\n",
    "parameters4 = {\"max_features\":[\"log2\",\"sqrt\"]}\n",
    "\n",
    "parameters5 = {\"subsample\":[0.5, 0.618, 0.8, 0.85, 0.9, 0.95, 1.0]}"
   ]
  },
  {
   "cell_type": "markdown",
   "metadata": {},
   "source": [
    "### 1. Tuning learning_rate and n_estimators"
   ]
  },
  {
   "cell_type": "code",
   "execution_count": 21,
   "metadata": {},
   "outputs": [
    {
     "name": "stdout",
     "output_type": "stream",
     "text": [
      "training start\n",
      "training finished, took 1972.924947977066 seconds\n"
     ]
    }
   ],
   "source": [
    "clf = GridSearchCV(GradientBoostingClassifier(loss=\"deviance\"), parameters1, cv=5)\n",
    "\n",
    "print('training start')\n",
    "starting_time = time.time()\n",
    "clf.fit(Xtr[:5000], Ytr[:5000])\n",
    "end_time = time.time()\n",
    "print(\"training finished, took {} seconds\".format(end_time - starting_time))"
   ]
  },
  {
   "cell_type": "code",
   "execution_count": 22,
   "metadata": {},
   "outputs": [
    {
     "name": "stdout",
     "output_type": "stream",
     "text": [
      "best_estimator6:\t GradientBoostingClassifier(criterion='friedman_mse', init=None,\n",
      "                           learning_rate=0.2, loss='deviance', max_depth=3,\n",
      "                           max_features=None, max_leaf_nodes=None,\n",
      "                           min_impurity_decrease=0.0, min_impurity_split=None,\n",
      "                           min_samples_leaf=1, min_samples_split=2,\n",
      "                           min_weight_fraction_leaf=0.0, n_estimators=1500,\n",
      "                           n_iter_no_change=None, presort='auto',\n",
      "                           random_state=None, subsample=1.0, tol=0.0001,\n",
      "                           validation_fraction=0.1, verbose=0,\n",
      "                           warm_start=False)\n",
      "best_score6:\t 0.7072\n",
      "best_params6:\t {'learning_rate': 0.2, 'n_estimators': 1500}\n",
      "best_index6:\t 38\n",
      "scorer6:\t <function _passthrough_scorer at 0x1a18dd0710>\n",
      "cv_results6:\t {'mean_fit_time': array([ 0.12456379,  1.19323473,  3.06718607,  6.17734776, 12.29856892,\n",
      "       15.15646286, 18.58393478, 21.79404864,  0.11782088,  1.16963325,\n",
      "        3.07934365,  6.003229  , 12.4547811 , 14.94590888, 18.41871834,\n",
      "       21.48281803,  0.11027884,  1.11129603,  3.10347552,  5.98787942,\n",
      "       12.40449867, 14.51714048, 18.36150689, 20.98269119,  0.13374724,\n",
      "        1.17782655,  3.1567842 ,  6.37447624, 11.79631586, 15.80328283,\n",
      "       19.53047638, 21.83488965,  0.12324023,  1.10264297,  3.25046797,\n",
      "        6.22216811, 12.32288461, 15.29575124, 17.88133335, 21.01182537]), 'std_fit_time': array([0.01515701, 0.0712762 , 0.08920417, 0.22324639, 0.15115944,\n",
      "       0.4907571 , 0.73813133, 0.66764564, 0.00264744, 0.08803852,\n",
      "       0.15180979, 0.10006131, 0.30796518, 0.47289075, 0.6939324 ,\n",
      "       0.63618248, 0.00121336, 0.01440371, 0.11994369, 0.28486344,\n",
      "       0.44070761, 0.50642975, 0.43099309, 0.18925028, 0.01754881,\n",
      "       0.02975536, 0.18983985, 0.17212088, 0.95583003, 0.34791683,\n",
      "       0.59486205, 1.06003546, 0.00225665, 0.02588992, 0.09896368,\n",
      "       0.26040028, 0.28000612, 0.81330389, 0.75544559, 0.62643614]), 'mean_score_time': array([0.00064182, 0.00168424, 0.00347271, 0.00792537, 0.0169188 ,\n",
      "       0.02070103, 0.02444234, 0.03181038, 0.0006351 , 0.00164599,\n",
      "       0.00374498, 0.00750227, 0.01749187, 0.01937037, 0.02604766,\n",
      "       0.02800403, 0.00056982, 0.00160308, 0.00384212, 0.00732207,\n",
      "       0.01530046, 0.01950731, 0.02426543, 0.02905149, 0.00079918,\n",
      "       0.00167623, 0.0044302 , 0.00831113, 0.01876988, 0.02445221,\n",
      "       0.02646551, 0.03014464, 0.00070701, 0.00152497, 0.00381603,\n",
      "       0.00864406, 0.01888881, 0.01957026, 0.02539997, 0.02886443]), 'std_score_time': array([1.06366328e-04, 1.90679447e-04, 1.17290271e-04, 2.17984614e-04,\n",
      "       3.35953778e-04, 3.77932137e-04, 6.91941826e-04, 5.22043086e-03,\n",
      "       2.28172435e-05, 1.36516105e-04, 3.53453452e-04, 3.11197732e-04,\n",
      "       2.81345378e-03, 1.36848929e-03, 2.61839896e-03, 2.21376271e-03,\n",
      "       1.33735610e-05, 1.90774639e-04, 6.80587072e-04, 4.34682855e-04,\n",
      "       7.91563936e-04, 1.88580476e-03, 1.48873621e-03, 1.07270128e-03,\n",
      "       7.10074414e-05, 1.00759720e-04, 7.92945909e-04, 1.49802136e-03,\n",
      "       3.06446355e-03, 2.92251185e-03, 3.94287791e-03, 3.34693955e-03,\n",
      "       5.07426436e-05, 2.33238207e-05, 3.49459688e-04, 1.07124924e-03,\n",
      "       3.56690564e-03, 2.47564402e-04, 2.98832598e-03, 8.75566312e-04]), 'param_learning_rate': masked_array(data=[0.01, 0.01, 0.01, 0.01, 0.01, 0.01, 0.01, 0.01, 0.05,\n",
      "                   0.05, 0.05, 0.05, 0.05, 0.05, 0.05, 0.05, 0.075, 0.075,\n",
      "                   0.075, 0.075, 0.075, 0.075, 0.075, 0.075, 0.1, 0.1,\n",
      "                   0.1, 0.1, 0.1, 0.1, 0.1, 0.1, 0.2, 0.2, 0.2, 0.2, 0.2,\n",
      "                   0.2, 0.2, 0.2],\n",
      "             mask=[False, False, False, False, False, False, False, False,\n",
      "                   False, False, False, False, False, False, False, False,\n",
      "                   False, False, False, False, False, False, False, False,\n",
      "                   False, False, False, False, False, False, False, False,\n",
      "                   False, False, False, False, False, False, False, False],\n",
      "       fill_value='?',\n",
      "            dtype=object), 'param_n_estimators': masked_array(data=[10, 100, 250, 500, 1000, 1250, 1500, 1750, 10, 100,\n",
      "                   250, 500, 1000, 1250, 1500, 1750, 10, 100, 250, 500,\n",
      "                   1000, 1250, 1500, 1750, 10, 100, 250, 500, 1000, 1250,\n",
      "                   1500, 1750, 10, 100, 250, 500, 1000, 1250, 1500, 1750],\n",
      "             mask=[False, False, False, False, False, False, False, False,\n",
      "                   False, False, False, False, False, False, False, False,\n",
      "                   False, False, False, False, False, False, False, False,\n",
      "                   False, False, False, False, False, False, False, False,\n",
      "                   False, False, False, False, False, False, False, False],\n",
      "       fill_value='?',\n",
      "            dtype=object), 'params': [{'learning_rate': 0.01, 'n_estimators': 10}, {'learning_rate': 0.01, 'n_estimators': 100}, {'learning_rate': 0.01, 'n_estimators': 250}, {'learning_rate': 0.01, 'n_estimators': 500}, {'learning_rate': 0.01, 'n_estimators': 1000}, {'learning_rate': 0.01, 'n_estimators': 1250}, {'learning_rate': 0.01, 'n_estimators': 1500}, {'learning_rate': 0.01, 'n_estimators': 1750}, {'learning_rate': 0.05, 'n_estimators': 10}, {'learning_rate': 0.05, 'n_estimators': 100}, {'learning_rate': 0.05, 'n_estimators': 250}, {'learning_rate': 0.05, 'n_estimators': 500}, {'learning_rate': 0.05, 'n_estimators': 1000}, {'learning_rate': 0.05, 'n_estimators': 1250}, {'learning_rate': 0.05, 'n_estimators': 1500}, {'learning_rate': 0.05, 'n_estimators': 1750}, {'learning_rate': 0.075, 'n_estimators': 10}, {'learning_rate': 0.075, 'n_estimators': 100}, {'learning_rate': 0.075, 'n_estimators': 250}, {'learning_rate': 0.075, 'n_estimators': 500}, {'learning_rate': 0.075, 'n_estimators': 1000}, {'learning_rate': 0.075, 'n_estimators': 1250}, {'learning_rate': 0.075, 'n_estimators': 1500}, {'learning_rate': 0.075, 'n_estimators': 1750}, {'learning_rate': 0.1, 'n_estimators': 10}, {'learning_rate': 0.1, 'n_estimators': 100}, {'learning_rate': 0.1, 'n_estimators': 250}, {'learning_rate': 0.1, 'n_estimators': 500}, {'learning_rate': 0.1, 'n_estimators': 1000}, {'learning_rate': 0.1, 'n_estimators': 1250}, {'learning_rate': 0.1, 'n_estimators': 1500}, {'learning_rate': 0.1, 'n_estimators': 1750}, {'learning_rate': 0.2, 'n_estimators': 10}, {'learning_rate': 0.2, 'n_estimators': 100}, {'learning_rate': 0.2, 'n_estimators': 250}, {'learning_rate': 0.2, 'n_estimators': 500}, {'learning_rate': 0.2, 'n_estimators': 1000}, {'learning_rate': 0.2, 'n_estimators': 1250}, {'learning_rate': 0.2, 'n_estimators': 1500}, {'learning_rate': 0.2, 'n_estimators': 1750}], 'split0_test_score': array([0.54545455, 0.58041958, 0.60939061, 0.64035964, 0.66033966,\n",
      "       0.65834166, 0.67432567, 0.68031968, 0.56043956, 0.63436563,\n",
      "       0.66433566, 0.67932068, 0.68531469, 0.68431568, 0.68731269,\n",
      "       0.7032967 , 0.57242757, 0.65534466, 0.68231768, 0.68231768,\n",
      "       0.68631369, 0.69330669, 0.69330669, 0.6963037 , 0.58241758,\n",
      "       0.65834166, 0.68131868, 0.68331668, 0.68931069, 0.6983017 ,\n",
      "       0.6983017 , 0.7012987 , 0.5954046 , 0.68431568, 0.68931069,\n",
      "       0.6953047 , 0.6993007 , 0.7012987 , 0.7032967 , 0.70629371]), 'split1_test_score': array([0.549, 0.622, 0.647, 0.669, 0.687, 0.689, 0.697, 0.694, 0.563,\n",
      "       0.665, 0.688, 0.702, 0.715, 0.711, 0.712, 0.722, 0.592, 0.674,\n",
      "       0.698, 0.712, 0.715, 0.711, 0.715, 0.705, 0.62 , 0.686, 0.704,\n",
      "       0.712, 0.707, 0.709, 0.708, 0.699, 0.629, 0.697, 0.713, 0.711,\n",
      "       0.709, 0.704, 0.715, 0.703]), 'split2_test_score': array([0.538, 0.587, 0.613, 0.64 , 0.66 , 0.666, 0.671, 0.675, 0.568,\n",
      "       0.645, 0.663, 0.682, 0.691, 0.695, 0.701, 0.693, 0.567, 0.651,\n",
      "       0.675, 0.692, 0.689, 0.697, 0.697, 0.698, 0.589, 0.671, 0.686,\n",
      "       0.69 , 0.691, 0.69 , 0.699, 0.698, 0.623, 0.679, 0.684, 0.698,\n",
      "       0.695, 0.695, 0.695, 0.696]), 'split3_test_score': array([0.545, 0.584, 0.655, 0.673, 0.698, 0.699, 0.703, 0.704, 0.547,\n",
      "       0.676, 0.704, 0.704, 0.703, 0.709, 0.696, 0.702, 0.556, 0.688,\n",
      "       0.705, 0.701, 0.703, 0.701, 0.697, 0.696, 0.581, 0.697, 0.702,\n",
      "       0.702, 0.703, 0.694, 0.69 , 0.697, 0.634, 0.706, 0.695, 0.698,\n",
      "       0.696, 0.699, 0.69 , 0.684]), 'split4_test_score': array([0.55355355, 0.62462462, 0.64564565, 0.66966967, 0.67567568,\n",
      "       0.67667668, 0.67867868, 0.68068068, 0.57657658, 0.65565566,\n",
      "       0.67267267, 0.68968969, 0.71471471, 0.71071071, 0.71371371,\n",
      "       0.71471471, 0.59059059, 0.67867868, 0.67867868, 0.6986987 ,\n",
      "       0.71371371, 0.71571572, 0.72372372, 0.71971972, 0.61261261,\n",
      "       0.67067067, 0.7027027 , 0.70970971, 0.72172172, 0.72372372,\n",
      "       0.72772773, 0.72472472, 0.62962963, 0.69069069, 0.70970971,\n",
      "       0.71971972, 0.72372372, 0.73373373, 0.73273273, 0.73873874]), 'mean_test_score': array([0.5462, 0.5996, 0.634 , 0.6584, 0.6762, 0.6778, 0.6848, 0.6868,\n",
      "       0.563 , 0.6552, 0.6784, 0.6914, 0.7018, 0.702 , 0.702 , 0.707 ,\n",
      "       0.5756, 0.6694, 0.6878, 0.6972, 0.7014, 0.7036, 0.7052, 0.703 ,\n",
      "       0.597 , 0.6766, 0.6952, 0.6994, 0.7024, 0.703 , 0.7046, 0.704 ,\n",
      "       0.6222, 0.6914, 0.6982, 0.7044, 0.7046, 0.7066, 0.7072, 0.7056]), 'std_test_score': array([0.00512049, 0.019482  , 0.01893522, 0.01494482, 0.01487546,\n",
      "       0.0147945 , 0.01278886, 0.01064298, 0.00971289, 0.01461118,\n",
      "       0.01559136, 0.01008423, 0.01209116, 0.01065691, 0.00989956,\n",
      "       0.01019005, 0.01386829, 0.01406725, 0.01163547, 0.00984346,\n",
      "       0.01200484, 0.0084591 , 0.0119574 , 0.00896833, 0.01615778,\n",
      "       0.01345141, 0.00956491, 0.01112651, 0.01179777, 0.01214199,\n",
      "       0.01288523, 0.0104536 , 0.01385623, 0.0094765 , 0.01133455,\n",
      "       0.00941006, 0.0107605 , 0.01387599, 0.01531039, 0.01823754]), 'rank_test_score': array([40, 36, 34, 32, 30, 28, 26, 25, 39, 33, 27, 22, 16, 14, 14,  2, 38,\n",
      "       31, 24, 20, 17, 10,  5, 11, 37, 29, 21, 18, 13, 11,  6,  9, 35, 22,\n",
      "       19,  8,  6,  3,  1,  4], dtype=int32)}\n",
      "refit_time6:\t 21.756059885025024\n"
     ]
    }
   ],
   "source": [
    "print('best_estimator:\\t', clf.best_estimator_)\n",
    "print('best_score:\\t', clf.best_score_)\n",
    "print('best_params:\\t', clf.best_params_)\n",
    "print('best_index:\\t', clf.best_index_)\n",
    "print('scorer:\\t', clf.scorer_)\n",
    "print('cv_results:\\t', clf.cv_results_)\n",
    "print('refit_time:\\t', clf.refit_time_)"
   ]
  },
  {
   "cell_type": "code",
   "execution_count": 23,
   "metadata": {},
   "outputs": [
    {
     "name": "stdout",
     "output_type": "stream",
     "text": [
      "AUC:  0.7899945892146074\n",
      "training error: 0.26960937500000004\n",
      "validation error: 0.2830625\n"
     ]
    }
   ],
   "source": [
    "gradient_boosting_classifier_roc = roc_auc_score(\n",
    "   Yva, clf.predict_proba(Xva)[:,1])\n",
    "print(\"AUC: \", gradient_boosting_classifier_roc)\n",
    "\n",
    "print(\"training error:\", 1 - clf.score(Xtr, Ytr))\n",
    "print(\"validation error:\", 1 - clf.score(Xva, Yva))"
   ]
  },
  {
   "cell_type": "markdown",
   "metadata": {},
   "source": [
    "### 2. Tuning max_depth"
   ]
  },
  {
   "cell_type": "code",
   "execution_count": 24,
   "metadata": {},
   "outputs": [
    {
     "name": "stdout",
     "output_type": "stream",
     "text": [
      "training start\n",
      "training finished, took 346.23646211624146 seconds\n"
     ]
    }
   ],
   "source": [
    "clf = GridSearchCV(GradientBoostingClassifier(loss=\"deviance\", learning_rate=0.2, \n",
    "                                              n_estimators=1500), parameters2, cv=5)\n",
    "\n",
    "print('training start')\n",
    "starting_time = time.time()\n",
    "clf.fit(Xtr[:5000], Ytr[:5000])\n",
    "end_time = time.time()\n",
    "print(\"training finished, took {} seconds\".format(end_time - starting_time))"
   ]
  },
  {
   "cell_type": "code",
   "execution_count": 25,
   "metadata": {},
   "outputs": [
    {
     "name": "stdout",
     "output_type": "stream",
     "text": [
      "best_estimator:\t GradientBoostingClassifier(criterion='friedman_mse', init=None,\n",
      "                           learning_rate=0.2, loss='deviance', max_depth=3,\n",
      "                           max_features=None, max_leaf_nodes=None,\n",
      "                           min_impurity_decrease=0.0, min_impurity_split=None,\n",
      "                           min_samples_leaf=1, min_samples_split=2,\n",
      "                           min_weight_fraction_leaf=0.0, n_estimators=1500,\n",
      "                           n_iter_no_change=None, presort='auto',\n",
      "                           random_state=None, subsample=1.0, tol=0.0001,\n",
      "                           validation_fraction=0.1, verbose=0,\n",
      "                           warm_start=False)\n",
      "best_score:\t 0.7064\n",
      "best_params:\t {'max_depth': 3}\n",
      "best_index:\t 0\n",
      "scorer:\t <function _passthrough_scorer at 0x1a18dd0710>\n",
      "cv_results:\t {'mean_fit_time': array([18.38099461, 21.22659183, 25.30114784]), 'std_fit_time': array([0.36820228, 0.80794296, 0.93825758]), 'mean_score_time': array([0.0255198 , 0.04177861, 0.06185265]), 'std_score_time': array([0.00354396, 0.00628236, 0.00955425]), 'param_max_depth': masked_array(data=[3, 5, 8],\n",
      "             mask=[False, False, False],\n",
      "       fill_value='?',\n",
      "            dtype=object), 'params': [{'max_depth': 3}, {'max_depth': 5}, {'max_depth': 8}], 'split0_test_score': array([0.70629371, 0.69430569, 0.68831169]), 'split1_test_score': array([0.709, 0.706, 0.702]), 'split2_test_score': array([0.693, 0.706, 0.699]), 'split3_test_score': array([0.688, 0.681, 0.683]), 'split4_test_score': array([0.73573574, 0.74074074, 0.72072072]), 'mean_test_score': array([0.7064, 0.7056, 0.6986]), 'std_test_score': array([0.01664101, 0.01983333, 0.01303742]), 'rank_test_score': array([1, 2, 3], dtype=int32)}\n",
      "refit_time:\t 21.023947954177856\n"
     ]
    }
   ],
   "source": [
    "print('best_estimator:\\t', clf.best_estimator_)\n",
    "print('best_score:\\t', clf.best_score_)\n",
    "print('best_params:\\t', clf.best_params_)\n",
    "print('best_index:\\t', clf.best_index_)\n",
    "print('scorer:\\t', clf.scorer_)\n",
    "print('cv_results:\\t', clf.cv_results_)\n",
    "print('refit_time:\\t', clf.refit_time_)"
   ]
  },
  {
   "cell_type": "code",
   "execution_count": 26,
   "metadata": {},
   "outputs": [
    {
     "name": "stdout",
     "output_type": "stream",
     "text": [
      "AUC:  0.7893865809366011\n",
      "training error: 0.269234375\n",
      "validation error: 0.28393749999999995\n"
     ]
    }
   ],
   "source": [
    "gradient_boosting_classifier_roc = roc_auc_score(\n",
    "   Yva, clf.predict_proba(Xva)[:,1])\n",
    "print(\"AUC: \", gradient_boosting_classifier_roc)\n",
    "\n",
    "print(\"training error:\", 1 - clf.score(Xtr, Ytr))\n",
    "print(\"validation error:\", 1 - clf.score(Xva, Yva))"
   ]
  },
  {
   "cell_type": "markdown",
   "metadata": {},
   "source": [
    "### 3. Tuning min_samples_split and min_samples_leaf"
   ]
  },
  {
   "cell_type": "code",
   "execution_count": 27,
   "metadata": {},
   "outputs": [
    {
     "name": "stdout",
     "output_type": "stream",
     "text": [
      "training start\n",
      "training finished, took 2490.830836057663 seconds\n"
     ]
    }
   ],
   "source": [
    "clf = GridSearchCV(GradientBoostingClassifier(loss=\"deviance\", learning_rate=0.2, \n",
    "                                              n_estimators=1500, max_depth=3), parameters3, cv=5)\n",
    "\n",
    "print('training start')\n",
    "starting_time = time.time()\n",
    "clf.fit(Xtr[:5000], Ytr[:5000])\n",
    "end_time = time.time()\n",
    "print(\"training finished, took {} seconds\".format(end_time - starting_time))"
   ]
  },
  {
   "cell_type": "code",
   "execution_count": 28,
   "metadata": {},
   "outputs": [
    {
     "name": "stdout",
     "output_type": "stream",
     "text": [
      "best_estimator:\t GradientBoostingClassifier(criterion='friedman_mse', init=None,\n",
      "                           learning_rate=0.2, loss='deviance', max_depth=3,\n",
      "                           max_features=None, max_leaf_nodes=None,\n",
      "                           min_impurity_decrease=0.0, min_impurity_split=None,\n",
      "                           min_samples_leaf=1, min_samples_split=6,\n",
      "                           min_weight_fraction_leaf=0.0, n_estimators=1500,\n",
      "                           n_iter_no_change=None, presort='auto',\n",
      "                           random_state=None, subsample=1.0, tol=0.0001,\n",
      "                           validation_fraction=0.1, verbose=0,\n",
      "                           warm_start=False)\n",
      "best_score:\t 0.707\n",
      "best_params:\t {'min_samples_leaf': 1, 'min_samples_split': 6}\n",
      "best_index:\t 1\n",
      "scorer:\t <function _passthrough_scorer at 0x1a18dd0710>\n",
      "cv_results:\t {'mean_fit_time': array([18.27026734, 16.98340802, 18.55240593, 18.29862819, 15.98394623,\n",
      "       15.76463747, 15.99805918, 16.66479754, 15.85282683, 16.21527562,\n",
      "       15.85419302, 16.30239506, 16.01401277, 15.84260664, 15.87380357,\n",
      "       15.81972408, 15.84401298, 15.58125834, 15.97619658, 16.54502439,\n",
      "       16.06376624, 16.35895529, 16.42794642, 16.44299498, 16.101543  ,\n",
      "       15.940798  , 17.34739876, 17.31996164, 16.37782049, 17.03471856]), 'std_fit_time': array([0.86331035, 0.99954123, 0.36780313, 0.51071803, 0.11612834,\n",
      "       0.15672981, 0.22255628, 0.46151088, 0.17717681, 0.92759326,\n",
      "       0.39624563, 0.60586349, 0.24972441, 0.10606827, 0.15917558,\n",
      "       0.29259863, 0.35474254, 0.23931744, 0.26604499, 0.85183094,\n",
      "       0.28896678, 0.52953624, 0.48471656, 0.57381907, 0.44972616,\n",
      "       0.57852013, 0.26638275, 0.20705202, 0.74676188, 0.23564875]), 'mean_score_time': array([0.02802668, 0.02245593, 0.02804484, 0.02395248, 0.02095613,\n",
      "       0.02061124, 0.02278023, 0.02386527, 0.0226965 , 0.02275867,\n",
      "       0.02082644, 0.02241559, 0.02251544, 0.0221467 , 0.0221673 ,\n",
      "       0.02297931, 0.02190037, 0.02163277, 0.02246833, 0.02289863,\n",
      "       0.02192197, 0.02342558, 0.0254756 , 0.02507744, 0.02263904,\n",
      "       0.02220221, 0.02472596, 0.0243742 , 0.02322125, 0.02365823]), 'std_score_time': array([0.0042372 , 0.0005557 , 0.00632092, 0.00135712, 0.00086039,\n",
      "       0.00034109, 0.00125659, 0.00168049, 0.00050025, 0.00145999,\n",
      "       0.00086745, 0.00162339, 0.00038232, 0.00041698, 0.00065436,\n",
      "       0.00124459, 0.00104991, 0.00093586, 0.00134466, 0.0009355 ,\n",
      "       0.00074145, 0.00093826, 0.0040908 , 0.00361123, 0.00127559,\n",
      "       0.00122199, 0.00054014, 0.00127149, 0.00187363, 0.00140872]), 'param_min_samples_leaf': masked_array(data=[1, 1, 1, 1, 1, 1, 3, 3, 3, 3, 3, 3, 5, 5, 5, 5, 5, 5,\n",
      "                   7, 7, 7, 7, 7, 7, 9, 9, 9, 9, 9, 9],\n",
      "             mask=[False, False, False, False, False, False, False, False,\n",
      "                   False, False, False, False, False, False, False, False,\n",
      "                   False, False, False, False, False, False, False, False,\n",
      "                   False, False, False, False, False, False],\n",
      "       fill_value='?',\n",
      "            dtype=object), 'param_min_samples_split': masked_array(data=[2, 6, 10, 20, 40, 60, 2, 6, 10, 20, 40, 60, 2, 6, 10,\n",
      "                   20, 40, 60, 2, 6, 10, 20, 40, 60, 2, 6, 10, 20, 40, 60],\n",
      "             mask=[False, False, False, False, False, False, False, False,\n",
      "                   False, False, False, False, False, False, False, False,\n",
      "                   False, False, False, False, False, False, False, False,\n",
      "                   False, False, False, False, False, False],\n",
      "       fill_value='?',\n",
      "            dtype=object), 'params': [{'min_samples_leaf': 1, 'min_samples_split': 2}, {'min_samples_leaf': 1, 'min_samples_split': 6}, {'min_samples_leaf': 1, 'min_samples_split': 10}, {'min_samples_leaf': 1, 'min_samples_split': 20}, {'min_samples_leaf': 1, 'min_samples_split': 40}, {'min_samples_leaf': 1, 'min_samples_split': 60}, {'min_samples_leaf': 3, 'min_samples_split': 2}, {'min_samples_leaf': 3, 'min_samples_split': 6}, {'min_samples_leaf': 3, 'min_samples_split': 10}, {'min_samples_leaf': 3, 'min_samples_split': 20}, {'min_samples_leaf': 3, 'min_samples_split': 40}, {'min_samples_leaf': 3, 'min_samples_split': 60}, {'min_samples_leaf': 5, 'min_samples_split': 2}, {'min_samples_leaf': 5, 'min_samples_split': 6}, {'min_samples_leaf': 5, 'min_samples_split': 10}, {'min_samples_leaf': 5, 'min_samples_split': 20}, {'min_samples_leaf': 5, 'min_samples_split': 40}, {'min_samples_leaf': 5, 'min_samples_split': 60}, {'min_samples_leaf': 7, 'min_samples_split': 2}, {'min_samples_leaf': 7, 'min_samples_split': 6}, {'min_samples_leaf': 7, 'min_samples_split': 10}, {'min_samples_leaf': 7, 'min_samples_split': 20}, {'min_samples_leaf': 7, 'min_samples_split': 40}, {'min_samples_leaf': 7, 'min_samples_split': 60}, {'min_samples_leaf': 9, 'min_samples_split': 2}, {'min_samples_leaf': 9, 'min_samples_split': 6}, {'min_samples_leaf': 9, 'min_samples_split': 10}, {'min_samples_leaf': 9, 'min_samples_split': 20}, {'min_samples_leaf': 9, 'min_samples_split': 40}, {'min_samples_leaf': 9, 'min_samples_split': 60}], 'split0_test_score': array([0.6963037 , 0.7032967 , 0.7022977 , 0.7022977 , 0.7042957 ,\n",
      "       0.7032967 , 0.68931069, 0.69330669, 0.69230769, 0.68431568,\n",
      "       0.68331668, 0.69130869, 0.67732268, 0.67732268, 0.67732268,\n",
      "       0.67032967, 0.67632368, 0.67732268, 0.68731269, 0.68231768,\n",
      "       0.68231768, 0.69030969, 0.68831169, 0.68431568, 0.68031968,\n",
      "       0.68031968, 0.68031968, 0.68031968, 0.68231768, 0.68231768]), 'split1_test_score': array([0.71 , 0.715, 0.707, 0.709, 0.707, 0.71 , 0.702, 0.695, 0.691,\n",
      "       0.696, 0.689, 0.699, 0.69 , 0.69 , 0.69 , 0.688, 0.697, 0.696,\n",
      "       0.693, 0.693, 0.693, 0.698, 0.707, 0.702, 0.698, 0.698, 0.698,\n",
      "       0.698, 0.702, 0.708]), 'split2_test_score': array([0.692, 0.689, 0.69 , 0.688, 0.689, 0.693, 0.68 , 0.683, 0.678,\n",
      "       0.677, 0.682, 0.676, 0.683, 0.683, 0.683, 0.681, 0.683, 0.682,\n",
      "       0.679, 0.679, 0.679, 0.68 , 0.679, 0.684, 0.676, 0.676, 0.676,\n",
      "       0.676, 0.678, 0.682]), 'split3_test_score': array([0.698, 0.69 , 0.703, 0.687, 0.688, 0.684, 0.687, 0.687, 0.692,\n",
      "       0.688, 0.685, 0.683, 0.678, 0.678, 0.678, 0.686, 0.678, 0.688,\n",
      "       0.691, 0.691, 0.691, 0.692, 0.689, 0.688, 0.705, 0.705, 0.705,\n",
      "       0.709, 0.702, 0.698]), 'split4_test_score': array([0.73573574, 0.73773774, 0.73273273, 0.72872873, 0.72272272,\n",
      "       0.72172172, 0.73273273, 0.73273273, 0.72872873, 0.73573574,\n",
      "       0.74274274, 0.73573574, 0.71071071, 0.71371371, 0.71071071,\n",
      "       0.71071071, 0.71871872, 0.72172172, 0.70670671, 0.70670671,\n",
      "       0.70670671, 0.7037037 , 0.70870871, 0.70670671, 0.69369369,\n",
      "       0.69369369, 0.69369369, 0.69269269, 0.68168168, 0.69169169]), 'mean_test_score': array([0.7064, 0.707 , 0.707 , 0.703 , 0.7022, 0.7024, 0.6982, 0.6982,\n",
      "       0.6964, 0.6962, 0.6964, 0.697 , 0.6878, 0.6884, 0.6878, 0.6872,\n",
      "       0.6906, 0.693 , 0.6914, 0.6904, 0.6904, 0.6928, 0.6944, 0.693 ,\n",
      "       0.6906, 0.6906, 0.6906, 0.6912, 0.6892, 0.6924]), 'std_test_score': array([0.01582809, 0.01808088, 0.01406161, 0.01535447, 0.01283805,\n",
      "       0.01310298, 0.01866299, 0.01778767, 0.01701732, 0.02068241,\n",
      "       0.02327628, 0.02084409, 0.01231406, 0.01343766, 0.01231406,\n",
      "       0.0132485 , 0.01582004, 0.01565335, 0.00902512, 0.00967587,\n",
      "       0.00967587, 0.00795613, 0.01154746, 0.00948872, 0.0108686 ,\n",
      "       0.0108686 , 0.0108686 , 0.01195697, 0.01055464, 0.00985024]), 'rank_test_score': array([ 3,  1,  1,  4,  6,  5,  7,  7, 10, 12, 10,  9, 28, 27, 28, 30, 20,\n",
      "       14, 18, 24, 24, 16, 13, 14, 20, 20, 20, 19, 26, 17], dtype=int32)}\n",
      "refit_time:\t 18.924309730529785\n"
     ]
    }
   ],
   "source": [
    "print('best_estimator:\\t', clf.best_estimator_)\n",
    "print('best_score:\\t', clf.best_score_)\n",
    "print('best_params:\\t', clf.best_params_)\n",
    "print('best_index:\\t', clf.best_index_)\n",
    "print('scorer:\\t', clf.scorer_)\n",
    "print('cv_results:\\t', clf.cv_results_)\n",
    "print('refit_time:\\t', clf.refit_time_)"
   ]
  },
  {
   "cell_type": "code",
   "execution_count": 29,
   "metadata": {},
   "outputs": [
    {
     "name": "stdout",
     "output_type": "stream",
     "text": [
      "AUC:  0.7887109163567952\n",
      "training error: 0.269828125\n",
      "validation error: 0.28456250000000005\n"
     ]
    }
   ],
   "source": [
    "gradient_boosting_classifier_roc = roc_auc_score(\n",
    "   Yva, clf.predict_proba(Xva)[:,1])\n",
    "print(\"AUC: \", gradient_boosting_classifier_roc)\n",
    "\n",
    "print(\"training error:\", 1 - clf.score(Xtr, Ytr))\n",
    "print(\"validation error:\", 1 - clf.score(Xva, Yva))"
   ]
  },
  {
   "cell_type": "markdown",
   "metadata": {},
   "source": [
    "### 4. Tuning max_features"
   ]
  },
  {
   "cell_type": "code",
   "execution_count": 31,
   "metadata": {},
   "outputs": [
    {
     "name": "stdout",
     "output_type": "stream",
     "text": [
      "training start\n",
      "training finished, took 26.237683057785034 seconds\n"
     ]
    }
   ],
   "source": [
    "clf = GridSearchCV(GradientBoostingClassifier(loss=\"deviance\", learning_rate=0.2, \n",
    "                                              n_estimators=1500, max_depth=3,\n",
    "                                             min_samples_split=6,min_samples_leaf=1), parameters4, cv=5)\n",
    "\n",
    "print('training start')\n",
    "starting_time = time.time()\n",
    "clf.fit(Xtr[:5000], Ytr[:5000])\n",
    "end_time = time.time()\n",
    "print(\"training finished, took {} seconds\".format(end_time - starting_time))"
   ]
  },
  {
   "cell_type": "code",
   "execution_count": 32,
   "metadata": {},
   "outputs": [
    {
     "name": "stdout",
     "output_type": "stream",
     "text": [
      "best_estimator:\t GradientBoostingClassifier(criterion='friedman_mse', init=None,\n",
      "                           learning_rate=0.2, loss='deviance', max_depth=3,\n",
      "                           max_features='sqrt', max_leaf_nodes=None,\n",
      "                           min_impurity_decrease=0.0, min_impurity_split=None,\n",
      "                           min_samples_leaf=1, min_samples_split=6,\n",
      "                           min_weight_fraction_leaf=0.0, n_estimators=1500,\n",
      "                           n_iter_no_change=None, presort='auto',\n",
      "                           random_state=None, subsample=1.0, tol=0.0001,\n",
      "                           validation_fraction=0.1, verbose=0,\n",
      "                           warm_start=False)\n",
      "best_score:\t 0.7026\n",
      "best_params:\t {'max_features': 'sqrt'}\n",
      "best_index:\t 1\n",
      "scorer:\t <function _passthrough_scorer at 0x1a18dd0710>\n",
      "cv_results:\t {'mean_fit_time': array([1.96429586, 2.59483891]), 'std_fit_time': array([0.08706508, 0.06227113]), 'mean_score_time': array([0.02735553, 0.026579  ]), 'std_score_time': array([0.00336421, 0.00232473]), 'param_max_features': masked_array(data=['log2', 'sqrt'],\n",
      "             mask=[False, False],\n",
      "       fill_value='?',\n",
      "            dtype=object), 'params': [{'max_features': 'log2'}, {'max_features': 'sqrt'}], 'split0_test_score': array([0.7032967, 0.6973027]), 'split1_test_score': array([0.706, 0.714]), 'split2_test_score': array([0.698, 0.69 ]), 'split3_test_score': array([0.681, 0.693]), 'split4_test_score': array([0.71871872, 0.71871872]), 'mean_test_score': array([0.7014, 0.7026]), 'std_test_score': array([0.01226474, 0.01156307]), 'rank_test_score': array([2, 1], dtype=int32)}\n",
      "refit_time:\t 3.1558127403259277\n"
     ]
    }
   ],
   "source": [
    "print('best_estimator:\\t', clf.best_estimator_)\n",
    "print('best_score:\\t', clf.best_score_)\n",
    "print('best_params:\\t', clf.best_params_)\n",
    "print('best_index:\\t', clf.best_index_)\n",
    "print('scorer:\\t', clf.scorer_)\n",
    "print('cv_results:\\t', clf.cv_results_)\n",
    "print('refit_time:\\t', clf.refit_time_)"
   ]
  },
  {
   "cell_type": "code",
   "execution_count": 33,
   "metadata": {},
   "outputs": [
    {
     "name": "stdout",
     "output_type": "stream",
     "text": [
      "AUC:  0.7879401892042075\n",
      "training error: 0.273953125\n",
      "validation error: 0.2820625\n"
     ]
    }
   ],
   "source": [
    "gradient_boosting_classifier_roc = roc_auc_score(\n",
    "   Yva, clf.predict_proba(Xva)[:,1])\n",
    "print(\"AUC: \", gradient_boosting_classifier_roc)\n",
    "\n",
    "print(\"training error:\", 1 - clf.score(Xtr, Ytr))\n",
    "print(\"validation error:\", 1 - clf.score(Xva, Yva))"
   ]
  },
  {
   "cell_type": "code",
   "execution_count": null,
   "metadata": {},
   "outputs": [],
   "source": []
  },
  {
   "cell_type": "markdown",
   "metadata": {},
   "source": [
    "### 5. Tuning subsample"
   ]
  },
  {
   "cell_type": "code",
   "execution_count": 34,
   "metadata": {},
   "outputs": [
    {
     "name": "stdout",
     "output_type": "stream",
     "text": [
      "training start\n",
      "training finished, took 98.57253408432007 seconds\n"
     ]
    }
   ],
   "source": [
    "clf = GridSearchCV(GradientBoostingClassifier(loss=\"deviance\", learning_rate=0.2, \n",
    "                                              n_estimators=1500, max_depth=3,\n",
    "                                             min_samples_split=6,min_samples_leaf=1,\n",
    "                                             max_features='sqrt'), parameters5, cv=5)\n",
    "\n",
    "print('training start')\n",
    "starting_time = time.time()\n",
    "clf.fit(Xtr[:5000], Ytr[:5000])\n",
    "end_time = time.time()\n",
    "print(\"training finished, took {} seconds\".format(end_time - starting_time))"
   ]
  },
  {
   "cell_type": "code",
   "execution_count": 35,
   "metadata": {},
   "outputs": [
    {
     "name": "stdout",
     "output_type": "stream",
     "text": [
      "best_estimator:\t GradientBoostingClassifier(criterion='friedman_mse', init=None,\n",
      "                           learning_rate=0.2, loss='deviance', max_depth=3,\n",
      "                           max_features='sqrt', max_leaf_nodes=None,\n",
      "                           min_impurity_decrease=0.0, min_impurity_split=None,\n",
      "                           min_samples_leaf=1, min_samples_split=6,\n",
      "                           min_weight_fraction_leaf=0.0, n_estimators=1500,\n",
      "                           n_iter_no_change=None, presort='auto',\n",
      "                           random_state=None, subsample=0.95, tol=0.0001,\n",
      "                           validation_fraction=0.1, verbose=0,\n",
      "                           warm_start=False)\n",
      "best_score:\t 0.7048\n",
      "best_params:\t {'subsample': 0.95}\n",
      "best_index:\t 5\n",
      "scorer:\t <function _passthrough_scorer at 0x1a18dd0710>\n",
      "cv_results:\t {'mean_fit_time': array([2.67482667, 2.61542406, 2.81198616, 2.84666705, 2.91049404,\n",
      "       2.77735562, 2.26036119]), 'std_fit_time': array([0.06290559, 0.09579523, 0.20267125, 0.16924555, 0.14124575,\n",
      "       0.15662971, 0.02320081]), 'mean_score_time': array([0.02626095, 0.02484236, 0.02831683, 0.02546358, 0.02957854,\n",
      "       0.02528658, 0.02196302]), 'std_score_time': array([0.00056242, 0.00134167, 0.00237687, 0.00272321, 0.00308845,\n",
      "       0.00107291, 0.00049307]), 'param_subsample': masked_array(data=[0.5, 0.618, 0.8, 0.85, 0.9, 0.95, 1.0],\n",
      "             mask=[False, False, False, False, False, False, False],\n",
      "       fill_value='?',\n",
      "            dtype=object), 'params': [{'subsample': 0.5}, {'subsample': 0.618}, {'subsample': 0.8}, {'subsample': 0.85}, {'subsample': 0.9}, {'subsample': 0.95}, {'subsample': 1.0}], 'split0_test_score': array([0.69330669, 0.69430569, 0.7022977 , 0.69430569, 0.7032967 ,\n",
      "       0.7002997 , 0.6973027 ]), 'split1_test_score': array([0.695, 0.687, 0.713, 0.706, 0.709, 0.711, 0.709]), 'split2_test_score': array([0.708, 0.703, 0.703, 0.698, 0.705, 0.7  , 0.684]), 'split3_test_score': array([0.682, 0.681, 0.684, 0.694, 0.683, 0.69 , 0.697]), 'split4_test_score': array([0.70670671, 0.72572573, 0.72072072, 0.71871872, 0.72072072,\n",
      "       0.72272272, 0.71771772]), 'mean_test_score': array([0.697 , 0.6982, 0.7046, 0.7022, 0.7042, 0.7048, 0.701 ]), 'std_test_score': array([0.00956849, 0.01559749, 0.01234831, 0.00931985, 0.01221964,\n",
      "       0.01115075, 0.01150553]), 'rank_test_score': array([7, 6, 2, 4, 3, 1, 5], dtype=int32)}\n",
      "refit_time:\t 3.1312501430511475\n"
     ]
    }
   ],
   "source": [
    "print('best_estimator:\\t', clf.best_estimator_)\n",
    "print('best_score:\\t', clf.best_score_)\n",
    "print('best_params:\\t', clf.best_params_)\n",
    "print('best_index:\\t', clf.best_index_)\n",
    "print('scorer:\\t', clf.scorer_)\n",
    "print('cv_results:\\t', clf.cv_results_)\n",
    "print('refit_time:\\t', clf.refit_time_)"
   ]
  },
  {
   "cell_type": "code",
   "execution_count": 36,
   "metadata": {},
   "outputs": [
    {
     "name": "stdout",
     "output_type": "stream",
     "text": [
      "AUC:  0.7877566421886792\n",
      "training error: 0.27351562500000004\n",
      "validation error: 0.28574999999999995\n"
     ]
    }
   ],
   "source": [
    "gradient_boosting_classifier_roc = roc_auc_score(\n",
    "   Yva, clf.predict_proba(Xva)[:,1])\n",
    "print(\"AUC: \", gradient_boosting_classifier_roc)\n",
    "\n",
    "print(\"training error:\", 1 - clf.score(Xtr, Ytr))\n",
    "print(\"validation error:\", 1 - clf.score(Xva, Yva))"
   ]
  },
  {
   "cell_type": "markdown",
   "metadata": {},
   "source": [
    "### Final GB model after gridsearch"
   ]
  },
  {
   "cell_type": "code",
   "execution_count": 37,
   "metadata": {},
   "outputs": [
    {
     "name": "stdout",
     "output_type": "stream",
     "text": [
      "training start\n",
      "training finished, took 19.872843742370605 seconds\n",
      "AUC:  0.8334768881307424\n",
      "training acc: 0.792515625\n",
      "validation acc: 0.76075\n"
     ]
    }
   ],
   "source": [
    "gb_grid = GradientBoostingClassifier(loss=\"deviance\", learning_rate=0.2, \n",
    "                                     n_estimators=1500, max_depth=3,\n",
    "                                     min_samples_split=6,min_samples_leaf=1,\n",
    "                                     max_features='sqrt', subsample=0.95)\n",
    "\n",
    "print('training start')\n",
    "starting_time = time.time()\n",
    "gb_grid.fit(Xtr, Ytr)\n",
    "end_time = time.time()\n",
    "print(\"training finished, took {} seconds\".format(end_time - starting_time))\n",
    "\n",
    "gradient_boosting_classifier_roc = roc_auc_score(\n",
    "   Yva, gb_grid.predict_proba(Xva)[:,1])\n",
    "print(\"AUC: \", gradient_boosting_classifier_roc)\n",
    "\n",
    "print(\"training acc:\", gb_grid.score(Xtr, Ytr))\n",
    "print(\"validation acc:\", gb_grid.score(Xva, Yva))"
   ]
  },
  {
   "cell_type": "code",
   "execution_count": 38,
   "metadata": {},
   "outputs": [
    {
     "name": "stdout",
     "output_type": "stream",
     "text": [
      "ROC AUC score on Test data:\t 0.8338549983465341\n"
     ]
    }
   ],
   "source": [
    "roc = roc_auc_score(Y_test, gb_grid.predict_proba(X_test)[:,1])\n",
    "print(\"ROC AUC score on Test data:\\t\", roc)"
   ]
  },
  {
   "cell_type": "code",
   "execution_count": null,
   "metadata": {},
   "outputs": [],
   "source": []
  },
  {
   "cell_type": "markdown",
   "metadata": {},
   "source": [
    "## Bayesian Optimization"
   ]
  },
  {
   "cell_type": "code",
   "execution_count": 39,
   "metadata": {},
   "outputs": [],
   "source": [
    "from skopt.space import Integer\n",
    "from skopt.space import Real\n",
    "from skopt.utils import use_named_args\n",
    "from skopt import gp_minimize\n",
    "from numpy import mean\n",
    "\n",
    "import warnings\n",
    "warnings.filterwarnings('ignore')"
   ]
  },
  {
   "cell_type": "markdown",
   "metadata": {},
   "source": [
    "### 1. Tuning \"n_estimators\" and \"learning_rate\""
   ]
  },
  {
   "cell_type": "code",
   "execution_count": 40,
   "metadata": {},
   "outputs": [
    {
     "name": "stdout",
     "output_type": "stream",
     "text": [
      "Best Accuracy: 0.705\n",
      "Best Parameters: n_estimators=1515\t learning_rate=0.214818\n"
     ]
    }
   ],
   "source": [
    "search_space1 = [Integer(1000, 2000, name='n_estimators'), Real(0.001, 1, name=\"learning_rate\")]\n",
    "\n",
    "clf1 = GradientBoostingClassifier(loss=\"deviance\",max_features=\"sqrt\")\n",
    "\n",
    "@use_named_args(search_space1)\n",
    "def evaluate_model1(**params):\n",
    "    # something\n",
    "    clf1.set_params(**params)\n",
    "    # calculate 5-fold cross validation\n",
    "    result = cross_val_score(clf1, Xtr[:5000], Ytr[:5000], cv=5, n_jobs=-1, scoring='accuracy')\n",
    "    # calculate the mean of the scores\n",
    "    estimate = mean(result)\n",
    "    return 1.0 - estimate\n",
    "\n",
    "result1 = gp_minimize(evaluate_model1, search_space1)\n",
    "print('Best Accuracy: %.3f' % (1.0 - result1.fun))\n",
    "print('Best Parameters: n_estimators=%d\\t learning_rate=%f' % (result1.x[0], result1.x[1]))"
   ]
  },
  {
   "cell_type": "markdown",
   "metadata": {},
   "source": [
    "### 2. Tuning \"subsample\""
   ]
  },
  {
   "cell_type": "code",
   "execution_count": 45,
   "metadata": {},
   "outputs": [
    {
     "name": "stdout",
     "output_type": "stream",
     "text": [
      "Best Accuracy: 0.707\n",
      "Best Parameters: subsample=0.827280\n"
     ]
    }
   ],
   "source": [
    "search_space2 = [Real(0.1, 1, name=\"subsample\")]\n",
    "\n",
    "clf2 = GradientBoostingClassifier(n_estimators=1515, learning_rate=0.214818,\n",
    "                                  loss=\"deviance\",max_features=\"sqrt\")\n",
    "\n",
    "@use_named_args(search_space2)\n",
    "def evaluate_model2(**params):\n",
    "    # something\n",
    "    clf2.set_params(**params)\n",
    "    # calculate 5-fold cross validation\n",
    "    result = cross_val_score(clf2, Xtr[:5000], Ytr[:5000], cv=5, n_jobs=-1, scoring='accuracy')\n",
    "    # calculate the mean of the scores\n",
    "    estimate = mean(result)\n",
    "    return 1.0 - estimate\n",
    "\n",
    "result2 = gp_minimize(evaluate_model2, search_space2)\n",
    "print('Best Accuracy: %.3f' % (1.0 - result2.fun))\n",
    "print('Best Parameters: subsample=%f' % (result2.x[0]))"
   ]
  },
  {
   "cell_type": "markdown",
   "metadata": {},
   "source": [
    "### 3. Tuning \"max_depth\""
   ]
  },
  {
   "cell_type": "code",
   "execution_count": 46,
   "metadata": {},
   "outputs": [
    {
     "name": "stdout",
     "output_type": "stream",
     "text": [
      "Best Accuracy: 0.705\n",
      "Best Parameters: max_depth=1\n"
     ]
    }
   ],
   "source": [
    "search_space3 = [Integer(1, 10, name=\"max_depth\")]\n",
    "\n",
    "clf3 = GradientBoostingClassifier(n_estimators=1515, learning_rate=0.214818,\n",
    "                                  subsample=0.827280,\n",
    "                                  loss=\"deviance\",max_features=\"sqrt\")\n",
    "\n",
    "@use_named_args(search_space3)\n",
    "def evaluate_model3(**params):\n",
    "    # something\n",
    "    clf3.set_params(**params)\n",
    "    # calculate 5-fold cross validation\n",
    "    result = cross_val_score(clf3, Xtr[:5000], Ytr[:5000], cv=5, n_jobs=-1, scoring='accuracy')\n",
    "    # calculate the mean of the scores\n",
    "    estimate = mean(result)\n",
    "    return 1.0 - estimate\n",
    "\n",
    "result3 = gp_minimize(evaluate_model3, search_space3)\n",
    "print('Best Accuracy: %.3f' % (1.0 - result3.fun))\n",
    "print('Best Parameters: max_depth=%d' % (result3.x[0]))"
   ]
  },
  {
   "cell_type": "code",
   "execution_count": 53,
   "metadata": {},
   "outputs": [
    {
     "name": "stdout",
     "output_type": "stream",
     "text": [
      "Best Accuracy: 0.707\n",
      "Best Parameters: max_depth=3\n"
     ]
    }
   ],
   "source": [
    "search_space3 = [Integer(3, 10, name=\"max_depth\")]\n",
    "\n",
    "clf3 = GradientBoostingClassifier(n_estimators=1515, learning_rate=0.214818,\n",
    "                                  subsample=0.827280,\n",
    "                                  loss=\"deviance\",max_features=\"sqrt\")\n",
    "\n",
    "@use_named_args(search_space3)\n",
    "def evaluate_model3(**params):\n",
    "    # something\n",
    "    clf3.set_params(**params)\n",
    "    # calculate 5-fold cross validation\n",
    "    result = cross_val_score(clf3, Xtr[:5000], Ytr[:5000], cv=5, n_jobs=-1, scoring='accuracy')\n",
    "    # calculate the mean of the scores\n",
    "    estimate = mean(result)\n",
    "    return 1.0 - estimate\n",
    "\n",
    "result3 = gp_minimize(evaluate_model3, search_space3)\n",
    "print('Best Accuracy: %.3f' % (1.0 - result3.fun))\n",
    "print('Best Parameters: max_depth=%d' % (result3.x[0]))"
   ]
  },
  {
   "cell_type": "markdown",
   "metadata": {},
   "source": [
    "### 4. Tuning \"min_samples_split\" and \"min_samples_leaf\""
   ]
  },
  {
   "cell_type": "code",
   "execution_count": 47,
   "metadata": {},
   "outputs": [
    {
     "name": "stdout",
     "output_type": "stream",
     "text": [
      "Best Accuracy: 0.707\n",
      "Best Parameters: min_samples_split=2\t min_samples_leaf=1\n"
     ]
    }
   ],
   "source": [
    "search_space4 = [Integer(2, 60, name=\"min_samples_split\"), Integer(1, 10, name=\"min_samples_leaf\")]\n",
    "\n",
    "clf4 = GradientBoostingClassifier(n_estimators=1515, learning_rate=0.214818,\n",
    "                                  subsample=0.827280, max_depth=1,\n",
    "                                  loss=\"deviance\",max_features=\"sqrt\")\n",
    "\n",
    "@use_named_args(search_space4)\n",
    "def evaluate_model4(**params):\n",
    "    # something\n",
    "    clf4.set_params(**params)\n",
    "    # calculate 5-fold cross validation\n",
    "    result = cross_val_score(clf4, Xtr[:5000], Ytr[:5000], cv=5, n_jobs=-1, scoring='accuracy')\n",
    "    # calculate the mean of the scores\n",
    "    estimate = mean(result)\n",
    "    return 1.0 - estimate\n",
    "\n",
    "result4 = gp_minimize(evaluate_model4, search_space4)\n",
    "print('Best Accuracy: %.3f' % (1.0 - result4.fun))\n",
    "print('Best Parameters: min_samples_split=%d\\t min_samples_leaf=%d' % (result4.x[0], result4.x[1]))"
   ]
  },
  {
   "cell_type": "markdown",
   "metadata": {},
   "source": [
    "### Final GB model after Bayesian Optimization"
   ]
  },
  {
   "cell_type": "code",
   "execution_count": 54,
   "metadata": {},
   "outputs": [
    {
     "name": "stdout",
     "output_type": "stream",
     "text": [
      "training start\n",
      "training finished, took 21.741851806640625 seconds\n",
      "AUC:  0.8322982387908391\n",
      "training acc: 0.795375\n",
      "validation acc: 0.7588125\n"
     ]
    }
   ],
   "source": [
    "gb_bayeOptimal = GradientBoostingClassifier(n_estimators=1515, learning_rate=0.214818,\n",
    "                                  subsample=0.827280, max_depth=3, min_samples_split=2, \n",
    "                                  min_samples_leaf=1, loss=\"deviance\",max_features=\"sqrt\")\n",
    "\n",
    "print('training start')\n",
    "starting_time = time.time()\n",
    "gb_bayeOptimal.fit(Xtr, Ytr)\n",
    "end_time = time.time()\n",
    "print(\"training finished, took {} seconds\".format(end_time - starting_time))\n",
    "\n",
    "gradient_boosting_classifier_roc = roc_auc_score(\n",
    "   Yva, gb_bayeOptimal.predict_proba(Xva)[:,1])\n",
    "print(\"AUC: \", gradient_boosting_classifier_roc)\n",
    "\n",
    "print(\"training acc:\", gb_bayeOptimal.score(Xtr, Ytr))\n",
    "print(\"validation acc:\", gb_bayeOptimal.score(Xva, Yva))"
   ]
  },
  {
   "cell_type": "code",
   "execution_count": 55,
   "metadata": {},
   "outputs": [
    {
     "name": "stdout",
     "output_type": "stream",
     "text": [
      "ROC AUC score on Test data:\t 0.8331215162977716\n"
     ]
    }
   ],
   "source": [
    "roc = roc_auc_score(Y_test, gb_bayeOptimal.predict_proba(X_test)[:,1])\n",
    "print(\"ROC AUC score on Test data:\\t\", roc)"
   ]
  },
  {
   "cell_type": "code",
   "execution_count": null,
   "metadata": {},
   "outputs": [],
   "source": []
  }
 ],
 "metadata": {
  "kernelspec": {
   "display_name": "Python 3",
   "language": "python",
   "name": "python3"
  },
  "language_info": {
   "codemirror_mode": {
    "name": "ipython",
    "version": 3
   },
   "file_extension": ".py",
   "mimetype": "text/x-python",
   "name": "python",
   "nbconvert_exporter": "python",
   "pygments_lexer": "ipython3",
   "version": "3.7.4"
  }
 },
 "nbformat": 4,
 "nbformat_minor": 2
}
