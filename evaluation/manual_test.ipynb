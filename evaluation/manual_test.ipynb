{
 "cells": [
  {
   "cell_type": "code",
   "execution_count": 3,
   "metadata": {},
   "outputs": [],
   "source": [
    "import numpy as np\n",
    "import scipy"
   ]
  },
  {
   "cell_type": "code",
   "execution_count": 26,
   "metadata": {},
   "outputs": [
    {
     "name": "stderr",
     "output_type": "stream",
     "text": [
      "/opt/anaconda3/lib/python3.7/site-packages/ipykernel_launcher.py:1: VisibleDeprecationWarning: Reading unicode strings without specifying the encoding argument is deprecated. Set the encoding, use None for the system default.\n",
      "  \"\"\"Entry point for launching an IPython kernel.\n"
     ]
    }
   ],
   "source": [
    "Y_test = np.genfromtxt('Y_test.txt', delimiter=',', dtype=None)"
   ]
  },
  {
   "cell_type": "code",
   "execution_count": 30,
   "metadata": {},
   "outputs": [],
   "source": [
    "import pandas as pd\n",
    "data = pd.read_csv(r\"train.csv\", engine='python')"
   ]
  },
  {
   "cell_type": "code",
   "execution_count": 27,
   "metadata": {},
   "outputs": [
    {
     "data": {
      "text/plain": [
       "array([[b'Id', b'Original_Id', b'Predicted'],\n",
       "       [b'0', b'59041', b'0.40'],\n",
       "       [b'1', b'50627', b'0.65'],\n",
       "       ...,\n",
       "       [b'19995', b'92334', b'0.53'],\n",
       "       [b'19996', b'10382', b'0.76'],\n",
       "       [b'19997', b'73166', b'0.73']], dtype='|S11')"
      ]
     },
     "execution_count": 27,
     "metadata": {},
     "output_type": "execute_result"
    }
   ],
   "source": [
    "Y_test"
   ]
  },
  {
   "cell_type": "code",
   "execution_count": 57,
   "metadata": {
    "scrolled": true
   },
   "outputs": [
    {
     "name": "stdout",
     "output_type": "stream",
     "text": [
      "[b'568' b'31068' b'1.00']\n",
      "[b'2811' b'5390' b'1.00']\n",
      "[b'3203' b'8834' b'1.00']\n",
      "[b'3429' b'49314' b'1.00']\n",
      "[b'7379' b'25518' b'1.00']\n",
      "[b'8274' b'74238' b'1.00']\n",
      "[31068, 5390, 8834, 49314, 25518, 74238]\n"
     ]
    }
   ],
   "source": [
    "top_positive = []\n",
    "for l in Y_test[1:]:\n",
    "    if float(l[-1]) > 0.99:\n",
    "        print(l)\n",
    "        top_positive.append(int(l[1]))\n",
    "print(top_positive)"
   ]
  },
  {
   "cell_type": "code",
   "execution_count": 61,
   "metadata": {},
   "outputs": [
    {
     "name": "stdout",
     "output_type": "stream",
     "text": [
      "@Adilemmasf thanks for the followfriday love! Have a great weekend  \n",
      "\n",
      "#followfriday @pippip1 Hi all, pip is new to Twitter, a fan of #BGT and a good laugh - Please add here to your following list  @conkinho \n",
      "\n",
      " brokeback mountain was terrible.\n",
      "8838,0,Sentiment140,# @Catherine42 I wouldn't mind but I only had 1/2 a portion &amp; then left 1/2 the cream  just fruit for me then until my hols  x\n",
      "8839,1,Sentiment140,# @DeliciousLunch ... dark chocolate cookies? oh you tease! I'm writing to day n dipping into twitter for company \n",
      "8840,1,Sentiment140,# followfriday @mstuyvenberg @feb_unsw @hazelmail @beckescreet - all almost as cool as he-man and she-ra \n",
      "8841,1,Sentiment140,# followfriday @presentsqueen because she talks sense \n",
      "8842,1,Sentiment140,# New York is the most amazing city i've ever been to \n",
      "8843,0,Sentiment140,# number times I bottomed out just in our driveway = 4... a 6.5 hour trip to mass.. I'm scared \n",
      "8844,0,Sentiment140,# of NYC celebrity street vendors &gt; # of POA celebrities  http://streetvendor.org/media/pdfs/Side2.pdf\n",
      "8845,1,Sentiment140,###### yay ##### thanks @matclayton ##### \n",
      "8846,0,Sentiment140,#$%#$^#%@ I HATE THE DENTIST \n",
      "\n",
      "@aristocat123 @Get_confident thank you for the #followfriday   &lt;-You're welcome   Louise \n",
      "\n",
      "@AdamSturgill Thank you Adam your welcome, I love my tea its  the best drink nectar for the Gods  Morning \n",
      "\n",
      "@BrooklynDodgers Hey! I just sent you an email. Be sure to tell the guys to use this info, okay? Great talkin' to ya! See ya soon!  YAY!!! \n",
      "\n"
     ]
    }
   ],
   "source": [
    "for i in top_positive:\n",
    "    print(data.iloc[i][2], '\\n')"
   ]
  },
  {
   "cell_type": "code",
   "execution_count": 64,
   "metadata": {},
   "outputs": [
    {
     "name": "stdout",
     "output_type": "stream",
     "text": [
      "[b'136' b'34299' b'0.00']\n",
      "[b'1854' b'38734' b'0.00']\n",
      "[b'3486' b'2194' b'0.00']\n",
      "[b'4649' b'4470' b'0.00']\n",
      "[b'8245' b'3635' b'0.00']\n",
      "[b'8382' b'3380' b'0.00']\n",
      "[b'11356' b'8235' b'0.00']\n",
      "[b'14184' b'22600' b'0.00']\n",
      "[b'17303' b'83126' b'0.00']\n",
      "[b'17654' b'76757' b'0.00']\n",
      "[b'18585' b'64402' b'0.00']\n",
      "[34299, 38734, 2194, 4470, 3635, 3380, 8235, 22600, 83126, 76757, 64402]\n"
     ]
    }
   ],
   "source": [
    "top_negative = []\n",
    "for l in Y_test[1:]:\n",
    "    if float(l[-1]) < 0.01:\n",
    "        print(l)\n",
    "        top_negative.append(int(l[1]))\n",
    "print(top_negative)"
   ]
  },
  {
   "cell_type": "code",
   "execution_count": 65,
   "metadata": {},
   "outputs": [
    {
     "name": "stdout",
     "output_type": "stream",
     "text": [
      "@AK618 ...I see him pitch and we lose or I see him pitch and he does bad  aww I'm so sad now!!!!! UNLESSS it goes into extras again and... \n",
      "\n",
      "@amurodesu 我今天沒看到你...that was probs poor grammar. sigh sad sad me...oh man  dramzzz \n",
      "\n",
      " I'm very sad I lost another friend. R.I.P. Kenneth Lee I luv u I miss u \n",
      "\n",
      "#armywives - poor poor Denise, sad but she had I coming   \n",
      "\n",
      " Is so ill and dizzy i feel so darn bad and am currently feeling so sorry for myself it hurts so bad i've never felt this bad..Laurina..x \n",
      "\n",
      " really sad!! Tried to extend my stay in Hawaii but it didn't work out. Ahhh! I don't want to leave. I'm not looking forward 2 coming home \n",
      "\n",
      " THEY LOST!! I Cant believe LeBron and the Cavs lost  Im so sad right now yo lol damn man.. Oh well. Let's get it Lakers! KOBE!!!!!!!!! \n",
      "\n",
      "@80smusicthebest sorry frankie. It sucks so bad. I was hoping after last night that they would still keep two concerts there...So sorry..  \n",
      "\n",
      "@ashsimpsonwentz http://twitpic.com/3paub - i wish i was that dog so icould miss pete too...awww he looks very sad indeedy  \n",
      "\n",
      "@BuzzNewz  I'm not sick of them, just sad that its come to its present state of being. So sad  \n",
      "\n",
      "@bowwow614 shittt I really dont wanna miss u 2day  ughhhhh....u ready 4 ny tho? u gonna miss me n ur street team? we cant make it  \n",
      "\n"
     ]
    }
   ],
   "source": [
    "for i in top_negative:\n",
    "    print(data.iloc[i][2], '\\n')"
   ]
  },
  {
   "cell_type": "code",
   "execution_count": null,
   "metadata": {},
   "outputs": [],
   "source": []
  }
 ],
 "metadata": {
  "kernelspec": {
   "display_name": "Python 3",
   "language": "python",
   "name": "python3"
  },
  "language_info": {
   "codemirror_mode": {
    "name": "ipython",
    "version": 3
   },
   "file_extension": ".py",
   "mimetype": "text/x-python",
   "name": "python",
   "nbconvert_exporter": "python",
   "pygments_lexer": "ipython3",
   "version": "3.7.4"
  }
 },
 "nbformat": 4,
 "nbformat_minor": 2
}
